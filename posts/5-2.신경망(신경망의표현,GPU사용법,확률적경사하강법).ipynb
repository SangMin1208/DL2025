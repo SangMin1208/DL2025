{
 "cells": [
  {
   "cell_type": "raw",
   "id": "5736048a-d269-4f8a-a957-6c23daba256d",
   "metadata": {},
   "source": [
    "---\n",
    "title: \"5-2. 신경망(신경망의 표현, GPU사용법, 확률적경사하강법)\"\n",
    "author: \"이상민\"\n",
    "date: \"04/28/2025\"\n",
    "---"
   ]
  },
  {
   "cell_type": "markdown",
   "id": "76dcbf82-b2ea-4dff-9507-2d69cc011f81",
   "metadata": {},
   "source": [
    "### 1. imports"
   ]
  },
  {
   "cell_type": "code",
   "execution_count": 1,
   "id": "3bea8a95-f42a-4dc6-911e-35cbe1faa8a5",
   "metadata": {},
   "outputs": [],
   "source": [
    "import torch\n",
    "import matplotlib.pyplot as plt"
   ]
  },
  {
   "cell_type": "code",
   "execution_count": 2,
   "id": "6863c1a5-b5cd-49f7-b536-918de7c5d1a6",
   "metadata": {},
   "outputs": [],
   "source": [
    "plt.rcParams['figure.figsize'] = (4.5, 3.0)"
   ]
  },
  {
   "cell_type": "markdown",
   "id": "cec970e1-541e-4c6b-ac40-724cd4ea284d",
   "metadata": {},
   "source": [
    "### 2. 신경망의 표현"
   ]
  },
  {
   "cell_type": "markdown",
   "id": "484899da-981b-4196-9a87-589c2b3e73ce",
   "metadata": {},
   "source": [
    "`-` 신경망의 표현: ${\\bf X} \\to \\hat{\\bf y}$ 로 가는 과정을 그림으로 표현\n",
    "\n",
    "#### A. 로지스틱\n",
    "\n",
    "$$\\underset{(n,1)}{\\bf X} \\overset{l_1}{\\to} \\underset{(n,1)}{\\boldsymbol u^{(1)}} \\overset{sig}{\\to} \\underset{(n,1)}{\\boldsymbol v^{(1)}} =\\underset{(n,1)}{\\hat{\\bf y}}$$\n",
    "\n",
    "`-` 모든 observation과 가중치를 명시한 버전\n",
    "\n",
    "**(표현1)**\n",
    "\n",
    "![](https://guebin.github.io/DL2022/posts/II.%20DNN/2022-10-11-6wk-2_files/figure-html/cell-4-output-1.svg)\n",
    "\n",
    "-   단점: 똑같은 그림의 반복이 너무 많음\n",
    "\n",
    "`-` observation 반복을 생략한 버전들\n",
    "\n",
    "**(표현2)** 모든 $i$에 대하여 아래의 그림을 반복한다고 하면 (표현1)과\n",
    "같다.\n",
    "\n",
    "![](https://guebin.github.io/DL2022/posts/II.%20DNN/2022-10-11-6wk-2_files/figure-html/cell-5-output-1.svg)\n",
    "\n",
    "**(표현3)** 그런데 (표현2)에서 아래와 같이 $x_i$, $y_i$ 대신에 간단히\n",
    "$x$, $y$로 쓰는 경우도 많음\n",
    "\n",
    "![](https://guebin.github.io/DL2022/posts/II.%20DNN/2022-10-11-6wk-2_files/figure-html/cell-6-output-1.svg)\n",
    "\n",
    "`-` 1을 생략한 버전들\n",
    "\n",
    "**(표현4)** bais=False 대신에 bias=True를 주면 1을 생략할 수 있음\n",
    "\n",
    "![](https://guebin.github.io/DL2022/posts/II.%20DNN/2022-10-11-6wk-2_files/figure-html/cell-7-output-1.svg)\n",
    "\n",
    "**(표현4의 수정)** $\\hat{w}_1$대신에 $\\hat{w}$를 쓰는 것이 더 자연스러움\n",
    "\n",
    "![](https://guebin.github.io/DL2022/posts/II.%20DNN/2022-10-11-6wk-2_files/figure-html/cell-8-output-1.svg)\n",
    "\n",
    "**(표현5)** 선형변환의 결과는 아래와 같이 $u$로 표현하기도 한다.\n",
    "\n",
    "![](https://guebin.github.io/DL2022/posts/II.%20DNN/2022-10-11-6wk-2_files/figure-html/cell-9-output-1.svg)\n",
    "\n",
    "> 다이어그램은 그리는 사람의 취향에 따라 그리는 방법이 조금씩 다릅니다.\n",
    "> 즉 교재마다 달라요.\n",
    "\n",
    "#### B. 스펙의역설\n",
    "\n",
    "$$\\underset{(n,1)}{\\bf X} \\overset{l_1}{\\to} \\underset{(n,2)}{\\boldsymbol u^{(1)}} \\overset{relu}{\\to} \\underset{(n,2)}{\\boldsymbol v^{(1)}} \\overset{l_2}{\\to} \\underset{(n,1)}{\\boldsymbol u^{(2)}} \\overset{sig}{\\to} \\underset{(n,1)}{\\boldsymbol v^{(2)}} =\\underset{(n,1)}{\\hat{\\bf y}}$$\n",
    "\n",
    "**참고: 코드로 표현**\n",
    "\n",
    "``` python\n",
    "torch.nn.Sequential(\n",
    "    torch.nn.Linear(in_features=1,out_features=2),\n",
    "    torch.nn.ReLU(),\n",
    "    torch.nn.Linear(in_features=2,out_features=1),\n",
    "    torch.nn.Sigmoid()\n",
    ")\n",
    "```\n",
    "\n",
    "`-` 이해를 위해서 예젠에 다루었던 아래의 상황을 고려하자.\n",
    "\n",
    "![](https://guebin.github.io/DL2024/posts/03wk-2_files/figure-html/cell-11-output-1.png)\n",
    "\n",
    "**(강의노트의 표현)**\n",
    "\n",
    "![](https://guebin.github.io/DL2022/posts/II.%20DNN/2022-10-11-6wk-2_files/figure-html/cell-10-output-1.svg)\n",
    "\n",
    "**(좀 더 일반화된 표현)** 상황을 일반화하면 아래와 같다.\n",
    "\n",
    "![](https://guebin.github.io/DL2022/posts/II.%20DNN/2022-10-11-6wk-2_files/figure-html/cell-11-output-1.svg)\n",
    "\n",
    "`*` Layer의 개념: ${\\bf X}$에서 $\\hat{\\boldsymbol y}$로 가는 과정은\n",
    "“선형변환+비선형변환”이 반복되는 구조이다. “선형변환+비선형변환”을\n",
    "하나의 세트로 보면 아래와 같이 표현할 수 있다.\n",
    "\n",
    "-   $\\underset{(n,1)}{\\bf X}  \\overset{l_1}{\\to} \\left( \\underset{(n,2)}{\\boldsymbol u^{(1)}} \\overset{relu}{\\to} \\underset{(n,2)}{\\boldsymbol v^{(1)}} \\right) \\overset{l_2}{\\to} \\left(\\underset{(n,1)}{\\boldsymbol u^{(2)}} \\overset{sig}{\\to} \\underset{(n,1)}{\\boldsymbol v^{(2)}}\\right), \\quad  \\underset{(n,1)}{\\boldsymbol v^{(2)}}=\\underset{(n,1)}{net({\\bf X})}=\\underset{(n,1)}{\\hat{\\bf y}}$\n",
    "\n",
    "이것을 다이어그램으로 표현한다면 아래와 같다.\n",
    "\n",
    "**(선형+비선형을 하나의 Layer로 묶은 표현)**\n",
    "\n",
    "![](https://guebin.github.io/DL2022/posts/II.%20DNN/2022-10-11-6wk-2_files/figure-html/cell-12-output-1.svg)\n",
    "\n",
    "***Layer를 세는 방법***\n",
    "\n",
    "-   제 방식: 학습가능한 파라메터가 몇층으로 있는지… \\<– 이것만\n",
    "    기억하세여\n",
    "-   일부 교재 설명: 입력층은 계산하지 않음, activation layer는 계산하지\n",
    "    않음. \\<– 무시하세요.. 이러면 헷갈립니다..\n",
    "-   위의 예제의 경우 `number of layer = 2` 이다.\n",
    "\n",
    "***Hidden Layer의 수를 세는 방법***\n",
    "\n",
    "-   제 방식: `Hidden Layer의 수 = Layer의 수 -1` \\<– 이걸 기억하세여..  \n",
    "-   일부 교재 설명:\n",
    "    `Layer의 수 = Hidden Layer의 수 + 출력층의 수 = Hidden Layer의 수 + 1`\n",
    "    \\<– 기억하지 마세여\n",
    "-   위의 예제의 경우 `number of hidden layer = 1` 이다.\n",
    "\n",
    "> **Important**\n",
    ">\n",
    "> 무조건 학습가능한 파라메터가 몇겹으로 있는지만 판단하세요. 딴거\n",
    "> 아무것도 생각하지마세여\n",
    ">\n",
    "> ``` python\n",
    "> ## 예시1 -- 2층 (히든레이어는 1층)\n",
    "> torch.nn.Sequential(\n",
    ">     torch.nn.Linear(??,??), ## <-- 학습해야할 가중치가 있는 층\n",
    ">     torch.nn.ReLU(),\n",
    ">     torch.nn.Linear(??,??), ## <-- 학습해야할 가중치가 있는 층\n",
    "> )\n",
    "> ```\n",
    ">\n",
    "> ``` python\n",
    "> ## 예시2 -- 2층 (히든레이어는 1층)\n",
    "> torch.nn.Sequential(\n",
    ">     torch.nn.Linear(??,??), ## <-- 학습해야할 가중치가 있는 층\n",
    ">     torch.nn.ReLU(),\n",
    ">     torch.nn.Linear(??,??), ## <-- 학습해야할 가중치가 있는 층\n",
    ">     torch.nn.Sigmoid(),\n",
    "> )\n",
    "> ```\n",
    ">\n",
    "> ``` python\n",
    "> ## 예시3 -- 1층 (히든레이어는 없음!!)\n",
    "> torch.nn.Sequential(\n",
    ">     torch.nn.Linear(??,??), ## <-- 학습해야할 가중치가 있는 층\n",
    "> ) \n",
    "> ```\n",
    ">\n",
    "> ``` python\n",
    "> ## 예시4 -- 1층 (히든레이어는 없음!!)\n",
    "> torch.nn.Sequential(\n",
    ">     torch.nn.Linear(??,??), ## <-- 학습해야할 가중치가 있는 층\n",
    ">     torch.nn.Sigmoid()\n",
    "> ) \n",
    "> ```\n",
    ">\n",
    "> ``` python\n",
    "> ## 예시5 -- 3층 (히든레이어는 2층)\n",
    "> torch.nn.Sequential(\n",
    ">     torch.nn.Linear(??,??), ## <-- 학습해야할 가중치가 있는 층\n",
    ">     torch.nn.Sigmoid()\n",
    ">     torch.nn.Linear(??,??), ## <-- 학습해야할 가중치가 있는 층\n",
    ">     torch.nn.Sigmoid()\n",
    ">     torch.nn.Linear(??,??), ## <-- 학습해야할 가중치가 있는 층    \n",
    "> ) \n",
    "> ```\n",
    ">\n",
    "> ``` python\n",
    "> ## 예시6 -- 3층 (히든레이어는 2층)\n",
    "> torch.nn.Sequential(\n",
    ">     torch.nn.Linear(??,??), ## <-- 학습해야할 가중치가 있는 층\n",
    ">     torch.nn.ReLU()\n",
    ">     torch.nn.Dropout(??)\n",
    ">     torch.nn.Linear(??,??), ## <-- 학습해야할 가중치가 있는 층\n",
    ">     torch.nn.ReLU()\n",
    ">     torch.nn.Dropout(??)\n",
    ">     torch.nn.Linear(??,??), ## <-- 학습해야할 가중치가 있는 층  \n",
    ">     torch.nn.Sigmoid()\n",
    "> ) \n",
    "> ```\n",
    "\n",
    "> **Important**\n",
    ">\n",
    "> 문헌에 따라서 레이어를 세는 개념이 제가 설명한 방식과 다른경우가\n",
    "> 있습니다. 제가 설명한 방식보다 1씩 더해서 셉니다. 즉 아래의 경우\n",
    "> 레이어를 3개로 카운트합니다.\n",
    ">\n",
    "> ``` python\n",
    "> ## 예시1 -- 문헌에 따라 3층으로 세는 경우가 있음 (히든레이어는 1층)\n",
    "> torch.nn.Sequential(\n",
    ">     torch.nn.Linear(??,??), ## <-- 학습해야할 가중치가 있는 층\n",
    ">     torch.nn.ReLU(),\n",
    ">     torch.nn.Linear(??,??), ## <-- 학습해야할 가중치가 있는 층\n",
    ">     torch.nn.Sigmoid()\n",
    "> )\n",
    "> ```\n",
    ">\n",
    "> 예를 들어\n",
    "> [여기](https://en.wikipedia.org/wiki/Multilayer_perceptron#Layers)에서는\n",
    "> 위의 경우 레이어는 3개라고 설명하고 있습니다. 이러한 카운팅은\n",
    "> **“무시”하세요. 제가 설명한 방식이 맞아요.** [이\n",
    "> 링크](https://en.wikipedia.org/wiki/Multilayer_perceptron#Layers)\n",
    "> 잘못(?) 나와있는 이유는 아래와 같습니다.\n",
    ">\n",
    "> `-` 진짜 예전에 MLP를 소개할 초창기에서는 위의 경우 Layer를 3개로\n",
    "> 셌음. (Rosenblatt et al. 1962)\n",
    ">\n",
    "> `-` 그런데 요즘은 그렇게 안셈.. (그리고 애초에 MLP라는 용어도 잘\n",
    "> 안쓰죠..)\n",
    ">\n",
    "> 참고로 히든레이어의 수는 예전방식이나 지금방식이나 동일하게\n",
    "> 카운트하므로 히든레이어만 세면 혼돈이 없습니다.\n",
    "\n",
    "`*` node의 개념: $u\\to v$로 가는 쌍을 간단히 노드라는 개념을 이용하여\n",
    "나타낼 수 있음.\n",
    "\n",
    "**(노드의 개념이 포함된 그림)**\n",
    "\n",
    "![](https://guebin.github.io/DL2022/posts/II.%20DNN/2022-10-11-6wk-2_files/figure-html/cell-13-output-1.svg)\n",
    "\n",
    "여기에서 `node의 숫자 = feature의 숫자`와 같이 이해할 수 있다. 즉 아래와\n",
    "같이 이해할 수 있다.\n",
    "\n",
    "**(“number of nodes = number of features”로 이해한 그림)**\n",
    "\n",
    "![](https://guebin.github.io/DL2022/posts/II.%20DNN/2022-10-11-6wk-2_files/figure-html/cell-14-output-1.svg)\n",
    "\n",
    "> 다이어그램의 표현방식은 교재마다 달라서 모든 예시를 달달 외울 필요는\n",
    "> 없습니다. 다만 임의의 다이어그램을 보고 대응하는 네트워크를 pytorch로\n",
    "> 구현하는 능력은 매우 중요합니다.\n",
    "\n",
    "#### C. MNIST\n",
    "\n",
    "$$\\underset{(n,784)}{\\bf X} \\overset{l_1}{\\to} \\underset{(n,32)}{\\boldsymbol u^{(1)}} \\overset{relu}{\\to} \\underset{(n,32)}{\\boldsymbol v^{(1)}} \\overset{l_1}{\\to} \\underset{(n,1)}{\\boldsymbol u^{(2)}} \\overset{sig}{\\to} \\underset{(n,1)}{\\boldsymbol v^{(2)}}=\\underset{(n,1)}{\\hat{\\boldsymbol y}}$$\n",
    "\n",
    "**(다이어그램표현)**\n",
    "\n",
    "![](https://guebin.github.io/DL2022/posts/II.%20DNN/2022-10-11-6wk-2_files/figure-html/cell-15-output-1.svg)\n",
    "\n",
    "-   Layer0,1,2 대신에 Input Layer, Hidden Layer, Output Layer로 표현함\n",
    "\n",
    "`-` 위의 다이어그램에 대응하는 코드\n",
    "\n",
    "`-` **가중치의 합은 784X32**\n",
    "\n",
    "``` python\n",
    "net = torch.nn.Sequential(\n",
    "    torch.nn.Linear(in_features=28*28*1,out_features=32),\n",
    "    torch.nn.ReLU(),\n",
    "    torch.nn.Linear(in_features=32,out_features=1),\n",
    "    torch.nn.Sigmoid() \n",
    ")\n",
    "```\n",
    "\n",
    "### 3. CPU vs GPU\n",
    "\n",
    "`-` 파이토치에서 GPU를 쓰는 방법을 알아보자. (사실 지금까지 우리는 CPU만\n",
    "쓰고 있었음)\n",
    "\n",
    "\n",
    "#### A. GPU 사용방법\n",
    "\n",
    "`-` cpu 연산이 가능한 메모리에 데이터 저장"
   ]
  },
  {
   "cell_type": "code",
   "execution_count": 3,
   "id": "c3d79d8e-7a14-4d34-b023-ae1c27af824c",
   "metadata": {},
   "outputs": [],
   "source": [
    "torch.manual_seed(43052)\n",
    "x_cpu = torch.tensor([0.0,0.1,0.2]).reshape(-1,1) \n",
    "y_cpu = torch.tensor([0.0,0.2,0.4]).reshape(-1,1) \n",
    "net_cpu = torch.nn.Linear(1,1) "
   ]
  },
  {
   "cell_type": "code",
   "execution_count": 4,
   "id": "53556714-e7e5-4de9-939b-c2fac775b26f",
   "metadata": {},
   "outputs": [
    {
     "data": {
      "text/plain": [
       "tensor([[-0.8470],\n",
       "        [-0.8817],\n",
       "        [-0.9164]], grad_fn=<AddmmBackward0>)"
      ]
     },
     "execution_count": 4,
     "metadata": {},
     "output_type": "execute_result"
    }
   ],
   "source": [
    "net_cpu(x_cpu)"
   ]
  },
  {
   "cell_type": "code",
   "execution_count": 5,
   "id": "6c59deac-87f7-4e9d-99ea-710de0dc02d2",
   "metadata": {},
   "outputs": [
    {
     "data": {
      "text/plain": [
       "tensor([[0.0000],\n",
       "        [0.1000],\n",
       "        [0.2000]])"
      ]
     },
     "execution_count": 5,
     "metadata": {},
     "output_type": "execute_result"
    }
   ],
   "source": [
    "x_cpu"
   ]
  },
  {
   "cell_type": "code",
   "execution_count": 6,
   "id": "bbc52b2b-c1a1-41f1-a442-e7fe6a887a30",
   "metadata": {},
   "outputs": [
    {
     "name": "stdout",
     "output_type": "stream",
     "text": [
      "Sat May  3 17:40:43 2025       \n",
      "+---------------------------------------------------------------------------------------+\n",
      "| NVIDIA-SMI 535.161.08             Driver Version: 535.161.08   CUDA Version: 12.2     |\n",
      "|-----------------------------------------+----------------------+----------------------+\n",
      "| GPU  Name                 Persistence-M | Bus-Id        Disp.A | Volatile Uncorr. ECC |\n",
      "| Fan  Temp   Perf          Pwr:Usage/Cap |         Memory-Usage | GPU-Util  Compute M. |\n",
      "|                                         |                      |               MIG M. |\n",
      "|=========================================+======================+======================|\n",
      "|   0  NVIDIA A100-SXM4-80GB          On  | 00000000:81:00.0 Off |                   On |\n",
      "| N/A   60C    P0              67W / 275W |                  N/A |     N/A      Default |\n",
      "|                                         |                      |              Enabled |\n",
      "+-----------------------------------------+----------------------+----------------------+\n",
      "\n",
      "+---------------------------------------------------------------------------------------+\n",
      "| MIG devices:                                                                          |\n",
      "+------------------+--------------------------------+-----------+-----------------------+\n",
      "| GPU  GI  CI  MIG |                   Memory-Usage |        Vol|      Shared           |\n",
      "|      ID  ID  Dev |                     BAR1-Usage | SM     Unc| CE ENC DEC OFA JPG    |\n",
      "|                  |                                |        ECC|                       |\n",
      "|==================+================================+===========+=======================|\n",
      "|  0    0   0   0  |               6MiB / 81050MiB  | 98      0 |  7   0    5    1    1 |\n",
      "|                  |               3MiB / 131072MiB |           |                       |\n",
      "+------------------+--------------------------------+-----------+-----------------------+\n",
      "                                                                                         \n",
      "+---------------------------------------------------------------------------------------+\n",
      "| Processes:                                                                            |\n",
      "|  GPU   GI   CI        PID   Type   Process name                            GPU Memory |\n",
      "|        ID   ID                                                             Usage      |\n",
      "|=======================================================================================|\n",
      "|  No running processes found                                                           |\n",
      "+---------------------------------------------------------------------------------------+\n"
     ]
    }
   ],
   "source": [
    "!nvidia-smi"
   ]
  },
  {
   "cell_type": "markdown",
   "id": "9890dad6-bbca-4e3b-8540-dc1cbf0a69aa",
   "metadata": {},
   "source": [
    "`-` GPU로 올리기"
   ]
  },
  {
   "cell_type": "code",
   "execution_count": 7,
   "id": "f79a41ad-5a7f-4bf3-b0d4-d4ad0329fd95",
   "metadata": {},
   "outputs": [],
   "source": [
    "torch.manual_seed(43052)\n",
    "x_gpu = x_cpu.to(\"cuda:0\")\n",
    "y_gpu = y_cpu.to(\"cuda:0\")\n",
    "net_gpu = torch.nn.Linear(1,1).to(\"cuda:0\") "
   ]
  },
  {
   "cell_type": "code",
   "execution_count": 8,
   "id": "4fc6080e-d669-40a8-9e68-d67fcb8d545e",
   "metadata": {},
   "outputs": [
    {
     "name": "stdout",
     "output_type": "stream",
     "text": [
      "Sat May  3 17:41:54 2025       \n",
      "+---------------------------------------------------------------------------------------+\n",
      "| NVIDIA-SMI 535.161.08             Driver Version: 535.161.08   CUDA Version: 12.2     |\n",
      "|-----------------------------------------+----------------------+----------------------+\n",
      "| GPU  Name                 Persistence-M | Bus-Id        Disp.A | Volatile Uncorr. ECC |\n",
      "| Fan  Temp   Perf          Pwr:Usage/Cap |         Memory-Usage | GPU-Util  Compute M. |\n",
      "|                                         |                      |               MIG M. |\n",
      "|=========================================+======================+======================|\n",
      "|   0  NVIDIA A100-SXM4-80GB          On  | 00000000:81:00.0 Off |                   On |\n",
      "| N/A   60C    P0              70W / 275W |                  N/A |     N/A      Default |\n",
      "|                                         |                      |              Enabled |\n",
      "+-----------------------------------------+----------------------+----------------------+\n",
      "\n",
      "+---------------------------------------------------------------------------------------+\n",
      "| MIG devices:                                                                          |\n",
      "+------------------+--------------------------------+-----------+-----------------------+\n",
      "| GPU  GI  CI  MIG |                   Memory-Usage |        Vol|      Shared           |\n",
      "|      ID  ID  Dev |                     BAR1-Usage | SM     Unc| CE ENC DEC OFA JPG    |\n",
      "|                  |                                |        ECC|                       |\n",
      "|==================+================================+===========+=======================|\n",
      "|  0    0   0   0  |             395MiB / 81050MiB  | 98      0 |  7   0    5    1    1 |\n",
      "|                  |               5MiB / 131072MiB |           |                       |\n",
      "+------------------+--------------------------------+-----------+-----------------------+\n",
      "                                                                                         \n",
      "+---------------------------------------------------------------------------------------+\n",
      "| Processes:                                                                            |\n",
      "|  GPU   GI   CI        PID   Type   Process name                            GPU Memory |\n",
      "|        ID   ID                                                             Usage      |\n",
      "|=======================================================================================|\n",
      "+---------------------------------------------------------------------------------------+\n"
     ]
    }
   ],
   "source": [
    "!nvidia-smi"
   ]
  },
  {
   "cell_type": "markdown",
   "id": "b2580bea-022a-48c8-872c-700f140783f5",
   "metadata": {},
   "source": [
    "`-` GPU에 메모리 올리면 GPU메모리가 점유됨\n",
    "\n",
    "`-` cpu 혹은 gpu 연산이 가능한 메모리에 저장된 값들을 확인"
   ]
  },
  {
   "cell_type": "code",
   "execution_count": 9,
   "id": "8307e193-4d34-43db-9d90-57205701d495",
   "metadata": {},
   "outputs": [
    {
     "data": {
      "text/plain": [
       "(tensor([[0.0000],\n",
       "         [0.1000],\n",
       "         [0.2000]]),\n",
       " tensor([[0.0000],\n",
       "         [0.2000],\n",
       "         [0.4000]]),\n",
       " Parameter containing:\n",
       " tensor([[-0.3467]], requires_grad=True),\n",
       " Parameter containing:\n",
       " tensor([-0.8470], requires_grad=True))"
      ]
     },
     "execution_count": 9,
     "metadata": {},
     "output_type": "execute_result"
    }
   ],
   "source": [
    "x_cpu, y_cpu, net_cpu.weight, net_cpu.bias"
   ]
  },
  {
   "cell_type": "code",
   "execution_count": 10,
   "id": "38330333-0f14-41e3-b53f-fbe9d8b12aa4",
   "metadata": {},
   "outputs": [
    {
     "data": {
      "text/plain": [
       "(tensor([[0.0000],\n",
       "         [0.1000],\n",
       "         [0.2000]], device='cuda:0'),\n",
       " tensor([[0.0000],\n",
       "         [0.2000],\n",
       "         [0.4000]], device='cuda:0'),\n",
       " Parameter containing:\n",
       " tensor([[-0.3467]], device='cuda:0', requires_grad=True),\n",
       " Parameter containing:\n",
       " tensor([-0.8470], device='cuda:0', requires_grad=True))"
      ]
     },
     "execution_count": 10,
     "metadata": {},
     "output_type": "execute_result"
    }
   ],
   "source": [
    "x_gpu, y_gpu, net_gpu.weight, net_gpu.bias"
   ]
  },
  {
   "cell_type": "markdown",
   "id": "e948cad9-be0a-47da-b1ec-17a8e74ddf65",
   "metadata": {},
   "source": [
    "`-` gpu는 gpu끼리 연산가능하고 cpu는 cpu끼리 연산가능함\n",
    "\n",
    "(예시1)"
   ]
  },
  {
   "cell_type": "code",
   "execution_count": 12,
   "id": "66e095bb-070c-41fe-a8c9-592fed5ed977",
   "metadata": {},
   "outputs": [
    {
     "data": {
      "text/plain": [
       "tensor([[-0.8470],\n",
       "        [-0.8817],\n",
       "        [-0.9164]], grad_fn=<AddmmBackward0>)"
      ]
     },
     "execution_count": 12,
     "metadata": {},
     "output_type": "execute_result"
    }
   ],
   "source": [
    "net_cpu(x_cpu) "
   ]
  },
  {
   "cell_type": "markdown",
   "id": "790b744f-ce06-42c2-86df-57cb1926c532",
   "metadata": {},
   "source": [
    "(예시2)"
   ]
  },
  {
   "cell_type": "code",
   "execution_count": 13,
   "id": "23538e55-2025-41f0-83ae-3b8b4fb3c448",
   "metadata": {},
   "outputs": [
    {
     "data": {
      "text/plain": [
       "tensor([[-0.8470],\n",
       "        [-0.8817],\n",
       "        [-0.9164]], device='cuda:0', grad_fn=<AddmmBackward0>)"
      ]
     },
     "execution_count": 13,
     "metadata": {},
     "output_type": "execute_result"
    }
   ],
   "source": [
    "net_gpu(x_gpu) "
   ]
  },
  {
   "cell_type": "markdown",
   "id": "58b3c7f7-a9dc-4a8f-9d09-6e30cd5c6654",
   "metadata": {},
   "source": [
    "(예시3)"
   ]
  },
  {
   "cell_type": "code",
   "execution_count": 15,
   "id": "f9a181ee-384f-45d3-bda9-c83633b8a6ad",
   "metadata": {},
   "outputs": [],
   "source": [
    "#net_cpu(x_gpu) "
   ]
  },
  {
   "cell_type": "markdown",
   "id": "8ec835c0-40ab-403b-9178-d9a8c406a7d3",
   "metadata": {},
   "source": [
    "(예시4)"
   ]
  },
  {
   "cell_type": "code",
   "execution_count": 18,
   "id": "3d7962de-5d00-48ef-8f01-11022f32876e",
   "metadata": {},
   "outputs": [],
   "source": [
    "#net_gpu(x_cpu)"
   ]
  },
  {
   "cell_type": "markdown",
   "id": "5dfa9155-35af-4094-a1cb-277880ae13a4",
   "metadata": {},
   "source": [
    "(예시5)"
   ]
  },
  {
   "cell_type": "code",
   "execution_count": 19,
   "id": "cbe0778e-0740-4927-9808-24ecb247c2ce",
   "metadata": {},
   "outputs": [
    {
     "data": {
      "text/plain": [
       "tensor(1.2068, grad_fn=<MeanBackward0>)"
      ]
     },
     "execution_count": 19,
     "metadata": {},
     "output_type": "execute_result"
    }
   ],
   "source": [
    "torch.mean((y_cpu-net_cpu(x_cpu))**2)"
   ]
  },
  {
   "cell_type": "markdown",
   "id": "3d55ff93-c6b2-49dd-9212-74a26971f0b5",
   "metadata": {},
   "source": [
    "(예시6)"
   ]
  },
  {
   "cell_type": "code",
   "execution_count": 20,
   "id": "8a90584e-2b71-496e-b72d-e22d4ba6c6bd",
   "metadata": {},
   "outputs": [
    {
     "data": {
      "text/plain": [
       "tensor(1.2068, device='cuda:0', grad_fn=<MeanBackward0>)"
      ]
     },
     "execution_count": 20,
     "metadata": {},
     "output_type": "execute_result"
    }
   ],
   "source": [
    "torch.mean((y_gpu-net_gpu(x_gpu))**2)"
   ]
  },
  {
   "cell_type": "markdown",
   "id": "158a39dd-94d8-4bf7-a22f-de2cf1e67f36",
   "metadata": {},
   "source": [
    "(예시7)"
   ]
  },
  {
   "cell_type": "code",
   "execution_count": 22,
   "id": "ca51a199-6250-42cb-8f40-84c12de8a2ff",
   "metadata": {},
   "outputs": [],
   "source": [
    "#torch.mean((y_gpu-net_cpu(x_cpu))**2)"
   ]
  },
  {
   "cell_type": "markdown",
   "id": "7e06c194-79fd-4cec-b572-d8421fa6fad1",
   "metadata": {},
   "source": [
    "(예시8)"
   ]
  },
  {
   "cell_type": "code",
   "execution_count": 23,
   "id": "bc725b0e-df53-4e63-bc37-237c6a379116",
   "metadata": {},
   "outputs": [],
   "source": [
    "#torch.mean((y_cpu-net_gpu(x_gpu))**2)"
   ]
  },
  {
   "cell_type": "markdown",
   "id": "1db6e039-19ec-4f20-8463-1be04a15f838",
   "metadata": {},
   "source": [
    "#### B. 시간측정(예비학습)"
   ]
  },
  {
   "cell_type": "code",
   "execution_count": 24,
   "id": "28536b50-0138-4018-8aa8-3224b3c54e1d",
   "metadata": {},
   "outputs": [],
   "source": [
    "import time "
   ]
  },
  {
   "cell_type": "code",
   "execution_count": 25,
   "id": "c4aa0acc-ae2f-455f-9d2b-f052a141e595",
   "metadata": {},
   "outputs": [],
   "source": [
    "t1 = time.time()"
   ]
  },
  {
   "cell_type": "code",
   "execution_count": 26,
   "id": "c63636a0-1a96-4ba3-918e-082278ea55f7",
   "metadata": {},
   "outputs": [],
   "source": [
    "t2 = time.time()"
   ]
  },
  {
   "cell_type": "code",
   "execution_count": 27,
   "id": "aebe33d2-6d08-4b10-a8a3-c8a32c9bb84e",
   "metadata": {},
   "outputs": [
    {
     "data": {
      "text/plain": [
       "3.919365882873535"
      ]
     },
     "execution_count": 27,
     "metadata": {},
     "output_type": "execute_result"
    }
   ],
   "source": [
    "t2-t1"
   ]
  },
  {
   "cell_type": "markdown",
   "id": "1951fade-9784-4f5b-b98e-850bbd5c6510",
   "metadata": {},
   "source": [
    "#### C. CPU vs GPU (500 nodes)"
   ]
  },
  {
   "cell_type": "markdown",
   "id": "20aca11f-06c2-488c-b8c6-93e56c851b6b",
   "metadata": {},
   "source": [
    "`-` CPU (500 nodes)"
   ]
  },
  {
   "cell_type": "code",
   "execution_count": 28,
   "id": "14bfc8a1-d65f-4b2a-b7c3-3c7c119f8e71",
   "metadata": {},
   "outputs": [
    {
     "data": {
      "text/plain": [
       "0.8856925964355469"
      ]
     },
     "execution_count": 28,
     "metadata": {},
     "output_type": "execute_result"
    }
   ],
   "source": [
    "torch.manual_seed(5) \n",
    "x=torch.linspace(0,1,100).reshape(-1,1)\n",
    "y=torch.randn(100).reshape(-1,1)*0.01\n",
    "#---#\n",
    "net = torch.nn.Sequential(\n",
    "    torch.nn.Linear(1,500),\n",
    "    torch.nn.ReLU(),\n",
    "    torch.nn.Linear(500,1)\n",
    ")\n",
    "loss_fn = torch.nn.MSELoss()\n",
    "optimizr = torch.optim.Adam(net.parameters())\n",
    "#---#\n",
    "t1 = time.time()\n",
    "for epoc in range(1000):\n",
    "    # 1 \n",
    "    yhat = net(x)\n",
    "    # 2 \n",
    "    loss = loss_fn(yhat,y)\n",
    "    # 3 \n",
    "    loss.backward()\n",
    "    # 4 \n",
    "    optimizr.step()\n",
    "    optimizr.zero_grad()\n",
    "t2 = time.time()\n",
    "t2-t1"
   ]
  },
  {
   "cell_type": "markdown",
   "id": "603ece97-8edf-415e-925f-60c2e0714499",
   "metadata": {},
   "source": [
    "`-` GPU (500 nodes)"
   ]
  },
  {
   "cell_type": "code",
   "execution_count": 29,
   "id": "37d8b7a1-70ad-493d-831e-422f68be820b",
   "metadata": {},
   "outputs": [
    {
     "data": {
      "text/plain": [
       "0.821221113204956"
      ]
     },
     "execution_count": 29,
     "metadata": {},
     "output_type": "execute_result"
    }
   ],
   "source": [
    "torch.manual_seed(5) \n",
    "x=torch.linspace(0,1,100).reshape(-1,1).to(\"cuda:0\")\n",
    "y=(torch.randn(100).reshape(-1,1)*0.01).to(\"cuda:0\")\n",
    "#---#\n",
    "net = torch.nn.Sequential(\n",
    "    torch.nn.Linear(1,500),\n",
    "    torch.nn.ReLU(),\n",
    "    torch.nn.Linear(500,1)\n",
    ").to(\"cuda:0\")\n",
    "loss_fn = torch.nn.MSELoss()\n",
    "optimizr = torch.optim.Adam(net.parameters())\n",
    "#---#\n",
    "t1 = time.time()\n",
    "for epoc in range(1000):\n",
    "    # 1 \n",
    "    yhat = net(x)\n",
    "    # 2 \n",
    "    loss = loss_fn(yhat,y)\n",
    "    # 3 \n",
    "    loss.backward()\n",
    "    # 4 \n",
    "    optimizr.step()\n",
    "    optimizr.zero_grad()\n",
    "t2 = time.time()\n",
    "t2-t1"
   ]
  },
  {
   "cell_type": "markdown",
   "id": "11945d38-e74e-427e-891c-586430c69955",
   "metadata": {},
   "source": [
    "#### D. CPU vs GPU (200,000 nodes)"
   ]
  },
  {
   "cell_type": "markdown",
   "id": "b230bf6a-a40d-48b3-81db-cf3a40f81d0a",
   "metadata": {},
   "source": [
    "`-` CPU(200,000)"
   ]
  },
  {
   "cell_type": "code",
   "execution_count": 30,
   "id": "e30ab0da-0238-4808-a3a1-6fd99d5c1947",
   "metadata": {},
   "outputs": [
    {
     "data": {
      "text/plain": [
       "90.73985743522644"
      ]
     },
     "execution_count": 30,
     "metadata": {},
     "output_type": "execute_result"
    }
   ],
   "source": [
    "torch.manual_seed(5) \n",
    "x=torch.linspace(0,1,100).reshape(-1,1)\n",
    "y=torch.randn(100).reshape(-1,1)*0.01\n",
    "#---#\n",
    "net = torch.nn.Sequential(\n",
    "    torch.nn.Linear(1,200000),\n",
    "    torch.nn.ReLU(),\n",
    "    torch.nn.Linear(200000,1)\n",
    ")\n",
    "loss_fn = torch.nn.MSELoss()\n",
    "optimizr = torch.optim.Adam(net.parameters())\n",
    "#---#\n",
    "t1 = time.time()\n",
    "for epoc in range(1000):\n",
    "    # 1 \n",
    "    yhat = net(x)\n",
    "    # 2 \n",
    "    loss = loss_fn(yhat,y)\n",
    "    # 3 \n",
    "    loss.backward()\n",
    "    # 4 \n",
    "    optimizr.step()\n",
    "    optimizr.zero_grad()\n",
    "t2 = time.time()\n",
    "t2-t1"
   ]
  },
  {
   "cell_type": "markdown",
   "id": "9fa51ac4-6508-4fe5-8e48-5ecf12a6afbb",
   "metadata": {},
   "source": [
    "`-` GPU (200,000)"
   ]
  },
  {
   "cell_type": "code",
   "execution_count": 31,
   "id": "67f9643d-dc3f-40ca-8b91-a38e11cb0bbf",
   "metadata": {},
   "outputs": [
    {
     "data": {
      "text/plain": [
       "0.9625039100646973"
      ]
     },
     "execution_count": 31,
     "metadata": {},
     "output_type": "execute_result"
    }
   ],
   "source": [
    "torch.manual_seed(5) \n",
    "x=torch.linspace(0,1,100).reshape(-1,1).to(\"cuda:0\")\n",
    "y=(torch.randn(100).reshape(-1,1)*0.01).to(\"cuda:0\")\n",
    "#---#\n",
    "net = torch.nn.Sequential(\n",
    "    torch.nn.Linear(1,200000),\n",
    "    torch.nn.ReLU(),\n",
    "    torch.nn.Linear(200000,1)\n",
    ").to(\"cuda:0\")\n",
    "loss_fn = torch.nn.MSELoss()\n",
    "optimizr = torch.optim.Adam(net.parameters())\n",
    "#---#\n",
    "t1 = time.time()\n",
    "for epoc in range(1000):\n",
    "    # 1 \n",
    "    yhat = net(x)\n",
    "    # 2 \n",
    "    loss = loss_fn(yhat,y)\n",
    "    # 3 \n",
    "    loss.backward()\n",
    "    # 4 \n",
    "    optimizr.step()\n",
    "    optimizr.zero_grad()\n",
    "t2 = time.time()\n",
    "t2-t1"
   ]
  },
  {
   "cell_type": "markdown",
   "id": "8e27781b-295d-4cb7-8c5d-c048fea27d56",
   "metadata": {},
   "source": [
    "`-`   왜 이런 차이가 나는가?\n",
    "\n",
    "`-`   연산을 하는 주체는 코어인데 CPU는 수는 적지만 일을 잘하는 코어들을\n",
    "    가지고 있고 GPU는 일은 못하지만 다수의 코어를 가지고 있기 때문\n",
    "\n",
    "#### E. 주의점\n",
    "\n",
    "`-` tensor 일 경우"
   ]
  },
  {
   "cell_type": "code",
   "execution_count": 32,
   "id": "8e1819b8-0cc8-4802-9a09-44d58dd5e11c",
   "metadata": {},
   "outputs": [
    {
     "data": {
      "text/plain": [
       "(tensor([1, 2, 3], device='cuda:0'), tensor([1, 2, 3]))"
      ]
     },
     "execution_count": 32,
     "metadata": {},
     "output_type": "execute_result"
    }
   ],
   "source": [
    "x = torch.tensor([1,2,3])\n",
    "x.to(\"cuda:0\"), x"
   ]
  },
  {
   "cell_type": "markdown",
   "id": "82d8f77b-132c-4ad1-8d60-5d2664ca5314",
   "metadata": {},
   "source": [
    "`-` net일 경우"
   ]
  },
  {
   "cell_type": "code",
   "execution_count": 33,
   "id": "6ae4bb63-888b-4d4d-b9a6-d570568319a1",
   "metadata": {},
   "outputs": [
    {
     "data": {
      "text/plain": [
       "(Parameter containing:\n",
       " tensor([[-0.0084]], device='cuda:0', requires_grad=True),\n",
       " Parameter containing:\n",
       " tensor([-0.6216], device='cuda:0', requires_grad=True))"
      ]
     },
     "execution_count": 33,
     "metadata": {},
     "output_type": "execute_result"
    }
   ],
   "source": [
    "net = torch.nn.Linear(1,1).to(\"cuda:0\")\n",
    "net.weight, net.bias"
   ]
  },
  {
   "cell_type": "markdown",
   "id": "6bbce646-280d-4bc3-9436-2a7b12a98260",
   "metadata": {},
   "source": [
    "### 4. `확률적` 경사하강법"
   ]
  },
  {
   "cell_type": "markdown",
   "id": "c15cafb1-49ea-4094-9e96-c3a5203ff8e6",
   "metadata": {},
   "source": [
    "#### A. 의문\n",
    "\n",
    "`-` GPU 비쌈\n",
    "\n",
    "`-` 우리가 분석하는 데이터"
   ]
  },
  {
   "cell_type": "code",
   "execution_count": 34,
   "id": "5351afa8-27b6-42e1-a84a-b3bcbcb83f8c",
   "metadata": {},
   "outputs": [],
   "source": [
    "x = torch.linspace(-10,10,100000).reshape(-1,1)\n",
    "eps = torch.randn(100000).reshape(-1,1)\n",
    "y = x*2 + eps "
   ]
  },
  {
   "cell_type": "code",
   "execution_count": 35,
   "id": "f801ec74-e192-4b3e-804f-13bf72835628",
   "metadata": {},
   "outputs": [
    {
     "data": {
      "text/plain": [
       "[<matplotlib.lines.Line2D at 0x7f1b100573d0>]"
      ]
     },
     "execution_count": 35,
     "metadata": {},
     "output_type": "execute_result"
    },
    {
     "data": {
      "image/png": "[encoded data removed]",
      "text/plain": [
       "<Figure size 450x300 with 1 Axes>"
      ]
     },
     "metadata": {},
     "output_type": "display_data"
    }
   ],
   "source": [
    "plt.plot(x,y,'.',alpha=0.05)\n",
    "plt.plot(x,2*x,'--')"
   ]
  },
  {
   "cell_type": "markdown",
   "id": "041bbda1-77c1-4ea5-8d7a-d1d579c82408",
   "metadata": {},
   "source": [
    "`-` 데이터의 크기가 커지면 `x.to(\"cuda:0\")`, `y.to(\"cuda:0\")` 쓰면\n",
    "문제 발생 $\\to$ 이런식이면 GPU를 이용하여 아무런 분석도 못할것\n",
    "같음??\n",
    "\n",
    "`-` 아이디어: 데이터를 100개중에 1개 꼴로만 쓰면 어떨까?"
   ]
  },
  {
   "cell_type": "code",
   "execution_count": 36,
   "id": "fdc32850-d9c7-488f-b187-82d682c4ef35",
   "metadata": {},
   "outputs": [
    {
     "data": {
      "text/plain": [
       "[<matplotlib.lines.Line2D at 0x7f1b31fce320>]"
      ]
     },
     "execution_count": 36,
     "metadata": {},
     "output_type": "execute_result"
    },
    {
     "data": {
      "image/png": "[encoded data removed]",
      "text/plain": [
       "<Figure size 450x300 with 1 Axes>"
      ]
     },
     "metadata": {},
     "output_type": "display_data"
    }
   ],
   "source": [
    "plt.plot(x[::100],y[::100],'o',alpha=0.05)\n",
    "plt.plot(x,2*x,'--')"
   ]
  },
  {
   "cell_type": "markdown",
   "id": "d7740cdb-c457-40b4-a3dd-c798a2caec1c",
   "metadata": {},
   "source": [
    "`-` 이것만 가지고도 적합해도 충분히 정확할 것 같다"
   ]
  },
  {
   "cell_type": "markdown",
   "id": "508b4115-0b6c-45c4-b039-6b916a2d49cd",
   "metadata": {},
   "source": [
    "#### B. X,y 데이터를 굳이 모두 GPU에 넘겨야 하는가?\n",
    "\n",
    "`-` 데이터셋을 짝홀로 나누어서 번갈아가면서 GPU에 올렸다 내렸다하면\n",
    "안되나?\n",
    "\n",
    "`-` 아래의 알고리즘을 생각해보자.\n",
    "\n",
    "1.  데이터를 반으로 나눈다.\n",
    "2.  짝수obs의 x,y 그리고 net의 모든 파라메터를 GPU에 올린다.\n",
    "3.  yhat, loss, grad, update 수행\n",
    "4.  짝수obs의 x,y를 GPU메모리에서 내린다. 그리고 홀수obs의 x,y를\n",
    "    GPU메모리에 올린다.\n",
    "5.  yhat, loss, grad, update 수행\n",
    "6.  홀수obs의 x,y를 GPU메모리에서 내린다. 그리고 짝수obs의 x,y를\n",
    "    GPU메모리에 올린다.\n",
    "7.  반복\n",
    "\n",
    "> 이러면 되는거아니야???? —\\> 맞아요\n",
    "\n",
    "#### C. 경사하강법, 확률적경사하강법, 미니배치 경사하강법\n",
    "\n",
    "10개의 샘플이 있다고 가정. $\\{(x_i,y_i)\\}_{i=1}^{10}$\n",
    "\n",
    "`# ver1` – 모든 샘플을 이용하여 slope 계산\n",
    "\n",
    "(epoch 1)\n",
    "$loss=\\sum_{i=1}^{10}(y_i-\\hat{w}_0-\\hat{w}_1x_i)^2 \\to slope  \\to update$\n",
    "\n",
    "(epoch 2)\n",
    "$loss=\\sum_{i=1}^{10}(y_i-\\hat{w}_0-\\hat{w}_1x_i)^2 \\to slope  \\to update$\n",
    "\n",
    "…\n",
    "\n",
    "> 우리가 항상 이렇게 했죠!\n",
    "\n",
    "`# ver2` – 하나의 샘플만을 이용하여 slope 계산\n",
    "\n",
    "(epoch 1)\n",
    "\n",
    "-   $loss=(y_1-\\hat{w}_0-\\hat{w}_1x_1)^2 \\to slope \\to update$\n",
    "-   $loss=(y_2-\\hat{w}_0-\\hat{w}_1x_2)^2 \\to slope \\to update$\n",
    "-   …\n",
    "-   $loss=(y_{10}-\\hat{w}_0-\\hat{w}_1x_{10})^2  \\to  slope  \\to  update$\n",
    "\n",
    "(epoch 2)\n",
    "\n",
    "-   $loss=(y_1-\\hat{w}_0-\\hat{w}_1x_1)^2  \\to slope  \\to  update$\n",
    "-   $loss=(y_2-\\hat{w}_0-\\hat{w}_1x_2)^2  \\to slope  \\to  update$\n",
    "-   …\n",
    "-   $loss=(y_{10}-\\hat{w}_0-\\hat{w}_1x_{10})^2  \\to  slope  \\to  update$\n",
    "\n",
    "…\n",
    "\n",
    "`# ver3` – $m (\\leq n)$ 개의 샘플을 이용하여 slope 계산\n",
    "\n",
    "$m=3$이라고 하자.\n",
    "\n",
    "(epoch 1)\n",
    "\n",
    "-   $loss=\\sum_{i=1}^{3}(y_i-\\hat{w}_0-\\hat{w}_1x_i)^2  \\to  slope  \\to  update$\n",
    "-   $loss=\\sum_{i=4}^{6}(y_i-\\hat{w}_0-\\hat{w}_1x_i)^2  \\to  slope  \\to  update$\n",
    "-   $loss=\\sum_{i=7}^{9}(y_i-\\hat{w}_0-\\hat{w}_1x_i)^2  \\to  slope  \\to  update$\n",
    "-   $loss=(y_{10}-\\hat{w}_0-\\hat{w}_1x_{10})^2  \\to  slope  \\to  update$\n",
    "\n",
    "(epoch 2)\n",
    "\n",
    "-   $loss=\\sum_{i=1}^{3}(y_i-\\hat{w}_0-\\hat{w}_1x_i)^2  \\to  slope  \\to  update$\n",
    "-   $loss=\\sum_{i=4}^{6}(y_i-\\hat{w}_0-\\hat{w}_1x_i)^2  \\to  slope  \\to  update$\n",
    "-   $loss=\\sum_{i=7}^{9}(y_i-\\hat{w}_0-\\hat{w}_1x_i)^2  \\to  slope  \\to  update$\n",
    "-   $loss=(y_{10}-\\hat{w}_0-\\hat{w}_1x_{10})^2  \\to  slope  \\to  update$\n",
    "\n",
    "…\n",
    "\n",
    "#### D. 용어의 정리\n",
    "\n",
    "**옛날**\n",
    "\n",
    "`-` ver1(모든): gradient descent, batch gradient descent\n",
    "\n",
    "`-` ver2(하나만): stochastic gradient descent\n",
    "\n",
    "`-` ver3(몇개만): mini-batch gradient descent, mini-batch stochastic\n",
    "gradient descent\n",
    "\n",
    "**요즘**\n",
    "\n",
    "`-` ver1(모든): gradient descent\n",
    "\n",
    "`-` ver2(하나만): stochastic gradient descent with batch size = 1\n",
    "\n",
    "`-` **ver3(몇개만): stochastic gradient descent** -\n",
    "https://www.deeplearningbook.org/contents/optimization.html, 알고리즘\n",
    "8-1 참고.\n",
    "\n",
    "#### E. Dataset(`ds`), DataLoader(`dl`)\n",
    "\n",
    "> 취지는 알겠으나, C의 과정을 실제 구현하려면 진짜 어려움.. (입코딩과\n",
    "> 손코딩의 차이) –\\> 이걸 해결하기 위해서 파이토치에서는 DataLoader라는\n",
    "> 오브젝트를 준비했음!\n",
    "\n",
    "`-` 데이터"
   ]
  },
  {
   "cell_type": "code",
   "execution_count": 37,
   "id": "7ea728aa-05c4-4baf-a505-a17d51e67620",
   "metadata": {},
   "outputs": [
    {
     "data": {
      "text/plain": [
       "tensor([[0., 1.],\n",
       "        [1., 1.],\n",
       "        [2., 1.],\n",
       "        [3., 1.],\n",
       "        [4., 1.],\n",
       "        [5., 0.],\n",
       "        [6., 0.],\n",
       "        [7., 0.],\n",
       "        [8., 0.],\n",
       "        [9., 0.]])"
      ]
     },
     "execution_count": 37,
     "metadata": {},
     "output_type": "execute_result"
    }
   ],
   "source": [
    "x=torch.tensor(range(10)).float().reshape(-1,1)\n",
    "y=torch.tensor([1.0]*5+[0.0]*5).reshape(-1,1)\n",
    "torch.concat([x,y],axis=1)"
   ]
  },
  {
   "cell_type": "markdown",
   "id": "6c4388c1-8b64-4256-8dd3-f86972a9adbc",
   "metadata": {},
   "source": [
    "`-` `ds`오브젝트"
   ]
  },
  {
   "cell_type": "code",
   "execution_count": 38,
   "id": "5da62039-a7ba-4281-8a4b-88e76d6ab335",
   "metadata": {},
   "outputs": [
    {
     "data": {
      "text/plain": [
       "<torch.utils.data.dataset.TensorDataset at 0x7f1ae80a6c20>"
      ]
     },
     "execution_count": 38,
     "metadata": {},
     "output_type": "execute_result"
    }
   ],
   "source": [
    "ds = torch.utils.data.TensorDataset(x,y)\n",
    "ds"
   ]
  },
  {
   "cell_type": "code",
   "execution_count": 39,
   "id": "6a352277-810f-443d-8006-e50d35687b81",
   "metadata": {},
   "outputs": [
    {
     "data": {
      "text/plain": [
       "(tensor([[0.],\n",
       "         [1.],\n",
       "         [2.],\n",
       "         [3.],\n",
       "         [4.],\n",
       "         [5.],\n",
       "         [6.],\n",
       "         [7.],\n",
       "         [8.],\n",
       "         [9.]]),\n",
       " tensor([[1.],\n",
       "         [1.],\n",
       "         [1.],\n",
       "         [1.],\n",
       "         [1.],\n",
       "         [0.],\n",
       "         [0.],\n",
       "         [0.],\n",
       "         [0.],\n",
       "         [0.]]))"
      ]
     },
     "execution_count": 39,
     "metadata": {},
     "output_type": "execute_result"
    }
   ],
   "source": [
    "ds.tensors \n",
    "# 생긴건 ds.tensors = (x,y) 임"
   ]
  },
  {
   "cell_type": "code",
   "execution_count": 40,
   "id": "658a48ca-5d3d-479c-97cd-33b23953a0d5",
   "metadata": {},
   "outputs": [
    {
     "data": {
      "text/plain": [
       "((tensor([0.]), tensor([1.])),\n",
       " tensor([[0.],\n",
       "         [1.],\n",
       "         [2.],\n",
       "         [3.],\n",
       "         [4.],\n",
       "         [5.],\n",
       "         [6.],\n",
       "         [7.],\n",
       "         [8.],\n",
       "         [9.]]))"
      ]
     },
     "execution_count": 40,
     "metadata": {},
     "output_type": "execute_result"
    }
   ],
   "source": [
    "ds[0],(x,y)[0] # (x,y) 튜플자체는 아님.. 인덱싱이 다르게 동작"
   ]
  },
  {
   "cell_type": "markdown",
   "id": "f6c14fd2-48e6-43a6-bca2-42544a13926d",
   "metadata": {},
   "source": [
    "`-` `dl` 오브젝트"
   ]
  },
  {
   "cell_type": "code",
   "execution_count": 41,
   "id": "a589d12e-da06-4f09-8952-8696898a0cc2",
   "metadata": {},
   "outputs": [],
   "source": [
    "dl = torch.utils.data.DataLoader(ds, batch_size=3)"
   ]
  },
  {
   "cell_type": "code",
   "execution_count": 42,
   "id": "fa27f51c-040f-4e93-a0eb-e4e751f27dac",
   "metadata": {},
   "outputs": [
    {
     "name": "stdout",
     "output_type": "stream",
     "text": [
      "x_mini_batch:[[0.0], [1.0], [2.0]] \t y_mini_batch:[[1.0], [1.0], [1.0]]\n",
      "x_mini_batch:[[3.0], [4.0], [5.0]] \t y_mini_batch:[[1.0], [1.0], [0.0]]\n",
      "x_mini_batch:[[6.0], [7.0], [8.0]] \t y_mini_batch:[[0.0], [0.0], [0.0]]\n",
      "x_mini_batch:[[9.0]] \t y_mini_batch:[[0.0]]\n"
     ]
    }
   ],
   "source": [
    "for x_mbatch,y_mbatch in dl:\n",
    "    print(f\"x_mini_batch:{x_mbatch.tolist()} \\t y_mini_batch:{y_mbatch.tolist()}\")"
   ]
  },
  {
   "cell_type": "markdown",
   "id": "4007c872-f1c9-472a-9fd4-0109c23e986b",
   "metadata": {},
   "source": [
    "`-` 마지막 관측치는 왜 단독 업데이트?? $\\to$ `shuffle=True` 같은 옵션 존재"
   ]
  },
  {
   "cell_type": "code",
   "execution_count": 43,
   "id": "085c1d1e-0133-4e0b-9cb0-0e87e3d5df45",
   "metadata": {},
   "outputs": [
    {
     "name": "stdout",
     "output_type": "stream",
     "text": [
      "x_mini_batch:[[9.0], [0.0], [8.0]] \t y_mini_batch:[[0.0], [1.0], [0.0]]\n",
      "x_mini_batch:[[7.0], [5.0], [6.0]] \t y_mini_batch:[[0.0], [0.0], [0.0]]\n",
      "x_mini_batch:[[3.0], [4.0], [1.0]] \t y_mini_batch:[[1.0], [1.0], [1.0]]\n",
      "x_mini_batch:[[2.0]] \t y_mini_batch:[[1.0]]\n"
     ]
    }
   ],
   "source": [
    "dl = torch.utils.data.DataLoader(ds,batch_size=3,shuffle=True)\n",
    "for x_mbatch,y_mbatch in dl:\n",
    "    print(f\"x_mini_batch:{x_mbatch.tolist()} \\t y_mini_batch:{y_mbatch.tolist()}\")"
   ]
  },
  {
   "cell_type": "markdown",
   "id": "75a58bbb-1c64-4a6a-b6a5-d0d5e798aadb",
   "metadata": {},
   "source": [
    "#### F. 성능 체크"
   ]
  },
  {
   "cell_type": "markdown",
   "id": "2bfea7a6-32b3-4cea-aa7c-05e58aface04",
   "metadata": {},
   "source": [
    "`-` 목표 : 확률적 경사하강법과 그냥 경사하강법의 성늘을 '동일 반복횟수'로 비교해보자\n",
    "\n",
    "`-` MNIST자료를 그냥 경사하강법으로 적합해보자"
   ]
  },
  {
   "cell_type": "code",
   "execution_count": 45,
   "id": "7dd0e062-5efb-4a93-b386-3884a3404027",
   "metadata": {},
   "outputs": [],
   "source": [
    "import torchvision"
   ]
  },
  {
   "cell_type": "code",
   "execution_count": 54,
   "id": "0a5e3650-2ced-408c-abaf-670176700474",
   "metadata": {},
   "outputs": [],
   "source": [
    "#train_dataset = torchvision.datasets.MNIST(root='./data', train=True, download=True)\n",
    "#to_tensor = torchvision.transforms.ToTensor()\n",
    "X0 = torch.stack([to_tensor(Xi) for Xi, yi in train_dataset if yi==0])\n",
    "X1 = torch.stack([to_tensor(Xi) for Xi, yi in train_dataset if yi==1])\n",
    "X = torch.concat([X0,X1],axis=0).reshape(-1,784)\n",
    "y = torch.tensor([0.0]*len(X0) + [1.0]*len(X1)).reshape(-1,1)"
   ]
  },
  {
   "cell_type": "code",
   "execution_count": 47,
   "id": "7d74e108-ceae-446f-8edf-9cca1a2532f6",
   "metadata": {},
   "outputs": [],
   "source": [
    "torch.manual_seed(1)\n",
    "net = torch.nn.Sequential(\n",
    "    torch.nn.Linear(784,32),\n",
    "    torch.nn.ReLU(),\n",
    "    torch.nn.Linear(32,1),\n",
    "    torch.nn.Sigmoid()\n",
    ")\n",
    "loss_fn = torch.nn.BCELoss()\n",
    "optimizr = torch.optim.SGD(net.parameters())"
   ]
  },
  {
   "cell_type": "code",
   "execution_count": 48,
   "id": "0f397af8-f413-440a-a1d7-70b19bf047b0",
   "metadata": {},
   "outputs": [],
   "source": [
    "for epoc in range(700):\n",
    "    # step1 \n",
    "    yhat = net(X)\n",
    "    # step2 \n",
    "    loss = loss_fn(yhat,y)\n",
    "    # step3     \n",
    "    loss.backward()\n",
    "    # step4 \n",
    "    optimizr.step()\n",
    "    optimizr.zero_grad()    "
   ]
  },
  {
   "cell_type": "code",
   "execution_count": 49,
   "id": "5778771e-0a2b-41c8-9cd5-3f0defb42b5e",
   "metadata": {},
   "outputs": [
    {
     "data": {
      "text/plain": [
       "tensor(0.9953)"
      ]
     },
     "execution_count": 49,
     "metadata": {},
     "output_type": "execute_result"
    }
   ],
   "source": [
    "((yhat > 0.5) ==  y).float().mean()"
   ]
  },
  {
   "cell_type": "markdown",
   "id": "8c5b621d-8db1-4fc8-883b-db03e1f4dbdd",
   "metadata": {},
   "source": [
    "`-` MNIST자료를 확률적 경사하강법으로 적합해보자. – 미니배치 쓰는 학습"
   ]
  },
  {
   "cell_type": "code",
   "execution_count": 50,
   "id": "2232ce7e-3de6-40c2-b30c-65d701aa561f",
   "metadata": {},
   "outputs": [],
   "source": [
    "# train_dataset = torchvision.datasets.MNIST(root='./data', train=True, download=True)\n",
    "# to_tensor = torchvision.transforms.ToTensor()\n",
    "# X0 = torch.stack([to_tensor(Xi) for Xi, yi in train_dataset if yi==0])\n",
    "# X1 = torch.stack([to_tensor(Xi) for Xi, yi in train_dataset if yi==1])\n",
    "# X = torch.concat([X0,X1],axis=0).reshape(-1,784)\n",
    "# y = torch.tensor([0.0]*len(X0) + [1.0]*len(X1)).reshape(-1,1)\n",
    "ds = torch.utils.data.TensorDataset(X,y)\n",
    "dl = torch.utils.data.DataLoader(ds,batch_size=2048)"
   ]
  },
  {
   "cell_type": "code",
   "execution_count": 51,
   "id": "2554c55f-6d0a-4351-9de9-153a99eafc9c",
   "metadata": {},
   "outputs": [
    {
     "data": {
      "text/plain": [
       "6.18408203125"
      ]
     },
     "execution_count": 51,
     "metadata": {},
     "output_type": "execute_result"
    }
   ],
   "source": [
    "len(X)/2048"
   ]
  },
  {
   "cell_type": "markdown",
   "id": "2636efed-5a80-4ccc-9c2b-6e4003830308",
   "metadata": {},
   "source": [
    "`-`  (mini) batchsize 가 2048 이라면 한 epoch당 7회 update"
   ]
  },
  {
   "cell_type": "code",
   "execution_count": 52,
   "id": "f428c5b3-f827-401c-ba99-ef59ef1c4266",
   "metadata": {},
   "outputs": [],
   "source": [
    "torch.manual_seed(1)\n",
    "net = torch.nn.Sequential(\n",
    "    torch.nn.Linear(784,32),\n",
    "    torch.nn.ReLU(),\n",
    "    torch.nn.Linear(32,1),\n",
    "    torch.nn.Sigmoid()\n",
    ")\n",
    "loss_fn = torch.nn.BCELoss()\n",
    "optimizr = torch.optim.SGD(net.parameters())"
   ]
  },
  {
   "cell_type": "code",
   "execution_count": 53,
   "id": "b87938d5-3318-4800-be5b-9603de92355d",
   "metadata": {},
   "outputs": [],
   "source": [
    "for epoc in range(100): \n",
    "    for xm,ym in dl:        \n",
    "        # step1 \n",
    "        ym_hat = net(xm)\n",
    "        # step2 \n",
    "        loss = loss_fn(ym_hat,ym)\n",
    "        # step3     \n",
    "        loss.backward()\n",
    "        # step4 \n",
    "        optimizr.step()\n",
    "        optimizr.zero_grad()"
   ]
  },
  {
   "cell_type": "code",
   "execution_count": 55,
   "id": "7c07912e-d4fb-4f61-aad2-c510e60a3a22",
   "metadata": {},
   "outputs": [
    {
     "data": {
      "text/plain": [
       "tensor(0.9931)"
      ]
     },
     "execution_count": 55,
     "metadata": {},
     "output_type": "execute_result"
    }
   ],
   "source": [
    "((net(X) > 0.5) ==  y).float().mean()"
   ]
  },
  {
   "cell_type": "markdown",
   "id": "fc352131-c71e-46e1-b2f5-70fe18689d75",
   "metadata": {},
   "source": [
    "`-` 성능의 큰 차이가 없음"
   ]
  }
 ],
 "metadata": {
  "kernelspec": {
   "display_name": "Python 3 (ipykernel)",
   "language": "python",
   "name": "python3"
  },
  "language_info": {
   "codemirror_mode": {
    "name": "ipython",
    "version": 3
   },
   "file_extension": ".py",
   "mimetype": "text/x-python",
   "name": "python",
   "nbconvert_exporter": "python",
   "pygments_lexer": "ipython3",
   "version": "3.12.8"
  }
 },
 "nbformat": 4,
 "nbformat_minor": 5
}
