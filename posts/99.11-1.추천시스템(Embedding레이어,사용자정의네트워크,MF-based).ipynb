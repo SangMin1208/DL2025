{
 "cells": [
  {
   "cell_type": "raw",
   "id": "46f0d1e6-1c1a-4d5c-bbfb-4039ca0644ae",
   "metadata": {},
   "source": [
    "---\n",
    "title: \"11-1. 추천시스템(Embedding 레이어, 사용자정의  네트워크, MF-based)\"\n",
    "author: \"이상민\"\n",
    "date: \"05/18/2025\"\n",
    "---"
   ]
  },
  {
   "cell_type": "markdown",
   "id": "e0461c0f-cb11-4d55-8d10-d242f1464495",
   "metadata": {},
   "source": [
    "### 1. imports"
   ]
  },
  {
   "cell_type": "code",
   "execution_count": 1,
   "id": "5710d8e2-423d-44f9-8e95-18f8f6f4b299",
   "metadata": {},
   "outputs": [],
   "source": [
    "import torch\n",
    "import pandas as pd\n",
    "import matplotlib.pyplot as plt"
   ]
  },
  {
   "cell_type": "code",
   "execution_count": 2,
   "id": "29242cc7-701c-4cc5-a068-89225db11cb4",
   "metadata": {},
   "outputs": [],
   "source": [
    "plt.rcParams['figure.figsize'] = (4.5, 3.0)"
   ]
  },
  {
   "cell_type": "markdown",
   "id": "5a421043-7b77-4f69-a070-fdcad7753161",
   "metadata": {},
   "source": [
    "### 2. torch.nn.Embedding"
   ]
  },
  {
   "cell_type": "markdown",
   "id": "bc15f8da-ec35-4444-a0ef-beba392b2a2c",
   "metadata": {},
   "source": [
    "`-` 지난시간 linr(onehot(x))의 패턴이 반복적으로 네트워크에서 사용"
   ]
  },
  {
   "cell_type": "markdown",
   "id": "cb3a56c8-2ad2-4723-b46f-7ee04e496f66",
   "metadata": {},
   "source": [
    "#### A. 임베딩 레이어"
   ]
  },
  {
   "cell_type": "markdown",
   "id": "c2720cdb-8ca8-408d-b0b3-446ff49e6380",
   "metadata": {},
   "source": [
    "`-` 모티브 : `torch.nn.functional.one_hot` + `torch.nn.Linear` 매번 쓰기 귀찮음"
   ]
  },
  {
   "cell_type": "code",
   "execution_count": 4,
   "id": "7006728f-55c4-4fb1-ba10-0287a953bfdd",
   "metadata": {},
   "outputs": [
    {
     "data": {
      "text/plain": [
       "tensor([[-0.2002],\n",
       "        [-0.4890],\n",
       "        [ 0.2081],\n",
       "        [-0.2002],\n",
       "        [-0.4890]], grad_fn=<MmBackward0>)"
      ]
     },
     "execution_count": 4,
     "metadata": {},
     "output_type": "execute_result"
    }
   ],
   "source": [
    "torch.manual_seed(43052)\n",
    "#x  = ['옥순', '영숙', '하니', '옥순', '영숙'] \n",
    "x = torch.tensor([0,1,2,0,1])\n",
    "X = torch.nn.functional.one_hot(x).float()\n",
    "linr = torch.nn.Linear(3,1,bias=False)\n",
    "linr(X)"
   ]
  },
  {
   "cell_type": "markdown",
   "id": "19c82996-9f11-4bb3-8ccd-c0f9d68a3985",
   "metadata": {},
   "source": [
    "`-` 계산방식\n",
    "\n",
    "-   ${\\boldsymbol x}= \\begin{bmatrix} 0 \\\\ 1 \\\\ 2 \\\\ 0 \\\\ 1 \\end{bmatrix} \\Longrightarrow {\\bf X}= \\begin{bmatrix} 1 & 0 & 0 \\\\ 0 & 1 & 0 \\\\ 0 & 0 & 1 \\\\ 1 & 0 & 0 \\\\ 0 & 1 & 0 \\end{bmatrix}$\n",
    "\n",
    "-   $\\text{linr}({\\bf X})= \\begin{bmatrix} 1 & 0 & 0 \\\\ 0 & 1 & 0 \\\\ 0 & 0 & 1 \\\\ 1 & 0 & 0 \\\\ 0 & 1 & 0 \\end{bmatrix}\\begin{bmatrix} -0.2002 \\\\ -0.4890 \\\\ 0.2081 \\end{bmatrix} = \\begin{bmatrix} -0.2002 \\\\ -0.4890 \\\\ 0.2081 \\\\ -0.2002 \\\\ -0.4890 \\end{bmatrix}$\n",
    "\n",
    "`-` `torch.nn.functional.one_hot` + `torch.nn.Linear` 를 함께처리해주는\n",
    "레이어 `torch.nn.Embedding` 존재"
   ]
  },
  {
   "cell_type": "code",
   "execution_count": 5,
   "id": "b44e3a46-fedb-484a-b2cf-542a30a6c977",
   "metadata": {},
   "outputs": [
    {
     "data": {
      "text/plain": [
       "tensor([[-0.2002],\n",
       "        [-0.4890],\n",
       "        [ 0.2081],\n",
       "        [-0.2002],\n",
       "        [-0.4890]], grad_fn=<EmbeddingBackward0>)"
      ]
     },
     "execution_count": 5,
     "metadata": {},
     "output_type": "execute_result"
    }
   ],
   "source": [
    "#x  = ['옥순', '영숙', '하니', '옥순', '영숙'] \n",
    "x = torch.tensor([0,1,2,0,1])\n",
    "ebdd = torch.nn.Embedding(3,1)\n",
    "ebdd.weight.data = torch.tensor([[-0.2002],[-0.4890],[0.2081]])\n",
    "ebdd(x)"
   ]
  },
  {
   "cell_type": "markdown",
   "id": "f37b26f4-e496-43b1-b53e-af04c130024c",
   "metadata": {},
   "source": [
    "-   $\\text{ebdd}({\\boldsymbol x})= \\text{linr}\\big(\\text{onehot}({\\boldsymbol x})\\big) = \\begin{bmatrix} 1 & 0 & 0 \\\\ 0 & 1 & 0 \\\\ 0 & 0 & 1 \\\\ 1 & 0 & 0 \\\\ 0 & 1 & 0 \\end{bmatrix}\\begin{bmatrix} -0.2002 \\\\ -0.4890 \\\\ 0.2081 \\end{bmatrix} = \\begin{bmatrix} -0.2002 \\\\ -0.4890 \\\\ 0.2081 \\\\ -0.2002 \\\\ -0.4890 \\end{bmatrix}$\n",
    "\n",
    "-   우리가 이전에 구현했던 코드 “onehot + linr” 와 “ebdd”는 정확하게\n",
    "    동일한 동작을 수행함.\n",
    "\n",
    "`-` 결론: 아래의 두개의 코드는 같다.\n",
    "\n",
    "``` python\n",
    "x= torch.tensor([0,1,2,0,1])\n",
    "\n",
    "## 코드1 \n",
    "linr = torch.nn.Linear(3,1) \n",
    "linr(torch.nn.functional.one_hot(x))\n",
    "\n",
    "## 코드2 \n",
    "ebdd = torch.nn.Embedding(3,1)\n",
    "ebdd(x) \n",
    "```\n",
    "\n",
    "#### B. MF-based 추천시스템 재설계\n",
    "\n",
    "아래의 자료를 활용하여 추천시스템을 설계하고자한다."
   ]
  },
  {
   "cell_type": "code",
   "execution_count": 7,
   "id": "ff161837-b052-40c4-85d9-9766c1df5eea",
   "metadata": {},
   "outputs": [
    {
     "data": {
      "text/html": [
       "<div>\n",
       "<style scoped>\n",
       "    .dataframe tbody tr th:only-of-type {\n",
       "        vertical-align: middle;\n",
       "    }\n",
       "\n",
       "    .dataframe tbody tr th {\n",
       "        vertical-align: top;\n",
       "    }\n",
       "\n",
       "    .dataframe thead th {\n",
       "        text-align: right;\n",
       "    }\n",
       "</style>\n",
       "<table border=\"1\" class=\"dataframe\">\n",
       "  <thead>\n",
       "    <tr style=\"text-align: right;\">\n",
       "      <th></th>\n",
       "      <th>영식(IN)</th>\n",
       "      <th>영철(IN)</th>\n",
       "      <th>영호(IS)</th>\n",
       "      <th>광수(IS)</th>\n",
       "      <th>상철(EN)</th>\n",
       "      <th>영수(EN)</th>\n",
       "      <th>규빈(ES)</th>\n",
       "      <th>다호(ES)</th>\n",
       "    </tr>\n",
       "  </thead>\n",
       "  <tbody>\n",
       "    <tr>\n",
       "      <th>옥순(IN)</th>\n",
       "      <td>NaN</td>\n",
       "      <td>4.02</td>\n",
       "      <td>3.45</td>\n",
       "      <td>3.42</td>\n",
       "      <td>0.84</td>\n",
       "      <td>1.12</td>\n",
       "      <td>0.43</td>\n",
       "      <td>0.49</td>\n",
       "    </tr>\n",
       "    <tr>\n",
       "      <th>영자(IN)</th>\n",
       "      <td>3.93</td>\n",
       "      <td>3.99</td>\n",
       "      <td>3.63</td>\n",
       "      <td>3.43</td>\n",
       "      <td>0.98</td>\n",
       "      <td>0.96</td>\n",
       "      <td>0.52</td>\n",
       "      <td>NaN</td>\n",
       "    </tr>\n",
       "    <tr>\n",
       "      <th>정숙(IS)</th>\n",
       "      <td>3.52</td>\n",
       "      <td>3.42</td>\n",
       "      <td>4.05</td>\n",
       "      <td>4.06</td>\n",
       "      <td>0.39</td>\n",
       "      <td>NaN</td>\n",
       "      <td>0.93</td>\n",
       "      <td>0.99</td>\n",
       "    </tr>\n",
       "    <tr>\n",
       "      <th>영숙(IS)</th>\n",
       "      <td>3.43</td>\n",
       "      <td>3.57</td>\n",
       "      <td>NaN</td>\n",
       "      <td>3.95</td>\n",
       "      <td>0.56</td>\n",
       "      <td>0.52</td>\n",
       "      <td>0.89</td>\n",
       "      <td>0.89</td>\n",
       "    </tr>\n",
       "    <tr>\n",
       "      <th>순자(EN)</th>\n",
       "      <td>1.12</td>\n",
       "      <td>NaN</td>\n",
       "      <td>0.59</td>\n",
       "      <td>0.43</td>\n",
       "      <td>4.01</td>\n",
       "      <td>4.16</td>\n",
       "      <td>3.52</td>\n",
       "      <td>3.38</td>\n",
       "    </tr>\n",
       "    <tr>\n",
       "      <th>현숙(EN)</th>\n",
       "      <td>0.94</td>\n",
       "      <td>1.05</td>\n",
       "      <td>0.32</td>\n",
       "      <td>0.45</td>\n",
       "      <td>4.02</td>\n",
       "      <td>3.78</td>\n",
       "      <td>NaN</td>\n",
       "      <td>3.54</td>\n",
       "    </tr>\n",
       "    <tr>\n",
       "      <th>서연(ES)</th>\n",
       "      <td>0.51</td>\n",
       "      <td>0.56</td>\n",
       "      <td>0.88</td>\n",
       "      <td>0.89</td>\n",
       "      <td>3.50</td>\n",
       "      <td>3.64</td>\n",
       "      <td>4.04</td>\n",
       "      <td>4.10</td>\n",
       "    </tr>\n",
       "    <tr>\n",
       "      <th>보람(ES)</th>\n",
       "      <td>0.48</td>\n",
       "      <td>0.51</td>\n",
       "      <td>1.03</td>\n",
       "      <td>NaN</td>\n",
       "      <td>3.52</td>\n",
       "      <td>4.00</td>\n",
       "      <td>3.82</td>\n",
       "      <td>NaN</td>\n",
       "    </tr>\n",
       "    <tr>\n",
       "      <th>하니(I)</th>\n",
       "      <td>4.85</td>\n",
       "      <td>4.82</td>\n",
       "      <td>NaN</td>\n",
       "      <td>4.98</td>\n",
       "      <td>4.53</td>\n",
       "      <td>4.39</td>\n",
       "      <td>4.45</td>\n",
       "      <td>4.52</td>\n",
       "    </tr>\n",
       "  </tbody>\n",
       "</table>\n",
       "</div>"
      ],
      "text/plain": [
       "        영식(IN)  영철(IN)  영호(IS)  광수(IS)  상철(EN)  영수(EN)  규빈(ES)  다호(ES)\n",
       "옥순(IN)     NaN    4.02    3.45    3.42    0.84    1.12    0.43    0.49\n",
       "영자(IN)    3.93    3.99    3.63    3.43    0.98    0.96    0.52     NaN\n",
       "정숙(IS)    3.52    3.42    4.05    4.06    0.39     NaN    0.93    0.99\n",
       "영숙(IS)    3.43    3.57     NaN    3.95    0.56    0.52    0.89    0.89\n",
       "순자(EN)    1.12     NaN    0.59    0.43    4.01    4.16    3.52    3.38\n",
       "현숙(EN)    0.94    1.05    0.32    0.45    4.02    3.78     NaN    3.54\n",
       "서연(ES)    0.51    0.56    0.88    0.89    3.50    3.64    4.04    4.10\n",
       "보람(ES)    0.48    0.51    1.03     NaN    3.52    4.00    3.82     NaN\n",
       "하니(I)     4.85    4.82     NaN    4.98    4.53    4.39    4.45    4.52"
      ]
     },
     "execution_count": 7,
     "metadata": {},
     "output_type": "execute_result"
    }
   ],
   "source": [
    "df_view = pd.read_csv('https://raw.githubusercontent.com/guebin/DL2025/main/posts/iamsolo.csv',index_col=0)\n",
    "df_view"
   ]
  },
  {
   "cell_type": "code",
   "execution_count": 8,
   "id": "4cbc5b84-6370-414a-b2ca-47148a3e6ac0",
   "metadata": {},
   "outputs": [],
   "source": [
    "df_train = df_view.stack().reset_index().set_axis(['W','M','y'],axis=1)\n",
    "여성인덱스 = {'옥순(IN)':0, '영자(IN)':1, '정숙(IS)':2, '영숙(IS)':3, '순자(EN)':4, '현숙(EN)':5, '서연(ES)':6, '보람(ES)':7, '하니(I)':8}\n",
    "남성인덱스 = {'영식(IN)':0, '영철(IN)':1, '영호(IS)':2, '광수(IS)':3, '상철(EN)':4, '영수(EN)':5, '규빈(ES)':6, '다호(ES)':7}\n",
    "x1 = torch.tensor(df_train['W'].map(여성인덱스)) # length-n int vector \n",
    "x2 = torch.tensor(df_train['M'].map(남성인덱스)) # length-n int vector \n",
    "y = torch.tensor(df_train['y']).float().reshape(-1,1) # (n,1) float vector"
   ]
  },
  {
   "cell_type": "markdown",
   "id": "d87a5d80-773a-4124-831c-2836d670da1b",
   "metadata": {},
   "source": [
    "`-` 임베딩 레이어를 활용하여 MF-based 추천 시스템을 설계\n",
    "\n",
    "- (풀이)"
   ]
  },
  {
   "cell_type": "code",
   "execution_count": 9,
   "id": "dfa73950-2cca-484a-bc24-132e0571140f",
   "metadata": {},
   "outputs": [],
   "source": [
    "#df_view\n",
    "loss_fn = torch.nn.MSELoss() \n",
    "ebdd1 = torch.nn.Embedding(9,2)\n",
    "ebdd2 = torch.nn.Embedding(8,2)\n",
    "b1 = torch.nn.Embedding(9,1)\n",
    "b2 = torch.nn.Embedding(8,1)\n",
    "params = list(ebdd1.parameters()) + list(ebdd2.parameters())  + list(b1.parameters()) + list(b2.parameters())\n",
    "optimizr = torch.optim.Adam(params)\n",
    "sig = torch.nn.Sigmoid()\n",
    "#----#\n",
    "for epoc in range(5000):\n",
    "    #step1\n",
    "    W_features = ebdd1(x1) \n",
    "    M_features = ebdd2(x2) \n",
    "    W_bias = b1(x1)\n",
    "    M_bais = b2(x2)\n",
    "    yhat = sig((W_features * M_features).sum(axis=1).reshape(-1,1) + W_bias + M_bais)*5\n",
    "    #step2\n",
    "    loss = loss_fn(yhat,y)\n",
    "    #step3\n",
    "    loss.backward()\n",
    "    #step4\n",
    "    optimizr.step()\n",
    "    optimizr.zero_grad()"
   ]
  },
  {
   "cell_type": "code",
   "execution_count": 10,
   "id": "e94536ac-14a2-4594-a5d7-6c7b5f33319f",
   "metadata": {},
   "outputs": [
    {
     "data": {
      "text/plain": [
       "(tensor([[4.0200],\n",
       "         [3.4500],\n",
       "         [3.4200],\n",
       "         [0.8400],\n",
       "         [1.1200]]),\n",
       " tensor([[4.0225],\n",
       "         [3.4780],\n",
       "         [3.3625],\n",
       "         [0.8772],\n",
       "         [0.9609]], grad_fn=<SliceBackward0>))"
      ]
     },
     "execution_count": 10,
     "metadata": {},
     "output_type": "execute_result"
    }
   ],
   "source": [
    "y[:5], yhat[:5]"
   ]
  },
  {
   "cell_type": "markdown",
   "id": "9faccfd1-ef7e-49f0-9a8d-cd26d602f90c",
   "metadata": {},
   "source": [
    "### 3. 사용자 정의 네트워크"
   ]
  },
  {
   "cell_type": "markdown",
   "id": "dd433152-58ee-4c84-ab73-08b8c1043cc2",
   "metadata": {},
   "source": [
    "#### A. 사용자 정의 네트워크 사용법"
   ]
  },
  {
   "cell_type": "markdown",
   "id": "8332d505-f13d-48f7-b83a-682b9e457d70",
   "metadata": {},
   "source": [
    "`-` 예비학습1 : `net(X)` 와 `net.forward(X)`는 같다."
   ]
  },
  {
   "cell_type": "code",
   "execution_count": 11,
   "id": "f9df17b9-d6c7-4551-9a06-e84be0fba050",
   "metadata": {},
   "outputs": [],
   "source": [
    "net = torch.nn.Sequential(\n",
    "    torch.nn.Linear(1,1),\n",
    "    torch.nn.Sigmoid()\n",
    ")\n",
    "X = torch.randn(5,1)"
   ]
  },
  {
   "cell_type": "code",
   "execution_count": 12,
   "id": "cc693d70-2f39-434b-9a99-fe986282801a",
   "metadata": {},
   "outputs": [
    {
     "data": {
      "text/plain": [
       "tensor([[0.2038],\n",
       "        [0.2278],\n",
       "        [0.1829],\n",
       "        [0.1874],\n",
       "        [0.5034]], grad_fn=<SigmoidBackward0>)"
      ]
     },
     "execution_count": 12,
     "metadata": {},
     "output_type": "execute_result"
    }
   ],
   "source": [
    "net(X)\n",
    "#net.forward(X)"
   ]
  },
  {
   "cell_type": "markdown",
   "id": "e5f1eb2e-7b18-45b7-ad3f-af0a64ffe3d9",
   "metadata": {},
   "source": [
    "`-` 그렇기 때문에 `net.forward`를 재정의하면 `net(X)`의 기능을 재정의 가능"
   ]
  },
  {
   "cell_type": "code",
   "execution_count": 13,
   "id": "2777cc72-172c-4f0d-a994-058241a2ec6e",
   "metadata": {},
   "outputs": [],
   "source": [
    "def func(x):\n",
    "    return \"메롱\""
   ]
  },
  {
   "cell_type": "code",
   "execution_count": 14,
   "id": "b6d8d5ee-7cfd-41c2-9a9f-f0b33db66c10",
   "metadata": {},
   "outputs": [],
   "source": [
    "net.forward = func "
   ]
  },
  {
   "cell_type": "code",
   "execution_count": 15,
   "id": "af3650a8-74eb-4002-91ef-d6488c9ed39d",
   "metadata": {},
   "outputs": [
    {
     "data": {
      "text/plain": [
       "'메롱'"
      ]
     },
     "execution_count": 15,
     "metadata": {},
     "output_type": "execute_result"
    }
   ],
   "source": [
    "net.forward(X) "
   ]
  },
  {
   "cell_type": "code",
   "execution_count": 16,
   "id": "a921abed-73d4-4bea-9882-4f2c402bb335",
   "metadata": {},
   "outputs": [
    {
     "data": {
      "text/plain": [
       "'메롱'"
      ]
     },
     "execution_count": 16,
     "metadata": {},
     "output_type": "execute_result"
    }
   ],
   "source": [
    "net(X)"
   ]
  },
  {
   "cell_type": "markdown",
   "id": "fd9cdea5-2161-45ce-acb3-f014e8cbbba1",
   "metadata": {},
   "source": [
    "`-` 예비학습2 : `torch.nn.Module`을 상속받아서 네트워크를 만들면(= \"`class XXX(torch.nn.Module):\"와 같은 방식으로 클래서 선언) 약속된 아키텍처를 가진 네트워크를 찍어내는 함수를 만들 수 있음\n",
    "\n",
    "`-` (예제1) - `torch.nn.Module`의 상속을 이용하여 아래와 동일한 아키텍처를 가지는 네트워크를 설계하라"
   ]
  },
  {
   "cell_type": "code",
   "execution_count": 17,
   "id": "aa912d21-3de4-4b9e-8f50-3f8b07e8a14e",
   "metadata": {},
   "outputs": [],
   "source": [
    "net = torch.nn.Sequential(\n",
    "    torch.nn.Linear(in_features=1,out_features=1,bias=True), # linr1\n",
    "    torch.nn.Sigmoid(),#sig\n",
    "    torch.nn.Linear(in_features=1,out_features=1,bias=False) # linr2 \n",
    ")"
   ]
  },
  {
   "cell_type": "code",
   "execution_count": 18,
   "id": "df329519-a005-4c54-ac8a-5870a60f6c8a",
   "metadata": {},
   "outputs": [],
   "source": [
    "x = torch.tensor([[1.0]])"
   ]
  },
  {
   "cell_type": "code",
   "execution_count": 19,
   "id": "7c784a92-b47d-47e2-bf27-af9d2cae9e5b",
   "metadata": {},
   "outputs": [
    {
     "data": {
      "text/plain": [
       "tensor([[-0.1692]], grad_fn=<MmBackward0>)"
      ]
     },
     "execution_count": 19,
     "metadata": {},
     "output_type": "execute_result"
    }
   ],
   "source": [
    "net(x)"
   ]
  },
  {
   "cell_type": "markdown",
   "id": "a840ae3c-c7e5-49ad-8110-29e775bd446c",
   "metadata": {},
   "source": [
    "`-` (풀이)"
   ]
  },
  {
   "cell_type": "code",
   "execution_count": 20,
   "id": "8e616235-4664-41e5-b357-e27c00e6a681",
   "metadata": {},
   "outputs": [],
   "source": [
    "class MyNet1(torch.nn.Module):\n",
    "    def __init__(self):\n",
    "        super().__init__()\n",
    "        self.linr1 = torch.nn.Linear(in_features=1,out_features=1,bias=True)\n",
    "        self.sig = torch.nn.Sigmoid()\n",
    "        self.linr2 = torch.nn.Linear(in_features=1,out_features=1,bias=False)\n",
    "    def forward(self,x):\n",
    "        out = self.linr2(self.sig(self.linr1(x)))\n",
    "        return out "
   ]
  },
  {
   "cell_type": "markdown",
   "id": "3c7d9161-5c0d-4137-a051-9cff7a737e49",
   "metadata": {},
   "source": [
    "***사용자 정의 네트워크를 만드는 방법***\n",
    "\n",
    "**step1:** 아래와 코드를 복사하여 틀을 만든다. (이건 무조건 고정임, XXXX\n",
    "자리는 원하는 이름을 넣는다)\n",
    "\n",
    "``` python\n",
    "class XXXX(torch.nn.Module):\n",
    "    def __init__(self):\n",
    "        super().__init__()\n",
    "        ## 우리가 netout을 구할때 사용할 레이어를 정의 \n",
    "        \n",
    "        ## 정의 끝\n",
    "    def forward(self,X):\n",
    "        ## netout을 어떻게 구할것인지 정의 \n",
    "        \n",
    "        ## 정의 끝\n",
    "        return netout\n",
    "```\n",
    "\n",
    "-   `forward`의 입력: `X`는 `net(X)`에 사용하는 `X`임\n",
    "-   `forward`의 출력: `netout`은 `net.forward(X)` 함수의 리턴값임\n",
    "-   당연히 `X`/`netout`은 다른 변수로 써도 무방 (예를들면\n",
    "    `input`/`output` 이라든지)\n",
    "\n",
    "**step2:** `def __init__(self):`에 yhat을 구하기 위해 필요한 재료를\n",
    "레이어를 정의하고 이름을 붙인다. 이름은 항상 `self.xxx` 와 같은 식으로\n",
    "정의한다.\n",
    "\n",
    "``` python\n",
    "class XXXX(torch.nn.Module):\n",
    "    def __init__(self):\n",
    "        super().__init__()\n",
    "        ## 우리가 netout을 구할때 사용할 레이어를 정의 \n",
    "        self.xxx1 = torch.nn.Linear(in_features=1,out_features=1,bias=True)\n",
    "        self.xxx2 = torch.nn.Sigmoid()\n",
    "        self.xxx3 = torch.nn.Linear(in_features=1,out_features=1,bias=True)\n",
    "        ## 정의 끝\n",
    "    def forward(self,X):\n",
    "        ## netout을 어떻게 구할것인지 정의 \n",
    "        \n",
    "        ## 정의 끝\n",
    "        return netout\n",
    "```\n",
    "\n",
    "**step3:** `def forward:`에 “X –\\> netout” 으로 가는 과정을 묘사한\n",
    "코드를 작성하고 netout을 리턴하도록 한다.\n",
    "\n",
    "``` python\n",
    "class XXXX(torch.nn.Module):\n",
    "    def __init__(self):\n",
    "        super().__init__()\n",
    "        ## 우리가 netout 구할때 사용할 레이어를 정의 \n",
    "        self.xxx1 = torch.nn.Linear(in_features=1,out_features=1,bias=True)\n",
    "        self.xxx2 = torch.nn.Sigmoid()\n",
    "        self.xxx3 = torch.nn.Linear(in_features=1,out_features=1,bias=True)\n",
    "        ## 정의 끝\n",
    "    def forward(self,X):\n",
    "        ## netout을 어떻게 구할것인지 정의 \n",
    "        u = self.xxx1(X) \n",
    "        v = self.xxx2(u)\n",
    "        netout = self.xxx3(v) \n",
    "        ## 정의 끝\n",
    "        return netout\n",
    "```\n",
    "\n",
    "`#`\n",
    "\n",
    "`# 실습(2025-중간고사 4번)`: 자유 낙하 운동이란 어떤 물체가 일정한\n",
    "높이에서 떨어져 지면에 도달하기 까지 걸리는 시간을 다루는 물리학\n",
    "개념이다. 다음은 물리학의 자유 낙하 운동에서 착안하여 생성한 데이터이다."
   ]
  },
  {
   "cell_type": "code",
   "execution_count": 26,
   "id": "f16699df-79e5-4952-813c-3aced4c767ef",
   "metadata": {},
   "outputs": [],
   "source": [
    "torch.manual_seed(43052)\n",
    "h = torch.rand(100)*100\n",
    "h,_ = h.sort()\n",
    "h = h.reshape(100,1)\n",
    "t = torch.sqrt(2*h/9.8) + torch.randn([100,1])*0.1"
   ]
  },
  {
   "cell_type": "markdown",
   "id": "e7d29824-2d7f-4eec-a27f-e97d73ac464e",
   "metadata": {},
   "source": [
    "여기에서 $h$는 낙하전의 높이(단위: m), $t$는 해당높이에서 물치가 지면에\n",
    "도달하기 까지 걸리는 시간(단위:초)을 의미한다. 예를 들어 아래의 자료는\n",
    "$h=99.3920, t=4.4583$를 의미하는데"
   ]
  },
  {
   "cell_type": "code",
   "execution_count": 27,
   "id": "02cb1897-75dc-4603-8c2a-8f6b67db8dc7",
   "metadata": {},
   "outputs": [
    {
     "data": {
      "text/plain": [
       "(tensor([99.3920]), tensor([4.4583]))"
      ]
     },
     "execution_count": 27,
     "metadata": {},
     "output_type": "execute_result"
    }
   ],
   "source": [
    "h[-1], t[-1]"
   ]
  },
  {
   "cell_type": "markdown",
   "id": "8914c1bb-7aaa-46b7-9d76-30de5fa4b0a3",
   "metadata": {},
   "source": [
    "이것은 높이 $99.3920$m에서 낙하한 물체가 약 $4.4583$초만에 지면에\n",
    "도달했음을 의미한다. 아래의 그림은 $x$축에 $h$, $y$축에 $t$를 두고 해당\n",
    "데이터를 산점도로 시각화 한 것이다."
   ]
  },
  {
   "cell_type": "code",
   "execution_count": 28,
   "id": "4f2bc70b-5bda-4e34-a742-93a47ddeeaa8",
   "metadata": {},
   "outputs": [
    {
     "data": {
      "image/png": "[encoded data removed]",
      "text/plain": [
       "<Figure size 450x300 with 1 Axes>"
      ]
     },
     "metadata": {},
     "output_type": "display_data"
    }
   ],
   "source": [
    "plt.plot(h,t,'o',alpha=0.5)\n",
    "plt.xlabel('Height (m)')\n",
    "plt.ylabel('Time to fall (sec)')\n",
    "plt.title('Free Fall Time vs Height')\n",
    "plt.grid(True)\n",
    "plt.show()"
   ]
  },
  {
   "cell_type": "markdown",
   "id": "0338bd8d-9d2e-478c-bfa5-8f783730a8f2",
   "metadata": {},
   "source": [
    "그래프를 보면 높이가 높을 수록 낙하시간도 길어지는 경향이 관찰된다. 다만\n",
    "동일한 높이라 하더라도 낙하시간이 조금씩 차이나는 경우가 있는데, 이는\n",
    "사람이 시간측정을 수동으로 하며 발생하는 실험오차 때문이다. 이러한\n",
    "오차에도 불구하고 $h$와 $t$사이에는 일정한 규칙이 존재하는듯 하다.\n",
    "물리학과 교수님께 자문을 요청한 결과 자유낙하에 걸리는 시간은\n",
    "$\\sqrt{h}$에 비례함을 알 수 있었고 이를 근거로 아래와 같은 모형을\n",
    "설계하였다.\n",
    "\n",
    "$$t_i = \\beta_0 + \\beta_1 \\sqrt{h_i}+\\epsilon_i, \\quad \\epsilon_i \\sim {\\cal N}(0,\\sigma^2)$$\n",
    "\n",
    "위의 모형을 활용하여 높이 $h$로부터 낙하시간 $t$를 예측하는 신경망\n",
    "모델을 설계하고 학습하라. 학습한 신경망 모델을 활용하여 높이 40m,60m,80m\n",
    "에서 물체를 자유낙하 시켰을때 지면에 도달하기까지 걸리는 시간을 각각\n",
    "예측하라.\n",
    "\n",
    "(풀이)"
   ]
  },
  {
   "cell_type": "code",
   "execution_count": 30,
   "id": "e44146db-ba57-4c73-96c9-c2289b214726",
   "metadata": {},
   "outputs": [],
   "source": [
    "class FreeFallNet(torch.nn.Module):\n",
    "    def __init__(self):\n",
    "        super().__init__()\n",
    "        self.linr = torch.nn.Linear(1,1)\n",
    "    def forward(self,h):\n",
    "        netout = self.linr(torch.sqrt(h))\n",
    "        return netout    "
   ]
  },
  {
   "cell_type": "code",
   "execution_count": 31,
   "id": "4b66200e-f487-4351-8c7f-3a8cecbed405",
   "metadata": {},
   "outputs": [],
   "source": [
    "net = FreeFallNet()\n",
    "loss_fn = torch.nn.MSELoss()\n",
    "optimizr = torch.optim.Adam(net.parameters())\n",
    "#---#\n",
    "for epoc in range(10000):\n",
    "    #1\n",
    "    netout = net(h)\n",
    "    #2\n",
    "    loss = loss_fn(netout,t)\n",
    "    #3\n",
    "    loss.backward()\n",
    "    #4 \n",
    "    optimizr.step()\n",
    "    optimizr.zero_grad()"
   ]
  },
  {
   "cell_type": "code",
   "execution_count": 32,
   "id": "77bf7498-bed3-4533-ba8c-0fe0011cc1ff",
   "metadata": {},
   "outputs": [
    {
     "data": {
      "text/plain": [
       "[<matplotlib.lines.Line2D at 0x7f8ad30b6b90>]"
      ]
     },
     "execution_count": 32,
     "metadata": {},
     "output_type": "execute_result"
    },
    {
     "data": {
      "image/png": "[encoded data removed]",
      "text/plain": [
       "<Figure size 450x300 with 1 Axes>"
      ]
     },
     "metadata": {},
     "output_type": "display_data"
    }
   ],
   "source": [
    "plt.plot(h,t,'o',alpha=0.5)\n",
    "plt.xlabel('Height (m)')\n",
    "plt.ylabel('Time to fall (sec)')\n",
    "plt.title('Free Fall Time vs Height')\n",
    "plt.plot(h,net(h).data,'--')"
   ]
  },
  {
   "cell_type": "code",
   "execution_count": 33,
   "id": "0e913cfc-eab3-4452-a1a7-2b89e6a2e5b0",
   "metadata": {},
   "outputs": [
    {
     "data": {
      "text/plain": [
       "tensor([[2.0253],\n",
       "        [2.4746],\n",
       "        [2.8534],\n",
       "        [3.1872],\n",
       "        [3.4889],\n",
       "        [3.7664]], grad_fn=<AddmmBackward0>)"
      ]
     },
     "execution_count": 33,
     "metadata": {},
     "output_type": "execute_result"
    }
   ],
   "source": [
    "hh = torch.tensor([20,30,40,50,60,70]).reshape(6,1)\n",
    "net(hh)"
   ]
  },
  {
   "cell_type": "markdown",
   "id": "3dc5dda8-74ba-4eb7-8aab-3b6b06633976",
   "metadata": {},
   "source": [
    "#### B. MF-based 추천시스템 재설계"
   ]
  },
  {
   "cell_type": "markdown",
   "id": "4245cebc-9775-41ba-8234-7ae0caa2860b",
   "metadata": {},
   "source": [
    "`-` 아래의 자료를 활용하여 추천 시스템을 설계하고자 한다."
   ]
  },
  {
   "cell_type": "code",
   "execution_count": 34,
   "id": "1bbc1aac-52bb-4b2d-9c78-843185686f18",
   "metadata": {},
   "outputs": [
    {
     "data": {
      "text/html": [
       "<div>\n",
       "<style scoped>\n",
       "    .dataframe tbody tr th:only-of-type {\n",
       "        vertical-align: middle;\n",
       "    }\n",
       "\n",
       "    .dataframe tbody tr th {\n",
       "        vertical-align: top;\n",
       "    }\n",
       "\n",
       "    .dataframe thead th {\n",
       "        text-align: right;\n",
       "    }\n",
       "</style>\n",
       "<table border=\"1\" class=\"dataframe\">\n",
       "  <thead>\n",
       "    <tr style=\"text-align: right;\">\n",
       "      <th></th>\n",
       "      <th>영식(IN)</th>\n",
       "      <th>영철(IN)</th>\n",
       "      <th>영호(IS)</th>\n",
       "      <th>광수(IS)</th>\n",
       "      <th>상철(EN)</th>\n",
       "      <th>영수(EN)</th>\n",
       "      <th>규빈(ES)</th>\n",
       "      <th>다호(ES)</th>\n",
       "    </tr>\n",
       "  </thead>\n",
       "  <tbody>\n",
       "    <tr>\n",
       "      <th>옥순(IN)</th>\n",
       "      <td>NaN</td>\n",
       "      <td>4.02</td>\n",
       "      <td>3.45</td>\n",
       "      <td>3.42</td>\n",
       "      <td>0.84</td>\n",
       "      <td>1.12</td>\n",
       "      <td>0.43</td>\n",
       "      <td>0.49</td>\n",
       "    </tr>\n",
       "    <tr>\n",
       "      <th>영자(IN)</th>\n",
       "      <td>3.93</td>\n",
       "      <td>3.99</td>\n",
       "      <td>3.63</td>\n",
       "      <td>3.43</td>\n",
       "      <td>0.98</td>\n",
       "      <td>0.96</td>\n",
       "      <td>0.52</td>\n",
       "      <td>NaN</td>\n",
       "    </tr>\n",
       "    <tr>\n",
       "      <th>정숙(IS)</th>\n",
       "      <td>3.52</td>\n",
       "      <td>3.42</td>\n",
       "      <td>4.05</td>\n",
       "      <td>4.06</td>\n",
       "      <td>0.39</td>\n",
       "      <td>NaN</td>\n",
       "      <td>0.93</td>\n",
       "      <td>0.99</td>\n",
       "    </tr>\n",
       "    <tr>\n",
       "      <th>영숙(IS)</th>\n",
       "      <td>3.43</td>\n",
       "      <td>3.57</td>\n",
       "      <td>NaN</td>\n",
       "      <td>3.95</td>\n",
       "      <td>0.56</td>\n",
       "      <td>0.52</td>\n",
       "      <td>0.89</td>\n",
       "      <td>0.89</td>\n",
       "    </tr>\n",
       "    <tr>\n",
       "      <th>순자(EN)</th>\n",
       "      <td>1.12</td>\n",
       "      <td>NaN</td>\n",
       "      <td>0.59</td>\n",
       "      <td>0.43</td>\n",
       "      <td>4.01</td>\n",
       "      <td>4.16</td>\n",
       "      <td>3.52</td>\n",
       "      <td>3.38</td>\n",
       "    </tr>\n",
       "    <tr>\n",
       "      <th>현숙(EN)</th>\n",
       "      <td>0.94</td>\n",
       "      <td>1.05</td>\n",
       "      <td>0.32</td>\n",
       "      <td>0.45</td>\n",
       "      <td>4.02</td>\n",
       "      <td>3.78</td>\n",
       "      <td>NaN</td>\n",
       "      <td>3.54</td>\n",
       "    </tr>\n",
       "    <tr>\n",
       "      <th>서연(ES)</th>\n",
       "      <td>0.51</td>\n",
       "      <td>0.56</td>\n",
       "      <td>0.88</td>\n",
       "      <td>0.89</td>\n",
       "      <td>3.50</td>\n",
       "      <td>3.64</td>\n",
       "      <td>4.04</td>\n",
       "      <td>4.10</td>\n",
       "    </tr>\n",
       "    <tr>\n",
       "      <th>보람(ES)</th>\n",
       "      <td>0.48</td>\n",
       "      <td>0.51</td>\n",
       "      <td>1.03</td>\n",
       "      <td>NaN</td>\n",
       "      <td>3.52</td>\n",
       "      <td>4.00</td>\n",
       "      <td>3.82</td>\n",
       "      <td>NaN</td>\n",
       "    </tr>\n",
       "    <tr>\n",
       "      <th>하니(I)</th>\n",
       "      <td>4.85</td>\n",
       "      <td>4.82</td>\n",
       "      <td>NaN</td>\n",
       "      <td>4.98</td>\n",
       "      <td>4.53</td>\n",
       "      <td>4.39</td>\n",
       "      <td>4.45</td>\n",
       "      <td>4.52</td>\n",
       "    </tr>\n",
       "  </tbody>\n",
       "</table>\n",
       "</div>"
      ],
      "text/plain": [
       "        영식(IN)  영철(IN)  영호(IS)  광수(IS)  상철(EN)  영수(EN)  규빈(ES)  다호(ES)\n",
       "옥순(IN)     NaN    4.02    3.45    3.42    0.84    1.12    0.43    0.49\n",
       "영자(IN)    3.93    3.99    3.63    3.43    0.98    0.96    0.52     NaN\n",
       "정숙(IS)    3.52    3.42    4.05    4.06    0.39     NaN    0.93    0.99\n",
       "영숙(IS)    3.43    3.57     NaN    3.95    0.56    0.52    0.89    0.89\n",
       "순자(EN)    1.12     NaN    0.59    0.43    4.01    4.16    3.52    3.38\n",
       "현숙(EN)    0.94    1.05    0.32    0.45    4.02    3.78     NaN    3.54\n",
       "서연(ES)    0.51    0.56    0.88    0.89    3.50    3.64    4.04    4.10\n",
       "보람(ES)    0.48    0.51    1.03     NaN    3.52    4.00    3.82     NaN\n",
       "하니(I)     4.85    4.82     NaN    4.98    4.53    4.39    4.45    4.52"
      ]
     },
     "execution_count": 34,
     "metadata": {},
     "output_type": "execute_result"
    }
   ],
   "source": [
    "df_view = pd.read_csv('https://raw.githubusercontent.com/guebin/DL2024/main/posts/solo.csv',index_col=0)\n",
    "df_view"
   ]
  },
  {
   "cell_type": "markdown",
   "id": "d04640f4-d52b-453c-a21c-2e2615c74af3",
   "metadata": {},
   "source": [
    "`-` 사용자 정의 네트워크를 이용하여 MF-based 추천 시스텡을 설계하라ㅣ.\n",
    "\n",
    "`-` (풀이1) - `net(x1,x2)`"
   ]
  },
  {
   "cell_type": "code",
   "execution_count": 36,
   "id": "bf59a50e-3d41-4012-b635-90fd9714d63f",
   "metadata": {},
   "outputs": [],
   "source": [
    "#df_view\n",
    "class MFbased1(torch.nn.Module):\n",
    "    def __init__(self):\n",
    "        super().__init__()\n",
    "        self.ebdd1 = torch.nn.Embedding(9,2)\n",
    "        self.ebdd2 = torch.nn.Embedding(8,2)\n",
    "        self.b1 = torch.nn.Embedding(9,1)\n",
    "        self.b2 = torch.nn.Embedding(8,1)        \n",
    "        self.sig = torch.nn.Sigmoid()\n",
    "    def forward(self,x1,x2):\n",
    "        W_features = self.ebdd1(x1) \n",
    "        M_features = self.ebdd2(x2) \n",
    "        W_bias = self.b1(x1)\n",
    "        M_bais = self.b2(x2)\n",
    "        yhat = self.sig((W_features * M_features).sum(axis=1).reshape(-1,1) + W_bias + M_bais)*5        \n",
    "        return yhat\n",
    "net = MFbased1()\n",
    "loss_fn = torch.nn.MSELoss() \n",
    "optimizr = torch.optim.Adam(net.parameters())\n",
    "#----#\n",
    "for epoc in range(10000):\n",
    "    #step1\n",
    "    yhat = net(x1,x2)\n",
    "    #step2\n",
    "    loss = loss_fn(yhat,y)\n",
    "    #step3\n",
    "    loss.backward()\n",
    "    #step4\n",
    "    optimizr.step()\n",
    "    optimizr.zero_grad()"
   ]
  },
  {
   "cell_type": "code",
   "execution_count": 37,
   "id": "2861fbd0-7424-4975-9660-6029c6f45100",
   "metadata": {},
   "outputs": [
    {
     "data": {
      "text/plain": [
       "(tensor([[4.0200],\n",
       "         [3.4500],\n",
       "         [3.4200],\n",
       "         [0.8400],\n",
       "         [1.1200]]),\n",
       " tensor([[4.0800],\n",
       "         [3.4664],\n",
       "         [3.3650],\n",
       "         [0.9111],\n",
       "         [0.9538]], grad_fn=<SliceBackward0>))"
      ]
     },
     "execution_count": 37,
     "metadata": {},
     "output_type": "execute_result"
    }
   ],
   "source": [
    "y[:5], yhat[:5]"
   ]
  },
  {
   "cell_type": "markdown",
   "id": "0a337deb-aa9a-4cbd-93f2-fc8899933790",
   "metadata": {},
   "source": [
    "`-` (풀이2) - `net(X)`"
   ]
  },
  {
   "cell_type": "code",
   "execution_count": 38,
   "id": "50841c70-9103-4dc2-bd08-d6f260c94663",
   "metadata": {},
   "outputs": [],
   "source": [
    "X = torch.stack([x1,x2],axis=1) "
   ]
  },
  {
   "cell_type": "code",
   "execution_count": 39,
   "id": "25998885-1d1d-4039-9d56-c635e61140eb",
   "metadata": {},
   "outputs": [],
   "source": [
    "class MFbased2(torch.nn.Module):\n",
    "    def __init__(self):\n",
    "        super().__init__()\n",
    "        self.ebdd1 = torch.nn.Embedding(9,2)\n",
    "        self.ebdd2 = torch.nn.Embedding(8,2)\n",
    "        self.b1 = torch.nn.Embedding(9,1)\n",
    "        self.b2 = torch.nn.Embedding(8,1)        \n",
    "        self.sig = torch.nn.Sigmoid()\n",
    "    def forward(self,X):\n",
    "        x1 = X[:,0]\n",
    "        x2 = X[:,1]\n",
    "        W_features = self.ebdd1(x1) \n",
    "        M_features = self.ebdd2(x2) \n",
    "        W_bias = self.b1(x1)\n",
    "        M_bais = self.b2(x2)\n",
    "        yhat = self.sig((W_features * M_features).sum(axis=1).reshape(-1,1) + W_bias + M_bais)*5        \n",
    "        return yhat\n",
    "net = MFbased2()\n",
    "loss_fn = torch.nn.MSELoss() \n",
    "optimizr = torch.optim.Adam(net.parameters())\n",
    "#----#\n",
    "for epoc in range(10000):\n",
    "    #step1\n",
    "    yhat = net(X)\n",
    "    #step2\n",
    "    loss = loss_fn(yhat,y)\n",
    "    #step3\n",
    "    loss.backward()\n",
    "    #step4\n",
    "    optimizr.step()\n",
    "    optimizr.zero_grad()"
   ]
  },
  {
   "cell_type": "code",
   "execution_count": 40,
   "id": "cea06764-5c66-4f29-9c8a-12ea1503a607",
   "metadata": {},
   "outputs": [
    {
     "data": {
      "text/plain": [
       "(tensor([[4.0200],\n",
       "         [3.4500],\n",
       "         [3.4200],\n",
       "         [0.8400],\n",
       "         [1.1200]]),\n",
       " tensor([[4.0802],\n",
       "         [3.4664],\n",
       "         [3.3653],\n",
       "         [0.9109],\n",
       "         [0.9541]], grad_fn=<SliceBackward0>))"
      ]
     },
     "execution_count": 40,
     "metadata": {},
     "output_type": "execute_result"
    }
   ],
   "source": [
    "y[:5], yhat[:5]"
   ]
  },
  {
   "cell_type": "markdown",
   "id": "fad0ee89-4c47-402d-a33a-0a93a9ce8a70",
   "metadata": {},
   "source": [
    "### 4. MF-based 추천시스텡을 넘어서\n",
    "\n",
    "#### A. NN-based 방식\n",
    "\n",
    "`-` 아래의 자료를 활용하여 추천시스템을 설계하고자 한다."
   ]
  },
  {
   "cell_type": "code",
   "execution_count": 41,
   "id": "5a07f189-7518-4db7-a681-9dc5e4d6285e",
   "metadata": {},
   "outputs": [
    {
     "data": {
      "text/html": [
       "<div>\n",
       "<style scoped>\n",
       "    .dataframe tbody tr th:only-of-type {\n",
       "        vertical-align: middle;\n",
       "    }\n",
       "\n",
       "    .dataframe tbody tr th {\n",
       "        vertical-align: top;\n",
       "    }\n",
       "\n",
       "    .dataframe thead th {\n",
       "        text-align: right;\n",
       "    }\n",
       "</style>\n",
       "<table border=\"1\" class=\"dataframe\">\n",
       "  <thead>\n",
       "    <tr style=\"text-align: right;\">\n",
       "      <th></th>\n",
       "      <th>영식(IN)</th>\n",
       "      <th>영철(IN)</th>\n",
       "      <th>영호(IS)</th>\n",
       "      <th>광수(IS)</th>\n",
       "      <th>상철(EN)</th>\n",
       "      <th>영수(EN)</th>\n",
       "      <th>규빈(ES)</th>\n",
       "      <th>다호(ES)</th>\n",
       "    </tr>\n",
       "  </thead>\n",
       "  <tbody>\n",
       "    <tr>\n",
       "      <th>옥순(IN)</th>\n",
       "      <td>NaN</td>\n",
       "      <td>4.02</td>\n",
       "      <td>3.45</td>\n",
       "      <td>3.42</td>\n",
       "      <td>0.84</td>\n",
       "      <td>1.12</td>\n",
       "      <td>0.43</td>\n",
       "      <td>0.49</td>\n",
       "    </tr>\n",
       "    <tr>\n",
       "      <th>영자(IN)</th>\n",
       "      <td>3.93</td>\n",
       "      <td>3.99</td>\n",
       "      <td>3.63</td>\n",
       "      <td>3.43</td>\n",
       "      <td>0.98</td>\n",
       "      <td>0.96</td>\n",
       "      <td>0.52</td>\n",
       "      <td>NaN</td>\n",
       "    </tr>\n",
       "    <tr>\n",
       "      <th>정숙(IS)</th>\n",
       "      <td>3.52</td>\n",
       "      <td>3.42</td>\n",
       "      <td>4.05</td>\n",
       "      <td>4.06</td>\n",
       "      <td>0.39</td>\n",
       "      <td>NaN</td>\n",
       "      <td>0.93</td>\n",
       "      <td>0.99</td>\n",
       "    </tr>\n",
       "    <tr>\n",
       "      <th>영숙(IS)</th>\n",
       "      <td>3.43</td>\n",
       "      <td>3.57</td>\n",
       "      <td>NaN</td>\n",
       "      <td>3.95</td>\n",
       "      <td>0.56</td>\n",
       "      <td>0.52</td>\n",
       "      <td>0.89</td>\n",
       "      <td>0.89</td>\n",
       "    </tr>\n",
       "    <tr>\n",
       "      <th>순자(EN)</th>\n",
       "      <td>1.12</td>\n",
       "      <td>NaN</td>\n",
       "      <td>0.59</td>\n",
       "      <td>0.43</td>\n",
       "      <td>4.01</td>\n",
       "      <td>4.16</td>\n",
       "      <td>3.52</td>\n",
       "      <td>3.38</td>\n",
       "    </tr>\n",
       "    <tr>\n",
       "      <th>현숙(EN)</th>\n",
       "      <td>0.94</td>\n",
       "      <td>1.05</td>\n",
       "      <td>0.32</td>\n",
       "      <td>0.45</td>\n",
       "      <td>4.02</td>\n",
       "      <td>3.78</td>\n",
       "      <td>NaN</td>\n",
       "      <td>3.54</td>\n",
       "    </tr>\n",
       "    <tr>\n",
       "      <th>서연(ES)</th>\n",
       "      <td>0.51</td>\n",
       "      <td>0.56</td>\n",
       "      <td>0.88</td>\n",
       "      <td>0.89</td>\n",
       "      <td>3.50</td>\n",
       "      <td>3.64</td>\n",
       "      <td>4.04</td>\n",
       "      <td>4.10</td>\n",
       "    </tr>\n",
       "    <tr>\n",
       "      <th>보람(ES)</th>\n",
       "      <td>0.48</td>\n",
       "      <td>0.51</td>\n",
       "      <td>1.03</td>\n",
       "      <td>NaN</td>\n",
       "      <td>3.52</td>\n",
       "      <td>4.00</td>\n",
       "      <td>3.82</td>\n",
       "      <td>NaN</td>\n",
       "    </tr>\n",
       "    <tr>\n",
       "      <th>하니(I)</th>\n",
       "      <td>4.85</td>\n",
       "      <td>4.82</td>\n",
       "      <td>NaN</td>\n",
       "      <td>4.98</td>\n",
       "      <td>4.53</td>\n",
       "      <td>4.39</td>\n",
       "      <td>4.45</td>\n",
       "      <td>4.52</td>\n",
       "    </tr>\n",
       "  </tbody>\n",
       "</table>\n",
       "</div>"
      ],
      "text/plain": [
       "        영식(IN)  영철(IN)  영호(IS)  광수(IS)  상철(EN)  영수(EN)  규빈(ES)  다호(ES)\n",
       "옥순(IN)     NaN    4.02    3.45    3.42    0.84    1.12    0.43    0.49\n",
       "영자(IN)    3.93    3.99    3.63    3.43    0.98    0.96    0.52     NaN\n",
       "정숙(IS)    3.52    3.42    4.05    4.06    0.39     NaN    0.93    0.99\n",
       "영숙(IS)    3.43    3.57     NaN    3.95    0.56    0.52    0.89    0.89\n",
       "순자(EN)    1.12     NaN    0.59    0.43    4.01    4.16    3.52    3.38\n",
       "현숙(EN)    0.94    1.05    0.32    0.45    4.02    3.78     NaN    3.54\n",
       "서연(ES)    0.51    0.56    0.88    0.89    3.50    3.64    4.04    4.10\n",
       "보람(ES)    0.48    0.51    1.03     NaN    3.52    4.00    3.82     NaN\n",
       "하니(I)     4.85    4.82     NaN    4.98    4.53    4.39    4.45    4.52"
      ]
     },
     "execution_count": 41,
     "metadata": {},
     "output_type": "execute_result"
    }
   ],
   "source": [
    "df_view = pd.read_csv('https://raw.githubusercontent.com/guebin/DL2025/main/posts/iamsolo.csv',index_col=0)\n",
    "df_view"
   ]
  },
  {
   "cell_type": "code",
   "execution_count": 42,
   "id": "5d298e5f-b66c-4003-80ce-2e911751adba",
   "metadata": {},
   "outputs": [],
   "source": [
    "#df_view\n",
    "df_train = df_view.stack().reset_index().set_axis(['여성출연자','남성출연자','궁합점수'],axis=1)\n",
    "여성인덱스 = {'옥순(IN)':0, '영자(IN)':1, '정숙(IS)':2, '영숙(IS)':3, '순자(EN)':4, '현숙(EN)':5, '서연(ES)':6, '보람(ES)':7, '하니(I)':8}\n",
    "남성인덱스 = {'영식(IN)':0, '영철(IN)':1, '영호(IS)':2, '광수(IS)':3, '상철(EN)':4, '영수(EN)':5, '규빈(ES)':6, '다호(ES)':7}\n",
    "x1 = torch.tensor(df_train.여성출연자.map(여성인덱스))\n",
    "x2 = torch.tensor(df_train.남성출연자.map(남성인덱스))\n",
    "y = torch.tensor(df_train.궁합점수).reshape(-1,1).float()"
   ]
  },
  {
   "cell_type": "markdown",
   "id": "8e50947d-41a7-4e4a-8cca-a8736d6ba49c",
   "metadata": {},
   "source": [
    "`-` NN-based 추천시스템을 설계하라.\n",
    "\n",
    "`-` (풀이1) - 실패"
   ]
  },
  {
   "cell_type": "code",
   "execution_count": 43,
   "id": "bd6c4d89-2259-4b70-ad6a-6c71ac05f8c8",
   "metadata": {},
   "outputs": [],
   "source": [
    "class NNbased1(torch.nn.Module):\n",
    "    def __init__(self):\n",
    "        super().__init__()\n",
    "        #--#\n",
    "        self.ebdd1 = torch.nn.Embedding(9,2)\n",
    "        self.ebdd2 = torch.nn.Embedding(8,2)\n",
    "        self.b1 = torch.nn.Embedding(9,1)\n",
    "        self.b2 = torch.nn.Embedding(8,1)\n",
    "        self.sig = torch.nn.Sigmoid()\n",
    "        self.mlp = torch.nn.Sequential(\n",
    "            torch.nn.Linear(6,1),\n",
    "            torch.nn.Sigmoid()\n",
    "        )\n",
    "    def forward(self,x1,x2):\n",
    "        W_feature = self.ebdd1(x1)\n",
    "        W_bias = self.b1(x1)\n",
    "        M_feature = self.ebdd2(x2)\n",
    "        M_bias = self.b2(x2)\n",
    "        #yhat = sig((W_feature * M_feature).sum(axis=1).reshape(-1,1) + W_bias + M_bias ) * 5 \n",
    "        Z = torch.concat([W_feature, M_feature, W_bias, M_bias],axis=1)\n",
    "        yhat = self.mlp(Z) * 5 \n",
    "        return yhat"
   ]
  },
  {
   "cell_type": "code",
   "execution_count": 44,
   "id": "9dc665f6-cb17-4342-8943-261ae836439a",
   "metadata": {},
   "outputs": [],
   "source": [
    "net = NNbased1()\n",
    "loss_fn = torch.nn.MSELoss()\n",
    "optimizr = torch.optim.Adam(net.parameters(),lr=0.1) # 이게 편해요!!\n",
    "#--# \n",
    "for epoc in range(5000):\n",
    "    # 1\n",
    "    yhat = net(x1,x2) \n",
    "    # 2\n",
    "    loss = loss_fn(yhat,y)\n",
    "    # 3 \n",
    "    loss.backward()\n",
    "    # 4 \n",
    "    optimizr.step()\n",
    "    optimizr.zero_grad()"
   ]
  },
  {
   "cell_type": "code",
   "execution_count": 45,
   "id": "30892306-68b7-4efc-a3bc-e67951ac4e8b",
   "metadata": {},
   "outputs": [
    {
     "data": {
      "text/plain": [
       "(tensor([[2.1512],\n",
       "         [1.6313],\n",
       "         [2.0479],\n",
       "         [1.9033],\n",
       "         [2.3079]], grad_fn=<SliceBackward0>),\n",
       " tensor([[4.0200],\n",
       "         [3.4500],\n",
       "         [3.4200],\n",
       "         [0.8400],\n",
       "         [1.1200]]))"
      ]
     },
     "execution_count": 45,
     "metadata": {},
     "output_type": "execute_result"
    }
   ],
   "source": [
    "yhat[:5], y[:5]"
   ]
  },
  {
   "cell_type": "markdown",
   "id": "d680b362-ee8a-43db-a2ca-70f41fafb895",
   "metadata": {},
   "source": [
    "`-` (풀이2) - 모르겠다..그냥 깊은 신경망"
   ]
  },
  {
   "cell_type": "code",
   "execution_count": 46,
   "id": "f94932a9-7337-4e2e-b20c-faa98345a6f3",
   "metadata": {},
   "outputs": [],
   "source": [
    "class NNbased2(torch.nn.Module):\n",
    "    def __init__(self):\n",
    "        super().__init__()\n",
    "        #--#\n",
    "        self.ebdd1 = torch.nn.Embedding(9,2)\n",
    "        self.ebdd2 = torch.nn.Embedding(8,2)\n",
    "        self.b1 = torch.nn.Embedding(9,1)\n",
    "        self.b2 = torch.nn.Embedding(8,1)\n",
    "        self.sig = torch.nn.Sigmoid()\n",
    "        self.mlp = torch.nn.Sequential(\n",
    "            torch.nn.Linear(6,15),\n",
    "            torch.nn.ReLU(),\n",
    "            torch.nn.Linear(15,1),\n",
    "            torch.nn.Sigmoid()\n",
    "        )\n",
    "    def forward(self,x1,x2):\n",
    "        W_feature = self.ebdd1(x1)\n",
    "        W_bias = self.b1(x1)\n",
    "        M_feature = self.ebdd2(x2)\n",
    "        M_bias = self.b2(x2)\n",
    "        #yhat = sig((W_feature * M_feature).sum(axis=1).reshape(-1,1) + W_bias + M_bias ) * 5 \n",
    "        Z = torch.concat([W_feature, M_feature, W_bias, M_bias],axis=1)\n",
    "        yhat = self.mlp(Z) * 5 \n",
    "        return yhat"
   ]
  },
  {
   "cell_type": "code",
   "execution_count": 48,
   "id": "8e8d9c54-5605-4dd3-bb8e-3360fb00a2b5",
   "metadata": {},
   "outputs": [],
   "source": [
    "net = NNbased2()\n",
    "loss_fn = torch.nn.MSELoss()\n",
    "optimizr = torch.optim.Adam(net.parameters(),lr=0.1)\n",
    "#--# \n",
    "for epoc in range(3000):\n",
    "    # 1\n",
    "    yhat = net(x1,x2) \n",
    "    # 2\n",
    "    loss = loss_fn(yhat,y)\n",
    "    # 3 \n",
    "    loss.backward()\n",
    "    # 4 \n",
    "    optimizr.step()\n",
    "    optimizr.zero_grad()"
   ]
  },
  {
   "cell_type": "code",
   "execution_count": 49,
   "id": "b8b4f3f8-ab21-43e4-a4d2-f61878e84c44",
   "metadata": {},
   "outputs": [
    {
     "data": {
      "text/plain": [
       "(tensor([[3.9680],\n",
       "         [3.3709],\n",
       "         [3.3554],\n",
       "         [0.8289],\n",
       "         [1.0926],\n",
       "         [0.4222],\n",
       "         [0.4800],\n",
       "         [3.8769],\n",
       "         [3.9545],\n",
       "         [3.5631]], grad_fn=<SliceBackward0>),\n",
       " tensor([[4.0200],\n",
       "         [3.4500],\n",
       "         [3.4200],\n",
       "         [0.8400],\n",
       "         [1.1200],\n",
       "         [0.4300],\n",
       "         [0.4900],\n",
       "         [3.9300],\n",
       "         [3.9900],\n",
       "         [3.6300]]))"
      ]
     },
     "execution_count": 49,
     "metadata": {},
     "output_type": "execute_result"
    }
   ],
   "source": [
    "yhat[:10], y[:10]"
   ]
  },
  {
   "cell_type": "markdown",
   "id": "329d01c5-9cb5-451e-a2c8-7e83e99d9d5e",
   "metadata": {},
   "source": [
    "`-` *(옥순-영식), (영자-다호), (하니-영호) 를 예측해보자.*"
   ]
  },
  {
   "cell_type": "code",
   "execution_count": 50,
   "id": "21619f37-a31b-4980-b44e-3d229dc78b53",
   "metadata": {},
   "outputs": [
    {
     "data": {
      "text/html": [
       "<div>\n",
       "<style scoped>\n",
       "    .dataframe tbody tr th:only-of-type {\n",
       "        vertical-align: middle;\n",
       "    }\n",
       "\n",
       "    .dataframe tbody tr th {\n",
       "        vertical-align: top;\n",
       "    }\n",
       "\n",
       "    .dataframe thead th {\n",
       "        text-align: right;\n",
       "    }\n",
       "</style>\n",
       "<table border=\"1\" class=\"dataframe\">\n",
       "  <thead>\n",
       "    <tr style=\"text-align: right;\">\n",
       "      <th></th>\n",
       "      <th>영식(IN)</th>\n",
       "      <th>영철(IN)</th>\n",
       "      <th>영호(IS)</th>\n",
       "      <th>광수(IS)</th>\n",
       "      <th>상철(EN)</th>\n",
       "      <th>영수(EN)</th>\n",
       "      <th>규빈(ES)</th>\n",
       "      <th>다호(ES)</th>\n",
       "    </tr>\n",
       "  </thead>\n",
       "  <tbody>\n",
       "    <tr>\n",
       "      <th>옥순(IN)</th>\n",
       "      <td>NaN</td>\n",
       "      <td>4.02</td>\n",
       "      <td>3.45</td>\n",
       "      <td>3.42</td>\n",
       "      <td>0.84</td>\n",
       "      <td>1.12</td>\n",
       "      <td>0.43</td>\n",
       "      <td>0.49</td>\n",
       "    </tr>\n",
       "    <tr>\n",
       "      <th>영자(IN)</th>\n",
       "      <td>3.93</td>\n",
       "      <td>3.99</td>\n",
       "      <td>3.63</td>\n",
       "      <td>3.43</td>\n",
       "      <td>0.98</td>\n",
       "      <td>0.96</td>\n",
       "      <td>0.52</td>\n",
       "      <td>NaN</td>\n",
       "    </tr>\n",
       "    <tr>\n",
       "      <th>정숙(IS)</th>\n",
       "      <td>3.52</td>\n",
       "      <td>3.42</td>\n",
       "      <td>4.05</td>\n",
       "      <td>4.06</td>\n",
       "      <td>0.39</td>\n",
       "      <td>NaN</td>\n",
       "      <td>0.93</td>\n",
       "      <td>0.99</td>\n",
       "    </tr>\n",
       "    <tr>\n",
       "      <th>영숙(IS)</th>\n",
       "      <td>3.43</td>\n",
       "      <td>3.57</td>\n",
       "      <td>NaN</td>\n",
       "      <td>3.95</td>\n",
       "      <td>0.56</td>\n",
       "      <td>0.52</td>\n",
       "      <td>0.89</td>\n",
       "      <td>0.89</td>\n",
       "    </tr>\n",
       "    <tr>\n",
       "      <th>순자(EN)</th>\n",
       "      <td>1.12</td>\n",
       "      <td>NaN</td>\n",
       "      <td>0.59</td>\n",
       "      <td>0.43</td>\n",
       "      <td>4.01</td>\n",
       "      <td>4.16</td>\n",
       "      <td>3.52</td>\n",
       "      <td>3.38</td>\n",
       "    </tr>\n",
       "    <tr>\n",
       "      <th>현숙(EN)</th>\n",
       "      <td>0.94</td>\n",
       "      <td>1.05</td>\n",
       "      <td>0.32</td>\n",
       "      <td>0.45</td>\n",
       "      <td>4.02</td>\n",
       "      <td>3.78</td>\n",
       "      <td>NaN</td>\n",
       "      <td>3.54</td>\n",
       "    </tr>\n",
       "    <tr>\n",
       "      <th>서연(ES)</th>\n",
       "      <td>0.51</td>\n",
       "      <td>0.56</td>\n",
       "      <td>0.88</td>\n",
       "      <td>0.89</td>\n",
       "      <td>3.50</td>\n",
       "      <td>3.64</td>\n",
       "      <td>4.04</td>\n",
       "      <td>4.10</td>\n",
       "    </tr>\n",
       "    <tr>\n",
       "      <th>보람(ES)</th>\n",
       "      <td>0.48</td>\n",
       "      <td>0.51</td>\n",
       "      <td>1.03</td>\n",
       "      <td>NaN</td>\n",
       "      <td>3.52</td>\n",
       "      <td>4.00</td>\n",
       "      <td>3.82</td>\n",
       "      <td>NaN</td>\n",
       "    </tr>\n",
       "    <tr>\n",
       "      <th>하니(I)</th>\n",
       "      <td>4.85</td>\n",
       "      <td>4.82</td>\n",
       "      <td>NaN</td>\n",
       "      <td>4.98</td>\n",
       "      <td>4.53</td>\n",
       "      <td>4.39</td>\n",
       "      <td>4.45</td>\n",
       "      <td>4.52</td>\n",
       "    </tr>\n",
       "  </tbody>\n",
       "</table>\n",
       "</div>"
      ],
      "text/plain": [
       "        영식(IN)  영철(IN)  영호(IS)  광수(IS)  상철(EN)  영수(EN)  규빈(ES)  다호(ES)\n",
       "옥순(IN)     NaN    4.02    3.45    3.42    0.84    1.12    0.43    0.49\n",
       "영자(IN)    3.93    3.99    3.63    3.43    0.98    0.96    0.52     NaN\n",
       "정숙(IS)    3.52    3.42    4.05    4.06    0.39     NaN    0.93    0.99\n",
       "영숙(IS)    3.43    3.57     NaN    3.95    0.56    0.52    0.89    0.89\n",
       "순자(EN)    1.12     NaN    0.59    0.43    4.01    4.16    3.52    3.38\n",
       "현숙(EN)    0.94    1.05    0.32    0.45    4.02    3.78     NaN    3.54\n",
       "서연(ES)    0.51    0.56    0.88    0.89    3.50    3.64    4.04    4.10\n",
       "보람(ES)    0.48    0.51    1.03     NaN    3.52    4.00    3.82     NaN\n",
       "하니(I)     4.85    4.82     NaN    4.98    4.53    4.39    4.45    4.52"
      ]
     },
     "execution_count": 50,
     "metadata": {},
     "output_type": "execute_result"
    }
   ],
   "source": [
    "df_view"
   ]
  },
  {
   "cell_type": "code",
   "execution_count": 52,
   "id": "940ffc00-8eb3-45bd-8462-0313895f55a5",
   "metadata": {},
   "outputs": [],
   "source": [
    "xx1 = torch.tensor([0,1,8])\n",
    "xx2 = torch.tensor([0,7,2])"
   ]
  },
  {
   "cell_type": "code",
   "execution_count": 53,
   "id": "6f0e4ec3-ae8f-4bcf-8fa0-91c4bdd3223c",
   "metadata": {},
   "outputs": [
    {
     "data": {
      "text/plain": [
       "tensor([[4.0041],\n",
       "        [0.6030],\n",
       "        [4.9861]], grad_fn=<MulBackward0>)"
      ]
     },
     "execution_count": 53,
     "metadata": {},
     "output_type": "execute_result"
    }
   ],
   "source": [
    "net(xx1,xx2)"
   ]
  },
  {
   "cell_type": "markdown",
   "id": "1102c549-e48e-4c82-8c40-a4aed95f10ef",
   "metadata": {},
   "source": [
    "#### B. NCF (He et al. 2017)\n",
    "\n",
    "`-` MF-based와 NN-base를 합친것\n",
    "\n",
    "![](https://github.com/guebin/DL2024/blob/main/posts/NCF.png?raw=true)\n",
    "\n",
    "#### Appendix – 선택학습\n",
    "\n",
    "`-` 의문 : 그냥 원핫인코딩없이 바로 선형변환하면 안되나? (= 꼭\n",
    "임베딩레이어를 써야하나?)"
   ]
  },
  {
   "cell_type": "code",
   "execution_count": 54,
   "id": "d37fefbd-2620-4ca5-9dc5-7c13071553e1",
   "metadata": {},
   "outputs": [
    {
     "data": {
      "text/plain": [
       "(tensor([0, 1, 2, 0, 1]),\n",
       " tensor([[0.],\n",
       "         [1.],\n",
       "         [2.],\n",
       "         [0.],\n",
       "         [1.]]))"
      ]
     },
     "execution_count": 54,
     "metadata": {},
     "output_type": "execute_result"
    }
   ],
   "source": [
    "x = torch.tensor([0,1,2,0,1])\n",
    "X = x.reshape(-1,1).float()\n",
    "x,X"
   ]
  },
  {
   "cell_type": "code",
   "execution_count": 55,
   "id": "724c7b45-ae95-4400-bafd-f70a60d18108",
   "metadata": {},
   "outputs": [
    {
     "data": {
      "text/plain": [
       "tensor([[-0.8470],\n",
       "        [-1.1937],\n",
       "        [-1.5404],\n",
       "        [-0.8470],\n",
       "        [-1.1937]], grad_fn=<AddmmBackward0>)"
      ]
     },
     "execution_count": 55,
     "metadata": {},
     "output_type": "execute_result"
    }
   ],
   "source": [
    "torch.manual_seed(43052)\n",
    "l1 = torch.nn.Linear(1,1)\n",
    "l1(X)"
   ]
  },
  {
   "cell_type": "code",
   "execution_count": 56,
   "id": "a1088886-25de-4b23-ac7d-4c8ca13bc040",
   "metadata": {},
   "outputs": [
    {
     "data": {
      "text/plain": [
       "tensor([[-0.8178],\n",
       "        [-0.7052],\n",
       "        [-0.5843],\n",
       "        [-0.8178],\n",
       "        [-0.7052]], grad_fn=<EmbeddingBackward0>)"
      ]
     },
     "execution_count": 56,
     "metadata": {},
     "output_type": "execute_result"
    }
   ],
   "source": [
    "torch.manual_seed(43052)\n",
    "ebdd = torch.nn.Embedding(3,1) \n",
    "ebdd(x)"
   ]
  },
  {
   "cell_type": "markdown",
   "id": "66d18340-9d86-4d03-96da-dad519a6bafa",
   "metadata": {},
   "source": [
    "`-` 결과적으로 0,1,2 를 다른숫자들로 맵핑한건 비슷해 보임\n",
    "\n",
    "`-` 수식의 차이: 비슷해보이지만 계산방식이 조금 다름"
   ]
  },
  {
   "cell_type": "code",
   "execution_count": 57,
   "id": "56f16ecd-d9e9-48f7-bf96-55dbb947e0ed",
   "metadata": {},
   "outputs": [
    {
     "data": {
      "text/plain": [
       "(Parameter containing:\n",
       " tensor([[-0.3467]], requires_grad=True),\n",
       " Parameter containing:\n",
       " tensor([-0.8470], requires_grad=True))"
      ]
     },
     "execution_count": 57,
     "metadata": {},
     "output_type": "execute_result"
    }
   ],
   "source": [
    "l1.weight, l1.bias"
   ]
  },
  {
   "cell_type": "markdown",
   "id": "04705d6e-1dd9-408c-9b5b-ec2922e4066f",
   "metadata": {},
   "source": [
    "-   $l_1({\\bf X}) = \\begin{bmatrix} 0 \\\\ 1 \\\\ 2 \\\\ 0 \\\\ 1 \\end{bmatrix} \\times (-0.3467) + (-0.8470)=\\begin{bmatrix} -0.8470 \\\\ -1.1937 \\\\ -1.5404 \\\\ -0.8470 \\\\ -1.1937 \\end{bmatrix}$\n",
    "\n",
    "-   $\\text{ebdd}({\\boldsymbol x})= \\text{linr}\\big(\\text{onehot}({\\boldsymbol x})\\big) = \\begin{bmatrix} 1 & 0 & 0 \\\\ 0 & 1 & 0 \\\\ 0 & 0 & 1 \\\\ 1 & 0 & 0 \\\\ 0 & 1 & 0 \\end{bmatrix}\\begin{bmatrix} -0.8178 \\\\ -0.7052 \\\\ -0.5843 \\end{bmatrix} = \\begin{bmatrix} -0.8178 \\\\ -0.7052 \\\\ -0.5843 \\\\ -0.8178 \\\\ -0.7052 \\end{bmatrix}$\n",
    "\n",
    "`-` 데이터를 읽으며 해석: 사실상 0,1,2에 대한 의미는\n",
    "“옥순”,“영숙”,“하니” 같은 자료였고, 임베딩의 결과는\n",
    "“옥순”,“영숙”,“하니”가 가지는 어떠한 특징이었음 (예를들면 매력같은).\n",
    "데이터를 상상하며 위의 결과를 다시 해석해보자.\n",
    "\n",
    "**옥순이 가지는 어떠한 특징 (-0.8470 혹은 -0.8178) 을 바꾸고 싶다면?**\n",
    "\n",
    "-   `ebdd`의 경우: `ebdd.weigth`에 있는 -0.8178 이라는 숫자를 조정하면\n",
    "    된다. 이 조정은 옥순의 특징만 바꾸며 영숙과 하니의 특징은 바꾸지\n",
    "    않는다. (개별조정이 쉬움)\n",
    "-   `linr`의 경우: `linr.weight`에 있는 -0.3467 혹은 `linr.bias`에 있는\n",
    "    -0.8470 을 조정하면 되는데, 이를 조정하면 옥순의 특징을 바꿈과\n",
    "    동시에 영숙/하니의 특징까지 같이 바뀌게 된다. (개별조정이 어려움)\n",
    "\n",
    "**만약에 출연자가 1000명이라면??**\n",
    "\n",
    "-   `linr`의 경우: 1000명의 특징을 단 2개의 파라메터로 조정해야한다.\n",
    "    (그리고 한명의 특징을 바꾸면 999명의 특징이 같이 바뀐다, 개별조정은\n",
    "    애초에 가능하지 않음.)\n",
    "-   `ebdd`의 경우: 1000개의 특징을 조정할 수 있는 1000개의 파라메터를\n",
    "    확보할 수 있게 된다.\n",
    "\n",
    "`-` 결론: ebdd가 더 파라메터 미세조정을 통하여 특징을 학습하기 용이하다.\n",
    "(독립적으로 특징값을 줄 수 있으니까!)\n",
    "\n",
    "> 만약에 문자열이 “최우수(A)”, “우수(B)”, “보통(C)”, “미흡(D)”,\n",
    "> “매우미흡(F)” 이었다면 특징을 뽑아낼때 linr 가 더 적절했겠죠?\n",
    "\n",
    "He, Xiangnan, Lizi Liao, Hanwang Zhang, Liqiang Nie, Xia Hu, and\n",
    "Tat-Seng Chua. 2017. “Neural Collaborative Filtering.” In *Proceedings\n",
    "of the 26th International Conference on World Wide Web*, 173–82."
   ]
  }
 ],
 "metadata": {
  "kernelspec": {
   "display_name": "Python 3 (ipykernel)",
   "language": "python",
   "name": "python3"
  },
  "language_info": {
   "codemirror_mode": {
    "name": "ipython",
    "version": 3
   },
   "file_extension": ".py",
   "mimetype": "text/x-python",
   "name": "python",
   "nbconvert_exporter": "python",
   "pygments_lexer": "ipython3",
   "version": "3.10.12"
  }
 },
 "nbformat": 4,
 "nbformat_minor": 5
}
