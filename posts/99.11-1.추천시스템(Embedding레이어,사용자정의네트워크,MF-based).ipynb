{
 "cells": [
  {
   "cell_type": "raw",
   "id": "46f0d1e6-1c1a-4d5c-bbfb-4039ca0644ae",
   "metadata": {},
   "source": [
    "---\n",
    "title: \"11-1. 추천시스템(Embedding 레이어, 사용자정의  네트워크, MF-based)\"\n",
    "author: \"이상민\"\n",
    "date: \"05/18/2025\"\n",
    "---"
   ]
  },
  {
   "cell_type": "markdown",
   "id": "e0461c0f-cb11-4d55-8d10-d242f1464495",
   "metadata": {},
   "source": [
    "### 1. imports"
   ]
  },
  {
   "cell_type": "code",
   "execution_count": 1,
   "id": "5710d8e2-423d-44f9-8e95-18f8f6f4b299",
   "metadata": {},
   "outputs": [],
   "source": [
    "import torch\n",
    "import pandas as pd\n",
    "import matplotlib.pyplot as plt"
   ]
  },
  {
   "cell_type": "code",
   "execution_count": 2,
   "id": "29242cc7-701c-4cc5-a068-89225db11cb4",
   "metadata": {},
   "outputs": [],
   "source": [
    "plt.rcParams['figure.figsize'] = (4.5, 3.0)"
   ]
  },
  {
   "cell_type": "markdown",
   "id": "5a421043-7b77-4f69-a070-fdcad7753161",
   "metadata": {},
   "source": [
    "### 2. torch.nn.Embedding"
   ]
  },
  {
   "cell_type": "code",
   "execution_count": null,
   "id": "ef65a14b-bd99-465e-b8f6-5496819e39f1",
   "metadata": {},
   "outputs": [],
   "source": []
  }
 ],
 "metadata": {
  "kernelspec": {
   "display_name": "Python 3 (ipykernel)",
   "language": "python",
   "name": "python3"
  },
  "language_info": {
   "codemirror_mode": {
    "name": "ipython",
    "version": 3
   },
   "file_extension": ".py",
   "mimetype": "text/x-python",
   "name": "python",
   "nbconvert_exporter": "python",
   "pygments_lexer": "ipython3",
   "version": "3.10.12"
  }
 },
 "nbformat": 4,
 "nbformat_minor": 5
}
