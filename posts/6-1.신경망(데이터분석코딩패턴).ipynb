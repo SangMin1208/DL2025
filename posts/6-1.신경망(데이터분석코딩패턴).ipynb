{
 "cells": [
  {
   "cell_type": "raw",
   "id": "c86206c2-48a2-4f17-84fe-b387e1490975",
   "metadata": {},
   "source": [
    "---\n",
    "title: \"6-1. 신경망(데이터분석 코딩패턴)\"\n",
    "author: \"이상민\"\n",
    "date: \"04/29/2025\"\n",
    "---"
   ]
  },
  {
   "cell_type": "markdown",
   "id": "ac8d6135-4ccb-467d-888d-633abe983bbc",
   "metadata": {},
   "source": [
    "### 1. imports"
   ]
  },
  {
   "cell_type": "code",
   "execution_count": 2,
   "id": "cb6879c3-c627-4a8b-a024-34a8717b3081",
   "metadata": {},
   "outputs": [],
   "source": [
    "import torch\n",
    "import torchvision\n",
    "import matplotlib.pyplot as plt"
   ]
  },
  {
   "cell_type": "code",
   "execution_count": 3,
   "id": "8b9284e0-35c6-4988-9626-91a2eeb93af6",
   "metadata": {},
   "outputs": [],
   "source": [
    "plt.rcParams['figure.figsize'] = (4.5, 3.0)"
   ]
  },
  {
   "cell_type": "code",
   "execution_count": 4,
   "id": "3b9cd520-31ce-4fd8-9c7d-5131049dc971",
   "metadata": {},
   "outputs": [],
   "source": [
    "# 복습\n",
    "# --- \n",
    "# 시벤코정리 - 다 맞출수있어 (train) \n",
    "# 오버피팅 - 그게 의미가 없을텐데 (test 에서 잘하는게 의미가 있다) \n",
    "# 드랍아웃 - 대충대충 학습하면 오히려 좋을지도 --> 이게 성공함 // 랜덤포레스트?\n",
    "#----#\n",
    "# GPU 메모리 아깝다.. (비싸거든) \n",
    "# 그래서 확률적경사하강법 \n",
    "# 꼭 돈이 없어서 이 알고리즘을 만든것 같지만 그런건 아님 \n",
    "# 확률적경사하강법은 알고리즘 자체에 장점이 있음 \n",
    "# -- 장점1: 데이터를 조금씩쓰면서 update // 대충대충하는 느낌 ---> 오버핏을 눌러주는 효과 // 배깅?\n",
    "# -- 장점2: global min 이 있고, local min 있을때, local min을 잘 탈출하는 효과가 있음 "
   ]
  },
  {
   "cell_type": "markdown",
   "id": "986277e7-5491-4b23-89b3-9ee91f094c80",
   "metadata": {},
   "source": [
    "`-` 오늘할것: train/test 이 존재하는 데이터 셋팅에서 Dropout 레이어도, 미니배치, GPU쓰기 "
   ]
  },
  {
   "cell_type": "markdown",
   "id": "a1bde239-6f33-4ae3-851b-6543c52777c8",
   "metadata": {},
   "source": [
    "#### A. 일반적인 train/test 셋팅"
   ]
  },
  {
   "cell_type": "markdown",
   "id": "c7613e24-8e07-44cc-88de-983a6ea070f2",
   "metadata": {},
   "source": [
    "`-` Step1 : 데이터 정리"
   ]
  },
  {
   "cell_type": "code",
   "execution_count": null,
   "id": "28cc6022-3bef-490b-9e32-382abd1dfa1b",
   "metadata": {},
   "outputs": [],
   "source": []
  }
 ],
 "metadata": {
  "kernelspec": {
   "display_name": "Python 3 (ipykernel)",
   "language": "python",
   "name": "python3"
  },
  "language_info": {
   "codemirror_mode": {
    "name": "ipython",
    "version": 3
   },
   "file_extension": ".py",
   "mimetype": "text/x-python",
   "name": "python",
   "nbconvert_exporter": "python",
   "pygments_lexer": "ipython3",
   "version": "3.10.12"
  }
 },
 "nbformat": 4,
 "nbformat_minor": 5
}
