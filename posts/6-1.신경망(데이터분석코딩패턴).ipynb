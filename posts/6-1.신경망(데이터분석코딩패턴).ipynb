{
 "cells": [
  {
   "cell_type": "raw",
   "id": "c86206c2-48a2-4f17-84fe-b387e1490975",
   "metadata": {},
   "source": [
    "---\n",
    "title: \"6-1. 신경망(데이터분석 코딩패턴)\"\n",
    "author: \"이상민\"\n",
    "date: \"04/29/2025\"\n",
    "---"
   ]
  },
  {
   "cell_type": "markdown",
   "id": "ac8d6135-4ccb-467d-888d-633abe983bbc",
   "metadata": {},
   "source": [
    "### 1. imports"
   ]
  },
  {
   "cell_type": "code",
   "execution_count": 2,
   "id": "cb6879c3-c627-4a8b-a024-34a8717b3081",
   "metadata": {},
   "outputs": [],
   "source": [
    "import torch\n",
    "import torchvision\n",
    "import matplotlib.pyplot as plt"
   ]
  },
  {
   "cell_type": "code",
   "execution_count": 3,
   "id": "8b9284e0-35c6-4988-9626-91a2eeb93af6",
   "metadata": {},
   "outputs": [],
   "source": [
    "plt.rcParams['figure.figsize'] = (4.5, 3.0)"
   ]
  },
  {
   "cell_type": "code",
   "execution_count": 4,
   "id": "3b9cd520-31ce-4fd8-9c7d-5131049dc971",
   "metadata": {},
   "outputs": [],
   "source": [
    "# 복습\n",
    "# --- \n",
    "# 시벤코정리 - 다 맞출수있어 (train) \n",
    "# 오버피팅 - 그게 의미가 없을텐데 (test 에서 잘하는게 의미가 있다) \n",
    "# 드랍아웃 - 대충대충 학습하면 오히려 좋을지도 --> 이게 성공함 // 랜덤포레스트?\n",
    "#----#\n",
    "# GPU 메모리 아깝다.. (비싸거든) \n",
    "# 그래서 확률적경사하강법 \n",
    "# 꼭 돈이 없어서 이 알고리즘을 만든것 같지만 그런건 아님 \n",
    "# 확률적경사하강법은 알고리즘 자체에 장점이 있음 \n",
    "# -- 장점1: 데이터를 조금씩쓰면서 update // 대충대충하는 느낌 ---> 오버핏을 눌러주는 효과 // 배깅?\n",
    "# -- 장점2: global min 이 있고, local min 있을때, local min을 잘 탈출하는 효과가 있음 "
   ]
  },
  {
   "cell_type": "markdown",
   "id": "986277e7-5491-4b23-89b3-9ee91f094c80",
   "metadata": {},
   "source": [
    "`-` 오늘할것: train/test 이 존재하는 데이터 셋팅에서 Dropout 레이어도, 미니배치, GPU쓰기 "
   ]
  },
  {
   "cell_type": "markdown",
   "id": "a1bde239-6f33-4ae3-851b-6543c52777c8",
   "metadata": {},
   "source": [
    "#### A. 일반적인 train/test 셋팅"
   ]
  },
  {
   "cell_type": "markdown",
   "id": "c7613e24-8e07-44cc-88de-983a6ea070f2",
   "metadata": {},
   "source": [
    "`-` Step1 : 데이터 정리"
   ]
  },
  {
   "cell_type": "code",
   "execution_count": 5,
   "id": "28cc6022-3bef-490b-9e32-382abd1dfa1b",
   "metadata": {},
   "outputs": [],
   "source": [
    "train_dataset = torchvision.datasets.MNIST(root='./data', train=True, download=True)\n",
    "test_dataset = torchvision.datasets.MNIST(root='./data', train=False, download=True)\n",
    "to_tensor = torchvision.transforms.ToTensor()\n",
    "X0 = torch.stack([to_tensor(img) for img, lbl in train_dataset if lbl==0])\n",
    "X1 = torch.stack([to_tensor(img) for img, lbl in train_dataset if lbl==1])\n",
    "X = torch.concat([X0,X1],axis=0).reshape(-1,784)\n",
    "y = torch.tensor([0.0]*len(X0) + [1.0]*len(X1)).reshape(-1,1)\n",
    "XX0 = torch.stack([to_tensor(img) for img, lbl in test_dataset if lbl==0])\n",
    "XX1 = torch.stack([to_tensor(img) for img, lbl in test_dataset if lbl==1])\n",
    "XX = torch.concat([XX0,XX1],axis=0).reshape(-1,784)\n",
    "yy = torch.tensor([0.0]*len(XX0) + [1.0]*len(XX1)).reshape(-1,1)"
   ]
  },
  {
   "cell_type": "code",
   "execution_count": 6,
   "id": "a8241e66-1d01-4c8d-b034-2c567dbf8ef8",
   "metadata": {},
   "outputs": [
    {
     "data": {
      "text/plain": [
       "(torch.Size([12665, 784]), torch.Size([12665, 1]))"
      ]
     },
     "execution_count": 6,
     "metadata": {},
     "output_type": "execute_result"
    }
   ],
   "source": [
    "X.shape, y.shape"
   ]
  },
  {
   "cell_type": "code",
   "execution_count": 7,
   "id": "bc48d9cf-1563-4aed-8808-62d20b336822",
   "metadata": {},
   "outputs": [
    {
     "data": {
      "text/plain": [
       "(torch.Size([2115, 784]), torch.Size([2115, 1]))"
      ]
     },
     "execution_count": 7,
     "metadata": {},
     "output_type": "execute_result"
    }
   ],
   "source": [
    "XX.shape, yy.shape"
   ]
  },
  {
   "cell_type": "markdown",
   "id": "44a47886-b7f4-49d4-a382-175338c13385",
   "metadata": {},
   "source": [
    "`-` Step2: 학습가능한 오브젝트들의 설정 (모델링과정 포함)"
   ]
  },
  {
   "cell_type": "code",
   "execution_count": 8,
   "id": "74cbb8f6-944f-4404-9f3b-f22f6b9f46f0",
   "metadata": {},
   "outputs": [],
   "source": [
    "torch.manual_seed(43052)\n",
    "net = torch.nn.Sequential(\n",
    "    torch.nn.Linear(784,32),\n",
    "    torch.nn.ReLU(),\n",
    "    torch.nn.Linear(32,1),\n",
    "    torch.nn.Sigmoid()\n",
    ")\n",
    "loss_fn = torch.nn.MSELoss()\n",
    "optimizr = torch.optim.SGD(net.parameters())"
   ]
  },
  {
   "cell_type": "markdown",
   "id": "83cc62ad-59a7-4013-b02c-1e050a89a0fa",
   "metadata": {},
   "source": [
    "`-` Step3: 학습 (=적합)"
   ]
  },
  {
   "cell_type": "code",
   "execution_count": 9,
   "id": "21fbb779-38ba-46cb-8e1d-796bedb37cb8",
   "metadata": {},
   "outputs": [
    {
     "name": "stdout",
     "output_type": "stream",
     "text": [
      "# of epochs=50   \t train_acc = 0.4677\n",
      "# of epochs=100   \t train_acc = 0.4677\n",
      "# of epochs=150   \t train_acc = 0.4757\n",
      "# of epochs=200   \t train_acc = 0.5295\n",
      "# of epochs=250   \t train_acc = 0.6632\n",
      "# of epochs=300   \t train_acc = 0.7929\n",
      "# of epochs=350   \t train_acc = 0.8731\n",
      "# of epochs=400   \t train_acc = 0.9206\n",
      "# of epochs=450   \t train_acc = 0.9465\n",
      "# of epochs=500   \t train_acc = 0.9634\n"
     ]
    }
   ],
   "source": [
    "for epoc in range(1,501):\n",
    "    #---에폭시작---# \n",
    "    # 1 \n",
    "    yhat = net(X) \n",
    "    # 2 \n",
    "    loss = loss_fn(yhat,y) \n",
    "    # 3 \n",
    "    loss.backward()\n",
    "    # 4 \n",
    "    optimizr.step()\n",
    "    optimizr.zero_grad()\n",
    "    #---에폭끝---# \n",
    "    #에폭마다 내가 보고싶은것들을 보여주는 코드\n",
    "    if (epoc % 50) ==0:\n",
    "        acc = ((net(X).data > 0.5) == y).float().mean().item()\n",
    "        print(f\"# of epochs={epoc}   \\t train_acc = {acc:.4f}\")"
   ]
  },
  {
   "cell_type": "markdown",
   "id": "52b25221-4855-4255-9300-59a916f83df2",
   "metadata": {},
   "source": [
    "`-` Step4: 예측 & 결과분석\n",
    "\n",
    "`-`train acc"
   ]
  },
  {
   "cell_type": "code",
   "execution_count": 11,
   "id": "27d32f7e-1df6-42d5-8f91-f6cb70ae4127",
   "metadata": {},
   "outputs": [
    {
     "data": {
      "text/plain": [
       "tensor(0.9634)"
      ]
     },
     "execution_count": 11,
     "metadata": {},
     "output_type": "execute_result"
    }
   ],
   "source": [
    "((net(X).data > 0.5) == y).float().mean()"
   ]
  },
  {
   "cell_type": "markdown",
   "id": "e2d4863a-591c-4e5e-96bd-c775d540ec64",
   "metadata": {},
   "source": [
    "`-` test acc"
   ]
  },
  {
   "cell_type": "code",
   "execution_count": 12,
   "id": "81c82c6f-3ce0-4732-a946-657b88f1d2f0",
   "metadata": {},
   "outputs": [
    {
     "data": {
      "text/plain": [
       "tensor(0.9749)"
      ]
     },
     "execution_count": 12,
     "metadata": {},
     "output_type": "execute_result"
    }
   ],
   "source": [
    "((net(XX).data>0.5) == yy).float().mean()"
   ]
  },
  {
   "cell_type": "markdown",
   "id": "89040c88-668e-43a0-957d-8c5d147798bd",
   "metadata": {},
   "source": [
    "#### B. Dropout 사용"
   ]
  },
  {
   "cell_type": "markdown",
   "id": "74bb4801-abab-4dc0-bc48-b0c76f167a6b",
   "metadata": {},
   "source": [
    "`-` Step1: 데이터정리"
   ]
  },
  {
   "cell_type": "code",
   "execution_count": 13,
   "id": "e369cce1-e51b-4914-b071-51052cc7dc13",
   "metadata": {},
   "outputs": [],
   "source": [
    "pass"
   ]
  },
  {
   "cell_type": "markdown",
   "id": "1879b594-8e40-48e5-b6d2-34a9db1484a3",
   "metadata": {},
   "source": [
    "`-` Step2: 학습가능한 오브젝트들의 설정 (모델링과정 포함)"
   ]
  },
  {
   "cell_type": "code",
   "execution_count": 15,
   "id": "1b926d2f-181a-4e20-b301-92b2ed6e3af4",
   "metadata": {},
   "outputs": [],
   "source": [
    "torch.manual_seed(43052)\n",
    "net = torch.nn.Sequential(\n",
    "    torch.nn.Linear(784,32),\n",
    "    torch.nn.Dropout(0.9),\n",
    "    torch.nn.ReLU(),\n",
    "    torch.nn.Linear(32,1),\n",
    "    torch.nn.Sigmoid()\n",
    ")\n",
    "loss_fn = torch.nn.MSELoss()\n",
    "optimizr = torch.optim.SGD(net.parameters())"
   ]
  },
  {
   "cell_type": "markdown",
   "id": "d8c4f415-49a2-4846-94de-dd73c39b3c40",
   "metadata": {},
   "source": [
    "`-` Step3: 학습 (=적합)"
   ]
  },
  {
   "cell_type": "code",
   "execution_count": 17,
   "id": "8aff3d59-726c-4d78-b417-27689dd4b55e",
   "metadata": {},
   "outputs": [
    {
     "name": "stdout",
     "output_type": "stream",
     "text": [
      "# of epochs=50   \t train_acc = 0.4677\n",
      "# of epochs=100   \t train_acc = 0.4677\n",
      "# of epochs=150   \t train_acc = 0.4744\n",
      "# of epochs=200   \t train_acc = 0.5215\n",
      "# of epochs=250   \t train_acc = 0.6435\n",
      "# of epochs=300   \t train_acc = 0.7675\n",
      "# of epochs=350   \t train_acc = 0.8468\n",
      "# of epochs=400   \t train_acc = 0.8978\n",
      "# of epochs=450   \t train_acc = 0.9301\n",
      "# of epochs=500   \t train_acc = 0.9492\n"
     ]
    }
   ],
   "source": [
    "for epoc in range(1,501):\n",
    "    net.train()\n",
    "    #---에폭시작---# \n",
    "    # 1 \n",
    "    yhat = net(X) \n",
    "    # 2 \n",
    "    loss = loss_fn(yhat,y) \n",
    "    # 3 \n",
    "    loss.backward()\n",
    "    # 4 \n",
    "    optimizr.step()\n",
    "    optimizr.zero_grad()\n",
    "    #---에폭끝---# \n",
    "    net.eval()\n",
    "    #에폭마다 내가 보고싶은것들을 보여주는 코드\n",
    "    if (epoc % 50) ==0:\n",
    "        acc = ((net(X).data > 0.5) == y).float().mean().item()\n",
    "        print(f\"# of epochs={epoc}   \\t train_acc = {acc:.4f}\")"
   ]
  },
  {
   "cell_type": "markdown",
   "id": "9ec15ee1-d2ba-467d-8034-a5a112edf94c",
   "metadata": {},
   "source": [
    "`-` Step4: 예측 & 결과분석\n",
    "\n",
    "`-` train acc"
   ]
  },
  {
   "cell_type": "code",
   "execution_count": 19,
   "id": "1bb844af-cd9c-49bb-872e-bf24fa2b1b26",
   "metadata": {},
   "outputs": [
    {
     "data": {
      "text/plain": [
       "tensor(0.9492)"
      ]
     },
     "execution_count": 19,
     "metadata": {},
     "output_type": "execute_result"
    }
   ],
   "source": [
    "((net(X).data > 0.5) == y).float().mean()"
   ]
  },
  {
   "cell_type": "markdown",
   "id": "e52e2578-d201-4bcc-8a00-179c1a2f5a05",
   "metadata": {},
   "source": [
    "`-` test acc"
   ]
  },
  {
   "cell_type": "code",
   "execution_count": 20,
   "id": "370880ce-cb8d-48b9-b9de-e58f69f291fc",
   "metadata": {},
   "outputs": [
    {
     "data": {
      "text/plain": [
       "tensor(0.9626)"
      ]
     },
     "execution_count": 20,
     "metadata": {},
     "output_type": "execute_result"
    }
   ],
   "source": [
    "((net(XX).data>0.5) == yy).float().mean()"
   ]
  },
  {
   "cell_type": "markdown",
   "id": "ea10bc12-f6d4-4c80-b68b-ba2de10cb7ca",
   "metadata": {},
   "source": [
    "#### C. GPU도 사용"
   ]
  },
  {
   "cell_type": "markdown",
   "id": "a3c3b6ce-4d9d-45f0-8774-2f9efc5974de",
   "metadata": {},
   "source": [
    "`-` step1: 데이터 정리"
   ]
  },
  {
   "cell_type": "code",
   "execution_count": 21,
   "id": "7ab13016-9d5c-4f03-9ce2-e3efa0b5b330",
   "metadata": {},
   "outputs": [],
   "source": [
    "pass"
   ]
  },
  {
   "cell_type": "markdown",
   "id": "7838dd3c-6e73-458f-8179-a9d0862b0cf3",
   "metadata": {},
   "source": [
    "`-` Step2: 학습가능한 오브젝트들의 설정 (모델링과정 포함)"
   ]
  },
  {
   "cell_type": "code",
   "execution_count": 23,
   "id": "0dfd4903-786b-475f-bd76-9f3b8a3fbed6",
   "metadata": {},
   "outputs": [],
   "source": [
    "torch.manual_seed(43052)\n",
    "net = torch.nn.Sequential(\n",
    "    torch.nn.Linear(784,32),\n",
    "    torch.nn.Dropout(0.9),\n",
    "    torch.nn.ReLU(),\n",
    "    torch.nn.Linear(32,1),\n",
    "    torch.nn.Sigmoid()\n",
    ").to(\"cuda:0\")\n",
    "loss_fn = torch.nn.MSELoss()\n",
    "optimizr = torch.optim.SGD(net.parameters())"
   ]
  },
  {
   "cell_type": "markdown",
   "id": "bada6eaa-778f-4e1a-a28b-05c26af440e2",
   "metadata": {},
   "source": [
    "`-` Step3: 학습 (=적합)"
   ]
  },
  {
   "cell_type": "code",
   "execution_count": 24,
   "id": "c23555e5-edce-4bd5-bddb-764c3bd1468f",
   "metadata": {},
   "outputs": [
    {
     "name": "stdout",
     "output_type": "stream",
     "text": [
      "# of epochs=50   \t train_acc = 0.4677\n",
      "# of epochs=100   \t train_acc = 0.4677\n",
      "# of epochs=150   \t train_acc = 0.4745\n",
      "# of epochs=200   \t train_acc = 0.5223\n",
      "# of epochs=250   \t train_acc = 0.6441\n",
      "# of epochs=300   \t train_acc = 0.7686\n",
      "# of epochs=350   \t train_acc = 0.8469\n",
      "# of epochs=400   \t train_acc = 0.8979\n",
      "# of epochs=450   \t train_acc = 0.9302\n",
      "# of epochs=500   \t train_acc = 0.9492\n"
     ]
    }
   ],
   "source": [
    "for epoc in range(1,501):\n",
    "    net.train()\n",
    "    #---에폭시작---# \n",
    "    X = X.to(\"cuda:0\")\n",
    "    y = y.to(\"cuda:0\")\n",
    "    # 1 \n",
    "    yhat = net(X) \n",
    "    # 2 \n",
    "    loss = loss_fn(yhat,y) \n",
    "    # 3 \n",
    "    loss.backward()\n",
    "    # 4 \n",
    "    optimizr.step()\n",
    "    optimizr.zero_grad()\n",
    "    #---에폭끝---# \n",
    "    net.eval()\n",
    "    #에폭마다 내가 보고싶은것들을 보여주는 코드\n",
    "    if (epoc % 50) ==0:\n",
    "        acc = ((net(X).data > 0.5) == y).float().mean().item()\n",
    "        print(f\"# of epochs={epoc}   \\t train_acc = {acc:.4f}\")"
   ]
  },
  {
   "cell_type": "markdown",
   "id": "b3d65928-1685-435a-8c73-ea21bbcde9f9",
   "metadata": {},
   "source": [
    "`-` Step4: 예측 & 결과분석\n",
    "\n",
    "`-` train acc"
   ]
  },
  {
   "cell_type": "code",
   "execution_count": 29,
   "id": "81ef12ab-f175-4ba5-9713-4fb99a76ab99",
   "metadata": {},
   "outputs": [
    {
     "data": {
      "text/plain": [
       "tensor(0.9492, device='cuda:0')"
      ]
     },
     "execution_count": 29,
     "metadata": {},
     "output_type": "execute_result"
    }
   ],
   "source": [
    "((net(X).data > 0.5) == y).float().mean()"
   ]
  },
  {
   "cell_type": "markdown",
   "id": "47f3dfe0-5b8a-46df-9593-4d46cf31f507",
   "metadata": {},
   "source": [
    "`-` test acc\n",
    "\n",
    "`-` net 이 cuda에 있기 때문에 데이터도 cuda로!"
   ]
  },
  {
   "cell_type": "code",
   "execution_count": 30,
   "id": "22f25e58-634c-4042-8e30-7b4014fa8edf",
   "metadata": {},
   "outputs": [],
   "source": [
    "XX = XX.to(\"cuda:0\")\n",
    "yy = yy.to(\"cuda:0\") "
   ]
  },
  {
   "cell_type": "code",
   "execution_count": 31,
   "id": "c32877fc-82ad-4e38-92c5-b6f473d420d3",
   "metadata": {},
   "outputs": [
    {
     "data": {
      "text/plain": [
       "tensor(0.9626, device='cuda:0')"
      ]
     },
     "execution_count": 31,
     "metadata": {},
     "output_type": "execute_result"
    }
   ],
   "source": [
    "((net(XX).data>0.5) == yy).float().mean()"
   ]
  },
  {
   "cell_type": "markdown",
   "id": "e8d98659-767f-4bf1-aa87-3bdd023b42bc",
   "metadata": {},
   "source": [
    "#### D. 미니배치도 사용"
   ]
  },
  {
   "cell_type": "markdown",
   "id": "8b9d0dee-c6ac-4018-af2b-f2bc75a2360d",
   "metadata": {},
   "source": [
    "`-` Step1: 데이터정리"
   ]
  },
  {
   "cell_type": "code",
   "execution_count": 32,
   "id": "87c2e157-e75e-4143-971e-523132a21c2c",
   "metadata": {},
   "outputs": [],
   "source": [
    "X = X.to(\"cpu\")\n",
    "y = y.to(\"cpu\")\n",
    "XX = XX.to(\"cpu\")\n",
    "yy = yy.to(\"cpu\")"
   ]
  },
  {
   "cell_type": "code",
   "execution_count": 33,
   "id": "67b283fb-0ab7-4002-97c1-bffdb62c0fd3",
   "metadata": {},
   "outputs": [],
   "source": [
    "ds  = torch.utils.data.TensorDataset(X,y)\n",
    "dl = torch.utils.data.DataLoader(ds,batch_size = 16, shuffle=True) "
   ]
  },
  {
   "cell_type": "markdown",
   "id": "25bb14d9-bce5-445e-b29a-50bdad97fc72",
   "metadata": {},
   "source": [
    "`-` Step2: 학습가능한 오브젝트들의 설정 (모델링과정 포함)"
   ]
  },
  {
   "cell_type": "code",
   "execution_count": 35,
   "id": "aefc3efc-89e8-41a1-afa2-c72033674be1",
   "metadata": {},
   "outputs": [],
   "source": [
    "torch.manual_seed(43052)\n",
    "net = torch.nn.Sequential(\n",
    "    torch.nn.Linear(784,32),\n",
    "    torch.nn.Dropout(0.9),\n",
    "    torch.nn.ReLU(),\n",
    "    torch.nn.Linear(32,1),\n",
    "    torch.nn.Sigmoid()\n",
    ").to(\"cuda:0\")\n",
    "loss_fn = torch.nn.MSELoss()\n",
    "optimizr = torch.optim.SGD(net.parameters())"
   ]
  },
  {
   "cell_type": "markdown",
   "id": "aaab7d96-1537-4f07-bf35-b3e21f702b73",
   "metadata": {},
   "source": [
    "`-` Step3: 학습 (=적합)"
   ]
  },
  {
   "cell_type": "code",
   "execution_count": 36,
   "id": "97f37be0-6098-4434-8eac-8527de91f069",
   "metadata": {},
   "outputs": [
    {
     "name": "stdout",
     "output_type": "stream",
     "text": [
      "# of epochs=1   \t train_acc = 0.9860\n",
      "# of epochs=2   \t train_acc = 0.9931\n"
     ]
    }
   ],
   "source": [
    "for epoc in range(1,3):\n",
    "    net.train()\n",
    "    #---에폭시작---# \n",
    "    for Xm,ym in dl:         \n",
    "        Xm = Xm.to(\"cuda:0\")\n",
    "        ym = ym.to(\"cuda:0\")\n",
    "        # 1 \n",
    "        ym_hat = net(Xm) \n",
    "        # 2 \n",
    "        loss = loss_fn(ym_hat,ym) \n",
    "        # 3 \n",
    "        loss.backward()\n",
    "        # 4 \n",
    "        optimizr.step()\n",
    "        optimizr.zero_grad()\n",
    "    #---에폭끝---# \n",
    "    net.eval()\n",
    "    #에폭마다 내가 보고싶은것들을 보여주는 코드\n",
    "    s = 0 \n",
    "    for Xm, ym in dl:\n",
    "        Xm = Xm.to(\"cuda:0\")\n",
    "        ym = ym.to(\"cuda:0\")\n",
    "        s = s + ((net(Xm) > 0.5) == ym).float().sum()\n",
    "    acc = s/12665        \n",
    "    print(f\"# of epochs={epoc}   \\t train_acc = {acc:.4f}\")"
   ]
  },
  {
   "cell_type": "markdown",
   "id": "ded701c7-545c-4e61-911e-9f5dc3b035b5",
   "metadata": {},
   "source": [
    "`-` Step4: 예측 & 결과분석"
   ]
  },
  {
   "cell_type": "markdown",
   "id": "6b79af95-12ed-4450-855a-ee22b46fbbeb",
   "metadata": {},
   "source": [
    "`-` 이번에는 `net`을 `cpu`로"
   ]
  },
  {
   "cell_type": "code",
   "execution_count": 37,
   "id": "55eacf27-52dd-4c66-bd14-e3c9941b4ff3",
   "metadata": {},
   "outputs": [
    {
     "data": {
      "text/plain": [
       "Sequential(\n",
       "  (0): Linear(in_features=784, out_features=32, bias=True)\n",
       "  (1): Dropout(p=0.9, inplace=False)\n",
       "  (2): ReLU()\n",
       "  (3): Linear(in_features=32, out_features=1, bias=True)\n",
       "  (4): Sigmoid()\n",
       ")"
      ]
     },
     "execution_count": 37,
     "metadata": {},
     "output_type": "execute_result"
    }
   ],
   "source": [
    "net.to(\"cpu\")"
   ]
  },
  {
   "cell_type": "markdown",
   "id": "d8ca4ecb-148e-43a4-a61b-a81ea10a90e1",
   "metadata": {},
   "source": [
    "`-` train acc"
   ]
  },
  {
   "cell_type": "code",
   "execution_count": 38,
   "id": "0b3cd50a-dd9a-4582-aad6-9a0153987ac9",
   "metadata": {},
   "outputs": [
    {
     "data": {
      "text/plain": [
       "tensor(0.9931)"
      ]
     },
     "execution_count": 38,
     "metadata": {},
     "output_type": "execute_result"
    }
   ],
   "source": [
    "((net(X) > 0.5) == y).float().mean()"
   ]
  },
  {
   "cell_type": "markdown",
   "id": "291192af-7c41-4eff-b9a9-e776510ce256",
   "metadata": {},
   "source": [
    "`-` test acc"
   ]
  },
  {
   "cell_type": "code",
   "execution_count": 40,
   "id": "fa1ff70c-9673-473d-8282-1522e51b0faf",
   "metadata": {},
   "outputs": [
    {
     "data": {
      "text/plain": [
       "tensor(0.9967)"
      ]
     },
     "execution_count": 40,
     "metadata": {},
     "output_type": "execute_result"
    }
   ],
   "source": [
    "((net(XX) > 0.5) == yy).float().mean()"
   ]
  },
  {
   "cell_type": "markdown",
   "id": "61524ab6-dfb4-4287-8eaf-95dc50af2f48",
   "metadata": {
    "scrolled": true
   },
   "source": [
    "`-` 점점 **비본질적인** 코드가 늘어남 $\\to$ 코드가 더러워짐 $\\to$ Trainer의 개념 등장"
   ]
  }
 ],
 "metadata": {
  "kernelspec": {
   "display_name": "Python 3 (ipykernel)",
   "language": "python",
   "name": "python3"
  },
  "language_info": {
   "codemirror_mode": {
    "name": "ipython",
    "version": 3
   },
   "file_extension": ".py",
   "mimetype": "text/x-python",
   "name": "python",
   "nbconvert_exporter": "python",
   "pygments_lexer": "ipython3",
   "version": "3.10.12"
  }
 },
 "nbformat": 4,
 "nbformat_minor": 5
}
