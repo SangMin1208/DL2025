{
 "cells": [
  {
   "cell_type": "raw",
   "id": "09c08640-ada4-4277-a569-fc022a045a8f",
   "metadata": {},
   "source": [
    "---\n",
    "title: \"4-1. 신경망(로지스틱의 한계 극복)\"\n",
    "author: \"이상민\"\n",
    "date: \"04/29/2025\"\n",
    "---"
   ]
  },
  {
   "cell_type": "markdown",
   "id": "ea722ac7-424f-4625-af35-9371e50bb1f1",
   "metadata": {},
   "source": [
    "### 1. imports"
   ]
  },
  {
   "cell_type": "code",
   "execution_count": 12,
   "id": "c2dd6de8-73e1-4e9d-8972-c1d3278a476c",
   "metadata": {},
   "outputs": [],
   "source": [
    "import torch\n",
    "import matplotlib.pyplot as plt \n",
    "import pandas as pd"
   ]
  },
  {
   "cell_type": "code",
   "execution_count": 13,
   "id": "65ccd301-d8ef-41e5-80c8-05916f275073",
   "metadata": {},
   "outputs": [],
   "source": [
    "plt.rcParams['figure.figsize'] = (4.5, 3.0)"
   ]
  },
  {
   "cell_type": "markdown",
   "id": "acce8236-4482-4c87-b9f5-1941cf25817b",
   "metadata": {},
   "source": [
    "### 2. 꺽인 직선을 만드는 방법"
   ]
  },
  {
   "cell_type": "code",
   "execution_count": null,
   "id": "6b0ab55e-1eef-4bf0-969c-79885e5e5e89",
   "metadata": {},
   "outputs": [],
   "source": []
  }
 ],
 "metadata": {
  "kernelspec": {
   "display_name": "Python 3 (ipykernel)",
   "language": "python",
   "name": "python3"
  },
  "language_info": {
   "codemirror_mode": {
    "name": "ipython",
    "version": 3
   },
   "file_extension": ".py",
   "mimetype": "text/x-python",
   "name": "python",
   "nbconvert_exporter": "python",
   "pygments_lexer": "ipython3",
   "version": "3.10.12"
  }
 },
 "nbformat": 4,
 "nbformat_minor": 5
}
