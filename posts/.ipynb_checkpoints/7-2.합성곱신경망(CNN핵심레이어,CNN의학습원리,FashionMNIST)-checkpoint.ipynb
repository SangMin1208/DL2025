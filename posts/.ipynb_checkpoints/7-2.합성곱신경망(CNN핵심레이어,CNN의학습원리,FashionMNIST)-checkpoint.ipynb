{
 "cells": [
  {
   "cell_type": "raw",
   "id": "c986a239-ee70-4e82-9e0b-aa613058ede7",
   "metadata": {},
   "source": [
    "---\n",
    "title: \"7-2. 합성곱신경망(CNN 핵심 레이어, CNN의 학습원리, FashionMNIST)\"\n",
    "author: \"이상민\"\n",
    "date: \"05/2/2025\"\n",
    "---"
   ]
  },
  {
   "cell_type": "markdown",
   "id": "aeefbdc8-2c88-4e2c-af60-c516b4e0af2f",
   "metadata": {},
   "source": [
    "### 1. imports"
   ]
  },
  {
   "cell_type": "code",
   "execution_count": 3,
   "id": "aeec9b46-cb37-4160-816e-0d95692d398f",
   "metadata": {},
   "outputs": [],
   "source": [
    "import torch\n",
    "import torchvision\n",
    "import matplotlib.pyplot as plt"
   ]
  },
  {
   "cell_type": "code",
   "execution_count": 4,
   "id": "812ad549-3280-4344-b796-135dff347584",
   "metadata": {},
   "outputs": [],
   "source": [
    "plt.rcParams['figure.figsize'] = (4.5, 3.0)"
   ]
  },
  {
   "cell_type": "markdown",
   "id": "9978915a-d0ea-4ace-8714-70bc57bc4316",
   "metadata": {},
   "source": [
    "### 2. CNN 핵심 레이어\n",
    "\n",
    "####  A. `torch.nn.ReLU`\n",
    "\n",
    "#### B. `torch.nn.MaxPool2d`\n",
    "\n",
    "#### C. `torch.nn.Conv2d`\n"
   ]
  },
  {
   "cell_type": "markdown",
   "id": "9a62ea28-f1d0-42f0-a072-515363e52d78",
   "metadata": {},
   "source": [
    "> **Note**\n",
    ">\n",
    "> **입력이 1장의 흑백이미지이고 출력도 1장의 흑백이미지일 경우 컨볼루션\n",
    "> 계산과정 요약[1]**\n",
    ">\n",
    "> 1.  윈도우생성: `kernel_size` = (?,?) 인 윈도우를 만듦\n",
    "> 2.  sub-img생성: 입력 이미지에 윈도우를 통과시켜 (?,?) 크기의\n",
    ">     sub-img를 만듦.\n",
    "> 3.  연산: sub-img의 각 원소에 `conv.weight`의 값을 원소별로\n",
    ">     (=element-wisely) 곱하고 결과를 더함. (만약에 `conv.bias`가 있다면\n",
    ">     최종결과에 bias를 더함)\n",
    "> 4.  이동&반복: 윈도우를 `stride` 만큼 이동하여 반복. (`stride`=1\n",
    ">     이라면 한칸씩, `stride`=2 라면 두칸씩 이동)\n",
    "\n",
    "`-` (예시1) 재현\n",
    "\n",
    "“A guide to convolution arithmetic for deep learning” (Dumoulin and\n",
    "Visin 2016) 에 나온 그림재현\n",
    "\n",
    "-   ref: <https://arxiv.org/abs/1603.07285>\n",
    "\n",
    "<figure class=\"margin-caption\">\n",
    "<img\n",
    "src=\"https://github.com/guebin/2021BDA/blob/master/_notebooks/2021-11-04-conv.png?raw=true\"\n",
    "alt=\"Fig: conv2d 계산과정시각화\" />\n",
    "<figcaption aria-hidden=\"true\">Fig: conv2d 계산과정시각화</figcaption>\n",
    "</figure>\n",
    "\n",
    "[1] 입력shape=(1,1,?,?) 이고 출력의shape=(1,1,?,?)일 경우"
   ]
  },
  {
   "cell_type": "code",
   "execution_count": 5,
   "id": "e0af9382-e528-433f-8b22-0ba4581a3044",
   "metadata": {},
   "outputs": [
    {
     "data": {
      "text/plain": [
       "tensor([[[[3., 3., 2., 1., 0.],\n",
       "          [0., 0., 1., 3., 1.],\n",
       "          [3., 1., 2., 2., 3.],\n",
       "          [2., 0., 0., 2., 2.],\n",
       "          [2., 0., 0., 0., 1.]]]])"
      ]
     },
     "execution_count": 5,
     "metadata": {},
     "output_type": "execute_result"
    }
   ],
   "source": [
    "img = torch.tensor([\n",
    "    [3,3,2,1,0],\n",
    "    [0,0,1,3,1],\n",
    "    [3,1,2,2,3],\n",
    "    [2,0,0,2,2],\n",
    "    [2,0,0,0,1]\n",
    "]).reshape(1,1,5,5).float()\n",
    "img"
   ]
  },
  {
   "cell_type": "code",
   "execution_count": 6,
   "id": "7604bd87-22a1-4668-b836-38954ba39bb0",
   "metadata": {},
   "outputs": [],
   "source": [
    "conv = torch.nn.Conv2d(in_channels=1,out_channels=1,kernel_size=3,bias=False)\n",
    "conv.weight.data = torch.tensor([[[\n",
    "    [ 0.0, 1.0, 2.0],\n",
    "    [ 2.0, 2.0, 0.0],\n",
    "    [ 0.0, 1.0, 2.0]\n",
    "]]])"
   ]
  },
  {
   "cell_type": "code",
   "execution_count": 7,
   "id": "d51c0d3f-e79d-4efc-be5b-9f48c4891e5e",
   "metadata": {},
   "outputs": [
    {
     "data": {
      "text/plain": [
       "tensor([[[[12., 12., 17.],\n",
       "          [10., 17., 19.],\n",
       "          [ 9.,  6., 14.]]]], grad_fn=<ConvolutionBackward0>)"
      ]
     },
     "execution_count": 7,
     "metadata": {},
     "output_type": "execute_result"
    }
   ],
   "source": [
    "conv(img)"
   ]
  },
  {
   "cell_type": "markdown",
   "id": "00f356c9-b9ef-4094-85de-cdcce57b4f90",
   "metadata": {},
   "source": [
    "`-` (예시2) 이동평균"
   ]
  },
  {
   "cell_type": "code",
   "execution_count": 8,
   "id": "591e1101-1e3a-4467-ac38-9eafa57c250a",
   "metadata": {},
   "outputs": [
    {
     "data": {
      "text/plain": [
       "tensor([[[[ 1.,  2.,  3.,  4.],\n",
       "          [ 5.,  6.,  7.,  8.],\n",
       "          [ 9., 10., 11., 12.],\n",
       "          [13., 14., 15., 16.]]]])"
      ]
     },
     "execution_count": 8,
     "metadata": {},
     "output_type": "execute_result"
    }
   ],
   "source": [
    "img = torch.arange(1,17).float().reshape(1,1,4,4)\n",
    "img"
   ]
  },
  {
   "cell_type": "code",
   "execution_count": 9,
   "id": "e8049922-76a7-4cf8-af76-91a5f4ed61f2",
   "metadata": {},
   "outputs": [
    {
     "data": {
      "text/plain": [
       "tensor([[[[0.2500, 0.2500],\n",
       "          [0.2500, 0.2500]]]])"
      ]
     },
     "execution_count": 9,
     "metadata": {},
     "output_type": "execute_result"
    }
   ],
   "source": [
    "conv = torch.nn.Conv2d(in_channels=1,out_channels=1,kernel_size=2,stride=1,bias=False)\n",
    "conv.weight.data = conv.weight.data*0 + 1/4\n",
    "conv.weight.data"
   ]
  },
  {
   "cell_type": "code",
   "execution_count": 10,
   "id": "ac18fdbb-1dab-4a2b-b654-37f56f002594",
   "metadata": {},
   "outputs": [
    {
     "data": {
      "text/plain": [
       "tensor([[[[ 3.5000,  4.5000,  5.5000],\n",
       "          [ 7.5000,  8.5000,  9.5000],\n",
       "          [11.5000, 12.5000, 13.5000]]]], grad_fn=<ConvolutionBackward0>)"
      ]
     },
     "execution_count": 10,
     "metadata": {},
     "output_type": "execute_result"
    }
   ],
   "source": [
    "conv(img)"
   ]
  },
  {
   "cell_type": "markdown",
   "id": "6de9b923-dd9e-4a25-9d32-ac8d4730d295",
   "metadata": {},
   "source": [
    "`-` (예시3) 2개의 이미지\n",
    "\n",
    "\n",
    "- 개념: (1,1,?,?) $\\to$ (1,1,?,?) 의 conv를 observation 별로 적용\n",
    "\n",
    "-   `conv` 에 포함된 파라메터 수는 (1,1,?,?) $\\to$ (1,1,?,?) 인 경우와\n",
    "    (n,1,?,?) $\\to$ (n,1,?,?)인 경우가 동일"
   ]
  },
  {
   "cell_type": "code",
   "execution_count": 11,
   "id": "52839f59-8c9d-494f-a51e-6ebe9b5c6dfd",
   "metadata": {},
   "outputs": [],
   "source": [
    "imgs = torch.arange(1,33).float().reshape(2,1,4,4)\n",
    "conv = torch.nn.Conv2d(in_channels=1,out_channels=1,kernel_size=2,stride=1,bias=False)\n",
    "conv.weight.data = conv.weight.data*0 + 1/4"
   ]
  },
  {
   "cell_type": "code",
   "execution_count": 12,
   "id": "b59bae10-5ad6-43b3-9415-d8c5664c9506",
   "metadata": {},
   "outputs": [
    {
     "data": {
      "text/plain": [
       "tensor([[[[ 1.,  2.,  3.,  4.],\n",
       "          [ 5.,  6.,  7.,  8.],\n",
       "          [ 9., 10., 11., 12.],\n",
       "          [13., 14., 15., 16.]]],\n",
       "\n",
       "\n",
       "        [[[17., 18., 19., 20.],\n",
       "          [21., 22., 23., 24.],\n",
       "          [25., 26., 27., 28.],\n",
       "          [29., 30., 31., 32.]]]])"
      ]
     },
     "execution_count": 12,
     "metadata": {},
     "output_type": "execute_result"
    }
   ],
   "source": [
    "imgs"
   ]
  },
  {
   "cell_type": "code",
   "execution_count": 13,
   "id": "9abb0736-019a-469c-bbfc-9f69d1d2c7f0",
   "metadata": {},
   "outputs": [
    {
     "data": {
      "text/plain": [
       "tensor([[[[ 3.5000,  4.5000,  5.5000],\n",
       "          [ 7.5000,  8.5000,  9.5000],\n",
       "          [11.5000, 12.5000, 13.5000]]],\n",
       "\n",
       "\n",
       "        [[[19.5000, 20.5000, 21.5000],\n",
       "          [23.5000, 24.5000, 25.5000],\n",
       "          [27.5000, 28.5000, 29.5000]]]], grad_fn=<ConvolutionBackward0>)"
      ]
     },
     "execution_count": 13,
     "metadata": {},
     "output_type": "execute_result"
    }
   ],
   "source": [
    "conv(imgs)"
   ]
  },
  {
   "cell_type": "code",
   "execution_count": 15,
   "id": "e91b1adf-534a-405d-b4b3-6819660bdf83",
   "metadata": {},
   "outputs": [
    {
     "data": {
      "text/plain": [
       "torch.Size([1, 1, 2, 2])"
      ]
     },
     "execution_count": 15,
     "metadata": {},
     "output_type": "execute_result"
    }
   ],
   "source": [
    "conv.weight.shape"
   ]
  },
  {
   "cell_type": "markdown",
   "id": "2992f0e8-9dc6-4ab3-87dc-80b0b638aef8",
   "metadata": {},
   "source": [
    "`-` (예시4) 2개의 이미지, 2개의 out_channels\n",
    "\n",
    "- 개념: (1,1,?,?) $\\to$ (1,1,?,?) 의 conv를 한번 적용, 그것과 별개로\n",
    "(1,1,?,?) $\\to$ (1,1,?,?) 인 **다른** conv를 적용함. (즉 하나의\n",
    "observation당 2번 conv변환) 이것을 observation별로 반복\n",
    "\n",
    "-   (1,1,?,?) $\\to$ (1,2,?,?) 인 경우는 (1,1,?,?) $\\to$ (1,1,?,?)인\n",
    "    경우보다 `conv`에 포함된 파라메터 수가 2배 많음\n",
    "-   그런데 (1,1,?,?) $\\to$ (1,2,?,?) 인 경우와 (n,1,?,?) $\\to$\n",
    "    (n,2,?,?)인 경우는 `conv`에 포함된 파라메터 수가 같음.\n",
    "-   따라서 (n,1,?,?) $\\to$ (n,2,?,?) 인 경우는 (1,1,?,?) $\\to$\n",
    "    (1,1,?,?)인 경우보다 `conv`에 포함된 파라메터 수가 2배 많음"
   ]
  },
  {
   "cell_type": "code",
   "execution_count": 16,
   "id": "db2edad7-6b23-4bae-a3fa-7c9ddad3f05e",
   "metadata": {},
   "outputs": [],
   "source": [
    "img = torch.arange(1,33).float().reshape(2,1,4,4)\n",
    "conv = torch.nn.Conv2d(in_channels=1,out_channels=2,kernel_size=2,stride=1,bias=False)"
   ]
  },
  {
   "cell_type": "code",
   "execution_count": 17,
   "id": "b9c85ef8-8fe0-4eda-97fd-18ef48efc2f5",
   "metadata": {},
   "outputs": [
    {
     "data": {
      "text/plain": [
       "tensor([[[[ 1.,  2.,  3.,  4.],\n",
       "          [ 5.,  6.,  7.,  8.],\n",
       "          [ 9., 10., 11., 12.],\n",
       "          [13., 14., 15., 16.]]],\n",
       "\n",
       "\n",
       "        [[[17., 18., 19., 20.],\n",
       "          [21., 22., 23., 24.],\n",
       "          [25., 26., 27., 28.],\n",
       "          [29., 30., 31., 32.]]]])"
      ]
     },
     "execution_count": 17,
     "metadata": {},
     "output_type": "execute_result"
    }
   ],
   "source": [
    "img"
   ]
  },
  {
   "cell_type": "code",
   "execution_count": 18,
   "id": "73ba7832-3497-410a-98da-6cad3cad7351",
   "metadata": {},
   "outputs": [],
   "source": [
    "conv.weight.data[0] = conv.weight.data[0]*0 +1/4\n",
    "conv.weight.data[1] = conv.weight.data[0]*0"
   ]
  },
  {
   "cell_type": "code",
   "execution_count": 19,
   "id": "38549de9-5c77-409b-8384-aa8585290ef6",
   "metadata": {},
   "outputs": [
    {
     "data": {
      "text/plain": [
       "tensor([[[[ 3.5000,  4.5000,  5.5000],\n",
       "          [ 7.5000,  8.5000,  9.5000],\n",
       "          [11.5000, 12.5000, 13.5000]],\n",
       "\n",
       "         [[ 0.0000,  0.0000,  0.0000],\n",
       "          [ 0.0000,  0.0000,  0.0000],\n",
       "          [ 0.0000,  0.0000,  0.0000]]],\n",
       "\n",
       "\n",
       "        [[[19.5000, 20.5000, 21.5000],\n",
       "          [23.5000, 24.5000, 25.5000],\n",
       "          [27.5000, 28.5000, 29.5000]],\n",
       "\n",
       "         [[ 0.0000,  0.0000,  0.0000],\n",
       "          [ 0.0000,  0.0000,  0.0000],\n",
       "          [ 0.0000,  0.0000,  0.0000]]]], grad_fn=<ConvolutionBackward0>)"
      ]
     },
     "execution_count": 19,
     "metadata": {},
     "output_type": "execute_result"
    }
   ],
   "source": [
    "conv(img)"
   ]
  },
  {
   "cell_type": "code",
   "execution_count": 20,
   "id": "3512c119-fc67-498b-8e41-955fdddb9335",
   "metadata": {},
   "outputs": [
    {
     "data": {
      "text/plain": [
       "tensor([[[[ 3.5000,  4.5000,  5.5000],\n",
       "          [ 7.5000,  8.5000,  9.5000],\n",
       "          [11.5000, 12.5000, 13.5000]],\n",
       "\n",
       "         [[ 0.0000,  0.0000,  0.0000],\n",
       "          [ 0.0000,  0.0000,  0.0000],\n",
       "          [ 0.0000,  0.0000,  0.0000]]],\n",
       "\n",
       "\n",
       "        [[[19.5000, 20.5000, 21.5000],\n",
       "          [23.5000, 24.5000, 25.5000],\n",
       "          [27.5000, 28.5000, 29.5000]],\n",
       "\n",
       "         [[ 0.0000,  0.0000,  0.0000],\n",
       "          [ 0.0000,  0.0000,  0.0000],\n",
       "          [ 0.0000,  0.0000,  0.0000]]]], grad_fn=<ConvolutionBackward0>)"
      ]
     },
     "execution_count": 20,
     "metadata": {},
     "output_type": "execute_result"
    }
   ],
   "source": [
    "conv(img)"
   ]
  },
  {
   "cell_type": "markdown",
   "id": "33d62bff-57d9-4b37-879e-254411d60a17",
   "metadata": {},
   "source": [
    "### 4. CNN의 학습원리"
   ]
  },
  {
   "cell_type": "markdown",
   "id": "e84da6e0-c340-4c05-977d-39f4befd7e3f",
   "metadata": {},
   "source": [
    "#### A. data\n",
    "\n",
    "`-` 아래의 4개의 이미지"
   ]
  },
  {
   "cell_type": "code",
   "execution_count": 21,
   "id": "026b1076-e67e-4b89-9e81-d9c97eff80c0",
   "metadata": {},
   "outputs": [],
   "source": [
    "img0 = torch.tensor([\n",
    "    [0.1, 0.1, 0.1, 0.1, 0.1, 0.1, 0.1, 0.1, 0.0, 0.0, 0.0, 0.0, 0.0, 0.0, 0.0, 0.0],\n",
    "    [0.1, 0.1, 0.1, 0.1, 0.1, 0.1, 0.1, 0.1, 0.0, 0.0, 0.0, 0.0, 0.0, 0.0, 0.0, 0.0],\n",
    "    [0.1, 0.1, 0.1, 0.1, 0.1, 0.1, 0.1, 0.1, 0.0, 0.0, 0.0, 0.0, 0.0, 0.0, 0.0, 0.0],\n",
    "    [0.1, 0.1, 0.1, 0.1, 0.1, 0.1, 0.1, 0.1, 0.0, 0.0, 0.0, 0.0, 0.0, 0.0, 0.0, 0.0],\n",
    "    [0.1, 0.1, 0.1, 0.1, 0.1, 0.1, 0.1, 0.1, 0.0, 0.0, 0.0, 0.0, 0.0, 0.0, 0.0, 0.0],\n",
    "    [0.1, 0.1, 0.1, 0.1, 0.1, 0.1, 0.1, 0.1, 0.0, 0.0, 0.0, 0.0, 0.0, 0.0, 0.0, 0.0],\n",
    "    [0.1, 0.1, 0.1, 0.1, 0.1, 0.1, 0.1, 0.1, 0.0, 0.0, 0.0, 0.0, 0.0, 0.0, 0.0, 0.0],\n",
    "    [0.1, 0.1, 0.1, 0.1, 0.1, 0.1, 0.1, 0.1, 0.0, 0.0, 0.0, 0.0, 0.0, 0.0, 0.0, 0.0],\n",
    "    [0.1, 0.1, 0.1, 0.1, 0.1, 0.1, 0.1, 0.1, 0.0, 0.0, 0.0, 0.0, 0.0, 0.0, 0.0, 0.0],\n",
    "    [0.1, 0.1, 0.1, 0.1, 0.1, 0.1, 0.1, 0.1, 0.0, 0.0, 0.0, 0.0, 0.0, 0.0, 0.0, 0.0],\n",
    "    [0.1, 0.1, 0.1, 0.1, 0.1, 0.1, 0.1, 0.1, 0.0, 0.0, 0.0, 0.0, 0.0, 0.0, 0.0, 0.0],\n",
    "    [0.1, 0.1, 0.1, 0.1, 0.1, 0.1, 0.1, 0.1, 0.0, 0.0, 0.0, 0.0, 0.0, 0.0, 0.0, 0.0],\n",
    "    [0.1, 0.1, 0.1, 0.1, 0.1, 0.1, 0.1, 0.1, 0.0, 0.0, 0.0, 0.0, 0.0, 0.0, 0.0, 0.0],\n",
    "    [0.1, 0.1, 0.1, 0.1, 0.1, 0.1, 0.1, 0.1, 0.0, 0.0, 0.0, 0.0, 0.0, 0.0, 0.0, 0.0],\n",
    "    [0.1, 0.1, 0.1, 0.1, 0.1, 0.1, 0.1, 0.1, 0.0, 0.0, 0.0, 0.0, 0.0, 0.0, 0.0, 0.0],\n",
    "    [0.1, 0.1, 0.1, 0.1, 0.1, 0.1, 0.1, 0.1, 0.0, 0.0, 0.0, 0.0, 0.0, 0.0, 0.0, 0.0]\n",
    "]).reshape(1, 1, 16, 16) \n",
    "img1 = 0.1-torch.einsum('nchw->ncwh', img0.clone())\n",
    "img2 = torch.zeros((1, 1, 16, 16))\n",
    "for i in range(16):\n",
    "    for j in range(16):\n",
    "        if j <= i:  # 대각선 아래 삼각형\n",
    "            img2[0, 0, i, j] = 0.1\n",
    "# 빈 이미지\n",
    "img3 = torch.zeros((1, 1, 16, 16))\n",
    "block_size = 2\n",
    "# 블록 단위로 채우기\n",
    "for i in range(0, 16, block_size):\n",
    "    for j in range(0, 16, block_size):\n",
    "        if ((i // block_size) + (j // block_size)) % 2 == 0:\n",
    "            img3[0, 0, i:i+block_size, j:j+block_size] = 0.1"
   ]
  },
  {
   "cell_type": "markdown",
   "id": "2f56199f-364b-449f-a223-0893f48f2c9a",
   "metadata": {},
   "source": [
    "`-` `squeeze()` 차원이 1인 것을 없애줌"
   ]
  },
  {
   "cell_type": "code",
   "execution_count": 31,
   "id": "34e28c5f-a435-4f80-afb5-46f2c3ffd394",
   "metadata": {},
   "outputs": [
    {
     "data": {
      "text/plain": [
       "<matplotlib.image.AxesImage at 0x7fcd7b87ebf0>"
      ]
     },
     "execution_count": 31,
     "metadata": {},
     "output_type": "execute_result"
    },
    {
     "data": {
      "image/png": "[encoded data removed]",
      "text/plain": [
       "<Figure size 800x800 with 4 Axes>"
      ]
     },
     "metadata": {},
     "output_type": "display_data"
    }
   ],
   "source": [
    "fig, axs = plt.subplots(2,2)\n",
    "fig.set_figheight(8)\n",
    "fig.set_figwidth(8)\n",
    "axs[0][0].imshow(img0.squeeze(),cmap=\"gray\")\n",
    "axs[0][1].imshow(img1.squeeze(),cmap=\"gray\")\n",
    "axs[1][0].imshow(img2.squeeze(),cmap=\"gray\")\n",
    "axs[1][1].imshow(img3.squeeze(),cmap=\"gray\")"
   ]
  },
  {
   "cell_type": "code",
   "execution_count": 32,
   "id": "9188d432-c153-4fde-8edc-6d0949ea7483",
   "metadata": {},
   "outputs": [
    {
     "data": {
      "text/plain": [
       "torch.Size([4, 1, 16, 16])"
      ]
     },
     "execution_count": 32,
     "metadata": {},
     "output_type": "execute_result"
    }
   ],
   "source": [
    "imgs = torch.concat([img0,img1,img2,img3],axis=0)\n",
    "imgs.shape"
   ]
  },
  {
   "cell_type": "markdown",
   "id": "041d6e43-b25c-4fda-878d-750c78ab1d3d",
   "metadata": {},
   "source": [
    "#### B. vertical edge"
   ]
  },
  {
   "cell_type": "code",
   "execution_count": 33,
   "id": "28420214-bbcf-4b7a-88ee-eb47b4fb00b5",
   "metadata": {},
   "outputs": [],
   "source": [
    "v_conv = torch.nn.Conv2d(\n",
    "    in_channels=1,\n",
    "    out_channels=1,\n",
    "    kernel_size=4,\n",
    "    bias=False\n",
    ")"
   ]
  },
  {
   "cell_type": "code",
   "execution_count": 36,
   "id": "d92cabda-e66a-46ad-8faa-b6e82409a43b",
   "metadata": {},
   "outputs": [],
   "source": [
    "v_conv.weight.data = torch.tensor([[[\n",
    "    [ 0, 0, 0, 0],\n",
    "    [ 0, 1.0, -1.0, 0],\n",
    "    [0, 1.0, -1.0, 0],\n",
    "    [ 0, 0, 0, 0]\n",
    "]]])"
   ]
  },
  {
   "cell_type": "markdown",
   "id": "ecf14af9-0942-494e-8889-4009fc36337a",
   "metadata": {},
   "source": [
    "`-` v_conv는 좌우방향의 펙셀 변화, 즉 수직 방향의 엣지를 감지하는데 적절"
   ]
  },
  {
   "cell_type": "code",
   "execution_count": 40,
   "id": "bac69612-e994-4a6f-8cbe-4437c42a5908",
   "metadata": {},
   "outputs": [
    {
     "data": {
      "text/plain": [
       "<matplotlib.image.AxesImage at 0x7fcd659a2e00>"
      ]
     },
     "execution_count": 40,
     "metadata": {},
     "output_type": "execute_result"
    },
    {
     "data": {
      "image/png": "[encoded data removed]",
      "text/plain": [
       "<Figure size 800x800 with 4 Axes>"
      ]
     },
     "metadata": {},
     "output_type": "display_data"
    }
   ],
   "source": [
    "fig, axs = plt.subplots(2,2)\n",
    "fig.set_figheight(8)\n",
    "fig.set_figwidth(8)\n",
    "axs[0][0].imshow(v_conv(imgs)[0].squeeze().data,cmap=\"gray\")\n",
    "axs[0][1].imshow(v_conv(imgs)[1].squeeze().data,cmap=\"gray\")\n",
    "axs[1][0].imshow(v_conv(imgs)[2].squeeze().data,cmap=\"gray\")\n",
    "axs[1][1].imshow(v_conv(imgs)[3].squeeze().data,cmap=\"gray\")"
   ]
  },
  {
   "cell_type": "markdown",
   "id": "6a227994-df29-4822-a101-23468116920c",
   "metadata": {},
   "source": [
    "#### C. horizontal edge"
   ]
  },
  {
   "cell_type": "code",
   "execution_count": 38,
   "id": "7827824f-40a1-474d-9d9c-35eee93bf257",
   "metadata": {},
   "outputs": [],
   "source": [
    "h_conv = torch.nn.Conv2d(\n",
    "    in_channels=1,\n",
    "    out_channels=1,\n",
    "    kernel_size=4,\n",
    "    bias=False\n",
    ")"
   ]
  },
  {
   "cell_type": "code",
   "execution_count": 39,
   "id": "bcb4da7e-bc1f-4678-8d3f-f260188d7255",
   "metadata": {},
   "outputs": [],
   "source": [
    "h_conv.weight.data = torch.tensor([[[\n",
    "    [ 0, 0, 0, 0],\n",
    "    [ 0, -1.0, -1.0, 0],\n",
    "    [0, 1.0, 1.0, 0],\n",
    "    [ 0, 0, 0, 0]\n",
    "]]])"
   ]
  },
  {
   "cell_type": "markdown",
   "id": "ed245a7c-43a0-4978-97e9-b3a1d730b3ac",
   "metadata": {},
   "source": [
    "`-` h_conv는 위아래 방향의 픽셀 변화, 즉 수평 방향의 엣지를 감지하는데 적절"
   ]
  },
  {
   "cell_type": "code",
   "execution_count": 41,
   "id": "63287faa-e0bc-4d5e-a1ec-2e71c816e01c",
   "metadata": {},
   "outputs": [
    {
     "data": {
      "text/plain": [
       "<matplotlib.image.AxesImage at 0x7fcd5df1b9d0>"
      ]
     },
     "execution_count": 41,
     "metadata": {},
     "output_type": "execute_result"
    },
    {
     "data": {
      "image/png": "[encoded data removed]",
      "text/plain": [
       "<Figure size 800x800 with 4 Axes>"
      ]
     },
     "metadata": {},
     "output_type": "display_data"
    }
   ],
   "source": [
    "fig, axs = plt.subplots(2,2)\n",
    "fig.set_figheight(8)\n",
    "fig.set_figwidth(8)\n",
    "axs[0][0].imshow(h_conv(imgs)[0].squeeze().data,cmap=\"gray\")\n",
    "axs[0][1].imshow(h_conv(imgs)[1].squeeze().data,cmap=\"gray\")\n",
    "axs[1][0].imshow(h_conv(imgs)[2].squeeze().data,cmap=\"gray\")\n",
    "axs[1][1].imshow(h_conv(imgs)[3].squeeze().data,cmap=\"gray\")"
   ]
  },
  {
   "cell_type": "markdown",
   "id": "aa06da2f-cd04-4748-9adf-4b7dc0f740d7",
   "metadata": {},
   "source": [
    "#### D. 이동평균"
   ]
  },
  {
   "cell_type": "code",
   "execution_count": 34,
   "id": "29838419-8fea-4669-b120-95073cf74141",
   "metadata": {},
   "outputs": [],
   "source": [
    "m_conv = torch.nn.Conv2d(\n",
    "    in_channels=1,\n",
    "    out_channels=1,\n",
    "    kernel_size=4,\n",
    ")\n",
    "m_conv.weight.data = m_conv.weight.data*0 + 1/16\n",
    "m_conv.bias.data = m_conv.bias.data*0 - 0.05"
   ]
  },
  {
   "cell_type": "code",
   "execution_count": 35,
   "id": "08b9c189-b1cb-41e4-8a6e-a5e690f67cf4",
   "metadata": {},
   "outputs": [
    {
     "data": {
      "text/plain": [
       "<matplotlib.image.AxesImage at 0x7fcd5d8a1e10>"
      ]
     },
     "execution_count": 35,
     "metadata": {},
     "output_type": "execute_result"
    },
    {
     "data": {
      "image/png": "[encoded data removed]",
      "text/plain": [
       "<Figure size 800x800 with 4 Axes>"
      ]
     },
     "metadata": {},
     "output_type": "display_data"
    }
   ],
   "source": [
    "fig, axs = plt.subplots(2,2)\n",
    "fig.set_figheight(8)\n",
    "fig.set_figwidth(8)\n",
    "axs[0][0].imshow(m_conv(imgs)[0].squeeze().data,cmap=\"gray\")\n",
    "axs[0][1].imshow(m_conv(imgs)[1].squeeze().data,cmap=\"gray\")\n",
    "axs[1][0].imshow(m_conv(imgs)[2].squeeze().data,cmap=\"gray\")\n",
    "axs[1][1].imshow(m_conv(imgs)[3].squeeze().data,cmap=\"gray\")"
   ]
  },
  {
   "cell_type": "markdown",
   "id": "1728eef9-5c3f-4d7b-89d5-a6e49bbd50b6",
   "metadata": {},
   "source": [
    "#### E. (C,D,E) + relu + mp"
   ]
  },
  {
   "cell_type": "code",
   "execution_count": 51,
   "id": "e774b40f-cabb-4454-84ea-30b810995f9e",
   "metadata": {},
   "outputs": [],
   "source": [
    "relu = torch.nn.ReLU()\n",
    "mp = torch.nn.MaxPool2d(kernel_size=13)"
   ]
  },
  {
   "cell_type": "code",
   "execution_count": 52,
   "id": "c3de872d-00a4-436b-9e98-22dbe2ca0432",
   "metadata": {},
   "outputs": [
    {
     "data": {
      "text/plain": [
       "tensor([[[[0.2000]]],\n",
       "\n",
       "\n",
       "        [[[0.0000]]],\n",
       "\n",
       "\n",
       "        [[[0.1000]]],\n",
       "\n",
       "\n",
       "        [[[0.2000]]]], grad_fn=<MaxPool2DWithIndicesBackward0>)"
      ]
     },
     "execution_count": 52,
     "metadata": {},
     "output_type": "execute_result"
    }
   ],
   "source": [
    "mp(relu(v_conv(imgs)))"
   ]
  },
  {
   "cell_type": "code",
   "execution_count": 53,
   "id": "4e34df47-e612-4a5d-8a38-effc5ff13b7a",
   "metadata": {},
   "outputs": [
    {
     "data": {
      "text/plain": [
       "tensor([[[[0.0000]]],\n",
       "\n",
       "\n",
       "        [[[0.2000]]],\n",
       "\n",
       "\n",
       "        [[[0.1000]]],\n",
       "\n",
       "\n",
       "        [[[0.2000]]]], grad_fn=<MaxPool2DWithIndicesBackward0>)"
      ]
     },
     "execution_count": 53,
     "metadata": {},
     "output_type": "execute_result"
    }
   ],
   "source": [
    "mp(relu(h_conv(imgs)))"
   ]
  },
  {
   "cell_type": "code",
   "execution_count": 54,
   "id": "74a9e534-0df4-423b-a5dc-a58e6905c403",
   "metadata": {},
   "outputs": [
    {
     "data": {
      "text/plain": [
       "tensor([[[[5.0000e-02]]],\n",
       "\n",
       "\n",
       "        [[[5.0000e-02]]],\n",
       "\n",
       "\n",
       "        [[[5.0000e-02]]],\n",
       "\n",
       "\n",
       "        [[[9.3132e-10]]]], grad_fn=<MaxPool2DWithIndicesBackward0>)"
      ]
     },
     "execution_count": 54,
     "metadata": {},
     "output_type": "execute_result"
    }
   ],
   "source": [
    "mp(relu(m_conv(imgs)))"
   ]
  },
  {
   "cell_type": "markdown",
   "id": "54746c31-fdb0-43e3-9b60-04627ccaac2d",
   "metadata": {},
   "source": [
    "#### F. 구조 "
   ]
  },
  {
   "cell_type": "code",
   "execution_count": 55,
   "id": "8bc26090-0663-481a-b810-5a1206fa1aaf",
   "metadata": {},
   "outputs": [],
   "source": [
    "net = torch.nn.Sequential(\n",
    "    torch.nn.Conv2d(in_channels=1,out_channels=3,kernel_size=4),\n",
    "    torch.nn.ReLU(),\n",
    "    torch.nn.MaxPool2d(kernel_size=13),\n",
    "    torch.nn.Flatten()\n",
    ")\n",
    "net[0].weight.data = torch.concat(\n",
    "    [v_conv.weight.data,\n",
    "     h_conv.weight.data,\n",
    "     m_conv.weight.data],axis=0)\n",
    "net[0].bias.data = torch.tensor([0.0,0.0, -0.05])"
   ]
  },
  {
   "cell_type": "code",
   "execution_count": 56,
   "id": "9c539e0d-9ac1-4af8-b124-1132607c1e70",
   "metadata": {},
   "outputs": [
    {
     "data": {
      "text/plain": [
       "<matplotlib.image.AxesImage at 0x7fcd5dee45e0>"
      ]
     },
     "execution_count": 56,
     "metadata": {},
     "output_type": "execute_result"
    },
    {
     "data": {
      "image/png": "[encoded data removed]",
      "text/plain": [
       "<Figure size 400x533.333 with 1 Axes>"
      ]
     },
     "metadata": {},
     "output_type": "display_data"
    }
   ],
   "source": [
    "plt.matshow(net(imgs).data,cmap=\"gray\")"
   ]
  },
  {
   "cell_type": "code",
   "execution_count": 57,
   "id": "607ca803-6d5b-495e-8e78-dc5b74258a58",
   "metadata": {},
   "outputs": [
    {
     "data": {
      "text/plain": [
       "torch.Size([4, 3])"
      ]
     },
     "execution_count": 57,
     "metadata": {},
     "output_type": "execute_result"
    }
   ],
   "source": [
    "net(imgs).shape"
   ]
  },
  {
   "cell_type": "markdown",
   "id": "886eef7a-13b7-4b8c-8969-02f450717e60",
   "metadata": {},
   "source": [
    "> 출력은 (n,3)으로 정리되어서 나온다. 이 시점부터는 더 이상 이미지가\n",
    "> 입력이라고 생각하지 않아도 되고, 단순히 (n, 3) 크기의 숫자 데이터가\n",
    "> 입력으로 주어진 것처럼 보면 된다. 즉 이제부터는 이 (n,3) 데이터를\n",
    "> 입력으로 받는 신경망을 설계하면 된다.\n",
    "\n",
    "### G. mp의 역할?\n",
    "\n",
    "`-` 샘플이미지"
   ]
  },
  {
   "cell_type": "code",
   "execution_count": 58,
   "id": "d3098517-a4ed-4a13-9e34-82755b04f571",
   "metadata": {},
   "outputs": [],
   "source": [
    "img = torch.zeros((1, 1, 16, 16))\n",
    "triangle_size = 4\n",
    "for i in range(triangle_size):\n",
    "    for j in range(triangle_size):\n",
    "        if j <= i:  # 아래 방향 직각삼각형 (왼쪽 위 꼭짓점 기준)\n",
    "            img[0, 0, i, j] = 1.0"
   ]
  },
  {
   "cell_type": "code",
   "execution_count": 59,
   "id": "1fcd8233-019d-4cdf-9bd1-e1af6574e290",
   "metadata": {},
   "outputs": [
    {
     "data": {
      "text/plain": [
       "<matplotlib.image.AxesImage at 0x7fcd6fa55840>"
      ]
     },
     "execution_count": 59,
     "metadata": {},
     "output_type": "execute_result"
    },
    {
     "data": {
      "image/png": "[encoded data removed]",
      "text/plain": [
       "<Figure size 450x300 with 1 Axes>"
      ]
     },
     "metadata": {},
     "output_type": "display_data"
    }
   ],
   "source": [
    "plt.imshow(img.squeeze(),cmap=\"gray\")"
   ]
  },
  {
   "cell_type": "markdown",
   "id": "fc46e742-0714-4a39-98f2-c48b8d4f56d5",
   "metadata": {},
   "source": [
    "`-` mp 1회"
   ]
  },
  {
   "cell_type": "code",
   "execution_count": 60,
   "id": "2a71a2dd-8940-4988-90be-013612288f0f",
   "metadata": {},
   "outputs": [
    {
     "data": {
      "text/plain": [
       "<matplotlib.image.AxesImage at 0x7fcd6fad47c0>"
      ]
     },
     "execution_count": 60,
     "metadata": {},
     "output_type": "execute_result"
    },
    {
     "data": {
      "image/png": "[encoded data removed]",
      "text/plain": [
       "<Figure size 450x300 with 1 Axes>"
      ]
     },
     "metadata": {},
     "output_type": "display_data"
    }
   ],
   "source": [
    "mp = torch.nn.MaxPool2d(kernel_size=2)\n",
    "plt.imshow(mp(img).squeeze(),cmap=\"gray\")"
   ]
  },
  {
   "cell_type": "markdown",
   "id": "5e1a87fa-ef05-4730-960b-3723204bb5be",
   "metadata": {},
   "source": [
    "`-` mp 2~4회"
   ]
  },
  {
   "cell_type": "code",
   "execution_count": 61,
   "id": "37207691-021c-4f71-a5c0-52756dcca52d",
   "metadata": {},
   "outputs": [
    {
     "data": {
      "text/plain": [
       "<matplotlib.image.AxesImage at 0x7fcd66113a30>"
      ]
     },
     "execution_count": 61,
     "metadata": {},
     "output_type": "execute_result"
    },
    {
     "data": {
      "image/png": "[encoded data removed]",
      "text/plain": [
       "<Figure size 450x300 with 1 Axes>"
      ]
     },
     "metadata": {},
     "output_type": "display_data"
    }
   ],
   "source": [
    "mp = torch.nn.MaxPool2d(kernel_size=2)\n",
    "plt.imshow(mp(mp(img)).squeeze(),cmap=\"gray\")"
   ]
  },
  {
   "cell_type": "code",
   "execution_count": 62,
   "id": "925d1723-de02-4b17-8d41-02a730f02db7",
   "metadata": {},
   "outputs": [
    {
     "data": {
      "text/plain": [
       "<matplotlib.image.AxesImage at 0x7fcd66196200>"
      ]
     },
     "execution_count": 62,
     "metadata": {},
     "output_type": "execute_result"
    },
    {
     "data": {
      "image/png": "[encoded data removed]",
      "text/plain": [
       "<Figure size 450x300 with 1 Axes>"
      ]
     },
     "metadata": {},
     "output_type": "display_data"
    }
   ],
   "source": [
    "mp = torch.nn.MaxPool2d(kernel_size=2)\n",
    "plt.imshow(mp(mp(mp(img))).squeeze(),cmap=\"gray\")"
   ]
  },
  {
   "cell_type": "markdown",
   "id": "3dd204ab-3c64-4e77-8198-448fb0a5179e",
   "metadata": {},
   "source": [
    "`-` maxpooling은 이미지를 “캐리커처화” 한다고 비유할 수 있음. 디테일은\n",
    "버리고, 중요한 특징만 뽑아서 과장되게 요약한다.\n",
    "\n",
    "### 4. FashionMNIST"
   ]
  },
  {
   "cell_type": "markdown",
   "id": "f1766f49-bd65-4f3b-a0c5-bafbea5ccf34",
   "metadata": {},
   "source": [
    "`-` CNN\n",
    "\n",
    "- $\\to$ 2d // flatten(conv(특징) - relu(특징추가) - maxpooling(요약))\n",
    "- $\\to$ 1d // 단순신경망(그냥 펼친걸로 신경망)"
   ]
  },
  {
   "cell_type": "markdown",
   "id": "a03f3dd5-8489-4248-ac87-c00cb5046681",
   "metadata": {},
   "source": [
    "\n",
    "`-` 데이터"
   ]
  },
  {
   "cell_type": "code",
   "execution_count": 64,
   "id": "effb1015-85e6-4ec3-a17c-8eabad0de040",
   "metadata": {},
   "outputs": [],
   "source": [
    "train_dataset = torchvision.datasets.FashionMNIST(root='./data', train=True, download=False)\n",
    "train_dataset = torch.utils.data.Subset(train_dataset, range(5000))\n",
    "to_tensor = torchvision.transforms.ToTensor()\n",
    "X = torch.stack([to_tensor(img) for img, lbl in train_dataset]).to(\"cuda:0\")\n",
    "y = torch.tensor([lbl for img, lbl in train_dataset])\n",
    "y = torch.nn.functional.one_hot(y).float().to(\"cuda:0\")"
   ]
  },
  {
   "cell_type": "markdown",
   "id": "bfb7dc90-ace2-4f1c-96b8-6aacb4488d3e",
   "metadata": {},
   "source": [
    "`-` 2d를 처리하고 flatten하는 네트워크"
   ]
  },
  {
   "cell_type": "code",
   "execution_count": 70,
   "id": "ce2fe75c-ed24-483c-b2b9-dadbd4eac561",
   "metadata": {},
   "outputs": [],
   "source": [
    "net1 = torch.nn.Sequential(\n",
    "    torch.nn.Conv2d(in_channels=1,out_channels=16,kernel_size=5),\n",
    "    torch.nn.ReLU(),\n",
    "    torch.nn.MaxPool2d(kernel_size=2),\n",
    "    torch.nn.Flatten()\n",
    ").to(\"cuda:0\")"
   ]
  },
  {
   "cell_type": "code",
   "execution_count": 71,
   "id": "e4774e34-76d2-46e5-a3d2-0b7aa05a752e",
   "metadata": {},
   "outputs": [
    {
     "data": {
      "text/plain": [
       "torch.Size([5000, 2304])"
      ]
     },
     "execution_count": 71,
     "metadata": {},
     "output_type": "execute_result"
    }
   ],
   "source": [
    "net1(X).shape"
   ]
  },
  {
   "cell_type": "markdown",
   "id": "277fddfd-736f-452d-89f9-97c597449953",
   "metadata": {},
   "source": [
    "> 출력은 (n,2304)으로 정리되어서 나온다. 이 시점부터는 더 이상 이미지가\n",
    "> 입력이라고 생각하지 않아도 되고, 단순히 (n, 2304) 크기의 숫자 데이터가\n",
    "> 입력으로 주어진 것처럼 보면 된다. 즉 이제부터는 이 (n,2304) 데이터를\n",
    "> 입력으로 받는 신경망을 설계하면 된다.\n",
    "\n",
    "`-` 1d를 처리하는 네트워크"
   ]
  },
  {
   "cell_type": "code",
   "execution_count": 72,
   "id": "45d5d3cc-1161-4e6f-bb6c-ac85b0104cc4",
   "metadata": {},
   "outputs": [],
   "source": [
    "net2= torch.nn.Sequential(\n",
    "    torch.nn.Linear(2304,10),\n",
    ").to(\"cuda:0\")"
   ]
  },
  {
   "cell_type": "markdown",
   "id": "15a48892-8f3f-4317-8aa1-250c87f7aa2b",
   "metadata": {},
   "source": [
    "`-` 두 네트워크를 결합"
   ]
  },
  {
   "cell_type": "code",
   "execution_count": 74,
   "id": "529d4740-1b4e-4286-a412-0e461e896443",
   "metadata": {},
   "outputs": [
    {
     "data": {
      "text/plain": [
       "torch.Size([5000, 10])"
      ]
     },
     "execution_count": 74,
     "metadata": {},
     "output_type": "execute_result"
    }
   ],
   "source": [
    "net = torch.nn.Sequential(\n",
    "    net1,\n",
    "    net2\n",
    ")\n",
    "net(X).shape"
   ]
  },
  {
   "cell_type": "markdown",
   "id": "ecd6b5dc-9612-403f-8de2-183acae3e448",
   "metadata": {},
   "source": [
    "`-` **최종적인 코드**"
   ]
  },
  {
   "cell_type": "code",
   "execution_count": 75,
   "id": "b109b704-d58a-4ccc-b103-5735bab6347c",
   "metadata": {},
   "outputs": [],
   "source": [
    "net = torch.nn.Sequential(\n",
    "    net1,\n",
    "    net2\n",
    ")\n",
    "loss_fn = torch.nn.CrossEntropyLoss()\n",
    "optimizr=torch.optim.Adam(net.parameters())\n",
    "#---#\n",
    "for epoc in range(100):\n",
    "    #1\n",
    "    netout = net(X)\n",
    "    #2\n",
    "    loss = loss_fn(netout,y)\n",
    "    #3\n",
    "    loss.backward()\n",
    "    #4 \n",
    "    optimizr.step()\n",
    "    optimizr.zero_grad()"
   ]
  },
  {
   "cell_type": "code",
   "execution_count": 76,
   "id": "c70b72c2-4b75-4b7b-8eed-6c18beede542",
   "metadata": {},
   "outputs": [
    {
     "data": {
      "text/plain": [
       "tensor(0.8806, device='cuda:0')"
      ]
     },
     "execution_count": 76,
     "metadata": {},
     "output_type": "execute_result"
    }
   ],
   "source": [
    "(net(X).argmax(axis=1) == y.argmax(axis=1)).float().mean()"
   ]
  }
 ],
 "metadata": {
  "kernelspec": {
   "display_name": "Python 3 (ipykernel)",
   "language": "python",
   "name": "python3"
  },
  "language_info": {
   "codemirror_mode": {
    "name": "ipython",
    "version": 3
   },
   "file_extension": ".py",
   "mimetype": "text/x-python",
   "name": "python",
   "nbconvert_exporter": "python",
   "pygments_lexer": "ipython3",
   "version": "3.10.12"
  }
 },
 "nbformat": 4,
 "nbformat_minor": 5
}
