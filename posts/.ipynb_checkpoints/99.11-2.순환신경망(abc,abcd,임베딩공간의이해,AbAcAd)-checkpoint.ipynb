{
 "cells": [
  {
   "cell_type": "raw",
   "id": "2db14ee4-ff36-4f2b-bc47-fcf0df16b785",
   "metadata": {},
   "source": [
    "---\n",
    "title: \"11-2. 순환신경망(abc, abcd, 임베딩 공간의 이해, AbAcAd)\"\n",
    "author: \"이상민\"\n",
    "date: \"05/19/2025\"\n",
    "---"
   ]
  },
  {
   "cell_type": "markdown",
   "id": "b9ded014-fd90-4cba-b0bf-86d338eee053",
   "metadata": {},
   "source": [
    "### 1. imports"
   ]
  },
  {
   "cell_type": "code",
   "execution_count": 2,
   "id": "bd806595-18f2-48d8-9ed6-570e4c1dfc93",
   "metadata": {},
   "outputs": [],
   "source": [
    "import torch\n",
    "import pandas as pd\n",
    "import matplotlib.pyplot as plt"
   ]
  },
  {
   "cell_type": "markdown",
   "id": "f856f7cc-c317-4475-bf39-f5ac7c546caa",
   "metadata": {},
   "source": [
    "### 2. 예비학습"
   ]
  },
  {
   "cell_type": "markdown",
   "id": "26c5445c-ad41-433e-862b-15a1588b23bd",
   "metadata": {},
   "source": [
    "#### A. `tanh`"
   ]
  },
  {
   "cell_type": "markdown",
   "id": "6986912c-480a-41ad-9ba2-86405933c473",
   "metadata": {},
   "source": [
    "`-` -1 ~ 1 사이의 값으로 눌러줌"
   ]
  },
  {
   "cell_type": "code",
   "execution_count": 3,
   "id": "38a38025-84a1-4485-ac45-fa1afba6a66d",
   "metadata": {},
   "outputs": [
    {
     "data": {
      "text/plain": [
       "[<matplotlib.lines.Line2D at 0x7f5d61cb3c70>]"
      ]
     },
     "execution_count": 3,
     "metadata": {},
     "output_type": "execute_result"
    },
    {
     "data": {
      "image/png": "[encoded data removed]",
      "text/plain": [
       "<Figure size 640x480 with 1 Axes>"
      ]
     },
     "metadata": {},
     "output_type": "display_data"
    }
   ],
   "source": [
    "x = torch.linspace(-5,5,1001)\n",
    "tanh = torch.nn.Tanh()\n",
    "plt.plot(x,tanh(x))"
   ]
  },
  {
   "cell_type": "markdown",
   "id": "89ec126c-55bb-4c99-b9a5-9df99569da5a",
   "metadata": {},
   "source": [
    "#### B. `softmax`"
   ]
  },
  {
   "cell_type": "code",
   "execution_count": 4,
   "id": "2dc57948-01b0-43fe-a82d-27456f6d7638",
   "metadata": {},
   "outputs": [
    {
     "data": {
      "text/plain": [
       "tensor([[-1.1782,  1.6316,  0.5482, -0.6946, -0.6848],\n",
       "        [ 0.5399,  0.0712,  0.9139, -0.2284, -0.4968],\n",
       "        [-0.8063, -0.3270,  0.3055,  1.0497, -0.0171],\n",
       "        [ 1.4671, -0.7696, -0.3457, -1.6227, -0.2787],\n",
       "        [-0.4191,  1.2115,  0.6292,  0.6747,  0.4630],\n",
       "        [-1.2914,  0.0693, -0.3052,  1.1501,  0.2244],\n",
       "        [-0.9604, -0.5878,  0.9529, -1.0903,  1.0144],\n",
       "        [-0.8665, -0.0338, -0.8355,  2.5382,  0.8553],\n",
       "        [-0.7910, -0.3800, -0.6669, -1.2565,  0.2230],\n",
       "        [ 0.2993,  0.7133,  0.9967,  0.2293, -0.5739]])"
      ]
     },
     "execution_count": 4,
     "metadata": {},
     "output_type": "execute_result"
    }
   ],
   "source": [
    "logits = torch.randn((10,5))\n",
    "logits"
   ]
  },
  {
   "cell_type": "code",
   "execution_count": 5,
   "id": "4ea85d4a-ff3b-4903-8771-14aa95580daf",
   "metadata": {},
   "outputs": [
    {
     "data": {
      "text/plain": [
       "tensor([[0.0378, 0.6270, 0.2122, 0.0612, 0.0618],\n",
       "        [0.2566, 0.1606, 0.3729, 0.1190, 0.0910],\n",
       "        [0.0702, 0.1133, 0.2133, 0.4489, 0.1545],\n",
       "        [0.6711, 0.0717, 0.1095, 0.0305, 0.1171],\n",
       "        [0.0696, 0.3556, 0.1986, 0.2079, 0.1682],\n",
       "        [0.0423, 0.1651, 0.1135, 0.4864, 0.1927],\n",
       "        [0.0578, 0.0839, 0.3914, 0.0507, 0.4162],\n",
       "        [0.0250, 0.0574, 0.0258, 0.7520, 0.1398],\n",
       "        [0.1423, 0.2147, 0.1612, 0.0894, 0.3924],\n",
       "        [0.1703, 0.2577, 0.3421, 0.1588, 0.0711]])"
      ]
     },
     "execution_count": 5,
     "metadata": {},
     "output_type": "execute_result"
    }
   ],
   "source": [
    "probs = torch.nn.functional.softmax(logits,dim=1)\n",
    "probs"
   ]
  },
  {
   "cell_type": "markdown",
   "id": "8e0d40c4-a581-4cff-989e-b155710dc258",
   "metadata": {},
   "source": [
    "### 3. abc"
   ]
  },
  {
   "cell_type": "markdown",
   "id": "b93b75bd-2bf6-4232-a448-8ea11e5d1939",
   "metadata": {},
   "source": [
    "####  A. Data"
   ]
  },
  {
   "cell_type": "code",
   "execution_count": 6,
   "id": "960ecf3c-825f-4a2b-8343-00af2f6fae22",
   "metadata": {},
   "outputs": [
    {
     "data": {
      "text/plain": [
       "['a', 'b', 'c', 'a', 'b', 'c', 'a', 'b', 'c', 'a']"
      ]
     },
     "execution_count": 6,
     "metadata": {},
     "output_type": "execute_result"
    }
   ],
   "source": [
    "txt = list('abc'*100)\n",
    "txt[:10]"
   ]
  },
  {
   "cell_type": "code",
   "execution_count": 7,
   "id": "349e096d-ecfc-49a8-bb61-e083b504daaf",
   "metadata": {},
   "outputs": [
    {
     "data": {
      "text/html": [
       "<div>\n",
       "<style scoped>\n",
       "    .dataframe tbody tr th:only-of-type {\n",
       "        vertical-align: middle;\n",
       "    }\n",
       "\n",
       "    .dataframe tbody tr th {\n",
       "        vertical-align: top;\n",
       "    }\n",
       "\n",
       "    .dataframe thead th {\n",
       "        text-align: right;\n",
       "    }\n",
       "</style>\n",
       "<table border=\"1\" class=\"dataframe\">\n",
       "  <thead>\n",
       "    <tr style=\"text-align: right;\">\n",
       "      <th></th>\n",
       "      <th>x</th>\n",
       "      <th>y</th>\n",
       "    </tr>\n",
       "  </thead>\n",
       "  <tbody>\n",
       "    <tr>\n",
       "      <th>0</th>\n",
       "      <td>a</td>\n",
       "      <td>b</td>\n",
       "    </tr>\n",
       "    <tr>\n",
       "      <th>1</th>\n",
       "      <td>b</td>\n",
       "      <td>c</td>\n",
       "    </tr>\n",
       "    <tr>\n",
       "      <th>2</th>\n",
       "      <td>c</td>\n",
       "      <td>a</td>\n",
       "    </tr>\n",
       "    <tr>\n",
       "      <th>3</th>\n",
       "      <td>a</td>\n",
       "      <td>b</td>\n",
       "    </tr>\n",
       "    <tr>\n",
       "      <th>4</th>\n",
       "      <td>b</td>\n",
       "      <td>c</td>\n",
       "    </tr>\n",
       "  </tbody>\n",
       "</table>\n",
       "</div>"
      ],
      "text/plain": [
       "   x  y\n",
       "0  a  b\n",
       "1  b  c\n",
       "2  c  a\n",
       "3  a  b\n",
       "4  b  c"
      ]
     },
     "execution_count": 7,
     "metadata": {},
     "output_type": "execute_result"
    }
   ],
   "source": [
    "df_train = pd.DataFrame({'x': txt[:-1], 'y': txt[1:]})\n",
    "df_train[:5]"
   ]
  },
  {
   "cell_type": "code",
   "execution_count": 8,
   "id": "08fc9aa9-2898-40d4-a132-4f164137fef2",
   "metadata": {},
   "outputs": [],
   "source": [
    "x = torch.tensor(df_train.x.map({'a':0,'b':1,'c':2}))\n",
    "y = torch.tensor(df_train.y.map({'a':0,'b':1,'c':2}))"
   ]
  },
  {
   "cell_type": "markdown",
   "id": "d1117e19-d234-4b2c-86df-9dba209d6c13",
   "metadata": {},
   "source": [
    "`-` x,y\n",
    "\n",
    "* 원래는 이 형식 틀림\n",
    "* 그런데 y는 onehot 안해도 알아서 토치에서 해주므로 length-n벡터 형태로 정리해도 무방\n",
    "* 그리고 x는 onehot+linr 쓰지 않고 임베딩을 쓰면 length-n벡터 형태로 정리해도 무방"
   ]
  },
  {
   "cell_type": "markdown",
   "id": "cfa7b952-dd76-43bd-9f2d-b6ead149bc8a",
   "metadata": {},
   "source": [
    "#### B. MLP - 하나의 은닉 노드"
   ]
  },
  {
   "cell_type": "markdown",
   "id": "9c9b9bed-f8dc-4345-8446-8effab167259",
   "metadata": {},
   "source": [
    "`-` 적합"
   ]
  },
  {
   "cell_type": "code",
   "execution_count": 11,
   "id": "05bbd161-8164-4044-8b38-f5585ad705ae",
   "metadata": {},
   "outputs": [],
   "source": [
    "torch.manual_seed(43052)\n",
    "net = torch.nn.Sequential(\n",
    "    torch.nn.Embedding(num_embeddings=3,embedding_dim=1),\n",
    "    torch.nn.Tanh(), # 외우세여. \n",
    "    torch.nn.Linear(in_features=1, out_features=3),\n",
    ")\n",
    "loss_fn = torch.nn.CrossEntropyLoss()\n",
    "optimizr = torch.optim.Adam(net.parameters(),lr=0.1)"
   ]
  },
  {
   "cell_type": "code",
   "execution_count": 12,
   "id": "3fd3855f-6bb0-4ab8-89a7-2e05ecfcf4f7",
   "metadata": {},
   "outputs": [],
   "source": [
    "for epoc in range(50):\n",
    "    ## 1 \n",
    "    netout = net(x) \n",
    "    ## 2 \n",
    "    loss = loss_fn(netout,y)\n",
    "    ## 3 \n",
    "    loss.backward()\n",
    "    ## 4 \n",
    "    optimizr.step()\n",
    "    optimizr.zero_grad()"
   ]
  },
  {
   "cell_type": "code",
   "execution_count": 13,
   "id": "2b97f85c-915b-4f1e-b063-44015c760c78",
   "metadata": {},
   "outputs": [
    {
     "data": {
      "text/plain": [
       "(tensor([1, 2, 0, 1, 2, 0, 1, 2, 0, 1, 2, 0, 1, 2, 0, 1, 2, 0, 1, 2, 0, 1, 2, 0,\n",
       "         1, 2, 0, 1, 2, 0, 1, 2, 0, 1, 2, 0, 1, 2, 0, 1, 2, 0, 1, 2, 0, 1, 2, 0,\n",
       "         1, 2, 0, 1, 2, 0, 1, 2, 0, 1, 2, 0, 1, 2, 0, 1, 2, 0, 1, 2, 0, 1, 2, 0,\n",
       "         1, 2, 0, 1, 2, 0, 1, 2, 0, 1, 2, 0, 1, 2, 0, 1, 2, 0, 1, 2, 0, 1, 2, 0,\n",
       "         1, 2, 0, 1, 2, 0, 1, 2, 0, 1, 2, 0, 1, 2, 0, 1, 2, 0, 1, 2, 0, 1, 2, 0,\n",
       "         1, 2, 0, 1, 2, 0, 1, 2, 0, 1, 2, 0, 1, 2, 0, 1, 2, 0, 1, 2, 0, 1, 2, 0,\n",
       "         1, 2, 0, 1, 2, 0, 1, 2, 0, 1, 2, 0, 1, 2, 0, 1, 2, 0, 1, 2, 0, 1, 2, 0,\n",
       "         1, 2, 0, 1, 2, 0, 1, 2, 0, 1, 2, 0, 1, 2, 0, 1, 2, 0, 1, 2, 0, 1, 2, 0,\n",
       "         1, 2, 0, 1, 2, 0, 1, 2, 0, 1, 2, 0, 1, 2, 0, 1, 2, 0, 1, 2, 0, 1, 2, 0,\n",
       "         1, 2, 0, 1, 2, 0, 1, 2, 0, 1, 2, 0, 1, 2, 0, 1, 2, 0, 1, 2, 0, 1, 2, 0,\n",
       "         1, 2, 0, 1, 2, 0, 1, 2, 0, 1, 2, 0, 1, 2, 0, 1, 2, 0, 1, 2, 0, 1, 2, 0,\n",
       "         1, 2, 0, 1, 2, 0, 1, 2, 0, 1, 2, 0, 1, 2, 0, 1, 2, 0, 1, 2, 0, 1, 2, 0,\n",
       "         1, 2, 0, 1, 2, 0, 1, 2, 0, 1, 2]),\n",
       " tensor([1, 2, 0, 1, 2, 0, 1, 2, 0, 1, 2, 0, 1, 2, 0, 1, 2, 0, 1, 2, 0, 1, 2, 0,\n",
       "         1, 2, 0, 1, 2, 0, 1, 2, 0, 1, 2, 0, 1, 2, 0, 1, 2, 0, 1, 2, 0, 1, 2, 0,\n",
       "         1, 2, 0, 1, 2, 0, 1, 2, 0, 1, 2, 0, 1, 2, 0, 1, 2, 0, 1, 2, 0, 1, 2, 0,\n",
       "         1, 2, 0, 1, 2, 0, 1, 2, 0, 1, 2, 0, 1, 2, 0, 1, 2, 0, 1, 2, 0, 1, 2, 0,\n",
       "         1, 2, 0, 1, 2, 0, 1, 2, 0, 1, 2, 0, 1, 2, 0, 1, 2, 0, 1, 2, 0, 1, 2, 0,\n",
       "         1, 2, 0, 1, 2, 0, 1, 2, 0, 1, 2, 0, 1, 2, 0, 1, 2, 0, 1, 2, 0, 1, 2, 0,\n",
       "         1, 2, 0, 1, 2, 0, 1, 2, 0, 1, 2, 0, 1, 2, 0, 1, 2, 0, 1, 2, 0, 1, 2, 0,\n",
       "         1, 2, 0, 1, 2, 0, 1, 2, 0, 1, 2, 0, 1, 2, 0, 1, 2, 0, 1, 2, 0, 1, 2, 0,\n",
       "         1, 2, 0, 1, 2, 0, 1, 2, 0, 1, 2, 0, 1, 2, 0, 1, 2, 0, 1, 2, 0, 1, 2, 0,\n",
       "         1, 2, 0, 1, 2, 0, 1, 2, 0, 1, 2, 0, 1, 2, 0, 1, 2, 0, 1, 2, 0, 1, 2, 0,\n",
       "         1, 2, 0, 1, 2, 0, 1, 2, 0, 1, 2, 0, 1, 2, 0, 1, 2, 0, 1, 2, 0, 1, 2, 0,\n",
       "         1, 2, 0, 1, 2, 0, 1, 2, 0, 1, 2, 0, 1, 2, 0, 1, 2, 0, 1, 2, 0, 1, 2, 0,\n",
       "         1, 2, 0, 1, 2, 0, 1, 2, 0, 1, 2]))"
      ]
     },
     "execution_count": 13,
     "metadata": {},
     "output_type": "execute_result"
    }
   ],
   "source": [
    "netout.argmax(axis=1),y"
   ]
  },
  {
   "cell_type": "markdown",
   "id": "b50dc2e1-ad0b-48c7-8f1c-238a98f87ac4",
   "metadata": {},
   "source": [
    "`-` 결과 시각화"
   ]
  },
  {
   "cell_type": "code",
   "execution_count": 19,
   "id": "3d8fc084-5fc8-4b2e-b6b9-56e3c5370bbf",
   "metadata": {},
   "outputs": [
    {
     "name": "stderr",
     "output_type": "stream",
     "text": [
      "/tmp/ipykernel_161072/1296214551.py:14: UserWarning: This figure includes Axes that are not compatible with tight_layout, so results might be incorrect.\n",
      "  plt.tight_layout()\n"
     ]
    },
    {
     "data": {
      "image/png": "[encoded data removed]",
      "text/plain": [
       "<Figure size 533.333x480 with 2 Axes>"
      ]
     },
     "metadata": {},
     "output_type": "display_data"
    }
   ],
   "source": [
    "ebdd,tanh,linr = net\n",
    "X = torch.nn.functional.one_hot(x)\n",
    "h = tanh(ebdd(x)).data\n",
    "netout = linr(tanh(ebdd(x))).data\n",
    "yhat = torch.nn.functional.softmax(net(x),dim=1).data\n",
    "mat = torch.concat([X,h,netout/netout.max(),yhat],axis=1)\n",
    "#---#\n",
    "plt.matshow(mat[:9, :],cmap=\"bwr\",vmin=-1,vmax=1)\n",
    "plt.colorbar()\n",
    "plt.axvline(2.5,color=\"lime\")\n",
    "plt.axvline(3.5,color=\"lime\")\n",
    "plt.axvline(6.5,color=\"lime\")\n",
    "plt.xticks(ticks=[0,1,2,3,4,5,6,7,8,9],labels=[r\"$x_a$\",r\"$x_b$\",r\"$x_c$\",r\"$h$\",r\"$out_a$\",r\"$out_b$\",r\"$out_c$\",r\"$\\hat{y}_a$\",r\"$\\hat{y}_b$\",r\"$\\hat{y}_c$\"]);\n",
    "plt.tight_layout()"
   ]
  },
  {
   "cell_type": "markdown",
   "id": "9a01aaea-aa6f-48b8-8ec8-d83e6bb3dd4c",
   "metadata": {},
   "source": [
    "`-` 시각화해석: 학습이 잘 된것 같지만 깔끔하지 않음.\n",
    "\n",
    "-   netout 을 보는 요령: 가장 빨간부분이 예측값이 된다.\n",
    "-   문제1: $out_b$의 경우 애매한 색깔만 있음. 네트워크가 정답을 잘\n",
    "    모른다는 의미. ($out_a$, $out_c$처럼 확실하지 않음)\n",
    "-   문제1의 원인: $out_b$의 경우에 대응하는 ${\\boldsymbol h}$를 살펴보니\n",
    "    흰색임. 이것은 값이 0이라는 의미인데 이때는 ${\\boldsymbol h}$ 에\n",
    "    걸리는 선형변환 $linr_{1 \\to 3}$ 의 weight 가 의미없고 bias만\n",
    "    의미있기 때문에 특징을 잡기에 불리하다.\n",
    "-   문제2: ${\\boldsymbol h}$가 흰색이면(=0이 나오면) 불리하며, 확실한\n",
    "    색을 가지고 있는것이 유리함. 그렇지만 확실한 색인 빨강 파랑은 이미\n",
    "    차지된 상태라서 어쩔수 없이 흰색으로 선택된 것.\n",
    "-   문제2를 해결하는 방법: $a,b,c$라는 세문자를 표현하기에\n",
    "    $(-1,1)$사이의 숫자는 너무 불리함..\n",
    "\n",
    "#### C. MLP – 두개의 은닉노드\n",
    "\n",
    "`-` 적합"
   ]
  },
  {
   "cell_type": "code",
   "execution_count": 23,
   "id": "6754408d-f3c6-4709-ae5d-2aa3958657a8",
   "metadata": {},
   "outputs": [],
   "source": [
    "torch.manual_seed(43052)\n",
    "net = torch.nn.Sequential(\n",
    "    torch.nn.Embedding(num_embeddings=3,embedding_dim=2),\n",
    "    torch.nn.Tanh(),\n",
    "    torch.nn.Linear(in_features=2,out_features=3),\n",
    ")\n",
    "loss_fn = torch.nn.CrossEntropyLoss() \n",
    "optimizr = torch.optim.Adam(net.parameters(),lr=0.1)"
   ]
  },
  {
   "cell_type": "code",
   "execution_count": 24,
   "id": "736d8074-c098-4aad-83c2-97e84ffbe683",
   "metadata": {},
   "outputs": [],
   "source": [
    "for epoc in range(50):\n",
    "    ## 1 \n",
    "    netout = net(x)\n",
    "    ## 2 \n",
    "    loss = loss_fn(netout,y)\n",
    "    ## 3 \n",
    "    loss.backward()\n",
    "    ## 4 \n",
    "    optimizr.step()\n",
    "    optimizr.zero_grad()"
   ]
  },
  {
   "cell_type": "markdown",
   "id": "5d246ee2-c89e-4314-93ce-e46249486e77",
   "metadata": {},
   "source": [
    "`-` 결과 시각화"
   ]
  },
  {
   "cell_type": "code",
   "execution_count": 25,
   "id": "2b59720d-c8e5-4c73-b7d7-759a39f86416",
   "metadata": {},
   "outputs": [
    {
     "data": {
      "image/png": "[encoded data removed]",
      "text/plain": [
       "<Figure size 586.667x480 with 2 Axes>"
      ]
     },
     "metadata": {},
     "output_type": "display_data"
    }
   ],
   "source": [
    "ebdd,tanh,linr = net\n",
    "X = torch.nn.functional.one_hot(x)\n",
    "h = tanh(ebdd(x)).data\n",
    "netout = linr(tanh(ebdd(x))).data\n",
    "yhat = torch.nn.functional.softmax(net(x),dim=1).data\n",
    "mat = torch.concat([X,h,netout/netout.max(),yhat],axis=1)\n",
    "#---#\n",
    "plt.matshow(mat[:9,:] ,cmap=\"bwr\",vmin=-1,vmax=1)\n",
    "plt.colorbar()\n",
    "plt.axvline(2.5,color=\"lime\")\n",
    "plt.axvline(4.5,color=\"lime\")\n",
    "plt.axvline(7.5,color=\"lime\")\n",
    "plt.xticks(ticks=[0,1,2,3,4,5,6,7,8,9,10],labels=[r\"$x_a$\", r\"$x_b$\", r\"$x_c$\",r\"$h_1$\",r\"$h_2$\",r\"$out_a$\",r\"$out_b$\",r\"$out_c$\",r\"$\\hat{y_a}$\",r\"$\\hat{y_b}$\",r\"$\\hat{y_c}$\"]);"
   ]
  },
  {
   "cell_type": "markdown",
   "id": "9a780531-6d60-4ef5-8d19-170e590c1750",
   "metadata": {},
   "source": [
    "`-` 시각화해석: 깔끔함. netout의 가장 빨간부분도 너무 명확함.\n",
    "${\\boldsymbol h}$가 0이 아닌 값으로 학습되어있음\n",
    "\n",
    "-   x=a $\\Rightarrow$ h=(파,빨) $\\Rightarrow$ y=b\n",
    "-   x=b $\\Rightarrow$ h=(빨,파) $\\Rightarrow$ y=c\n",
    "-   x=c $\\Rightarrow$ h=(빨,빨) $\\Rightarrow$ y=a\n",
    "-   h = (파,파) 는 사용하지 않음. –\\> 문자열 d를 하나 더 쓸수 있는\n",
    "    공간이 $h$에 있다고 해석할 수 있음..\n",
    "\n",
    "### 4. `abcd`\n",
    "\n",
    "#### A. Data"
   ]
  },
  {
   "cell_type": "code",
   "execution_count": 26,
   "id": "6b9b8e80-263b-49c2-9a4e-8509123e826e",
   "metadata": {},
   "outputs": [
    {
     "data": {
      "text/plain": [
       "['a', 'b', 'c', 'd', 'a', 'b', 'c', 'd', 'a', 'b']"
      ]
     },
     "execution_count": 26,
     "metadata": {},
     "output_type": "execute_result"
    }
   ],
   "source": [
    "txt = list('abcd'*100)\n",
    "txt[:10]"
   ]
  },
  {
   "cell_type": "code",
   "execution_count": 27,
   "id": "f367492e-d662-424e-b4c9-bcb76b5bd1b0",
   "metadata": {},
   "outputs": [
    {
     "data": {
      "text/html": [
       "<div>\n",
       "<style scoped>\n",
       "    .dataframe tbody tr th:only-of-type {\n",
       "        vertical-align: middle;\n",
       "    }\n",
       "\n",
       "    .dataframe tbody tr th {\n",
       "        vertical-align: top;\n",
       "    }\n",
       "\n",
       "    .dataframe thead th {\n",
       "        text-align: right;\n",
       "    }\n",
       "</style>\n",
       "<table border=\"1\" class=\"dataframe\">\n",
       "  <thead>\n",
       "    <tr style=\"text-align: right;\">\n",
       "      <th></th>\n",
       "      <th>x</th>\n",
       "      <th>y</th>\n",
       "    </tr>\n",
       "  </thead>\n",
       "  <tbody>\n",
       "    <tr>\n",
       "      <th>0</th>\n",
       "      <td>a</td>\n",
       "      <td>b</td>\n",
       "    </tr>\n",
       "    <tr>\n",
       "      <th>1</th>\n",
       "      <td>b</td>\n",
       "      <td>c</td>\n",
       "    </tr>\n",
       "    <tr>\n",
       "      <th>2</th>\n",
       "      <td>c</td>\n",
       "      <td>d</td>\n",
       "    </tr>\n",
       "    <tr>\n",
       "      <th>3</th>\n",
       "      <td>d</td>\n",
       "      <td>a</td>\n",
       "    </tr>\n",
       "    <tr>\n",
       "      <th>4</th>\n",
       "      <td>a</td>\n",
       "      <td>b</td>\n",
       "    </tr>\n",
       "  </tbody>\n",
       "</table>\n",
       "</div>"
      ],
      "text/plain": [
       "   x  y\n",
       "0  a  b\n",
       "1  b  c\n",
       "2  c  d\n",
       "3  d  a\n",
       "4  a  b"
      ]
     },
     "execution_count": 27,
     "metadata": {},
     "output_type": "execute_result"
    }
   ],
   "source": [
    "df_train = pd.DataFrame({'x':txt[:-1], 'y':txt[1:]})\n",
    "df_train[:5]"
   ]
  },
  {
   "cell_type": "code",
   "execution_count": 28,
   "id": "0c71738b-e416-4b59-8d97-2643cc9998ba",
   "metadata": {},
   "outputs": [],
   "source": [
    "x = torch.tensor(df_train.x.map({'a':0, 'b':1, 'c':2, 'd':3}))\n",
    "y = torch.tensor(df_train.y.map({'a':0, 'b':1, 'c':2, 'd':3}))"
   ]
  },
  {
   "cell_type": "markdown",
   "id": "4f93cbbf-adce-408a-b1b8-df954b7a7665",
   "metadata": {},
   "source": [
    "#### B. MLP - 하나의 은닉노드"
   ]
  },
  {
   "cell_type": "markdown",
   "id": "ee1263a4-3b30-4f12-947a-443c07f13b54",
   "metadata": {},
   "source": [
    "`-` 학습"
   ]
  },
  {
   "cell_type": "code",
   "execution_count": 29,
   "id": "814954a8-b841-4480-b560-438f8c9e0cea",
   "metadata": {},
   "outputs": [],
   "source": [
    "net = torch.nn.Sequential(\n",
    "    torch.nn.Embedding(num_embeddings=4,embedding_dim=1),\n",
    "    torch.nn.Tanh(),\n",
    "    torch.nn.Linear(in_features=1,out_features=4)\n",
    ")\n",
    "ebdd,tanh,linr = net \n",
    "ebdd.weight.data = torch.tensor([[-0.3333],[-2.5000],[5.0000],[0.3333]])\n",
    "linr.weight.data = torch.tensor([[1.5000],[-6.0000],[-2.0000],[6.0000]])\n",
    "linr.bias.data = torch.tensor([0.1500, -2.0000,  0.1500, -2.000])\n",
    "loss_fn = torch.nn.CrossEntropyLoss()\n",
    "optimizr = torch.optim.Adam(net.parameters(),lr=0.1)"
   ]
  },
  {
   "cell_type": "code",
   "execution_count": 30,
   "id": "b71080f6-3d2f-46ba-bcf6-4016fcdd2fe7",
   "metadata": {},
   "outputs": [],
   "source": [
    "for epoc in range(50):\n",
    "    ## 1 \n",
    "    netout = net(x)\n",
    "    ## 2 \n",
    "    loss = loss_fn(netout,y)\n",
    "    ## 3 \n",
    "    loss.backward()\n",
    "    ## 4 \n",
    "    optimizr.step()\n",
    "    optimizr.zero_grad()"
   ]
  },
  {
   "cell_type": "markdown",
   "id": "a480181d-f649-4cd1-bc03-4402d7cfd2c9",
   "metadata": {},
   "source": [
    "`-` 결과 시각화"
   ]
  },
  {
   "cell_type": "code",
   "execution_count": 32,
   "id": "386d824d-beaf-4727-895d-5f1458277013",
   "metadata": {},
   "outputs": [
    {
     "data": {
      "image/png": "[encoded data removed]",
      "text/plain": [
       "<Figure size 624x480 with 2 Axes>"
      ]
     },
     "metadata": {},
     "output_type": "display_data"
    }
   ],
   "source": [
    "ebdd,tanh,linr = net\n",
    "X = torch.nn.functional.one_hot(x)\n",
    "h = tanh(ebdd(x)).data\n",
    "netout = linr(tanh(ebdd(x))).data\n",
    "yhat = torch.nn.functional.softmax(net(x),dim=1).data\n",
    "mat = torch.concat([X,h,netout/netout.max(),yhat],axis=1)\n",
    "#---#\n",
    "plt.matshow(mat[:10, :],cmap=\"bwr\",vmin=-1,vmax=1)\n",
    "plt.colorbar()\n",
    "plt.axvline(3.5,color=\"lime\")\n",
    "plt.axvline(4.5,color=\"lime\")\n",
    "plt.axvline(8.5,color=\"lime\")\n",
    "plt.xticks(\n",
    "    ticks=[0,1,2,3,4,5,6,7,8,9,10,11,12],\n",
    "    labels=[\n",
    "        r\"$x_a$\",r\"$x_b$\",r\"$x_c$\",r\"$x_d$\",\n",
    "        r\"$h$\",\n",
    "        r\"$out_a$\",r\"$out_b$\",r\"$out_c$\",r\"$out_d$\",\n",
    "        r\"$\\hat{y}_a$\",r\"$\\hat{y}_b$\",r\"$\\hat{y}_c$\",r\"$\\hat{y}_d$\"]\n",
    ");"
   ]
  },
  {
   "cell_type": "markdown",
   "id": "c1a604c0-5205-4111-babc-48ee40281314",
   "metadata": {},
   "source": [
    "#### C. MLP - 두 개의 은닉노드"
   ]
  },
  {
   "cell_type": "code",
   "execution_count": 33,
   "id": "48187cc0-dfa4-4dfc-a1c5-beb9a0110f5d",
   "metadata": {},
   "outputs": [],
   "source": [
    "torch.manual_seed(43052)\n",
    "net = torch.nn.Sequential(\n",
    "    torch.nn.Embedding(num_embeddings=4,embedding_dim=2),\n",
    "    torch.nn.Tanh(),\n",
    "    torch.nn.Linear(in_features=2,out_features=4)\n",
    ")\n",
    "loss_fn = torch.nn.CrossEntropyLoss()\n",
    "optimizr = torch.optim.Adam(net.parameters(),lr=0.1)"
   ]
  },
  {
   "cell_type": "code",
   "execution_count": 34,
   "id": "39b2e470-32d6-422f-b15d-3bf60fb920e3",
   "metadata": {},
   "outputs": [],
   "source": [
    "for epoc in range(50):\n",
    "    ## 1 \n",
    "    netout = net(x)\n",
    "    ## 2 \n",
    "    loss = loss_fn(netout,y)\n",
    "    ## 3 \n",
    "    loss.backward()\n",
    "    ## 4 \n",
    "    optimizr.step()\n",
    "    optimizr.zero_grad()"
   ]
  },
  {
   "cell_type": "markdown",
   "id": "7369be4f-80e8-4219-bbdf-e3bdf82def8d",
   "metadata": {},
   "source": [
    "`-` 결과 시각화"
   ]
  },
  {
   "cell_type": "code",
   "execution_count": 35,
   "id": "b74a10c0-1d5b-4c49-a4f7-bfc576cea9bc",
   "metadata": {},
   "outputs": [
    {
     "data": {
      "image/png": "[encoded data removed]",
      "text/plain": [
       "<Figure size 672x480 with 2 Axes>"
      ]
     },
     "metadata": {},
     "output_type": "display_data"
    }
   ],
   "source": [
    "ebdd,tanh,linr = net\n",
    "X = torch.nn.functional.one_hot(x)\n",
    "h = tanh(ebdd(x)).data\n",
    "netout = linr(tanh(ebdd(x))).data\n",
    "yhat = torch.nn.functional.softmax(net(x),dim=1).data\n",
    "mat = torch.concat([X,h,netout/netout.max(),yhat],axis=1)\n",
    "#---#\n",
    "plt.matshow(mat[:10, :],cmap=\"bwr\",vmin=-1,vmax=1)\n",
    "plt.colorbar()\n",
    "plt.axvline(3.5,color=\"lime\")\n",
    "plt.axvline(5.5,color=\"lime\")\n",
    "plt.axvline(9.5,color=\"lime\")\n",
    "plt.xticks(\n",
    "    ticks=[0,1,2,3,4,5,6,7,8,9,10,11,12,13],\n",
    "    labels=[\n",
    "        r\"$x_a$\",r\"$x_b$\",r\"$x_c$\",r\"$x_d$\",\n",
    "        r\"$h_1$\",r\"$h_2$\",\n",
    "        r\"$out_a$\",r\"$out_b$\",r\"$out_c$\",r\"$out_d$\",\n",
    "        r\"$\\hat{y}_a$\",r\"$\\hat{y}_b$\",r\"$\\hat{y}_c$\",r\"$\\hat{y}_d$\"]\n",
    ");"
   ]
  },
  {
   "cell_type": "markdown",
   "id": "e173e7fc-62a1-489c-be19-aa7199eef9d1",
   "metadata": {},
   "source": [
    "#### D. 비교실험"
   ]
  },
  {
   "cell_type": "markdown",
   "id": "cf7e04b6-d872-4fe7-8535-4e64b55c15dc",
   "metadata": {},
   "source": [
    "`-` 히든 layer 1개 : 4 $\\to$ 1"
   ]
  },
  {
   "cell_type": "code",
   "execution_count": 36,
   "id": "a0d95c43-92c6-437e-b671-2650cf1f7d3e",
   "metadata": {},
   "outputs": [],
   "source": [
    "class Net1(torch.nn.Module):\n",
    "    def __init__(self):\n",
    "        super().__init__()\n",
    "        ## 우리가 yhat을 구할때 사용할 레이어를 정의 \n",
    "        self.ebdd = torch.nn.Embedding(4,1)\n",
    "        self.tanh = torch.nn.Tanh()\n",
    "        self.linr = torch.nn.Linear(1,4)\n",
    "        ## 정의 끝\n",
    "    def forward(self,X):\n",
    "        ## yhat을 어떻게 구할것인지 정의 \n",
    "        ebdd_x = self.ebdd(x)\n",
    "        h = self.tanh(ebdd_x)\n",
    "        netout = self.linr(h)\n",
    "        ## 정의 끝\n",
    "        return netout"
   ]
  },
  {
   "cell_type": "markdown",
   "id": "5e77b3c2-4904-4b9d-8e47-b4092fe0153e",
   "metadata": {},
   "source": [
    "`-` 히든 layer 2개 : 4 $\\to$ 2"
   ]
  },
  {
   "cell_type": "code",
   "execution_count": 37,
   "id": "a545fe1b-49e6-4b70-be58-de0901dc53aa",
   "metadata": {},
   "outputs": [],
   "source": [
    "class Net2(torch.nn.Module):\n",
    "    def __init__(self):\n",
    "        super().__init__()\n",
    "        ## 우리가 yhat을 구할때 사용할 레이어를 정의 \n",
    "        self.ebdd = torch.nn.Embedding(4,2)\n",
    "        self.tanh = torch.nn.Tanh()\n",
    "        self.linr = torch.nn.Linear(2,4)\n",
    "        ## 정의 끝\n",
    "    def forward(self,X):\n",
    "        ## yhat을 어떻게 구할것인지 정의 \n",
    "        ebdd_x = self.ebdd(x)\n",
    "        h = self.tanh(ebdd_x)\n",
    "        netout = self.linr(h)\n",
    "        ## 정의 끝\n",
    "        return netout"
   ]
  },
  {
   "cell_type": "code",
   "execution_count": 38,
   "id": "4db31c83-4e93-4088-8240-42e1bff5a63e",
   "metadata": {},
   "outputs": [
    {
     "data": {
      "image/png": "[encoded data removed]",
      "text/plain": [
       "<Figure size 1000x1000 with 25 Axes>"
      ]
     },
     "metadata": {},
     "output_type": "display_data"
    }
   ],
   "source": [
    "fig, ax = plt.subplots(5,5,figsize=(10,10))\n",
    "for i in range(5):\n",
    "    for j in range(5):\n",
    "        net = Net1()\n",
    "        optimizr = torch.optim.Adam(net.parameters(),lr=0.1)\n",
    "        loss_fn = torch.nn.CrossEntropyLoss()\n",
    "        for epoc in range(50):\n",
    "            ## 1 \n",
    "            netout = net(x)\n",
    "            ## 2 \n",
    "            loss = loss_fn(netout,y)\n",
    "            ## 3 \n",
    "            loss.backward()\n",
    "            ## 4 \n",
    "            optimizr.step()\n",
    "            optimizr.zero_grad()\n",
    "        h = net.tanh(net.ebdd(x)).data\n",
    "        yhat = torch.nn.functional.softmax(net(x),dim=1).data\n",
    "        mat = torch.concat([h,yhat],axis=1)\n",
    "        ax[i][j].matshow(mat[:6, :],cmap='bwr',vmin=-1,vmax=1)\n",
    "        ax[i][j].axvline(0.5,color='lime')\n",
    "        ax[i][j].set_xticks(ticks=[0,1,2,3,4],labels=[r\"$h$\",r\"$y_a$\",r\"$y_b$\",r\"$y_c$\",r\"$y_d$\"])\n",
    "fig.suptitle(\"# of hidden nodes = 1\", size=20)\n",
    "fig.tight_layout()"
   ]
  },
  {
   "cell_type": "code",
   "execution_count": 44,
   "id": "519c65e0-5a55-4ba1-8c88-b3f6bbae7a23",
   "metadata": {},
   "outputs": [
    {
     "data": {
      "image/png": "[encoded data removed]",
      "text/plain": [
       "<Figure size 1000x1000 with 25 Axes>"
      ]
     },
     "metadata": {},
     "output_type": "display_data"
    }
   ],
   "source": [
    "fig, ax = plt.subplots(5,5,figsize=(10,10))\n",
    "for i in range(5):\n",
    "    for j in range(5):\n",
    "        net = Net2()\n",
    "        optimizr = torch.optim.Adam(net.parameters(),lr=0.1)\n",
    "        loss_fn = torch.nn.CrossEntropyLoss()\n",
    "        for epoc in range(50):\n",
    "            ## 1 \n",
    "            netout = net(x)\n",
    "            ## 2 \n",
    "            loss = loss_fn(netout,y)\n",
    "            ## 3 \n",
    "            loss.backward()\n",
    "            ## 4 \n",
    "            optimizr.step()\n",
    "            optimizr.zero_grad()\n",
    "        h = net.tanh(net.ebdd(x)).data\n",
    "        yhat = torch.nn.functional.softmax(net(x),dim=1).data\n",
    "        mat = torch.concat([h,yhat],axis=1)\n",
    "        ax[i][j].matshow(mat[:6, :],cmap='bwr',vmin=-1,vmax=1)\n",
    "        ax[i][j].axvline(1.5,color='lime')\n",
    "        ax[i][j].set_xticks(ticks=[0,1,2,3,4],labels=[r\"$h$\",r\"$y_a$\",r\"$y_b$\",r\"$y_c$\",r\"$y_d$\"])\n",
    "fig.suptitle(\"# of hidden nodes = 2\", size=20)\n",
    "fig.tight_layout()"
   ]
  },
  {
   "cell_type": "markdown",
   "id": "a1d59a36-e939-41db-836f-4742b67e1534",
   "metadata": {},
   "source": [
    "### 5. **$h$** 에 대해여(★★★)"
   ]
  },
  {
   "cell_type": "markdown",
   "id": "03738e2c-8d54-4f5d-b591-982acc80f4df",
   "metadata": {},
   "source": [
    "`-` ${\\boldsymbol h}$는 사실 문자열 “abcd”들을 숫자로 바꾼 표현이라\n",
    "해석할 수 있음. 즉 원핫인코딩과 다른 또 다른 형태의 숫자표현이라 해석할\n",
    "수 있다.\n",
    "\n",
    "`-` 사실 ${\\boldsymbol h}$는 원핫인코딩보다 약간 더 (1) 액기스만 남은\n",
    "느낌 + (2) 숙성된 느낌을 준다\n",
    "\n",
    "-   (why1) ${\\boldsymbol h}$는 ${\\boldsymbol x}$ 보다\n",
    "    ${\\boldsymbol y}$를 예측함에 좀 더 직접적인 역할을 한다. 즉\n",
    "    ${\\boldsymbol x}$ 숫자보다 ${\\boldsymbol h}$ 숫자가 잘 정리되어 있고\n",
    "    (차원이 낮고) 입력의 특징을 잘 정리한 (추천시스템의 MBTI처럼)\n",
    "    의미있는 숫자이다.\n",
    "-   (why2) ${\\boldsymbol x}$는 학습없이 그냥 얻어지는 숫자표현이지만,\n",
    "    ${\\boldsymbol h}$는 학습을 통하여 고치고 고치고 고친 숫자표현이다.\n",
    "\n",
    "### 6. `AbAbAc` – 실패\n",
    "\n",
    "#### A. Data\n",
    "\n",
    "`-` 데이터 정리"
   ]
  },
  {
   "cell_type": "code",
   "execution_count": 45,
   "id": "d74ce2f2-0a2f-4c3a-a987-a3956fabdcf4",
   "metadata": {},
   "outputs": [
    {
     "data": {
      "text/plain": [
       "['A', 'b', 'A', 'c', 'A', 'd', 'A', 'b', 'A', 'c']"
      ]
     },
     "execution_count": 45,
     "metadata": {},
     "output_type": "execute_result"
    }
   ],
   "source": [
    "txt = list('AbAcAd'*50)\n",
    "txt[:10]"
   ]
  },
  {
   "cell_type": "code",
   "execution_count": 46,
   "id": "7cfb6c50-a7c9-44d2-918f-535e702754d6",
   "metadata": {},
   "outputs": [
    {
     "data": {
      "text/html": [
       "<div>\n",
       "<style scoped>\n",
       "    .dataframe tbody tr th:only-of-type {\n",
       "        vertical-align: middle;\n",
       "    }\n",
       "\n",
       "    .dataframe tbody tr th {\n",
       "        vertical-align: top;\n",
       "    }\n",
       "\n",
       "    .dataframe thead th {\n",
       "        text-align: right;\n",
       "    }\n",
       "</style>\n",
       "<table border=\"1\" class=\"dataframe\">\n",
       "  <thead>\n",
       "    <tr style=\"text-align: right;\">\n",
       "      <th></th>\n",
       "      <th>x</th>\n",
       "      <th>y</th>\n",
       "    </tr>\n",
       "  </thead>\n",
       "  <tbody>\n",
       "    <tr>\n",
       "      <th>0</th>\n",
       "      <td>A</td>\n",
       "      <td>b</td>\n",
       "    </tr>\n",
       "    <tr>\n",
       "      <th>1</th>\n",
       "      <td>b</td>\n",
       "      <td>A</td>\n",
       "    </tr>\n",
       "    <tr>\n",
       "      <th>2</th>\n",
       "      <td>A</td>\n",
       "      <td>c</td>\n",
       "    </tr>\n",
       "    <tr>\n",
       "      <th>3</th>\n",
       "      <td>c</td>\n",
       "      <td>A</td>\n",
       "    </tr>\n",
       "    <tr>\n",
       "      <th>4</th>\n",
       "      <td>A</td>\n",
       "      <td>d</td>\n",
       "    </tr>\n",
       "  </tbody>\n",
       "</table>\n",
       "</div>"
      ],
      "text/plain": [
       "   x  y\n",
       "0  A  b\n",
       "1  b  A\n",
       "2  A  c\n",
       "3  c  A\n",
       "4  A  d"
      ]
     },
     "execution_count": 46,
     "metadata": {},
     "output_type": "execute_result"
    }
   ],
   "source": [
    "df_train = pd.DataFrame({'x':txt[:-1], 'y':txt[1:]})\n",
    "df_train[:5]"
   ]
  },
  {
   "cell_type": "code",
   "execution_count": 47,
   "id": "22a52668-6990-4a0f-9015-e1554c1f1cf2",
   "metadata": {},
   "outputs": [],
   "source": [
    "x = torch.tensor(df_train.x.map({'A':0,'b':1,'c':2,'d':3}))\n",
    "y = torch.tensor(df_train.y.map({'A':0,'b':1,'c':2,'d':3}))"
   ]
  },
  {
   "cell_type": "code",
   "execution_count": 48,
   "id": "9362e309-4a5e-406d-a0fd-31e5f5ceec63",
   "metadata": {},
   "outputs": [
    {
     "data": {
      "text/plain": [
       "(tensor([0, 1, 0, 2, 0, 3, 0, 1]), tensor([1, 0, 2, 0, 3, 0, 1, 0]))"
      ]
     },
     "execution_count": 48,
     "metadata": {},
     "output_type": "execute_result"
    }
   ],
   "source": [
    "x[:8],y[:8]"
   ]
  },
  {
   "cell_type": "markdown",
   "id": "7be5d57c-6b50-46ab-b4d5-1848a3386d78",
   "metadata": {},
   "source": [
    "#### B. 풀이 – 실패\n",
    "\n",
    "`-` 적합\n",
    "\n",
    "`-` 결과시각화\n",
    "\n",
    "-   100번 시도해봤자 100번 망함"
   ]
  },
  {
   "cell_type": "code",
   "execution_count": 49,
   "id": "5495d144-63ec-49d1-a898-8a1ad973bc05",
   "metadata": {},
   "outputs": [],
   "source": [
    "net = torch.nn.Sequential(\n",
    "    torch.nn.Embedding(4,2),\n",
    "    torch.nn.Tanh(),\n",
    "    torch.nn.Linear(2,4)\n",
    ")\n",
    "loss_fn = torch.nn.CrossEntropyLoss()\n",
    "optimizr = torch.optim.Adam(net.parameters(), lr=0.1)\n",
    "#---#\n",
    "for epoc in range(100):\n",
    "    #!\n",
    "    netout = net(x)\n",
    "    #2\n",
    "    loss = loss_fn(netout, y)\n",
    "    #3\n",
    "    loss.backward()\n",
    "    #4\n",
    "    optimizr.step()\n",
    "    optimizr.zero_grad()"
   ]
  },
  {
   "cell_type": "code",
   "execution_count": 50,
   "id": "14a1142f-1f8a-43b7-8777-041cd7e3951b",
   "metadata": {},
   "outputs": [
    {
     "data": {
      "image/png": "[encoded data removed]",
      "text/plain": [
       "<Figure size 672x480 with 2 Axes>"
      ]
     },
     "metadata": {},
     "output_type": "display_data"
    }
   ],
   "source": [
    "ebdd,tanh,linr = net\n",
    "X = torch.nn.functional.one_hot(x)\n",
    "h = tanh(ebdd(x)).data\n",
    "netout = linr(tanh(ebdd(x))).data\n",
    "yhat = torch.nn.functional.softmax(net(x),dim=1).data\n",
    "mat = torch.concat([X,h,netout/netout.max(),yhat],axis=1)\n",
    "#---#\n",
    "plt.matshow(mat[:10, :],cmap=\"bwr\",vmin=-1,vmax=1)\n",
    "plt.colorbar()\n",
    "plt.axvline(3.5,color=\"lime\")\n",
    "plt.axvline(5.5,color=\"lime\")\n",
    "plt.axvline(9.5,color=\"lime\")\n",
    "plt.xticks(\n",
    "    ticks=[0,1,2,3,4,5,6,7,8,9,10,11,12,13],\n",
    "    labels=[\n",
    "        r\"$x_a$\",r\"$x_b$\",r\"$x_c$\",r\"$x_d$\",\n",
    "        r\"$h_1$\",r\"$h_2$\",\n",
    "        r\"$out_a$\",r\"$out_b$\",r\"$out_c$\",r\"$out_d$\",\n",
    "        r\"$\\hat{y}_a$\",r\"$\\hat{y}_b$\",r\"$\\hat{y}_c$\",r\"$\\hat{y}_d$\"]\n",
    ");"
   ]
  },
  {
   "cell_type": "markdown",
   "id": "371399b3-247c-4f82-a257-c9b5d00815ca",
   "metadata": {},
   "source": [
    "#### C. Discussions\n",
    "\n",
    "`-` 왜 망했을까?\n",
    "\n",
    "`-` `hello`[1] 문자열을 맞출 수 있을까?\n",
    "\n",
    "-   이전시점을 많이 고려하면 맞출수는 있음.\n",
    "-   그러나 이러한 방법들은 (ARMA, N-grams) 한계가 뚜렷 $\\to$\n",
    "    순환신경망의 등장\n",
    "\n",
    "### 8. 씨간장\n",
    "\n",
    "***(생각1) [수백년전통을 이어가는\n",
    "방법](https://www.joongang.co.kr/article/24087690#home)***\n",
    "\n",
    "    “1리터에 500만원에 낙찰된 적 있습니다.”\n",
    "    “2kg에 1억원 정도 추산됩니다.”\n",
    "    “20여 종 종자장을 블렌딩해 100ml에 5000만원씩 분양 예정입니다.”\n",
    "\n",
    "    모두 씨간장(종자장) 가격에 관한 실제 일화다.\n",
    "\n",
    "    (중략...)\n",
    "\n",
    "    위스키나 와인처럼 블렌딩을 하기도 한다. \n",
    "    새로 담근 간장에 씨간장을 넣거나, 씨간장독에 햇간장을 넣어 맛을 유지하기도 한다. \n",
    "    이를 겹장(또는 덧장)이라 한다. \n",
    "    몇몇 종갓집에선 씨간장 잇기를 몇백 년째 해오고 있다. \n",
    "    매년 새로 간장을 담가야 이어갈 수 있으니 불씨 꺼트리지 않는 것처럼 굉장히 어려운 일이다.\n",
    "    이렇게 하는 이유는 집집마다 내려오는 고유 장맛을 잃지 않기 위함이다. \n",
    "    씨간장이란 그만큼 소중한 주방의 자산이며 정체성이다.\n",
    "\n",
    "덧장: 새로운간장을 만들때, 옛날간장을 섞어서 만듬\n",
    "\n",
    "`*` 기존방식 -\n",
    "$\\text{콩물} \\overset{\\text{숙성}}{\\longrightarrow} \\text{간장}$\n",
    "\n",
    "`*` 수백년 전통의 간장맛을 유지하는 방식\n",
    "\n",
    "-   $\\text{콩물}_1 \\overset{\\text{숙성}}{\\longrightarrow} \\text{간장}_1$\n",
    "-   $\\text{콩물}_2, \\text{간장}_1 \\overset{\\text{숙성}}{\\longrightarrow} \\text{간장}_2$\n",
    "-   $\\text{콩물}_3, \\text{간장}_2 \\overset{\\text{숙성}}{\\longrightarrow} \\text{간장}_3$\n",
    "\n",
    "`*` 수백년 전통의 간장맛을 유지하면서 조리를 한다면?\n",
    "\n",
    "-   $\\text{콩물}_1 \\overset{\\text{숙성}}{\\longrightarrow} \\text{간장}_1 \\overset{\\text{조리}}{\\longrightarrow} \\text{간장계란밥}_1$\n",
    "-   $\\text{콩물}_2, \\text{간장}_1 \\overset{\\text{숙성}}{\\longrightarrow} \\text{간장}_2 \\overset{\\text{조리}}{\\longrightarrow} \\text{간장계란밥}_2$\n",
    "-   $\\text{콩물}_3, \\text{간장}_2 \\overset{\\text{숙성}}{\\longrightarrow} \\text{간장}_3 \\overset{\\text{조리}}{\\longrightarrow} \\text{간장계란밥}_3$\n",
    "\n",
    "점점 맛있는 간장계란밥이 탄생함\n",
    "\n",
    "`*` 알고리즘의 편의상 아래와 같이 생각해도 무방\n",
    "\n",
    "-   $\\text{콩물}_1, \\text{간장}_0 \\overset{\\text{숙성}}{\\longrightarrow} \\text{간장}_1 \\overset{\\text{조리}}{\\longrightarrow} \\text{간장계란밥}_1$,\n",
    "    $\\text{간장}_0=\\text{맹물}$\n",
    "-   $\\text{콩물}_2, \\text{간장}_1 \\overset{\\text{숙성}}{\\longrightarrow} \\text{간장}_2 \\overset{\\text{조리}}{\\longrightarrow} \\text{간장계란밥}_2$\n",
    "-   $\\text{콩물}_3, \\text{간장}_2 \\overset{\\text{숙성}}{\\longrightarrow} \\text{간장}_3 \\overset{\\text{조리}}{\\longrightarrow} \\text{간장계란밥}_3$\n",
    "\n",
    "***아이디어***\n",
    "\n",
    "`*` 수백년 전통의 간장맛을 유지하면서 조리하는 과정을 수식으로? (콩물을\n",
    "$x$로, 간장을 $h$로!!)\n",
    "\n",
    "-   $\\boldsymbol{x}_1, \\boldsymbol{h}_0 \\overset{\\text{숙성}}{\\longrightarrow} \\boldsymbol{h}_1 \\overset{\\text{조리}}{\\longrightarrow} \\hat{\\boldsymbol y}_1$\n",
    "-   $\\boldsymbol{x}_2, \\boldsymbol{h}_1 \\overset{\\text{숙성}}{\\longrightarrow} \\boldsymbol{h}_2 \\overset{\\text{조리}}{\\longrightarrow} \\hat{\\boldsymbol y}_2$\n",
    "-   $\\boldsymbol{x}_3, \\boldsymbol{h}_2 \\overset{\\text{숙성}}{\\longrightarrow} \\boldsymbol{h}_3 \\overset{\\text{조리}}{\\longrightarrow} \\hat{\\boldsymbol y}_3$\n",
    "\n",
    "이제 우리가 배울것은 (1) “$\\text{콩물}_{t}$”와 “$\\text{간장}_{t-1}$”로\n",
    "“$\\text{간장}_t$”를 `숙성`하는 방법 (2) “$\\text{간장}_t$”로\n",
    "“$\\text{간장계란밥}_t$를 `조리`하는 방법이다\n",
    "\n",
    "즉 `숙성`담당 네트워크와 `조리`담당 네트워크를 각각 만들어 학습하면\n",
    "된다.\n",
    "\n",
    "***(생각2) ${\\boldsymbol h}$에 대한 이해***\n",
    "\n",
    "`-` ${\\boldsymbol h}$는 사실 문자열 “abc, abcd”들을 숫자로 바꾼 표현이라\n",
    "해석할 수 있음. 즉 원핫인코딩과 다른 또 다른 형태의 숫자표현이라 해석할\n",
    "수 있다.\n",
    "\n",
    "`-` 사실 ${\\boldsymbol h}$는 원핫인코딩보다 약간 더 (1) 액기스만 남은\n",
    "느낌 + (2) 숙성된 느낌을 준다\n",
    "\n",
    "-   (why1) ${\\boldsymbol h}$는 ${\\boldsymbol x}$ 보다\n",
    "    ${\\boldsymbol y}$를 예측함에 좀 더 직접적인 역할을 한다. 즉\n",
    "    ${\\boldsymbol x}$ 숫자보다 ${\\boldsymbol h}$ 숫자가 잘 정리되어 있고\n",
    "    (차원이 낮고) 입력의 특징을 잘 정리한 (추천시스템의 MBTI처럼)\n",
    "    의미있는 숫자이다.\n",
    "-   (why2) ${\\boldsymbol x}$는 학습없이 그냥 얻어지는 숫자표현이지만,\n",
    "    ${\\boldsymbol h}$는 학습을 통하여 고치고 고치고 고친 숫자표현이다.\n",
    "\n",
    "결론: 사실 ${\\boldsymbol h}$는 잘 숙성되어있는 입력정보\n",
    "${\\boldsymbol x}$ 그 자체로 해석 할 수 있다.\n",
    "\n",
    "[1] 2015년 Andrej Karpathy(안드레이 카파시)의 “전설적인” 블로그\n",
    "<https://karpathy.github.io/2015/05/21/rnn-effectiveness/> 에 담긴 예제"
   ]
  }
 ],
 "metadata": {
  "kernelspec": {
   "display_name": "Python 3 (ipykernel)",
   "language": "python",
   "name": "python3"
  },
  "language_info": {
   "codemirror_mode": {
    "name": "ipython",
    "version": 3
   },
   "file_extension": ".py",
   "mimetype": "text/x-python",
   "name": "python",
   "nbconvert_exporter": "python",
   "pygments_lexer": "ipython3",
   "version": "3.10.12"
  }
 },
 "nbformat": 4,
 "nbformat_minor": 5
}
