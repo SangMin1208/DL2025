{
 "cells": [
  {
   "cell_type": "raw",
   "id": "637e3792-c08c-4008-98a9-7c634ac2714e",
   "metadata": {},
   "source": [
    "---\n",
    "title: \"8-2. XAI, 설명 가능한 인공지능(Class Activation Map)\"\n",
    "author: \"이상민\"\n",
    "date: \"05/4/2025\"\n",
    "---"
   ]
  },
  {
   "cell_type": "markdown",
   "id": "ea77d4ef-5e40-4d87-bca8-0a1772833818",
   "metadata": {},
   "source": [
    "### 1. imports"
   ]
  },
  {
   "cell_type": "code",
   "execution_count": 1,
   "id": "0e28bf51-2af5-429e-94a2-57a3fa64508d",
   "metadata": {},
   "outputs": [],
   "source": [
    "import torch\n",
    "import torchvision\n",
    "import PIL\n",
    "import requests\n",
    "import io\n",
    "import matplotlib.pyplot as plt"
   ]
  },
  {
   "cell_type": "markdown",
   "id": "7c4a3c89-1cec-4bad-8210-10b46de65e10",
   "metadata": {},
   "source": [
    "### 2. `torch.einsum`"
   ]
  },
  {
   "cell_type": "markdown",
   "id": "aab7ae27-1a6b-451f-9413-c1f7a673c5fe",
   "metadata": {},
   "source": [
    "#### A. transpose"
   ]
  },
  {
   "cell_type": "markdown",
   "id": "86efbbf0-34a3-44cf-83f5-004800bfad86",
   "metadata": {},
   "source": [
    "`-` test tensor"
   ]
  },
  {
   "cell_type": "code",
   "execution_count": 2,
   "id": "f1e38849-61ea-4212-90c6-105e8a08a4af",
   "metadata": {},
   "outputs": [
    {
     "data": {
      "text/plain": [
       "tensor([[ 0,  1,  2],\n",
       "        [ 3,  4,  5],\n",
       "        [ 6,  7,  8],\n",
       "        [ 9, 10, 11]])"
      ]
     },
     "execution_count": 2,
     "metadata": {},
     "output_type": "execute_result"
    }
   ],
   "source": [
    "tsr = torch.arange(12).reshape(4,3)\n",
    "tsr"
   ]
  },
  {
   "cell_type": "markdown",
   "id": "be5cccea-fb6d-4b17-90f3-9d7881fe0a49",
   "metadata": {},
   "source": [
    "`-` 행렬을 transpose 하는 방법 1"
   ]
  },
  {
   "cell_type": "code",
   "execution_count": 3,
   "id": "972b4940-bb9f-43d8-968b-1f35f3006bb0",
   "metadata": {},
   "outputs": [
    {
     "data": {
      "text/plain": [
       "tensor([[ 0,  3,  6,  9],\n",
       "        [ 1,  4,  7, 10],\n",
       "        [ 2,  5,  8, 11]])"
      ]
     },
     "execution_count": 3,
     "metadata": {},
     "output_type": "execute_result"
    }
   ],
   "source": [
    "tsr.t()"
   ]
  },
  {
   "cell_type": "markdown",
   "id": "d513bd96-fa75-4069-ae21-d021b252da4b",
   "metadata": {},
   "source": [
    "`-` 행렬을 transpose 하는 방법 2"
   ]
  },
  {
   "cell_type": "code",
   "execution_count": 5,
   "id": "65e420e7-4515-4656-b188-2157e9ec6abc",
   "metadata": {},
   "outputs": [
    {
     "data": {
      "text/plain": [
       "tensor([[ 0,  3,  6,  9],\n",
       "        [ 1,  4,  7, 10],\n",
       "        [ 2,  5,  8, 11]])"
      ]
     },
     "execution_count": 5,
     "metadata": {},
     "output_type": "execute_result"
    }
   ],
   "source": [
    "torch.einsum('ij -> ji', tsr)"
   ]
  },
  {
   "cell_type": "markdown",
   "id": "7f0a4402-b3da-4c43-b03b-48184c5f810d",
   "metadata": {},
   "source": [
    "#### B. 행렬곱"
   ]
  },
  {
   "cell_type": "markdown",
   "id": "9a135ec4-9d56-47d1-80c7-59882dcbbda2",
   "metadata": {},
   "source": [
    "`-` test tensors"
   ]
  },
  {
   "cell_type": "code",
   "execution_count": 6,
   "id": "3d3b76ac-faa6-4fec-acd0-f0ef77e66632",
   "metadata": {},
   "outputs": [
    {
     "data": {
      "text/plain": [
       "(tensor([[ 0.,  1.,  2.],\n",
       "         [ 3.,  4.,  5.],\n",
       "         [ 6.,  7.,  8.],\n",
       "         [ 9., 10., 11.]]),\n",
       " tensor([[ 0.,  1.,  2.,  3.,  4.],\n",
       "         [ 5.,  6.,  7.,  8.,  9.],\n",
       "         [10., 11., 12., 13., 14.]]))"
      ]
     },
     "execution_count": 6,
     "metadata": {},
     "output_type": "execute_result"
    }
   ],
   "source": [
    "tsr1 = torch.arange(12).reshape(4,3).float()\n",
    "tsr2 = torch.arange(15).reshape(3,5).float()\n",
    "tsr1,tsr2"
   ]
  },
  {
   "cell_type": "markdown",
   "id": "75fb8b7b-bbee-4888-aa04-a6a3e47dd34d",
   "metadata": {},
   "source": [
    "`-` 행렬곱을 수행하는 방법1"
   ]
  },
  {
   "cell_type": "code",
   "execution_count": 7,
   "id": "3f627a5a-ef34-4353-a0ae-a2ed544c9ee9",
   "metadata": {},
   "outputs": [
    {
     "data": {
      "text/plain": [
       "tensor([[ 25.,  28.,  31.,  34.,  37.],\n",
       "        [ 70.,  82.,  94., 106., 118.],\n",
       "        [115., 136., 157., 178., 199.],\n",
       "        [160., 190., 220., 250., 280.]])"
      ]
     },
     "execution_count": 7,
     "metadata": {},
     "output_type": "execute_result"
    }
   ],
   "source": [
    "tsr1 @ tsr2"
   ]
  },
  {
   "cell_type": "markdown",
   "id": "0fd32b97-4113-489d-b3ae-a0d96e846255",
   "metadata": {},
   "source": [
    "`-` 행렬곱을 수행하는 방법2"
   ]
  },
  {
   "cell_type": "code",
   "execution_count": 8,
   "id": "5f840e50-4a5f-402a-bdf9-d1575c7ccf2d",
   "metadata": {},
   "outputs": [
    {
     "data": {
      "text/plain": [
       "tensor([[ 25.,  28.,  31.,  34.,  37.],\n",
       "        [ 70.,  82.,  94., 106., 118.],\n",
       "        [115., 136., 157., 178., 199.],\n",
       "        [160., 190., 220., 250., 280.]])"
      ]
     },
     "execution_count": 8,
     "metadata": {},
     "output_type": "execute_result"
    }
   ],
   "source": [
    "torch.einsum('ij, jk -> ik', tsr1,tsr2)"
   ]
  },
  {
   "cell_type": "markdown",
   "id": "665a60ee-3829-400d-8554-399366b4e7b4",
   "metadata": {},
   "source": [
    "#### C. `img_plt` vs `img_pytorch`"
   ]
  },
  {
   "cell_type": "markdown",
   "id": "948db72e-5559-4ccb-a28b-72472dc4da90",
   "metadata": {},
   "source": [
    "`-` r,g,b 를 의미하는 tensor"
   ]
  },
  {
   "cell_type": "code",
   "execution_count": 9,
   "id": "49be3bfb-986c-4a58-8dda-d79806826c84",
   "metadata": {},
   "outputs": [],
   "source": [
    "r = torch.zeros(16).reshape(4,4) + 1.0\n",
    "g = torch.zeros(16).reshape(4,4)\n",
    "b = torch.zeros(16).reshape(4,4)"
   ]
  },
  {
   "cell_type": "markdown",
   "id": "7f128386-83e7-4639-bec3-ba24b08cfc4f",
   "metadata": {},
   "source": [
    "`-` torch를 쓰기 위해서는 이미지가 이렇게 저장되어 있어야함"
   ]
  },
  {
   "cell_type": "code",
   "execution_count": 11,
   "id": "746e61fc-9dba-44d7-9293-2010249d3f9b",
   "metadata": {},
   "outputs": [
    {
     "name": "stdout",
     "output_type": "stream",
     "text": [
      "tensor([[[[1., 1., 1., 1.],\n",
      "          [1., 1., 1., 1.],\n",
      "          [1., 1., 1., 1.],\n",
      "          [1., 1., 1., 1.]],\n",
      "\n",
      "         [[0., 0., 0., 0.],\n",
      "          [0., 0., 0., 0.],\n",
      "          [0., 0., 0., 0.],\n",
      "          [0., 0., 0., 0.]],\n",
      "\n",
      "         [[0., 0., 0., 0.],\n",
      "          [0., 0., 0., 0.],\n",
      "          [0., 0., 0., 0.],\n",
      "          [0., 0., 0., 0.]]]])\n",
      "torch.Size([1, 3, 4, 4])\n"
     ]
    }
   ],
   "source": [
    "img_pytorch = torch.stack([r,g,b],axis=0).reshape(1,3,4,4)\n",
    "print(img_pytorch)\n",
    "print(img_pytorch.shape)"
   ]
  },
  {
   "cell_type": "code",
   "execution_count": 12,
   "id": "9b1976c5-2a40-4fd5-bca3-32041dec52b6",
   "metadata": {},
   "outputs": [
    {
     "name": "stdout",
     "output_type": "stream",
     "text": [
      "tensor([[[1., 0., 0.],\n",
      "         [1., 0., 0.],\n",
      "         [1., 0., 0.],\n",
      "         [1., 0., 0.]],\n",
      "\n",
      "        [[1., 0., 0.],\n",
      "         [1., 0., 0.],\n",
      "         [1., 0., 0.],\n",
      "         [1., 0., 0.]],\n",
      "\n",
      "        [[1., 0., 0.],\n",
      "         [1., 0., 0.],\n",
      "         [1., 0., 0.],\n",
      "         [1., 0., 0.]],\n",
      "\n",
      "        [[1., 0., 0.],\n",
      "         [1., 0., 0.],\n",
      "         [1., 0., 0.],\n",
      "         [1., 0., 0.]]])\n",
      "torch.Size([4, 4, 3])\n"
     ]
    },
    {
     "data": {
      "text/plain": [
       "<matplotlib.image.AxesImage at 0x7fa7d8d35630>"
      ]
     },
     "execution_count": 12,
     "metadata": {},
     "output_type": "execute_result"
    },
    {
     "data": {
      "image/png": "[encoded data removed]",
      "text/plain": [
       "<Figure size 640x480 with 1 Axes>"
      ]
     },
     "metadata": {},
     "output_type": "display_data"
    }
   ],
   "source": [
    "img_matplotlib = torch.stack([r,g,b],axis=-1)\n",
    "print(img_matplotlib)\n",
    "print(img_matplotlib.shape)\n",
    "plt.imshow(img_matplotlib)"
   ]
  },
  {
   "cell_type": "code",
   "execution_count": 13,
   "id": "af40dca8-5e4d-472d-96ee-a0b8581ec2ca",
   "metadata": {},
   "outputs": [
    {
     "data": {
      "text/plain": [
       "<matplotlib.image.AxesImage at 0x7fa7d8c25870>"
      ]
     },
     "execution_count": 13,
     "metadata": {},
     "output_type": "execute_result"
    },
    {
     "data": {
      "image/png": "[encoded data removed]",
      "text/plain": [
       "<Figure size 640x480 with 1 Axes>"
      ]
     },
     "metadata": {},
     "output_type": "display_data"
    }
   ],
   "source": [
    "# 잘못된코드\n",
    "plt.imshow(img_pytorch.squeeze().reshape(4,4,3))"
   ]
  },
  {
   "cell_type": "code",
   "execution_count": 14,
   "id": "f946e3b9-a213-4310-8f0a-0b6ba4ee1159",
   "metadata": {},
   "outputs": [
    {
     "data": {
      "text/plain": [
       "<matplotlib.image.AxesImage at 0x7fa7d8c8fc40>"
      ]
     },
     "execution_count": 14,
     "metadata": {},
     "output_type": "execute_result"
    },
    {
     "data": {
      "image/png": "[encoded data removed]",
      "text/plain": [
       "<Figure size 640x480 with 1 Axes>"
      ]
     },
     "metadata": {},
     "output_type": "display_data"
    }
   ],
   "source": [
    "# 올바른코드1\n",
    "plt.imshow(torch.einsum('cij -> ijc', img_pytorch.squeeze()))"
   ]
  },
  {
   "cell_type": "code",
   "execution_count": 15,
   "id": "98159dfd-a207-49f3-a353-73fec1877b37",
   "metadata": {},
   "outputs": [
    {
     "data": {
      "text/plain": [
       "<matplotlib.image.AxesImage at 0x7fa7d8c8c2b0>"
      ]
     },
     "execution_count": 15,
     "metadata": {},
     "output_type": "execute_result"
    },
    {
     "data": {
      "image/png": "[encoded data removed]",
      "text/plain": [
       "<Figure size 640x480 with 1 Axes>"
      ]
     },
     "metadata": {},
     "output_type": "display_data"
    }
   ],
   "source": [
    "# 올바른코드2\n",
    "plt.imshow(img_pytorch.squeeze().permute(1,2,0))"
   ]
  },
  {
   "cell_type": "markdown",
   "id": "5cd7ccdb-6c7a-4ba2-8294-0471e6c2c313",
   "metadata": {},
   "source": [
    "### 3. 이미지 자료 처리\n",
    "\n",
    "#### A. 데이터\n",
    "\n",
    "`-` 데이터 다운로드"
   ]
  },
  {
   "cell_type": "code",
   "execution_count": null,
   "id": "811360e6-2d1e-478a-b287-4ce6f3308058",
   "metadata": {},
   "outputs": [],
   "source": []
  }
 ],
 "metadata": {
  "kernelspec": {
   "display_name": "Python 3 (ipykernel)",
   "language": "python",
   "name": "python3"
  },
  "language_info": {
   "codemirror_mode": {
    "name": "ipython",
    "version": 3
   },
   "file_extension": ".py",
   "mimetype": "text/x-python",
   "name": "python",
   "nbconvert_exporter": "python",
   "pygments_lexer": "ipython3",
   "version": "3.10.12"
  }
 },
 "nbformat": 4,
 "nbformat_minor": 5
}
