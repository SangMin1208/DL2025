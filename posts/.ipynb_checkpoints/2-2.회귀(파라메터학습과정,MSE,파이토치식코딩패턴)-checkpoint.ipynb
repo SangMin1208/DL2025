{
 "cells": [
  {
   "cell_type": "raw",
   "id": "a22bbfd6-aed0-4ce5-a520-dc03ca545ab0",
   "metadata": {},
   "source": [
    "---\n",
    "title: \"2-2. 회귀(파라메터 학습과정, MSE, 파이토치식 코딩패턴1)\"\n",
    "author: \"이상민\"\n",
    "date: \"03/27/2025\"\n",
    "---"
   ]
  },
  {
   "cell_type": "markdown",
   "id": "f2f95d63-4db5-4270-9954-4125216ce975",
   "metadata": {},
   "source": [
    "### 1. imports"
   ]
  },
  {
   "cell_type": "code",
   "execution_count": 2,
   "id": "977d2d32-6ece-4508-8d9b-2596c2d4c7f7",
   "metadata": {},
   "outputs": [],
   "source": [
    "import torch\n",
    "import numpy as np\n",
    "import matplotlib.pyplot as plt "
   ]
  },
  {
   "cell_type": "code",
   "execution_count": 3,
   "id": "8f24a9d5-8bb8-4a8a-a1aa-7344c65ae7d7",
   "metadata": {},
   "outputs": [],
   "source": [
    "plt.rcParams['figure.figsize'] = (4.5, 3.0)"
   ]
  },
  {
   "cell_type": "markdown",
   "id": "7ee19878-e29a-4fd7-9307-d32df73fa491",
   "metadata": {},
   "source": [
    "### 2. 파라메터 학습과정"
   ]
  },
  {
   "cell_type": "code",
   "execution_count": 4,
   "id": "0a2915f3-39fc-4a0e-9c60-3a7a876d6a22",
   "metadata": {},
   "outputs": [],
   "source": [
    "torch.manual_seed(43052)\n",
    "x,_ = torch.randn(100).sort()\n",
    "eps = torch.randn(100)*0.5\n",
    "X = torch.stack([torch.ones(100),x],axis=1)\n",
    "W = torch.tensor([[2.5],[4.0]])\n",
    "y = X@W + eps.reshape(100,1)\n",
    "x = X[:,[1]]"
   ]
  },
  {
   "cell_type": "markdown",
   "id": "7987bb93-5519-4c07-ad5d-b7eab8b4c309",
   "metadata": {},
   "source": [
    "#### A. 학습과정 print"
   ]
  },
  {
   "cell_type": "code",
   "execution_count": 7,
   "id": "1b8e50cb-18d5-4140-b0e5-5240f5ec78a3",
   "metadata": {
    "scrolled": true
   },
   "outputs": [
    {
     "name": "stdout",
     "output_type": "stream",
     "text": [
      "시작값 = tensor([-5., 10.])\n",
      "loss = 8587.69 \n",
      "업데이트폭 = tensor([ 1.3423, -1.1889]) \n",
      "업데이트결과: tensor([-3.6577,  8.8111])\n",
      "loss = 5675.21 \n",
      "업데이트폭 = tensor([ 1.1029, -0.9499]) \n",
      "업데이트결과: tensor([-2.5548,  7.8612])\n",
      "loss = 3755.64 \n",
      "업데이트폭 = tensor([ 0.9056, -0.7596]) \n",
      "업데이트결과: tensor([-1.6492,  7.1016])\n",
      "loss = 2489.58 \n",
      "업데이트폭 = tensor([ 0.7431, -0.6081]) \n",
      "업데이트결과: tensor([-0.9061,  6.4935])\n",
      "loss = 1654.04 \n",
      "업데이트폭 = tensor([ 0.6094, -0.4872]) \n",
      "업데이트결과: tensor([-0.2967,  6.0063])\n",
      "loss = 1102.32 \n",
      "업데이트폭 = tensor([ 0.4995, -0.3907]) \n",
      "업데이트결과: tensor([0.2028, 5.6156])\n",
      "loss = 737.84 \n",
      "업데이트폭 = tensor([ 0.4091, -0.3136]) \n",
      "업데이트결과: tensor([0.6119, 5.3020])\n",
      "loss = 496.97 \n",
      "업데이트폭 = tensor([ 0.3350, -0.2519]) \n",
      "업데이트결과: tensor([0.9469, 5.0501])\n",
      "loss = 337.71 \n",
      "업데이트폭 = tensor([ 0.2742, -0.2025]) \n",
      "업데이트결과: tensor([1.2211, 4.8477])\n",
      "loss = 232.40 \n",
      "업데이트폭 = tensor([ 0.2243, -0.1629]) \n",
      "업데이트결과: tensor([1.4454, 4.6848])\n",
      "loss = 162.73 \n",
      "업데이트폭 = tensor([ 0.1834, -0.1311]) \n",
      "업데이트결과: tensor([1.6288, 4.5537])\n",
      "loss = 116.63 \n",
      "업데이트폭 = tensor([ 0.1500, -0.1056]) \n",
      "업데이트결과: tensor([1.7787, 4.4480])\n",
      "loss = 86.13 \n",
      "업데이트폭 = tensor([ 0.1226, -0.0851]) \n",
      "업데이트결과: tensor([1.9013, 4.3629])\n",
      "loss = 65.93 \n",
      "업데이트폭 = tensor([ 0.1001, -0.0687]) \n",
      "업데이트결과: tensor([2.0014, 4.2942])\n",
      "loss = 52.57 \n",
      "업데이트폭 = tensor([ 0.0818, -0.0554]) \n",
      "업데이트결과: tensor([2.0832, 4.2388])\n",
      "loss = 43.72 \n",
      "업데이트폭 = tensor([ 0.0668, -0.0447]) \n",
      "업데이트결과: tensor([2.1500, 4.1941])\n",
      "loss = 37.86 \n",
      "업데이트폭 = tensor([ 0.0545, -0.0361]) \n",
      "업데이트결과: tensor([2.2045, 4.1579])\n",
      "loss = 33.97 \n",
      "업데이트폭 = tensor([ 0.0445, -0.0292]) \n",
      "업데이트결과: tensor([2.2490, 4.1287])\n",
      "loss = 31.40 \n",
      "업데이트폭 = tensor([ 0.0363, -0.0236]) \n",
      "업데이트결과: tensor([2.2853, 4.1051])\n",
      "loss = 29.70 \n",
      "업데이트폭 = tensor([ 0.0296, -0.0191]) \n",
      "업데이트결과: tensor([2.3150, 4.0860])\n",
      "loss = 28.57 \n",
      "업데이트폭 = tensor([ 0.0242, -0.0155]) \n",
      "업데이트결과: tensor([2.3392, 4.0705])\n",
      "loss = 27.83 \n",
      "업데이트폭 = tensor([ 0.0197, -0.0125]) \n",
      "업데이트결과: tensor([2.3589, 4.0580])\n",
      "loss = 27.33 \n",
      "업데이트폭 = tensor([ 0.0161, -0.0101]) \n",
      "업데이트결과: tensor([2.3750, 4.0479])\n",
      "loss = 27.00 \n",
      "업데이트폭 = tensor([ 0.0131, -0.0082]) \n",
      "업데이트결과: tensor([2.3881, 4.0396])\n",
      "loss = 26.79 \n",
      "업데이트폭 = tensor([ 0.0107, -0.0067]) \n",
      "업데이트결과: tensor([2.3988, 4.0330])\n",
      "loss = 26.64 \n",
      "업데이트폭 = tensor([ 0.0087, -0.0054]) \n",
      "업데이트결과: tensor([2.4075, 4.0276])\n",
      "loss = 26.55 \n",
      "업데이트폭 = tensor([ 0.0071, -0.0044]) \n",
      "업데이트결과: tensor([2.4146, 4.0232])\n",
      "loss = 26.48 \n",
      "업데이트폭 = tensor([ 0.0058, -0.0035]) \n",
      "업데이트결과: tensor([2.4204, 4.0197])\n",
      "loss = 26.44 \n",
      "업데이트폭 = tensor([ 0.0047, -0.0029]) \n",
      "업데이트결과: tensor([2.4251, 4.0168])\n",
      "loss = 26.41 \n",
      "업데이트폭 = tensor([ 0.0038, -0.0023]) \n",
      "업데이트결과: tensor([2.4290, 4.0144])\n"
     ]
    }
   ],
   "source": [
    "What = torch.tensor([[-5.0],[10.0]], requires_grad=True)\n",
    "alpha = 0.001\n",
    "print(f\"시작값 = {What.data.reshape(-1)}\")\n",
    "for epoc in range(30):\n",
    "    yhat = X @ What\n",
    "    loss = torch.sum((y-yhat)**2)\n",
    "    loss.backward()\n",
    "    What.data = What.data - alpha * What.grad\n",
    "    print(f'loss = {loss:.2f} \\n업데이트폭 = {-alpha * What.grad.reshape(-1)} \\n업데이트결과: {What.data.reshape(-1)}')\n",
    "    What.grad = None"
   ]
  },
  {
   "cell_type": "markdown",
   "id": "2dd10ed6-e266-44f0-9f5e-31eb40df070f",
   "metadata": {},
   "source": [
    "#### B. yhat의 관점에서 시각화"
   ]
  },
  {
   "cell_type": "code",
   "execution_count": null,
   "id": "38b3eaae-ffb8-4574-a20c-a673fc993b27",
   "metadata": {},
   "outputs": [],
   "source": []
  }
 ],
 "metadata": {
  "kernelspec": {
   "display_name": "Python 3 (ipykernel)",
   "language": "python",
   "name": "python3"
  },
  "language_info": {
   "codemirror_mode": {
    "name": "ipython",
    "version": 3
   },
   "file_extension": ".py",
   "mimetype": "text/x-python",
   "name": "python",
   "nbconvert_exporter": "python",
   "pygments_lexer": "ipython3",
   "version": "3.10.12"
  }
 },
 "nbformat": 4,
 "nbformat_minor": 5
}
