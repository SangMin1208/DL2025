{
 "cells": [
  {
   "cell_type": "raw",
   "id": "c380f94d-3442-4b75-bd7d-9d99b30c01e5",
   "metadata": {},
   "source": [
    "---\n",
    "title: \"1-2. 회귀분석1(회귀모형,손실함수)\"\n",
    "author: \"이상민\"\n",
    "date: \"04/02/2025\"\n",
    "---"
   ]
  },
  {
   "cell_type": "markdown",
   "id": "45d0b8b8-30a3-4f4e-9997-ea015019fc4c",
   "metadata": {},
   "source": [
    "### 1.import"
   ]
  },
  {
   "cell_type": "code",
   "execution_count": 1,
   "id": "234894f2-0d81-4476-9b94-b76d0c7342c1",
   "metadata": {},
   "outputs": [],
   "source": [
    "import torch"
   ]
  },
  {
   "cell_type": "markdown",
   "id": "538ec2f8-eeb7-4800-8444-09ffa461f1aa",
   "metadata": {},
   "source": [
    "### 2.기초 지식\n",
    "`-` 선형대수학\n",
    "\n",
    "-   벡터와 행렬\n",
    "-   행렬의 곱셉\n",
    "-   트랜스포즈\n",
    "\n",
    "`-` 기초통계학(수리통계)\n",
    "\n",
    "-   정규분포, 이항분포\n",
    "-   모수, 추정\n",
    "-   $X_i \\overset{i.i.d.}{\\sim} N(0,1)$\n",
    "\n",
    "`-` 회귀분석\n",
    "\n",
    "-   독립변수($y$), 설명변수($X$)\n",
    "-   ${\\boldsymbol y} = {\\bf X}{\\boldsymbol \\beta} + {\\boldsymbol \\epsilon}$\n",
    "\n",
    "`-` 파이썬\n",
    "\n",
    "-   파이썬 기본문법\n",
    "-   넘파이, 판다스\n",
    "-   전반적인 클래스 지식 (`__init__`, `self`, …)\n",
    "-   상속"
   ]
  },
  {
   "cell_type": "markdown",
   "id": "d369e612-1e1f-4be2-b776-2f342c29b365",
   "metadata": {},
   "source": [
    "### 3. torch"
   ]
  },
  {
   "cell_type": "markdown",
   "id": "044371fd-a8f0-4f1d-851e-e7ca44bab840",
   "metadata": {},
   "source": [
    "#### A.벡터"
   ]
  },
  {
   "cell_type": "code",
   "execution_count": 2,
   "id": "9d57f3b9-08bb-4299-83f9-a2e6776fc7dd",
   "metadata": {},
   "outputs": [
    {
     "data": {
      "text/plain": [
       "tensor([1, 2, 3])"
      ]
     },
     "execution_count": 2,
     "metadata": {},
     "output_type": "execute_result"
    }
   ],
   "source": [
    "torch.tensor([1,2,3])"
   ]
  },
  {
   "cell_type": "markdown",
   "id": "ea6c21ec-d927-49e3-9235-5eb3dd203d96",
   "metadata": {},
   "source": [
    "* 벡터끼리 덧셈"
   ]
  },
  {
   "cell_type": "code",
   "execution_count": 3,
   "id": "e07bc556-edb9-49c9-957a-5b4d089f69eb",
   "metadata": {},
   "outputs": [
    {
     "data": {
      "text/plain": [
       "tensor([4, 5, 6])"
      ]
     },
     "execution_count": 3,
     "metadata": {},
     "output_type": "execute_result"
    }
   ],
   "source": [
    "torch.tensor([1,2,3]) + torch.tensor([3,3,3])"
   ]
  },
  {
   "cell_type": "markdown",
   "id": "6e38c922-2408-4a1e-b484-015e544e09ec",
   "metadata": {},
   "source": [
    "* 브로드캐스팅 가능 -> 위에와 똑같은 기능"
   ]
  },
  {
   "cell_type": "code",
   "execution_count": 7,
   "id": "6cb40be3-7eae-46c6-a333-f6173fc7fb12",
   "metadata": {},
   "outputs": [
    {
     "data": {
      "text/plain": [
       "tensor([3, 4, 5])"
      ]
     },
     "execution_count": 7,
     "metadata": {},
     "output_type": "execute_result"
    }
   ],
   "source": [
    "torch.tensor([1,2,3])+2"
   ]
  },
  {
   "cell_type": "code",
   "execution_count": 5,
   "id": "ec5a3d8f-a9d9-4073-8d76-74b7571e3c61",
   "metadata": {},
   "outputs": [
    {
     "data": {
      "text/plain": [
       "tensor([3, 4, 5])"
      ]
     },
     "execution_count": 5,
     "metadata": {},
     "output_type": "execute_result"
    }
   ],
   "source": [
    "torch.tensor([1,2,3])+torch.tensor([2])"
   ]
  },
  {
   "cell_type": "code",
   "execution_count": 6,
   "id": "a697064a-3901-47bb-ae24-847aa8448057",
   "metadata": {},
   "outputs": [
    {
     "data": {
      "text/plain": [
       "tensor([3, 4, 5])"
      ]
     },
     "execution_count": 6,
     "metadata": {},
     "output_type": "execute_result"
    }
   ],
   "source": [
    "torch.tensor([1,2,3])+torch.tensor(2)"
   ]
  },
  {
   "cell_type": "markdown",
   "id": "0df4b463-4717-4c93-993d-99c1553833bf",
   "metadata": {},
   "source": [
    "#### B. 벡터와 매트릭스"
   ]
  },
  {
   "cell_type": "markdown",
   "id": "f3557a2d-a6db-4a1e-a3c7-ad766d44ecf7",
   "metadata": {},
   "source": [
    "* 3x2 matrix"
   ]
  },
  {
   "cell_type": "code",
   "execution_count": 8,
   "id": "cf06b276-09ed-4f86-a852-46caa1d33c7b",
   "metadata": {},
   "outputs": [
    {
     "data": {
      "text/plain": [
       "tensor([[1, 2],\n",
       "        [3, 4],\n",
       "        [5, 6]])"
      ]
     },
     "execution_count": 8,
     "metadata": {},
     "output_type": "execute_result"
    }
   ],
   "source": [
    "torch.tensor([[1,2],[3,4],[5,6]])"
   ]
  },
  {
   "cell_type": "markdown",
   "id": "fd73698f-a627-4796-9718-158eebd85e70",
   "metadata": {},
   "source": [
    "* 3X1 matrix 는 3X1 열벡터(column vector)와 같음"
   ]
  },
  {
   "cell_type": "code",
   "execution_count": 10,
   "id": "db351f54-93ef-4e0c-bb50-103a2005b772",
   "metadata": {},
   "outputs": [
    {
     "data": {
      "text/plain": [
       "tensor([[1],\n",
       "        [2],\n",
       "        [3]])"
      ]
     },
     "execution_count": 10,
     "metadata": {},
     "output_type": "execute_result"
    }
   ],
   "source": [
    "torch.tensor([[1],[2],[3]]) "
   ]
  },
  {
   "cell_type": "markdown",
   "id": "7d3937ea-3b1d-4623-a115-406a0dce27bb",
   "metadata": {},
   "source": [
    "* 1X2 matrix 는 1X2 행벡터(row vector)와 같음"
   ]
  },
  {
   "cell_type": "code",
   "execution_count": 12,
   "id": "4002c93c-d82b-42f7-92e7-34bafe7da426",
   "metadata": {},
   "outputs": [
    {
     "data": {
      "text/plain": [
       "tensor([[1, 2]])"
      ]
     },
     "execution_count": 12,
     "metadata": {},
     "output_type": "execute_result"
    }
   ],
   "source": [
    "torch.tensor([[1,2]]) "
   ]
  },
  {
   "cell_type": "markdown",
   "id": "0db96270-aa2e-4f08-bb57-7a374d4b85ab",
   "metadata": {},
   "source": [
    "#### c. matrix 덧셈"
   ]
  },
  {
   "cell_type": "markdown",
   "id": "327e2f48-20d1-4839-ae47-293f54c0611b",
   "metadata": {},
   "source": [
    "* 브로드캐스팅(숫자하나)"
   ]
  },
  {
   "cell_type": "code",
   "execution_count": 13,
   "id": "699b810d-21bf-42d6-aece-ed6d9f0fa7b7",
   "metadata": {},
   "outputs": [
    {
     "data": {
      "text/plain": [
       "tensor([[0, 1],\n",
       "        [2, 3],\n",
       "        [4, 5]])"
      ]
     },
     "execution_count": 13,
     "metadata": {},
     "output_type": "execute_result"
    }
   ],
   "source": [
    "torch.tensor([[1,2],[3,4],[5,6]]) - 1"
   ]
  },
  {
   "cell_type": "markdown",
   "id": "a571e406-4951-4c8d-959b-713d819158c5",
   "metadata": {},
   "source": [
    "* 아래와 같은 의미임"
   ]
  },
  {
   "cell_type": "code",
   "execution_count": 15,
   "id": "a1331f54-ae6f-49b2-8d4c-7caa6ff16c54",
   "metadata": {},
   "outputs": [
    {
     "data": {
      "text/plain": [
       "tensor([[0, 1],\n",
       "        [2, 3],\n",
       "        [4, 5]])"
      ]
     },
     "execution_count": 15,
     "metadata": {},
     "output_type": "execute_result"
    }
   ],
   "source": [
    "torch.tensor([[1,2],[3,4],[5,6]]) - torch.tensor([[1,1],[1,1],[1,1]])"
   ]
  },
  {
   "cell_type": "markdown",
   "id": "2197d670-dbb3-454b-a99a-9bb0c26df691",
   "metadata": {},
   "source": [
    "* 브로드캐스팅(열)"
   ]
  },
  {
   "cell_type": "code",
   "execution_count": 16,
   "id": "65884e91-1914-421f-a6ec-8f6faaf4061d",
   "metadata": {},
   "outputs": [
    {
     "data": {
      "text/plain": [
       "tensor([[0, 1],\n",
       "        [0, 1],\n",
       "        [0, 1]])"
      ]
     },
     "execution_count": 16,
     "metadata": {},
     "output_type": "execute_result"
    }
   ],
   "source": [
    "torch.tensor([[1,2],[3,4],[5,6]]) + torch.tensor([[-1],[-3],[-5]])"
   ]
  },
  {
   "cell_type": "markdown",
   "id": "905098fe-1141-412d-a40f-52619d632f8e",
   "metadata": {},
   "source": [
    "* 아래와 같은 의미임"
   ]
  },
  {
   "cell_type": "code",
   "execution_count": 17,
   "id": "2bea615f-f0d5-491d-8a65-b0cb71fee57b",
   "metadata": {},
   "outputs": [
    {
     "data": {
      "text/plain": [
       "tensor([[0, 1],\n",
       "        [0, 1],\n",
       "        [0, 1]])"
      ]
     },
     "execution_count": 17,
     "metadata": {},
     "output_type": "execute_result"
    }
   ],
   "source": [
    "torch.tensor([[1,2],[3,4],[5,6]]) + torch.tensor([[-1,-1],[-3,-3],[-5,-5]])"
   ]
  },
  {
   "cell_type": "markdown",
   "id": "d2f2d8d5-1c26-451e-833b-404df1e0a38b",
   "metadata": {},
   "source": [
    "* 브로드캐스팅(행)"
   ]
  },
  {
   "cell_type": "code",
   "execution_count": 18,
   "id": "82348350-4c38-49ce-b0cf-27e91a1d2898",
   "metadata": {},
   "outputs": [
    {
     "data": {
      "text/plain": [
       "tensor([[0, 0],\n",
       "        [2, 2],\n",
       "        [4, 4]])"
      ]
     },
     "execution_count": 18,
     "metadata": {},
     "output_type": "execute_result"
    }
   ],
   "source": [
    "torch.tensor([[1,2],[3,4],[5,6]]) + torch.tensor([[-1,-2]])"
   ]
  },
  {
   "cell_type": "markdown",
   "id": "a2698423-95f6-4386-90fa-0fa9d4131ac0",
   "metadata": {},
   "source": [
    "* 아래와 같은 의미임"
   ]
  },
  {
   "cell_type": "code",
   "execution_count": 19,
   "id": "e852fb32-bd46-475d-9db5-920c77960d87",
   "metadata": {},
   "outputs": [
    {
     "data": {
      "text/plain": [
       "tensor([[0, 0],\n",
       "        [2, 2],\n",
       "        [4, 4]])"
      ]
     },
     "execution_count": 19,
     "metadata": {},
     "output_type": "execute_result"
    }
   ],
   "source": [
    "torch.tensor([[1,2],[3,4],[5,6]]) + torch.tensor([[-1,-2],[-1,-2],[-1,-2]])"
   ]
  },
  {
   "cell_type": "markdown",
   "id": "1a3360cb-1cda-466b-af73-6d7c115cd002",
   "metadata": {},
   "source": [
    "***잘못된 브로드캐스팅***"
   ]
  },
  {
   "cell_type": "markdown",
   "id": "9e536621-d0d8-457a-a003-fe85d9440251",
   "metadata": {},
   "source": [
    "* 열로 브로드캐스팅 하려면 3X1 행렬이어야하지만 여기는 1X3 행렬"
   ]
  },
  {
   "cell_type": "code",
   "execution_count": 20,
   "id": "85f53c1b-e49e-4134-891a-65581a7fb834",
   "metadata": {},
   "outputs": [
    {
     "ename": "RuntimeError",
     "evalue": "The size of tensor a (2) must match the size of tensor b (3) at non-singleton dimension 1",
     "output_type": "error",
     "traceback": [
      "\u001b[0;31m---------------------------------------------------------------------------\u001b[0m",
      "\u001b[0;31mRuntimeError\u001b[0m                              Traceback (most recent call last)",
      "Cell \u001b[0;32mIn[20], line 1\u001b[0m\n\u001b[0;32m----> 1\u001b[0m \u001b[43mtorch\u001b[49m\u001b[38;5;241;43m.\u001b[39;49m\u001b[43mtensor\u001b[49m\u001b[43m(\u001b[49m\u001b[43m[\u001b[49m\u001b[43m[\u001b[49m\u001b[38;5;241;43m1\u001b[39;49m\u001b[43m,\u001b[49m\u001b[38;5;241;43m2\u001b[39;49m\u001b[43m]\u001b[49m\u001b[43m,\u001b[49m\u001b[43m[\u001b[49m\u001b[38;5;241;43m3\u001b[39;49m\u001b[43m,\u001b[49m\u001b[38;5;241;43m4\u001b[39;49m\u001b[43m]\u001b[49m\u001b[43m,\u001b[49m\u001b[43m[\u001b[49m\u001b[38;5;241;43m5\u001b[39;49m\u001b[43m,\u001b[49m\u001b[38;5;241;43m6\u001b[39;49m\u001b[43m]\u001b[49m\u001b[43m]\u001b[49m\u001b[43m)\u001b[49m\u001b[43m \u001b[49m\u001b[38;5;241;43m+\u001b[39;49m\u001b[43m \u001b[49m\u001b[43mtorch\u001b[49m\u001b[38;5;241;43m.\u001b[39;49m\u001b[43mtensor\u001b[49m\u001b[43m(\u001b[49m\u001b[43m[\u001b[49m\u001b[43m[\u001b[49m\u001b[38;5;241;43m-\u001b[39;49m\u001b[38;5;241;43m1\u001b[39;49m\u001b[43m,\u001b[49m\u001b[38;5;241;43m-\u001b[39;49m\u001b[38;5;241;43m3\u001b[39;49m\u001b[43m,\u001b[49m\u001b[38;5;241;43m-\u001b[39;49m\u001b[38;5;241;43m5\u001b[39;49m\u001b[43m]\u001b[49m\u001b[43m]\u001b[49m\u001b[43m)\u001b[49m\n",
      "\u001b[0;31mRuntimeError\u001b[0m: The size of tensor a (2) must match the size of tensor b (3) at non-singleton dimension 1"
     ]
    }
   ],
   "source": [
    "torch.tensor([[1,2],[3,4],[5,6]]) + torch.tensor([[-1,-3,-5]])"
   ]
  },
  {
   "cell_type": "markdown",
   "id": "044e660b-1058-4487-8773-e9bf584a6128",
   "metadata": {},
   "source": [
    "* 행으로 브로드캐스팅 하려면 1X2 행렬이어야하지만 여기는 2X1 행렬"
   ]
  },
  {
   "cell_type": "code",
   "execution_count": 21,
   "id": "c779c8b0-820a-44c2-aea7-00a96c36d651",
   "metadata": {},
   "outputs": [
    {
     "ename": "RuntimeError",
     "evalue": "The size of tensor a (3) must match the size of tensor b (2) at non-singleton dimension 0",
     "output_type": "error",
     "traceback": [
      "\u001b[0;31m---------------------------------------------------------------------------\u001b[0m",
      "\u001b[0;31mRuntimeError\u001b[0m                              Traceback (most recent call last)",
      "Cell \u001b[0;32mIn[21], line 1\u001b[0m\n\u001b[0;32m----> 1\u001b[0m \u001b[43mtorch\u001b[49m\u001b[38;5;241;43m.\u001b[39;49m\u001b[43mtensor\u001b[49m\u001b[43m(\u001b[49m\u001b[43m[\u001b[49m\u001b[43m[\u001b[49m\u001b[38;5;241;43m1\u001b[39;49m\u001b[43m,\u001b[49m\u001b[38;5;241;43m2\u001b[39;49m\u001b[43m]\u001b[49m\u001b[43m,\u001b[49m\u001b[43m[\u001b[49m\u001b[38;5;241;43m3\u001b[39;49m\u001b[43m,\u001b[49m\u001b[38;5;241;43m4\u001b[39;49m\u001b[43m]\u001b[49m\u001b[43m,\u001b[49m\u001b[43m[\u001b[49m\u001b[38;5;241;43m5\u001b[39;49m\u001b[43m,\u001b[49m\u001b[38;5;241;43m6\u001b[39;49m\u001b[43m]\u001b[49m\u001b[43m]\u001b[49m\u001b[43m)\u001b[49m\u001b[43m \u001b[49m\u001b[38;5;241;43m+\u001b[39;49m\u001b[43m \u001b[49m\u001b[43mtorch\u001b[49m\u001b[38;5;241;43m.\u001b[39;49m\u001b[43mtensor\u001b[49m\u001b[43m(\u001b[49m\u001b[43m[\u001b[49m\u001b[43m[\u001b[49m\u001b[38;5;241;43m-\u001b[39;49m\u001b[38;5;241;43m1\u001b[39;49m\u001b[43m]\u001b[49m\u001b[43m,\u001b[49m\u001b[43m[\u001b[49m\u001b[38;5;241;43m-\u001b[39;49m\u001b[38;5;241;43m2\u001b[39;49m\u001b[43m]\u001b[49m\u001b[43m]\u001b[49m\u001b[43m)\u001b[49m\n",
      "\u001b[0;31mRuntimeError\u001b[0m: The size of tensor a (3) must match the size of tensor b (2) at non-singleton dimension 0"
     ]
    }
   ],
   "source": [
    "torch.tensor([[1,2],[3,4],[5,6]]) + torch.tensor([[-1],[-2]])"
   ]
  },
  {
   "cell_type": "markdown",
   "id": "1ca6d1e1-ab19-4a70-b8cb-9c1103426018",
   "metadata": {},
   "source": [
    "***그냥 벡터를 넣으면 이상하게 행으로만 브로드캐스팅 됨***"
   ]
  },
  {
   "cell_type": "code",
   "execution_count": 22,
   "id": "49cb8b0c-1975-41d1-8165-3a1caf1d314b",
   "metadata": {},
   "outputs": [
    {
     "data": {
      "text/plain": [
       "tensor([[0, 0],\n",
       "        [2, 2],\n",
       "        [4, 4]])"
      ]
     },
     "execution_count": 22,
     "metadata": {},
     "output_type": "execute_result"
    }
   ],
   "source": [
    "torch.tensor([[1,2],[3,4],[5,6]]) + torch.tensor([-1,-2])"
   ]
  },
  {
   "cell_type": "markdown",
   "id": "0de0823e-e392-4a24-a9f4-f928f2082019",
   "metadata": {},
   "source": [
    "* 열로는 안됨.."
   ]
  },
  {
   "cell_type": "code",
   "execution_count": 23,
   "id": "efebf995-8ef3-430a-bae3-9e1caa3cfb4f",
   "metadata": {},
   "outputs": [
    {
     "ename": "RuntimeError",
     "evalue": "The size of tensor a (2) must match the size of tensor b (3) at non-singleton dimension 1",
     "output_type": "error",
     "traceback": [
      "\u001b[0;31m---------------------------------------------------------------------------\u001b[0m",
      "\u001b[0;31mRuntimeError\u001b[0m                              Traceback (most recent call last)",
      "Cell \u001b[0;32mIn[23], line 1\u001b[0m\n\u001b[0;32m----> 1\u001b[0m \u001b[43mtorch\u001b[49m\u001b[38;5;241;43m.\u001b[39;49m\u001b[43mtensor\u001b[49m\u001b[43m(\u001b[49m\u001b[43m[\u001b[49m\u001b[43m[\u001b[49m\u001b[38;5;241;43m1\u001b[39;49m\u001b[43m,\u001b[49m\u001b[38;5;241;43m2\u001b[39;49m\u001b[43m]\u001b[49m\u001b[43m,\u001b[49m\u001b[43m[\u001b[49m\u001b[38;5;241;43m3\u001b[39;49m\u001b[43m,\u001b[49m\u001b[38;5;241;43m4\u001b[39;49m\u001b[43m]\u001b[49m\u001b[43m,\u001b[49m\u001b[43m[\u001b[49m\u001b[38;5;241;43m5\u001b[39;49m\u001b[43m,\u001b[49m\u001b[38;5;241;43m6\u001b[39;49m\u001b[43m]\u001b[49m\u001b[43m]\u001b[49m\u001b[43m)\u001b[49m\u001b[43m \u001b[49m\u001b[38;5;241;43m+\u001b[39;49m\u001b[43m \u001b[49m\u001b[43mtorch\u001b[49m\u001b[38;5;241;43m.\u001b[39;49m\u001b[43mtensor\u001b[49m\u001b[43m(\u001b[49m\u001b[43m[\u001b[49m\u001b[38;5;241;43m-\u001b[39;49m\u001b[38;5;241;43m1\u001b[39;49m\u001b[43m,\u001b[49m\u001b[38;5;241;43m-\u001b[39;49m\u001b[38;5;241;43m3\u001b[39;49m\u001b[43m,\u001b[49m\u001b[38;5;241;43m-\u001b[39;49m\u001b[38;5;241;43m5\u001b[39;49m\u001b[43m]\u001b[49m\u001b[43m)\u001b[49m\n",
      "\u001b[0;31mRuntimeError\u001b[0m: The size of tensor a (2) must match the size of tensor b (3) at non-singleton dimension 1"
     ]
    }
   ],
   "source": [
    "torch.tensor([[1,2],[3,4],[5,6]]) + torch.tensor([-1,-3,-5])"
   ]
  },
  {
   "cell_type": "markdown",
   "id": "9658bdad-fbad-4397-97cc-386eaa82da9f",
   "metadata": {},
   "source": [
    "#### D. 행렬곱"
   ]
  },
  {
   "cell_type": "code",
   "execution_count": null,
   "id": "a866acd6-caa1-40dc-8176-3718c18ce8a8",
   "metadata": {},
   "outputs": [],
   "source": []
  }
 ],
 "metadata": {
  "kernelspec": {
   "display_name": "Python 3 (ipykernel)",
   "language": "python",
   "name": "python3"
  },
  "language_info": {
   "codemirror_mode": {
    "name": "ipython",
    "version": 3
   },
   "file_extension": ".py",
   "mimetype": "text/x-python",
   "name": "python",
   "nbconvert_exporter": "python",
   "pygments_lexer": "ipython3",
   "version": "3.10.12"
  }
 },
 "nbformat": 4,
 "nbformat_minor": 5
}
