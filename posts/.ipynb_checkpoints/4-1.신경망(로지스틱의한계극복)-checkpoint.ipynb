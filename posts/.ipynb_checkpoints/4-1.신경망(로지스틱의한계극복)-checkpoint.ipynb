{
 "cells": [
  {
   "cell_type": "raw",
   "id": "09c08640-ada4-4277-a569-fc022a045a8f",
   "metadata": {},
   "source": [
    "---\n",
    "title: \"4-1. 신경망(로지스틱의 한계 극복)\"\n",
    "author: \"이상민\"\n",
    "date: \"04/29/2025\"\n",
    "---"
   ]
  },
  {
   "cell_type": "code",
   "execution_count": null,
   "id": "c2dd6de8-73e1-4e9d-8972-c1d3278a476c",
   "metadata": {},
   "outputs": [],
   "source": []
  }
 ],
 "metadata": {
  "kernelspec": {
   "display_name": "Python 3 (ipykernel)",
   "language": "python",
   "name": "python3"
  },
  "language_info": {
   "codemirror_mode": {
    "name": "ipython",
    "version": 3
   },
   "file_extension": ".py",
   "mimetype": "text/x-python",
   "name": "python",
   "nbconvert_exporter": "python",
   "pygments_lexer": "ipython3",
   "version": "3.10.12"
  }
 },
 "nbformat": 4,
 "nbformat_minor": 5
}
