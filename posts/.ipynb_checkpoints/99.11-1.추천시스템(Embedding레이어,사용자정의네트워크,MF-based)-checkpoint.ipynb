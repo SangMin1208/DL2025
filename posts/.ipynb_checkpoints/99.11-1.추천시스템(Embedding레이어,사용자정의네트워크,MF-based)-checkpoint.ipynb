{
 "cells": [
  {
   "cell_type": "raw",
   "id": "46f0d1e6-1c1a-4d5c-bbfb-4039ca0644ae",
   "metadata": {},
   "source": [
    "---\n",
    "title: \"11-1. 추천시스템(Embedding 레이어, 사용자정의  네트워크, MF-based)\"\n",
    "author: \"이상민\"\n",
    "date: \"05/18/2025\"\n",
    "---"
   ]
  },
  {
   "cell_type": "code",
   "execution_count": null,
   "id": "abdeb5e8-d8ed-4e9a-831e-60593c923ec1",
   "metadata": {},
   "outputs": [],
   "source": []
  }
 ],
 "metadata": {
  "kernelspec": {
   "display_name": "Python 3 (ipykernel)",
   "language": "python",
   "name": "python3"
  },
  "language_info": {
   "codemirror_mode": {
    "name": "ipython",
    "version": 3
   },
   "file_extension": ".py",
   "mimetype": "text/x-python",
   "name": "python",
   "nbconvert_exporter": "python",
   "pygments_lexer": "ipython3",
   "version": "3.10.12"
  }
 },
 "nbformat": 4,
 "nbformat_minor": 5
}
