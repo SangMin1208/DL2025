{
 "cells": [
  {
   "cell_type": "raw",
   "id": "16f52053-24dc-41ad-be4d-e519aa42f0c8",
   "metadata": {},
   "source": [
    "---\n",
    "title: \"12-1. 순환신경망(겹장, RNNCell)\"\n",
    "author: \"이상민\"\n",
    "date: \"05/21/2025\"\n",
    "---"
   ]
  },
  {
   "cell_type": "markdown",
   "id": "44c864f5-4878-499d-90b3-7936b7c1a4f7",
   "metadata": {},
   "source": [
    "### 1. imports"
   ]
  },
  {
   "cell_type": "code",
   "execution_count": 1,
   "id": "7f54d39f-5bc3-49b5-95f8-6fc88c6ad61e",
   "metadata": {},
   "outputs": [],
   "source": [
    "import torch\n",
    "import pandas as pd\n",
    "import matplotlib.pyplot as plt"
   ]
  },
  {
   "cell_type": "markdown",
   "id": "b3a12fcb-4aa1-45b6-8b6c-62fd5c7d7a46",
   "metadata": {},
   "source": [
    "### 2. 예비학습"
   ]
  },
  {
   "cell_type": "markdown",
   "id": "82169aa1-0e74-48b3-a7e0-68d07cf6ca4e",
   "metadata": {},
   "source": [
    "#### A. 파이토치의 유연성"
   ]
  },
  {
   "cell_type": "markdown",
   "id": "694b8e1e-96e4-4056-9ecb-1e68bf5ecfb2",
   "metadata": {},
   "source": [
    "`-` 아래는 엄밀한 의미에서는 계산이 불가능하지만 파이토치에서는 그냥 해줌"
   ]
  },
  {
   "cell_type": "code",
   "execution_count": 2,
   "id": "5db38aee-1eae-4197-817c-fc0d579a7db5",
   "metadata": {},
   "outputs": [
    {
     "data": {
      "text/plain": [
       "tensor([1.4052])"
      ]
     },
     "execution_count": 2,
     "metadata": {},
     "output_type": "execute_result"
    }
   ],
   "source": [
    "x = torch.tensor([0,1.5])\n",
    "W = torch.randn(2,1)\n",
    "x@W"
   ]
  },
  {
   "cell_type": "markdown",
   "id": "81ed2cad-a35c-423e-8da8-ed06e6bcd6ce",
   "metadata": {},
   "source": [
    "`-` 아래도 엄밀한 의미에서는 계산 불가능하지만 파이토치에서는 그냥 해줌"
   ]
  },
  {
   "cell_type": "code",
   "execution_count": 3,
   "id": "ad317b58-e348-4e1d-bbee-1ff86333dcb6",
   "metadata": {},
   "outputs": [
    {
     "data": {
      "text/plain": [
       "tensor([1.4052], grad_fn=<SqueezeBackward4>)"
      ]
     },
     "execution_count": 3,
     "metadata": {},
     "output_type": "execute_result"
    }
   ],
   "source": [
    "linr = torch.nn.Linear(2,1,bias=False)\n",
    "linr.weight.data = W.T \n",
    "linr(x)"
   ]
  },
  {
   "cell_type": "markdown",
   "id": "cbf53744-e67e-45a0-8a19-2caec8e3b163",
   "metadata": {},
   "source": [
    "#### B. loss를 계산하는 다른 방식\n",
    "\n",
    "`-` 아래를 가정"
   ]
  },
  {
   "cell_type": "code",
   "execution_count": 4,
   "id": "cd41405a-3992-491d-95f0-89d507eedcc7",
   "metadata": {},
   "outputs": [],
   "source": [
    "X = torch.randn(100,5)\n",
    "y = torch.randn(100,1)\n",
    "net = torch.nn.Linear(5,1)\n",
    "loss_fn = torch.nn.MSELoss()"
   ]
  },
  {
   "cell_type": "markdown",
   "id": "a0a9f38c-b867-4b50-8671-2a85395ec736",
   "metadata": {},
   "source": [
    "`-` loss를 계산하는 방법1"
   ]
  },
  {
   "cell_type": "code",
   "execution_count": 5,
   "id": "c1230f74-6951-45ae-b245-c1ad2e39c65c",
   "metadata": {},
   "outputs": [
    {
     "data": {
      "text/plain": [
       "tensor(1.5209, grad_fn=<MseLossBackward0>)"
      ]
     },
     "execution_count": 5,
     "metadata": {},
     "output_type": "execute_result"
    }
   ],
   "source": [
    "yhat = net(X)\n",
    "loss = loss_fn(yhat,y)\n",
    "loss "
   ]
  },
  {
   "cell_type": "markdown",
   "id": "8a536159-a272-48cc-89e0-b198495c4186",
   "metadata": {},
   "source": [
    "`-` loss를 계산하는 방법2"
   ]
  },
  {
   "cell_type": "code",
   "execution_count": 6,
   "id": "b8d11a5c-3a8c-4f6f-a96a-dd806186e9fd",
   "metadata": {},
   "outputs": [
    {
     "data": {
      "text/plain": [
       "tensor(1.5209, grad_fn=<DivBackward0>)"
      ]
     },
     "execution_count": 6,
     "metadata": {},
     "output_type": "execute_result"
    }
   ],
   "source": [
    "loss = 0 \n",
    "for i in range(100):\n",
    "    Xi = X[i]\n",
    "    yi = y[i]\n",
    "    yi_hat = net(Xi)\n",
    "    loss = loss + loss_fn(yi_hat, yi) \n",
    "loss/100"
   ]
  },
  {
   "cell_type": "markdown",
   "id": "453637cb-e085-40e0-8f21-b847a3a4e992",
   "metadata": {},
   "source": [
    "### 3. 겹장(덧장)\n",
    "\n",
    "***(생각1) ${\\boldsymbol h}$에 대한 이해***\n",
    "\n",
    "`-` ${\\boldsymbol h}$는 사실 문자열 “abc, abcd”들을 숫자로 바꾼 표현이라\n",
    "해석할 수 있음. 즉 원핫인코딩과 다른 또 다른 형태의 숫자표현이라 해석할\n",
    "수 있다.\n",
    "\n",
    "`-` 사실 ${\\boldsymbol h}$는 원핫인코딩보다 약간 더 (1) 액기스만 남은\n",
    "느낌 + (2) 숙성된 느낌을 준다\n",
    "\n",
    "-   (why1) ${\\boldsymbol h}$는 ${\\boldsymbol x}$ 보다\n",
    "    ${\\boldsymbol y}$를 예측함에 좀 더 직접적인 역할을 한다. 즉\n",
    "    ${\\boldsymbol x}$ 숫자보다 ${\\boldsymbol h}$ 숫자가 잘 정리되어 있고\n",
    "    (차원이 낮고) 입력의 특징을 잘 정리한 (추천시스템의 MBTI처럼)\n",
    "    의미있는 숫자이다.\n",
    "-   (why2) ${\\boldsymbol x}$는 학습없이 그냥 얻어지는 숫자표현이지만,\n",
    "    ${\\boldsymbol h}$는 학습을 통하여 고치고 고치고 고친 숫자표현이다.\n",
    "\n",
    "결론: 사실 ${\\boldsymbol h}$는 잘 숙성되어있는 입력정보\n",
    "${\\boldsymbol x}$ 그 자체로 해석 할 수 있다.\n",
    "\n",
    "***(생각2) [수백년전통을 이어가는\n",
    "방법](https://www.joongang.co.kr/article/24087690#home)***\n",
    "\n",
    "    “1리터에 500만원에 낙찰된 적 있습니다.”\n",
    "    “2kg에 1억원 정도 추산됩니다.”\n",
    "    “20여 종 종자장을 블렌딩해 100ml에 5000만원씩 분양 예정입니다.”\n",
    "\n",
    "    모두 씨간장(종자장) 가격에 관한 실제 일화다.\n",
    "\n",
    "    (중략...)\n",
    "\n",
    "    위스키나 와인처럼 블렌딩을 하기도 한다. \n",
    "    새로 담근 간장에 씨간장을 넣거나, 씨간장독에 햇간장을 넣어 맛을 유지하기도 한다. \n",
    "    이를 겹장(또는 덧장)이라 한다. \n",
    "    몇몇 종갓집에선 씨간장 잇기를 몇백 년째 해오고 있다. \n",
    "    매년 새로 간장을 담가야 이어갈 수 있으니 불씨 꺼트리지 않는 것처럼 굉장히 어려운 일이다.\n",
    "    이렇게 하는 이유는 집집마다 내려오는 고유 장맛을 잃지 않기 위함이다. \n",
    "    씨간장이란 그만큼 소중한 주방의 자산이며 정체성이다.\n",
    "\n",
    "덧장: 새로운간장을 만들때, 옛날간장을 섞어서 만듦\n",
    "\n",
    "`*` 기존방식 -\n",
    "$\\text{콩물} \\overset{\\text{숙성}}{\\longrightarrow} \\text{간장}$\n",
    "\n",
    "`*` 수백년 전통의 간장맛을 유지하는 방식\n",
    "\n",
    "-   $\\text{콩물}_1 \\overset{\\text{숙성}}{\\longrightarrow} \\text{간장}_1$\n",
    "-   $\\text{콩물}_2, \\text{간장}_1 \\overset{\\text{숙성}}{\\longrightarrow} \\text{간장}_2$\n",
    "-   $\\text{콩물}_3, \\text{간장}_2 \\overset{\\text{숙성}}{\\longrightarrow} \\text{간장}_3$\n",
    "\n",
    "`*` 수백년 전통의 간장맛을 유지하면서 조리를 한다면?\n",
    "\n",
    "-   $\\text{콩물}_1 \\overset{\\text{숙성}}{\\longrightarrow} \\text{간장}_1 \\overset{\\text{조리}}{\\longrightarrow} \\text{간장계란밥}_1$\n",
    "-   $\\text{콩물}_2, \\text{간장}_1 \\overset{\\text{숙성}}{\\longrightarrow} \\text{간장}_2 \\overset{\\text{조리}}{\\longrightarrow} \\text{간장계란밥}_2$\n",
    "-   $\\text{콩물}_3, \\text{간장}_2 \\overset{\\text{숙성}}{\\longrightarrow} \\text{간장}_3 \\overset{\\text{조리}}{\\longrightarrow} \\text{간장계란밥}_3$\n",
    "\n",
    "점점 맛있는 간장계란밥이 탄생함\n",
    "\n",
    "`*` 알고리즘의 편의상 아래와 같이 생각해도 무방\n",
    "\n",
    "-   $\\text{콩물}_1, \\text{간장}_0 \\overset{\\text{숙성}}{\\longrightarrow} \\text{간장}_1 \\overset{\\text{조리}}{\\longrightarrow} \\text{간장계란밥}_1$,\n",
    "    $\\text{간장}_0=\\text{맹물}$\n",
    "-   $\\text{콩물}_2, \\text{간장}_1 \\overset{\\text{숙성}}{\\longrightarrow} \\text{간장}_2 \\overset{\\text{조리}}{\\longrightarrow} \\text{간장계란밥}_2$\n",
    "-   $\\text{콩물}_3, \\text{간장}_2 \\overset{\\text{숙성}}{\\longrightarrow} \\text{간장}_3 \\overset{\\text{조리}}{\\longrightarrow} \\text{간장계란밥}_3$\n",
    "\n",
    "***아이디어***\n",
    "\n",
    "`*` 수백년 전통의 간장맛을 유지하면서 조리하는 과정을 수식으로? (콩물을\n",
    "$x$로, 간장을 $h$로!!)\n",
    "\n",
    "-   $\\boldsymbol{x}_1, \\boldsymbol{h}_0 \\overset{\\text{숙성}}{\\longrightarrow} \\boldsymbol{h}_1 \\overset{\\text{조리}}{\\longrightarrow} \\hat{\\boldsymbol y}_1$\n",
    "-   $\\boldsymbol{x}_2, \\boldsymbol{h}_1 \\overset{\\text{숙성}}{\\longrightarrow} \\boldsymbol{h}_2 \\overset{\\text{조리}}{\\longrightarrow} \\hat{\\boldsymbol y}_2$\n",
    "-   $\\boldsymbol{x}_3, \\boldsymbol{h}_2 \\overset{\\text{숙성}}{\\longrightarrow} \\boldsymbol{h}_3 \\overset{\\text{조리}}{\\longrightarrow} \\hat{\\boldsymbol y}_3$\n",
    "\n",
    "이제 우리가 배울것은 (1) “$\\text{콩물}_{t}$”와 “$\\text{간장}_{t-1}$”로\n",
    "“$\\text{간장}_t$”를 `숙성`하는 방법 (2) “$\\text{간장}_t$”로\n",
    "“$\\text{간장계란밥}_t$를 `조리`하는 방법이다\n",
    "\n",
    "즉 `숙성`담당 네트워크와 `조리`담당 네트워크를 각각 만들어 학습하면\n",
    "된다.\n",
    "\n",
    "### 4. RNNCell\n",
    "\n",
    "#### A. 차원의 정리\n",
    "\n",
    "`-` 기본버전\n",
    "\n",
    "-   X.shape = $(L, H_{in})$\n",
    "-   h.shape = $(L, H_{out})$\n",
    "-   y.shape = $(L, Q)$\n",
    "-   Xt.shape = $(H_{in}, )$\n",
    "-   ht.shape = $(H_{out},)$\n",
    "-   yt.shape = $(Q,)$\n",
    "\n",
    "`-` `AbAcAd`를 2차원공간에 임베딩하려고 할 경우.\n",
    "\n",
    "-   X.shape = $(L, H_{in})$ = $(L,4)$\n",
    "-   h.shape = $(L, H_{out})$ = $(L,2)$\n",
    "-   y.shape = $(L, Q)$ = $(L,4)$\n",
    "-   Xt.shape = $(H_{in}, )$ = $(4,)$\n",
    "-   ht.shape = $(H_{out},)$ = $(2,)$\n",
    "-   yt.shape = $(Q,)$ = $(4,)$\n",
    "\n",
    "#### B. 순환신경망 알고리즘\n",
    "\n",
    "***`# 버전1`***\n",
    "\n",
    "**step 1**: 일단 $\\text{간장}_0(={\\boldsymbol h}_0)$을 맹물로 초기화\n",
    "한다. 즉 아래를 수행한다.\n",
    "\n",
    "$${\\boldsymbol h}_0 = [0,0]$$\n",
    "\n",
    "**step 2**: $\\text{콩물}_1(={\\boldsymbol x}_1)$,\n",
    "$\\text{간장}_0(={\\boldsymbol h}_0)$ 을 이용하여\n",
    "$\\text{간장}_1(={\\boldsymbol h}_1)$을 숙성한다. 즉 아래를 수행한다.\n",
    "\n",
    "$${\\boldsymbol h}_1= \\tanh({\\boldsymbol x}_1{\\bf W}_{ih}+{\\boldsymbol h}_0{\\bf W}_{hh}+{\\boldsymbol b}_{ih}+{\\boldsymbol b}_{hh})$$\n",
    "\n",
    "**step 3:** $\\text{간장}_1$을 이용하여 $\\text{간장계란밥}_1$을 만든다.\n",
    "그리고 $\\hat{\\boldsymbol y}_1$을 만든다.\n",
    "\n",
    "$${\\boldsymbol o}_1= {\\bf W}_{ho}{\\boldsymbol h}_1+{\\boldsymbol b}_{ho}$$\n",
    "\n",
    "$$\\hat{\\boldsymbol y}_1 = \\text{soft}({\\boldsymbol o}_1)$$\n",
    "\n",
    "**step 4**: $t=2,3,4,5,\\dots,L$ 에 대하여 step2-3을 반복한다.\n",
    "\n",
    "`#`\n",
    "\n",
    "***`# 버전2`***\n",
    "\n",
    "init $\\boldsymbol{h}_0$\n",
    "\n",
    "for $t$ in $1:L$\n",
    "\n",
    "-   ${\\boldsymbol h}_t= \\tanh({\\boldsymbol x}_t{\\bf W}_{ih}+{\\boldsymbol h}_{t-1}{\\bf W}_{hh}+{\\boldsymbol b}_{ih}+{\\boldsymbol b}_{hh})$\n",
    "-   ${\\boldsymbol o}_t= {\\bf W}_{ho}{\\boldsymbol h}_1+{\\boldsymbol b}_{ho}$\n",
    "-   $\\hat{\\boldsymbol y}_t = \\text{soft}({\\boldsymbol o}_t)$\n",
    "\n",
    "`#`\n",
    "\n",
    "***`# 버전3`***\n",
    "\n",
    "``` python\n",
    "ht = [0,0]\n",
    "for t in 1:T \n",
    "    ht = tanh(linr(xt)+linr(ht))\n",
    "    ot = linr(ht)\n",
    "    yt_hat = soft(ot)\n",
    "```\n",
    "\n",
    "-   코드상으로는 $h_t$와 $h_{t-1}$의 구분이 교모하게 사라진다. (그래서\n",
    "    오히려 좋아)\n",
    "\n",
    "`#`\n",
    "\n",
    "`-` 따라서 실질적인 전체코드는 아래와 같은 방식으로 구현할 수 있다.\n",
    "\n",
    "``` python\n",
    "class rNNCell(torch.nn.Module):\n",
    "    def __init__(self):\n",
    "        super().__init__()\n",
    "        linr1 = torch.nn.Linear(?,?) \n",
    "        linr2 = torch.nn.Linear(?,?) \n",
    "        tanh = torch.nn.Tanh()\n",
    "    def forward(self,Xt,ht):\n",
    "        ht = tanh(lrnr1(Xt)+lrnr2(ht))\n",
    "        return ht\n",
    "\n",
    "init ht\n",
    "rnncell = rNNCell()\n",
    "\n",
    "for t in 1:L \n",
    "    Xt, yt = X[t], y[t]\n",
    "    ht = rnncell(Xt, ht)\n",
    "    ot = linr(ht) \n",
    "    loss = loss + loss_fn(ot, yt)\n",
    "```\n",
    "\n",
    "#### C. 구현1 – rNNCell\n",
    "\n",
    "`-` 데이터정리"
   ]
  },
  {
   "cell_type": "code",
   "execution_count": 7,
   "id": "53d7d003-43d1-4573-a57a-ebce6eff39f1",
   "metadata": {},
   "outputs": [
    {
     "data": {
      "text/plain": [
       "['A', 'b', 'A', 'c', 'A', 'd', 'A', 'b', 'A', 'c']"
      ]
     },
     "execution_count": 7,
     "metadata": {},
     "output_type": "execute_result"
    }
   ],
   "source": [
    "txt = list('AbAcAd'*50)\n",
    "txt[:10]"
   ]
  },
  {
   "cell_type": "code",
   "execution_count": 8,
   "id": "63def353-5020-4b0b-96c9-0307c35f7333",
   "metadata": {},
   "outputs": [
    {
     "data": {
      "text/html": [
       "<div>\n",
       "<style scoped>\n",
       "    .dataframe tbody tr th:only-of-type {\n",
       "        vertical-align: middle;\n",
       "    }\n",
       "\n",
       "    .dataframe tbody tr th {\n",
       "        vertical-align: top;\n",
       "    }\n",
       "\n",
       "    .dataframe thead th {\n",
       "        text-align: right;\n",
       "    }\n",
       "</style>\n",
       "<table border=\"1\" class=\"dataframe\">\n",
       "  <thead>\n",
       "    <tr style=\"text-align: right;\">\n",
       "      <th></th>\n",
       "      <th>x</th>\n",
       "      <th>y</th>\n",
       "    </tr>\n",
       "  </thead>\n",
       "  <tbody>\n",
       "    <tr>\n",
       "      <th>0</th>\n",
       "      <td>A</td>\n",
       "      <td>b</td>\n",
       "    </tr>\n",
       "    <tr>\n",
       "      <th>1</th>\n",
       "      <td>b</td>\n",
       "      <td>A</td>\n",
       "    </tr>\n",
       "    <tr>\n",
       "      <th>2</th>\n",
       "      <td>A</td>\n",
       "      <td>c</td>\n",
       "    </tr>\n",
       "    <tr>\n",
       "      <th>3</th>\n",
       "      <td>c</td>\n",
       "      <td>A</td>\n",
       "    </tr>\n",
       "    <tr>\n",
       "      <th>4</th>\n",
       "      <td>A</td>\n",
       "      <td>d</td>\n",
       "    </tr>\n",
       "  </tbody>\n",
       "</table>\n",
       "</div>"
      ],
      "text/plain": [
       "   x  y\n",
       "0  A  b\n",
       "1  b  A\n",
       "2  A  c\n",
       "3  c  A\n",
       "4  A  d"
      ]
     },
     "execution_count": 8,
     "metadata": {},
     "output_type": "execute_result"
    }
   ],
   "source": [
    "df_train = pd.DataFrame({'x':txt[:-1], 'y':txt[1:]})\n",
    "df_train[:5]"
   ]
  },
  {
   "cell_type": "code",
   "execution_count": 9,
   "id": "fa332c0f-f9ec-47af-910f-38de7f40029e",
   "metadata": {},
   "outputs": [],
   "source": [
    "x = torch.tensor(df_train.x.map({'A':0,'b':1,'c':2,'d':3}))\n",
    "y = torch.tensor(df_train.y.map({'A':0,'b':1,'c':2,'d':3}))\n",
    "X = torch.nn.functional.one_hot(x).float()\n",
    "y = torch.nn.functional.one_hot(y).float()"
   ]
  },
  {
   "cell_type": "markdown",
   "id": "e228a6db-bb68-4f1c-8891-d63c3e297e5f",
   "metadata": {},
   "source": [
    "`-` 순환신경망으로 적합"
   ]
  },
  {
   "cell_type": "code",
   "execution_count": 10,
   "id": "2d7ee15a-ab9f-4265-88dd-b0cd814caf73",
   "metadata": {},
   "outputs": [],
   "source": [
    "class rNNCell(torch.nn.Module):\n",
    "    def __init__(self):\n",
    "        super().__init__()\n",
    "        self.i2h = torch.nn.Linear(4,2) \n",
    "        self.h2h = torch.nn.Linear(2,2) \n",
    "        self.tanh = torch.nn.Tanh()\n",
    "    def forward(self,Xt,ht):\n",
    "        ht = self.tanh(self.i2h(Xt)+self.h2h(ht))\n",
    "        return ht\n",
    "torch.manual_seed(43052) \n",
    "rnncell = rNNCell() \n",
    "cook = torch.nn.Linear(2,4)\n",
    "#\n",
    "loss_fn = torch.nn.CrossEntropyLoss()\n",
    "optimizr = torch.optim.Adam(list(rnncell.parameters())+ list(cook.parameters()),lr=0.1)\n",
    "#---#\n",
    "L = len(X)\n",
    "for epoc in range(200):\n",
    "    ## 1~2 \n",
    "    ht = torch.zeros(2) # 첫간장은 맹물\n",
    "    loss = 0\n",
    "    for t in range(L):\n",
    "        Xt, yt = X[t], y[t]\n",
    "        ht = rnncell(Xt, ht)\n",
    "        ot = cook(ht) \n",
    "        loss = loss + loss_fn(ot, yt)\n",
    "    loss = loss/L\n",
    "    ## 3 \n",
    "    loss.backward()\n",
    "    ## 4 \n",
    "    optimizr.step()\n",
    "    optimizr.zero_grad()"
   ]
  },
  {
   "cell_type": "markdown",
   "id": "010c7f73-4196-48d7-9025-c1fba7e6878e",
   "metadata": {},
   "source": [
    "`-` 결과 확인 및 시각화"
   ]
  },
  {
   "cell_type": "code",
   "execution_count": 11,
   "id": "de11914d-e259-4c4d-88a5-85e14e221a50",
   "metadata": {},
   "outputs": [
    {
     "data": {
      "text/plain": [
       "tensor([[4.1978e-03, 9.4555e-01, 1.9557e-06, 5.0253e-02],\n",
       "        [9.9994e-01, 5.5569e-05, 8.4751e-10, 1.3143e-06],\n",
       "        [2.1349e-07, 1.1345e-06, 9.7019e-01, 2.9806e-02],\n",
       "        ...,\n",
       "        [2.1339e-07, 1.1339e-06, 9.7020e-01, 2.9798e-02],\n",
       "        [9.9901e-01, 9.6573e-04, 6.9303e-09, 2.1945e-05],\n",
       "        [7.2919e-04, 2.5484e-02, 3.3011e-02, 9.4078e-01]],\n",
       "       grad_fn=<SoftmaxBackward0>)"
      ]
     },
     "execution_count": 11,
     "metadata": {},
     "output_type": "execute_result"
    }
   ],
   "source": [
    "h = torch.zeros(L,2)\n",
    "water = torch.zeros(2)\n",
    "h[0] = rnncell(X[0],water)\n",
    "for t in range(1,L):\n",
    "    h[t] = rnncell(X[t],h[t-1])\n",
    "yhat = torch.nn.functional.softmax(cook(h),dim=1)\n",
    "yhat    "
   ]
  },
  {
   "cell_type": "code",
   "execution_count": 12,
   "id": "4c53020d-24fc-4310-836d-b103bb9c4965",
   "metadata": {},
   "outputs": [
    {
     "data": {
      "text/plain": [
       "<matplotlib.lines.Line2D at 0x7fc602cb8eb0>"
      ]
     },
     "execution_count": 12,
     "metadata": {},
     "output_type": "execute_result"
    },
    {
     "data": {
      "image/png": "[encoded data removed]",
      "text/plain": [
       "<Figure size 400x480 with 1 Axes>"
      ]
     },
     "metadata": {},
     "output_type": "display_data"
    }
   ],
   "source": [
    "mat = torch.concat([X,h,yhat],axis=1).data\n",
    "plt.matshow(mat[:12],cmap='bwr',vmin=-1,vmax=1)\n",
    "plt.xticks(\n",
    "    range(10),\n",
    "    [r\"$X_A$\", r\"$X_b$\",r\"$X_c$\",r\"$X_d$\", \n",
    "     r'$h_1$',r'$h_2$',\n",
    "     r'$\\hat{y}_A$',r'$\\hat{y}_b$',r'$\\hat{y}_c$',r'$\\hat{y}_d$']\n",
    ");\n",
    "plt.axvline(x=3.5,color='lime')\n",
    "plt.axvline(x=5.5,color='lime')"
   ]
  },
  {
   "cell_type": "markdown",
   "id": "ef668078-42c2-4ff7-840b-7a695e79df2b",
   "metadata": {},
   "source": [
    "`-` yhat값 분석\n",
    "\n",
    "* 미세하게 뒤로갈수록 좀 더 성능이 좋음"
   ]
  },
  {
   "cell_type": "code",
   "execution_count": 13,
   "id": "5a10d29f-d2fc-4644-80fd-d585faea6d27",
   "metadata": {},
   "outputs": [
    {
     "data": {
      "text/plain": [
       "array([[0.004, 0.946, 0.   , 0.05 ],\n",
       "       [1.   , 0.   , 0.   , 0.   ],\n",
       "       [0.   , 0.   , 0.97 , 0.03 ],\n",
       "       [0.999, 0.001, 0.   , 0.   ],\n",
       "       [0.001, 0.025, 0.033, 0.941],\n",
       "       [0.983, 0.016, 0.   , 0.   ],\n",
       "       [0.004, 0.965, 0.   , 0.031],\n",
       "       [1.   , 0.   , 0.   , 0.   ],\n",
       "       [0.   , 0.   , 0.97 , 0.03 ],\n",
       "       [0.999, 0.001, 0.   , 0.   ],\n",
       "       [0.001, 0.025, 0.033, 0.941],\n",
       "       [0.983, 0.016, 0.   , 0.   ]], dtype=float32)"
      ]
     },
     "execution_count": 13,
     "metadata": {},
     "output_type": "execute_result"
    }
   ],
   "source": [
    "yhat.data.numpy().round(3)[:12]"
   ]
  },
  {
   "cell_type": "markdown",
   "id": "dd888f0b-06ab-44ef-ac7e-5f21f40c9747",
   "metadata": {},
   "source": [
    "`-` h1,h2 분석 (= 임베딩스페이스 분석)"
   ]
  },
  {
   "cell_type": "code",
   "execution_count": 14,
   "id": "4d134b34-31e7-4f11-9789-afe5400cc737",
   "metadata": {},
   "outputs": [
    {
     "data": {
      "text/plain": [
       "<matplotlib.legend.Legend at 0x7fc5f0713160>"
      ]
     },
     "execution_count": 14,
     "metadata": {},
     "output_type": "execute_result"
    },
    {
     "data": {
      "image/png": "[encoded data removed]",
      "text/plain": [
       "<Figure size 640x480 with 1 Axes>"
      ]
     },
     "metadata": {},
     "output_type": "display_data"
    }
   ],
   "source": [
    "h1,h2 = h.T.data\n",
    "plt.plot(h1[::6],h2[::6],'X',label=\"A\")\n",
    "plt.plot(h1[1::6],h2[1::6],'X',label=\"b\")\n",
    "plt.plot(h1[2::6],h2[2::6],'X',label=\"A\")\n",
    "plt.plot(h1[3::6],h2[3::6],'X',label=\"c\")\n",
    "plt.plot(h1[4::6],h2[4::6],'X',label=\"A\")\n",
    "plt.plot(h1[5::6],h2[5::6],'X',label=\"d\")\n",
    "plt.legend()"
   ]
  },
  {
   "cell_type": "markdown",
   "id": "0b3ede24-75de-4833-a5ff-66ac1c67c3be",
   "metadata": {},
   "source": [
    "#### D. 구현2 - RNNCell"
   ]
  },
  {
   "cell_type": "code",
   "execution_count": null,
   "id": "364b1699-4b46-40e1-94e1-919c481acaf2",
   "metadata": {},
   "outputs": [],
   "source": []
  }
 ],
 "metadata": {
  "kernelspec": {
   "display_name": "Python 3 (ipykernel)",
   "language": "python",
   "name": "python3"
  },
  "language_info": {
   "codemirror_mode": {
    "name": "ipython",
    "version": 3
   },
   "file_extension": ".py",
   "mimetype": "text/x-python",
   "name": "python",
   "nbconvert_exporter": "python",
   "pygments_lexer": "ipython3",
   "version": "3.10.12"
  }
 },
 "nbformat": 4,
 "nbformat_minor": 5
}
