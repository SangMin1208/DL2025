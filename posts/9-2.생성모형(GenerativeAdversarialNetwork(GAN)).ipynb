{
 "cells": [
  {
   "cell_type": "raw",
   "id": "d630cd72-757f-4d3e-b285-9ea62ffaa357",
   "metadata": {},
   "source": [
    "---\n",
    "title: \"9-1. 생성모형(Generative Adversarial Network(GAN))\"\n",
    "author: \"이상민\"\n",
    "date: \"05/5/2025\"\n",
    "---"
   ]
  },
  {
   "cell_type": "markdown",
   "id": "04b52f6c-648a-417d-a729-b7b0ac903b7c",
   "metadata": {},
   "source": [
    "### 1. imports"
   ]
  },
  {
   "cell_type": "code",
   "execution_count": 1,
   "id": "f227cc96-5a21-4737-9b76-8a50aa252bd5",
   "metadata": {},
   "outputs": [],
   "source": [
    "import torch \n",
    "import torchvision\n",
    "import matplotlib.pyplot as plt "
   ]
  },
  {
   "cell_type": "markdown",
   "id": "33ed5e9f-d95c-42d5-9e7d-37a256493ffd",
   "metadata": {},
   "source": [
    "### 2. GAN(Goodfellow et al. 2014) intro\n",
    "\n",
    "#### A. 잡썰..\n",
    "\n",
    "`-` 저자: 이안굿펠로우\n",
    "\n",
    "-   천재임\n",
    "-   지도교수가 요수아 벤지오\n",
    "\n",
    "`-` 저는 아래의 논문 읽고 소름돋았어요..\n",
    "\n",
    "-   https://arxiv.org/abs/1406.2661\n",
    "\n",
    "`-` 최근 10년간 머신러닝 분야에서 가장 혁신적인 아이디어이다. (얀르쿤,\n",
    "2014년 시점..)\n",
    "\n",
    "`-` 야사와 만화로 배우는 인공지능\n",
    "\n",
    "-   https://wedatalab.tistory.com/125\n",
    "\n",
    "#### B. GAN의 원리\n",
    "\n",
    "`-` GAN의 원리는 경찰과 위조지폐범이 서로 선의의(?) 경쟁을 통하여 서로\n",
    "발전하는 모형으로 설명할 수 있다.\n",
    "\n",
    "> The generative model can be thought of as analogous to a team of\n",
    "> fakers, trying to produce fake currency and use it without detection,\n",
    "> while the discriminative model is analogous to the police, trying to\n",
    "> detect the counterfeit currency. Competition in this game drives both\n",
    "> teams to improve their methods until the counterfeits are\n",
    "> indistiguishable from the genuine articles.\n",
    "\n",
    "`-` 서로 적대적인(adversarial) 네트워크(network)를 동시에 학습시켜\n",
    "가짜이미지를 만든다(generate)\n",
    "\n",
    "`-` 무식한 상황극..\n",
    "\n",
    "-   위조범: 가짜돈을 만들어서 부자가 되어야지! (가짜돈을 그림)\n",
    "-   경찰: (위조범이 만든 돈을 보고) 이건 가짜다!\n",
    "-   위조범: 걸렸군.. 더 정교하게 만들어야지..\n",
    "-   경찰: (깜빡 속으며) 이건 진짠가?… –\\> 상사에게 혼남 –\\> 판별능력\n",
    "    업그레이드 –\\> 이건 가짜다!!\n",
    "-   위조범: 더 정교하게 만들자..\n",
    "-   경찰: 더 판별능력을 업그레이드 하자!\n",
    "-   반복..\n",
    "\n",
    "`-` 굉장히 우수한 경찰조차도 진짜와 가짜를 구분하지 못할때(=진짜\n",
    "이미지를 0.5의 확률로만 진짜라고 말할때 = 가짜 이미지를 0.5의 확률로만\n",
    "가짜라고 말할때) 학습을 멈춘다.\n",
    "\n",
    "#### C. 생성모형이란? (쉬운 설명)\n",
    "\n",
    "`-` 사진속에 들어있는 동물이 개인지 고양이인지 맞출수 있는 기계와 개와\n",
    "고양이를 그릴수 있는 기계중 어떤것이 더 시각적보에 대한 이해가 깊다고 볼\n",
    "수 있는가?\n",
    "\n",
    "`-` 진정으로 인공지능이 이미지자료를 이해했다면, 이미지를 만들수도\n",
    "있어야 한다. $\\to$ 이미지를 생성하는 모형을 만들어보자 $\\to$ 성공\n",
    "\n",
    "![](https://upload.wikimedia.org/wikipedia/commons/1/1f/Woman_1.jpg)\n",
    "\n",
    "`-` 뭘 분류하려는 목적을 가진게 판별모형이면 뭘 만들려는 목적을 가진게\n",
    "생성모형이고 생성모형이 더 우수하다.\n",
    "\n",
    "> 명언: 만들수 없다면 이해하지 못한 것이다, 리처드 파인만 (천재\n",
    "> 물리학자)\n",
    "\n",
    "#### D. 생성모형이란? 통계학과 버전의 설명\n",
    "\n",
    "`-` 이미지 $\\boldsymbol{X}$ 가 주어졌을 경우 라벨을 $y$ 라고 하자.\n",
    "\n",
    "`-` 이미지를 보고 라벨을 맞추는 일은 $p(y| \\boldsymbol{X})$에 관심이\n",
    "있다고 볼 수 있다. – 판별모형\n",
    "\n",
    "`-` 이미지를 생성하는 일은 $p(\\boldsymbol{X},y)$에 관심이 있는것이다. –\n",
    "생성모형\n",
    "\n",
    "`-` 데이터의 생성확률 $p(\\boldsymbol{X},y)$을 알면 클래스의 사후확률\n",
    "$p(y|\\boldsymbol{X})$를 알 수 있음. (아래의 수식 참고) 하지만 역은\n",
    "불가능\n",
    "\n",
    "$$p(y|{\\boldsymbol X}) = \\frac{p({\\boldsymbol X},y)}{p({\\boldsymbol X})} = \\frac{p({\\boldsymbol X},y)}{\\sum_{y}p({\\boldsymbol X},y)}$$\n",
    "\n",
    "-   즉 이미지를 생성하는일은 분류문제보다 더 어려운 일이라 해석가능\n",
    "\n",
    "#### E. 철학의 차이\n",
    "\n",
    "> 명언: 제한된 정보만으로 어떤 문제를 풀 때, 그 과정에서 원래의 문제보다\n",
    "> 일반적인 문제를 풀지 말고 (=문제를 괜히 어렵게 만들어서 풀지 말고),\n",
    "> 가능한 원래의 문제를 직접 풀어야한다. 배프닉 (SVM 창시자)\n",
    "\n",
    "`-` 따라서 배프닉의 원리에 의하면 일반적인 분류문제를 해결할때\n",
    "“판별모형이 생성모형보다 더 바람직한 접근법”이라 할 수 있음. 즉 개와\n",
    "고양이를 구분할 때, 그려진 개와 고양이 사진을 잘 구분하면 되는 것이지\n",
    "굳이 개와 고양이를 그릴줄 알아야하는건 아니라는 의미.\n",
    "\n",
    "`*` 예전에는 머신러닝의 응용분야가 “분류/회귀”에 한정된 느낌이었는데\n",
    "요즘은 생성모형도 인기있음.\n",
    "\n",
    "-   마인드가 되게 달라요\n",
    "\n",
    "### 4. GAN의 구현\n",
    "\n",
    "#### A. Data"
   ]
  },
  {
   "cell_type": "code",
   "execution_count": 5,
   "id": "c7dbce91-baf8-46bb-b79b-cdf99af611db",
   "metadata": {},
   "outputs": [],
   "source": [
    "train_dataset = torchvision.datasets.MNIST(root='./data', train=True, download=False)\n",
    "to_tensor = torchvision.transforms.ToTensor()\n",
    "X_real = torch.stack([to_tensor(Xi) for Xi, yi in train_dataset if yi==3])"
   ]
  },
  {
   "cell_type": "code",
   "execution_count": 6,
   "id": "93c0e22d-5124-4d3a-a183-682504ebb358",
   "metadata": {},
   "outputs": [
    {
     "data": {
      "text/plain": [
       "<matplotlib.image.AxesImage at 0x7f4315d88f80>"
      ]
     },
     "execution_count": 6,
     "metadata": {},
     "output_type": "execute_result"
    },
    {
     "data": {
      "image/png": "[encoded data removed]",
      "text/plain": [
       "<Figure size 640x480 with 1 Axes>"
      ]
     },
     "metadata": {},
     "output_type": "display_data"
    }
   ],
   "source": [
    "plt.imshow(X_real[0].squeeze(),cmap=\"gray\")"
   ]
  },
  {
   "cell_type": "markdown",
   "id": "afcda0a0-89c8-454b-8e62-a675a11e7280",
   "metadata": {},
   "source": [
    "#### B. 페이커 생성\n",
    "\n",
    "`-` `net_faker : noise` $\\to$ 가짜이미지\"를 만들자\n",
    "\n",
    "`-` 네트워크의 입력 : (n,??)인 랜덤으로 뽑은 숫자"
   ]
  },
  {
   "cell_type": "code",
   "execution_count": 7,
   "id": "04a988d3-d902-4513-b982-53b616d3dd0b",
   "metadata": {},
   "outputs": [
    {
     "data": {
      "text/plain": [
       "tensor([[ 0.3833,  1.4574,  0.6266, -0.1444]])"
      ]
     },
     "execution_count": 7,
     "metadata": {},
     "output_type": "execute_result"
    }
   ],
   "source": [
    "torch.randn(1,4) # 이게 입력으로 온다고 상상하자. "
   ]
  },
  {
   "cell_type": "markdown",
   "id": "c7ccf948-f0af-43c7-ab80-ea5e93806f7f",
   "metadata": {},
   "source": [
    "`-` 네트워크의 출력: (n,1,28,28)의 텐서"
   ]
  },
  {
   "cell_type": "code",
   "execution_count": 8,
   "id": "b8e27b0c-407f-4b68-873a-692b10d143a2",
   "metadata": {},
   "outputs": [],
   "source": [
    "class FlattenToImage(torch.nn.Module):\n",
    "    def __init__(self):\n",
    "        super().__init__()\n",
    "    def forward(self,X):\n",
    "        return X.reshape(-1,1,28,28)\n",
    "net_facker = torch.nn.Sequential(\n",
    "    torch.nn.Linear(4,64),\n",
    "    torch.nn.ReLU(),\n",
    "    torch.nn.Linear(64,64),\n",
    "    torch.nn.ReLU(),\n",
    "    torch.nn.Linear(64,784),\n",
    "    torch.nn.Sigmoid(), # 출력을 0~1로 눌러주기 위한 레이어 // 저한테는 일종의 문화충격\n",
    "    FlattenToImage()\n",
    ")"
   ]
  },
  {
   "cell_type": "code",
   "execution_count": 9,
   "id": "0724eb5c-a93a-4f34-9796-f7959d155bef",
   "metadata": {},
   "outputs": [
    {
     "data": {
      "text/plain": [
       "torch.Size([1, 1, 28, 28])"
      ]
     },
     "execution_count": 9,
     "metadata": {},
     "output_type": "execute_result"
    }
   ],
   "source": [
    "net_facker(torch.randn(1,4)).shape"
   ]
  },
  {
   "cell_type": "markdown",
   "id": "7cf3a6ec-775f-4158-b013-268aa25f24f9",
   "metadata": {},
   "source": [
    "#### C. 경찰 생성\n",
    "\n",
    "`-` `net_police` : 진짜 이미지 $\\to$ 0 , 가짜 이미지 $\\to$ 1 과 같은 네트워크 설계\n",
    "\n",
    "`-` 네트워크의 입력 : (n,1,28,28) 인 이미지\n",
    "\n",
    "`-` 네트워크의 출력 : 0, 1"
   ]
  },
  {
   "cell_type": "code",
   "execution_count": 10,
   "id": "7ae0244b-4048-45c2-b305-23d558210baa",
   "metadata": {},
   "outputs": [],
   "source": [
    "net_police = torch.nn.Sequential(\n",
    "    torch.nn.Flatten(),\n",
    "    torch.nn.Linear(784,30),\n",
    "    torch.nn.ReLU(),\n",
    "    torch.nn.Linear(30,1),\n",
    "    torch.nn.Sigmoid()\n",
    ")"
   ]
  },
  {
   "cell_type": "markdown",
   "id": "dff8df25-9489-4a71-87dc-714b62f797d5",
   "metadata": {},
   "source": [
    "#### D. 바보 경찰과 바보 페이커\n",
    "\n",
    "`-` 데이터"
   ]
  },
  {
   "cell_type": "code",
   "execution_count": 11,
   "id": "5a18d512-f498-476e-8177-46f6232b77dd",
   "metadata": {},
   "outputs": [],
   "source": [
    "real_image = X_real[[0]]  # 진짜이미지\n",
    "fake_image = net_facker(torch.randn(1,4)).data # 가짜이미지"
   ]
  },
  {
   "cell_type": "markdown",
   "id": "b408d982-ab62-4717-8d1e-0f66053c4607",
   "metadata": {},
   "source": [
    "`-` 경찰 네트워크가 가짜 이미지와, 진짜 이미지를 봤을 때 각각 어떤 판단을 할까"
   ]
  },
  {
   "cell_type": "markdown",
   "id": "52f3af8f-8e6c-4952-8f17-1dfad13186f3",
   "metadata": {},
   "source": [
    "`-`**진짜 이미지를 봤을 때**"
   ]
  },
  {
   "cell_type": "code",
   "execution_count": 14,
   "id": "9d58cb12-479a-46df-ab64-a001d69eef04",
   "metadata": {},
   "outputs": [
    {
     "data": {
      "text/plain": [
       "tensor([[0.4829]], grad_fn=<SigmoidBackward0>)"
      ]
     },
     "execution_count": 14,
     "metadata": {},
     "output_type": "execute_result"
    }
   ],
   "source": [
    "net_police(real_image) # -> 0으로 가야함"
   ]
  },
  {
   "cell_type": "markdown",
   "id": "a1f40f1a-5421-4933-bbf8-2921de85cf7e",
   "metadata": {},
   "source": [
    "`-` **가짜 이미지를 봤을 떄**"
   ]
  },
  {
   "cell_type": "code",
   "execution_count": 15,
   "id": "975c2d61-f4df-4c49-b054-19ec16a46cd4",
   "metadata": {},
   "outputs": [
    {
     "data": {
      "text/plain": [
       "tensor([[0.4764]], grad_fn=<SigmoidBackward0>)"
      ]
     },
     "execution_count": 15,
     "metadata": {},
     "output_type": "execute_result"
    }
   ],
   "source": [
    "net_police(fake_image) # -> 1로 가야함"
   ]
  },
  {
   "cell_type": "markdown",
   "id": "f0a8117a-5f7e-4479-baeb-6374d627dbc2",
   "metadata": {},
   "source": [
    "`-` 아직 아쉬운 판단.."
   ]
  },
  {
   "cell_type": "markdown",
   "id": "5966d8da-87be-4e7e-9d5b-8da5c38aba7b",
   "metadata": {},
   "source": [
    "#### E. 똑똑해진 경찰\n",
    "\n",
    "`-` 데이터를 정리\n",
    "\n",
    "-   원래 $n=6131$개의 이미지자료가 있었음. 이를 ${\\bf X}_{real}$ 로\n",
    "    저장했었음.\n",
    "-   ${\\bf X}_{fake}$는 `net_facker`의 output으로 생성하고 꼬리표 제거.\n",
    "-   ${\\bf X}_{real}$에 대응하는 ${\\bf y}_{real}$ 생성. 진짜이미지는\n",
    "    라벨을 0으로 정함.\n",
    "-   ${\\bf X}_{faker}$에 대응하는 ${\\bf y}_{fake}$ 생성. 가짜이미지는\n",
    "    라벨을 1로 정함."
   ]
  },
  {
   "cell_type": "code",
   "execution_count": 25,
   "id": "1ebdc2bd-5d4c-4338-8a0e-815438844c09",
   "metadata": {},
   "outputs": [],
   "source": [
    "X_fake = net_facker(torch.randn(6131,4)).data\n",
    "y_real = torch.zeros((6131,1))\n",
    "y_fake = torch.ones((6131,1))"
   ]
  },
  {
   "cell_type": "markdown",
   "id": "88ffa67e-1815-45fc-868a-5508cb3dfecf",
   "metadata": {},
   "source": [
    "`-` step1: `X_real`, `X_fake`를 보고 각각 `yhat_real`, `yhat_fake`를\n",
    "만드는 과정"
   ]
  },
  {
   "cell_type": "code",
   "execution_count": 26,
   "id": "a516f2a9-50df-4401-babc-a8a7da3c8579",
   "metadata": {},
   "outputs": [],
   "source": [
    "yhat_real = net_police(X_real)\n",
    "yhat_fake = net_police(X_fake)"
   ]
  },
  {
   "cell_type": "markdown",
   "id": "c2f2c0fc-0149-427d-b0d0-4f4aa928ae1c",
   "metadata": {},
   "source": [
    "`-` step2: 경찰의 미덕은 (1) 가짜이미지를 가짜라고 하고 (2) 진짜이미지를\n",
    "진짜라고 해야함. \n",
    "\n",
    "`-` 즉 yhat_real 은 거의 0의 값으로, 그리고 yhat_fake는 1이\n",
    "되도록 설계해야함. (yhat_real $\\approx$ y_real 이고 yhat_fake $\\approx$\n",
    "y_fake 이어야 함) 이러면 경찰이 잘하는것."
   ]
  },
  {
   "cell_type": "code",
   "execution_count": 28,
   "id": "abfc8f0d-2548-4a51-a755-4258d7163800",
   "metadata": {},
   "outputs": [],
   "source": [
    "bce = torch.nn.BCELoss()"
   ]
  },
  {
   "cell_type": "code",
   "execution_count": 29,
   "id": "f0e2a45c-8665-4381-9022-93e8ccbebe76",
   "metadata": {},
   "outputs": [
    {
     "data": {
      "text/plain": [
       "tensor(1.3918, grad_fn=<AddBackward0>)"
      ]
     },
     "execution_count": 29,
     "metadata": {},
     "output_type": "execute_result"
    }
   ],
   "source": [
    "loss_police = bce(yhat_real,y_real) + bce(yhat_fake,y_fake) \n",
    "loss_police"
   ]
  },
  {
   "cell_type": "markdown",
   "id": "17ddca91-9736-4097-9d86-78d69428b122",
   "metadata": {},
   "source": [
    "`-` 합쳐서 계산하는 방법"
   ]
  },
  {
   "cell_type": "code",
   "execution_count": 33,
   "id": "7219095f-f81c-4547-91ba-1a05823bc730",
   "metadata": {},
   "outputs": [
    {
     "data": {
      "text/plain": [
       "torch.Size([12262, 1, 28, 28])"
      ]
     },
     "execution_count": 33,
     "metadata": {},
     "output_type": "execute_result"
    }
   ],
   "source": [
    "torch.concat([X_real,X_fake],axis=0).shape"
   ]
  },
  {
   "cell_type": "code",
   "execution_count": 32,
   "id": "133f2501-760b-454b-a06b-44769bdbe3fe",
   "metadata": {},
   "outputs": [
    {
     "data": {
      "text/plain": [
       "torch.Size([12262, 1])"
      ]
     },
     "execution_count": 32,
     "metadata": {},
     "output_type": "execute_result"
    }
   ],
   "source": [
    "torch.concat([y_real,y_fake],axis=0).shape"
   ]
  },
  {
   "cell_type": "code",
   "execution_count": 35,
   "id": "594f1bbf-652a-4d46-a870-2fff7d99e4c5",
   "metadata": {},
   "outputs": [
    {
     "data": {
      "text/plain": [
       "tensor(1.3918, grad_fn=<MulBackward0>)"
      ]
     },
     "execution_count": 35,
     "metadata": {},
     "output_type": "execute_result"
    }
   ],
   "source": [
    "bce(net_police(torch.concat([X_real,X_fake],axis=0)),torch.concat([y_real,y_fake],axis=0))*2"
   ]
  },
  {
   "cell_type": "markdown",
   "id": "e0135734-d86a-4fdf-9900-10ffec9e5207",
   "metadata": {},
   "source": [
    "`-`step 3~4"
   ]
  },
  {
   "cell_type": "code",
   "execution_count": 36,
   "id": "c70a1c87-a2e9-4aae-8cc8-5b71f5ff87ba",
   "metadata": {},
   "outputs": [],
   "source": [
    "# net_police = torch.nn.Sequential(\n",
    "#     torch.nn.Flatten(),\n",
    "#     torch.nn.Linear(784,30),\n",
    "#     torch.nn.ReLU(),\n",
    "#     torch.nn.Linear(30,1),\n",
    "#     torch.nn.Sigmoid()\n",
    "# )\n",
    "bce = torch.nn.BCELoss()\n",
    "optimizr_police = torch.optim.Adam(net_police.parameters())\n",
    "for epoc in range(30):\n",
    "    X_fake = net_facker(torch.randn(6131,4)).data\n",
    "    # step1 -- yhat을 얻음\n",
    "    yhat_real = net_police(X_real)\n",
    "    yhat_fake = net_police(X_fake)\n",
    "    # step2  -- loss를 계산\n",
    "    loss_police = bce(yhat_real,y_real) + bce(yhat_fake,y_fake)\n",
    "    # step3  -- 미분 \n",
    "    loss_police.backward()\n",
    "    # step4 -- update \n",
    "    optimizr_police.step()\n",
    "    optimizr_police.zero_grad()"
   ]
  },
  {
   "cell_type": "markdown",
   "id": "5ff03b33-8f7d-4f5a-97ee-bf7aea0f7954",
   "metadata": {},
   "source": [
    "`-` 경찰의 실력향상 감상"
   ]
  },
  {
   "cell_type": "code",
   "execution_count": 37,
   "id": "48533371-b5ef-4c0c-adf0-bfb9e3a5d1f9",
   "metadata": {},
   "outputs": [
    {
     "data": {
      "text/plain": [
       "tensor([[0.0099],\n",
       "        [0.0126],\n",
       "        [0.0132],\n",
       "        ...,\n",
       "        [0.0165],\n",
       "        [0.1010],\n",
       "        [0.0247]], grad_fn=<SigmoidBackward0>)"
      ]
     },
     "execution_count": 37,
     "metadata": {},
     "output_type": "execute_result"
    }
   ],
   "source": [
    "net_police(X_real) # 거의 0으로 "
   ]
  },
  {
   "cell_type": "code",
   "execution_count": 38,
   "id": "24416343-db6c-4283-81ff-da3a129bda21",
   "metadata": {},
   "outputs": [
    {
     "data": {
      "text/plain": [
       "tensor([[0.9775],\n",
       "        [0.9775],\n",
       "        [0.9773],\n",
       "        ...,\n",
       "        [0.9773],\n",
       "        [0.9773],\n",
       "        [0.9775]], grad_fn=<SigmoidBackward0>)"
      ]
     },
     "execution_count": 38,
     "metadata": {},
     "output_type": "execute_result"
    }
   ],
   "source": [
    "net_police(net_facker(torch.randn(6131,4)).data) # 거의 1로"
   ]
  },
  {
   "cell_type": "markdown",
   "id": "ca0dd91d-5caf-43f2-a7fb-5f8c545d4b36",
   "metadata": {},
   "source": [
    "`-` 꽤 우수한 경찰.."
   ]
  },
  {
   "cell_type": "code",
   "execution_count": 39,
   "id": "95953c90-e2d4-4b33-bb8c-e797e135f3ea",
   "metadata": {},
   "outputs": [
    {
     "data": {
      "text/plain": [
       "Text(0.5, 1.0, 'police output = 0.0247')"
      ]
     },
     "execution_count": 39,
     "metadata": {},
     "output_type": "execute_result"
    },
    {
     "data": {
      "image/png": "[encoded data removed]",
      "text/plain": [
       "<Figure size 640x480 with 2 Axes>"
      ]
     },
     "metadata": {},
     "output_type": "display_data"
    }
   ],
   "source": [
    "fig, ax = plt.subplots(1,2)\n",
    "ax[0].imshow(X_fake[[2]].squeeze(),cmap=\"gray\")\n",
    "ax[0].set_title(f\"police output = {net_police(X_fake[[2]]).item():.4f}\")\n",
    "ax[1].imshow(X_real[[-1]].squeeze(),cmap=\"gray\")\n",
    "ax[1].set_title(f\"police output = {net_police(X_real[[-1]]).item():.4f}\")"
   ]
  },
  {
   "cell_type": "markdown",
   "id": "0a78da47-75c2-4c28-a9d4-291772a0de0a",
   "metadata": {},
   "source": [
    "#### F. 더 똑똑해지는 페이커\n",
    "\n",
    "`-` step1 : noise $\\to$ X_fake"
   ]
  },
  {
   "cell_type": "code",
   "execution_count": 51,
   "id": "8f9f6720-a30e-48c5-933f-cc700a200e20",
   "metadata": {},
   "outputs": [],
   "source": [
    "X_fake = net_facker(torch.randn(6131,4))\n",
    "# 여기서는 X_fake가 데이터가 아니고 네트워크 출력이므로 꼬리표를 제거하지 말아야함"
   ]
  },
  {
   "cell_type": "markdown",
   "id": "d3235c25-c3b5-4241-95bd-439e55162898",
   "metadata": {},
   "source": [
    "`-` step2: 손실함수 - 페이커의 미덕 (잘 훈련된) 경찰이 가짜이미지를\n",
    "진짜라고 판단하는 것. 즉 `yhat_fake` $\\approx$ `y_real` 이어야 페이커의\n",
    "실력이 우수하다고 볼 수 있음."
   ]
  },
  {
   "cell_type": "code",
   "execution_count": 52,
   "id": "5f492b19-72ab-4f05-9c31-2c8cb40ab240",
   "metadata": {},
   "outputs": [],
   "source": [
    "yhat_fake = net_police(X_fake)\n",
    "loss_faker = bce(yhat_fake, y_real) \n",
    "# 가짜이미지를 보고 잘 훈련된 경찰도  \n",
    "# 진짜 이미지라고 깜빡 속으면 \n",
    "# 위조범의 실력이 좋다고 볼 수 있다는 의미"
   ]
  },
  {
   "cell_type": "code",
   "execution_count": 53,
   "id": "d1471703-6feb-4ef6-bff5-8362c38c74b1",
   "metadata": {},
   "outputs": [],
   "source": [
    "class FlattenToImage(torch.nn.Module):\n",
    "    def __init__(self):\n",
    "        super().__init__()\n",
    "    def forward(self,X):\n",
    "        return X.reshape(-1,1,28,28)\n",
    "net_facker = torch.nn.Sequential(\n",
    "    torch.nn.Linear(4,64),\n",
    "    torch.nn.ReLU(),\n",
    "    torch.nn.Linear(64,64),\n",
    "    torch.nn.ReLU(),\n",
    "    torch.nn.Linear(64,784),\n",
    "    torch.nn.Sigmoid(), # 출력을 0~1로 눌러주기 위한 레이어 // 저한테는 일종의 문화충격\n",
    "    FlattenToImage()\n",
    ")\n",
    "bce = torch.nn.BCELoss()\n",
    "optimizr_facker = torch.optim.Adam(net_facker.parameters())"
   ]
  },
  {
   "cell_type": "code",
   "execution_count": 76,
   "id": "ce6627fb-4ce8-48d3-ac13-6f773d6d1eb3",
   "metadata": {},
   "outputs": [],
   "source": [
    "for epoc in range(1):\n",
    "    # step1 -- yhat을 얻음\n",
    "    X_fake = net_facker(torch.randn(6131,4))\n",
    "    # step2  -- loss를 계산\n",
    "    yhat_fake = net_police(X_fake)\n",
    "    loss_faker = bce(yhat_fake,y_real)\n",
    "    # step3  -- 미분 \n",
    "    loss_faker.backward()\n",
    "    # step4 -- update \n",
    "    optimizr_facker.step()\n",
    "    optimizr_facker.zero_grad()"
   ]
  },
  {
   "cell_type": "markdown",
   "id": "8036bbe7-0bcd-4738-9356-6026730e519b",
   "metadata": {},
   "source": [
    "`-` 위조범의 실력향상 감상"
   ]
  },
  {
   "cell_type": "code",
   "execution_count": 77,
   "id": "dbb6c5da-b6e7-42ac-9a01-f4d15131ff2d",
   "metadata": {},
   "outputs": [
    {
     "data": {
      "text/plain": [
       "<matplotlib.image.AxesImage at 0x7f4204c55a90>"
      ]
     },
     "execution_count": 77,
     "metadata": {},
     "output_type": "execute_result"
    },
    {
     "data": {
      "image/png": "[encoded data removed]",
      "text/plain": [
       "<Figure size 640x480 with 1 Axes>"
      ]
     },
     "metadata": {},
     "output_type": "display_data"
    }
   ],
   "source": [
    "plt.imshow(X_fake[[0]].squeeze().data,cmap=\"gray\")"
   ]
  },
  {
   "cell_type": "markdown",
   "id": "3fcab2d3-dc1f-45cf-b49a-392c71ec7736",
   "metadata": {},
   "source": [
    "#### G. 경쟁학습 (최종코드)"
   ]
  },
  {
   "cell_type": "code",
   "execution_count": 78,
   "id": "e77f008d-8402-4f41-8e58-57fa75032016",
   "metadata": {},
   "outputs": [],
   "source": [
    "torch.manual_seed(43052)\n",
    "net_police = torch.nn.Sequential(\n",
    "    torch.nn.Flatten(),\n",
    "    torch.nn.Linear(784,30),\n",
    "    torch.nn.ReLU(),\n",
    "    torch.nn.Linear(30,1),\n",
    "    torch.nn.Sigmoid()\n",
    ")\n",
    "class FlattenToImage(torch.nn.Module):\n",
    "    def __init__(self):\n",
    "        super().__init__()\n",
    "    def forward(self,X):\n",
    "        return X.reshape(-1,1,28,28)\n",
    "net_facker = torch.nn.Sequential(\n",
    "    torch.nn.Linear(4,64),\n",
    "    torch.nn.ReLU(),\n",
    "    torch.nn.Linear(64,64),\n",
    "    torch.nn.ReLU(),\n",
    "    torch.nn.Linear(64,784),\n",
    "    torch.nn.Sigmoid(), # 출력을 0~1로 눌러주기 위한 레이어 // 저한테는 일종의 문화충격\n",
    "    FlattenToImage()\n",
    ")\n",
    "bce = torch.nn.BCELoss()\n",
    "optimizr_police = torch.optim.Adam(net_police.parameters(),lr=0.001, betas=(0.5,0.999))\n",
    "optimizr_facker = torch.optim.Adam(net_facker.parameters(),lr=0.0002, betas=(0.5,0.999))"
   ]
  },
  {
   "cell_type": "code",
   "execution_count": 79,
   "id": "459f37d0-966d-40da-9011-09eb0bbae9f0",
   "metadata": {},
   "outputs": [],
   "source": [
    "for epoc in range(1000):\n",
    "    #--- net_police 를 훈련 \n",
    "    #step1\n",
    "    X_fake = net_facker(torch.randn(6131,4)).data # 여기에서 X_fake는 data를 의미\n",
    "    yhat_real = net_police(X_real)\n",
    "    yhat_fake = net_police(X_fake)\n",
    "    #step2\n",
    "    loss_police = bce(yhat_real,y_real) + bce(yhat_fake,y_fake)\n",
    "    #step3\n",
    "    loss_police.backward()\n",
    "    #step4\n",
    "    optimizr_police.step()\n",
    "    optimizr_police.zero_grad()\n",
    "    #--- net_faker 를 훈련 \n",
    "    #step1\n",
    "    X_fake = net_facker(torch.randn(6131,4)) # 이때 X_fake는 net의 out을 의미 \n",
    "    #step2\n",
    "    yhat_fake = net_police(X_fake)\n",
    "    loss_facker = bce(yhat_fake, y_real)\n",
    "    #step3\n",
    "    loss_facker.backward()\n",
    "    #step4\n",
    "    optimizr_facker.step()\n",
    "    optimizr_facker.zero_grad()"
   ]
  },
  {
   "cell_type": "code",
   "execution_count": 80,
   "id": "179e380c-f67b-4fd4-aa27-56e42fc04595",
   "metadata": {},
   "outputs": [
    {
     "data": {
      "image/png": "[encoded data removed]",
      "text/plain": [
       "<Figure size 1000x400 with 10 Axes>"
      ]
     },
     "metadata": {},
     "output_type": "display_data"
    }
   ],
   "source": [
    "fig, ax  = plt.subplots(2,5,figsize=(10,4))\n",
    "k=0\n",
    "for i in range(2):\n",
    "    for j in range(5):\n",
    "        ax[i][j].imshow(X_fake[[k]].data.squeeze(),cmap=\"gray\")\n",
    "        ax[i][j].set_title(f\"police out = {net_police(X_fake[[k]]).item():.4f}\")\n",
    "        k= k+1\n",
    "fig.tight_layout()"
   ]
  },
  {
   "cell_type": "markdown",
   "id": "93b54c9f-b64e-464b-8dcf-4ac482a13049",
   "metadata": {},
   "source": [
    "### 5. 초기 GAN의 한계점\n",
    "\n",
    "`-` 두 네트워크의 균형이 매우 중요함 – 균형이 깨지는 순간 학습은 실패함\n",
    "\n",
    "`-` 생성되는 이미지의 다양성이 부족한 경우가 발생함. (mode collapse)\n",
    "\n",
    "Goodfellow, Ian, Jean Pouget-Abadie, Mehdi Mirza, Bing Xu, David\n",
    "Warde-Farley, Sherjil Ozair, Aaron Courville, and Yoshua Bengio. 2014.\n",
    "“Generative Adversarial Nets.” *Advances in Neural Information\n",
    "Processing Systems* 27."
   ]
  },
  {
   "cell_type": "markdown",
   "id": "99bd4055-de88-4385-b82f-a95e6da6763c",
   "metadata": {},
   "source": [
    "`-` 적당히 비슷해야함\n",
    "\n",
    "* 경찰이 너무 똑똑하면 (판별을 잘하면)..학습을 다 못해버림\n",
    "* 아니면 속이는 다 똑같은 이미지 생성"
   ]
  }
 ],
 "metadata": {
  "kernelspec": {
   "display_name": "Python 3 (ipykernel)",
   "language": "python",
   "name": "python3"
  },
  "language_info": {
   "codemirror_mode": {
    "name": "ipython",
    "version": 3
   },
   "file_extension": ".py",
   "mimetype": "text/x-python",
   "name": "python",
   "nbconvert_exporter": "python",
   "pygments_lexer": "ipython3",
   "version": "3.12.8"
  }
 },
 "nbformat": 4,
 "nbformat_minor": 5
}
