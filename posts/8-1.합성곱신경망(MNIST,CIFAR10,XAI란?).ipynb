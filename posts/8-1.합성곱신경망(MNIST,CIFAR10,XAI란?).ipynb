{
 "cells": [
  {
   "cell_type": "raw",
   "id": "bee704eb-53a3-4dc4-9d1a-5e2bedfe8d93",
   "metadata": {},
   "source": [
    "---\n",
    "title: \"8-1. 합성곱신경망(MNIST, CIFAR10, XAI란?)\"\n",
    "author: \"이상민\"\n",
    "date: \"05/3/2025\"\n",
    "---"
   ]
  },
  {
   "cell_type": "markdown",
   "id": "5a41fc64-91dd-447a-b6a4-2a98b65ef9cc",
   "metadata": {},
   "source": [
    "### 1. imports"
   ]
  },
  {
   "cell_type": "code",
   "execution_count": 2,
   "id": "4afea0f3-370b-4d7b-b23b-d7b558c1f800",
   "metadata": {},
   "outputs": [],
   "source": [
    "import torch\n",
    "import torchvision\n",
    "import matplotlib.pyplot as plt"
   ]
  },
  {
   "cell_type": "code",
   "execution_count": 2,
   "id": "21ff6d3a-0967-40cf-9eb2-be6197f5c181",
   "metadata": {},
   "outputs": [],
   "source": [
    "plt.rcParams['figure.figsize'] = (4.5, 3.0)"
   ]
  },
  {
   "cell_type": "code",
   "execution_count": 4,
   "id": "b4de6d61-0a7c-4058-b577-d29e098ae913",
   "metadata": {},
   "outputs": [],
   "source": [
    "# CNN \n",
    "# net = 2d --> 1d\n",
    "# 1d: (linr(선형변환) -> relu(비선형변환))\n",
    "# 2d: (conv(선형번환) -> relu(비선형변환) -> mp(비선형변환)) "
   ]
  },
  {
   "cell_type": "markdown",
   "id": "ca6e733d-1769-4b8b-bc54-11b2ac744350",
   "metadata": {},
   "source": [
    "`-` conv $\\to$ conv $\\to$ ... (비효율 하나로 퉁칠수 있는거 존재 : linr와 유사)"
   ]
  },
  {
   "cell_type": "markdown",
   "id": "398958b7-7c3b-45fe-8ac8-478dd3c39c63",
   "metadata": {},
   "source": [
    "### 2. MNIST"
   ]
  },
  {
   "cell_type": "code",
   "execution_count": 5,
   "id": "aaefbdc1-7c42-43ea-940d-d562eaf39b1a",
   "metadata": {},
   "outputs": [],
   "source": [
    "train_dataset = torchvision.datasets.MNIST(root='./data', train=True, download=False,transform=torchvision.transforms.ToTensor())\n",
    "test_dataset = torchvision.datasets.MNIST(root='./data', train=False, download=False,transform=torchvision.transforms.ToTensor())\n",
    "X,y = next(iter(torch.utils.data.DataLoader(train_dataset,batch_size=6000,shuffle=True)))\n",
    "XX,yy = next(iter(torch.utils.data.DataLoader(train_dataset,batch_size=1000,shuffle=True)))"
   ]
  },
  {
   "cell_type": "markdown",
   "id": "72ea18d1-0d80-4698-921e-a8318647e18d",
   "metadata": {
    "scrolled": true
   },
   "source": [
    "`-` pytorch는 자동으로 원핫인코딩 해줌.."
   ]
  },
  {
   "cell_type": "code",
   "execution_count": 7,
   "id": "28effcad-30b2-4057-a5d6-9d82cb2def09",
   "metadata": {},
   "outputs": [],
   "source": [
    "net = torch.nn.Sequential(\n",
    "    torch.nn.Conv2d(1,32,kernel_size=5),\n",
    "    torch.nn.ReLU(),\n",
    "    torch.nn.MaxPool2d(kernel_size=2),\n",
    "    torch.nn.Conv2d(32,32,kernel_size=3),\n",
    "    torch.nn.ReLU(),\n",
    "    torch.nn.Flatten(),\n",
    "    #---#\n",
    "    torch.nn.Linear(3200,10)\n",
    ")\n",
    "loss_fn = torch.nn.CrossEntropyLoss()\n",
    "optimizr = torch.optim.Adam(net.parameters())\n",
    "#---#\n",
    "net.to(\"cuda:0\")\n",
    "X = X.to(\"cuda:0\")\n",
    "y = y.to(\"cuda:0\")\n",
    "XX = XX.to(\"cuda:0\")\n",
    "yy = yy.to(\"cuda:0\")\n",
    "#---#\n",
    "for epoc in range(100):\n",
    "    #1\n",
    "    netout = net(X)\n",
    "    #2\n",
    "    loss = loss_fn(netout,y)\n",
    "    #3\n",
    "    loss.backward()\n",
    "    #4 \n",
    "    optimizr.step()\n",
    "    optimizr.zero_grad()"
   ]
  },
  {
   "cell_type": "markdown",
   "id": "879a79e1-96f6-4b77-87b6-dc6c13b9bf20",
   "metadata": {},
   "source": [
    "`-` **배치사이즈 만들어서 해보기**"
   ]
  },
  {
   "cell_type": "code",
   "execution_count": 8,
   "id": "63c8daf9-51fe-4f19-bbde-568e6dd7a688",
   "metadata": {},
   "outputs": [
    {
     "data": {
      "text/plain": [
       "tensor(0.9798, device='cuda:0')"
      ]
     },
     "execution_count": 8,
     "metadata": {},
     "output_type": "execute_result"
    }
   ],
   "source": [
    "(net(X).argmax(axis=1) == y).float().mean()"
   ]
  },
  {
   "cell_type": "code",
   "execution_count": 9,
   "id": "0f00bb60-39c8-47a3-8564-dfbdf6e9ea11",
   "metadata": {},
   "outputs": [
    {
     "data": {
      "text/plain": [
       "tensor(0.9590, device='cuda:0')"
      ]
     },
     "execution_count": 9,
     "metadata": {},
     "output_type": "execute_result"
    }
   ],
   "source": [
    "(net(XX).argmax(axis=1) == yy).float().mean()"
   ]
  },
  {
   "cell_type": "code",
   "execution_count": 10,
   "id": "6a5f4f1e-03e1-4a57-8475-549e46853cc6",
   "metadata": {},
   "outputs": [],
   "source": [
    "torch.cuda.empty_cache()"
   ]
  },
  {
   "cell_type": "markdown",
   "id": "4b4ebba3-224a-4382-8f4d-35ea8cd6d11b",
   "metadata": {},
   "source": [
    "### 3. CIFAR10"
   ]
  },
  {
   "cell_type": "code",
   "execution_count": 9,
   "id": "97b30c28-8117-4a02-a073-020c99cf9448",
   "metadata": {},
   "outputs": [
    {
     "name": "stdout",
     "output_type": "stream",
     "text": [
      "Files already downloaded and verified\n"
     ]
    }
   ],
   "source": [
    "train_dataset = torchvision.datasets.CIFAR10(root='./data', train=True, download=False,transform=torchvision.transforms.ToTensor())\n",
    "test_dataset = torchvision.datasets.CIFAR10(root='./data', train=False, download=True,transform=torchvision.transforms.ToTensor())\n",
    "X,y = next(iter(torch.utils.data.DataLoader(train_dataset,batch_size=10000,shuffle=True)))\n",
    "XX,yy = next(iter(torch.utils.data.DataLoader(train_dataset,batch_size=2000,shuffle=True)))"
   ]
  },
  {
   "cell_type": "code",
   "execution_count": 4,
   "id": "6d5a5024-0c50-41ed-8269-53ce4a6e51c3",
   "metadata": {
    "scrolled": true
   },
   "outputs": [
    {
     "data": {
      "text/plain": [
       "torch.Size([3, 32, 32])"
      ]
     },
     "execution_count": 4,
     "metadata": {},
     "output_type": "execute_result"
    }
   ],
   "source": [
    "X[0].shape"
   ]
  },
  {
   "cell_type": "code",
   "execution_count": 5,
   "id": "cd3f8e9d-4884-4ce0-8e9e-6a77a47dc63d",
   "metadata": {},
   "outputs": [
    {
     "data": {
      "text/plain": [
       "<matplotlib.image.AxesImage at 0x7fd91aa9c410>"
      ]
     },
     "execution_count": 5,
     "metadata": {},
     "output_type": "execute_result"
    },
    {
     "data": {
      "image/png": "[encoded data removed]",
      "text/plain": [
       "<Figure size 640x480 with 1 Axes>"
      ]
     },
     "metadata": {},
     "output_type": "display_data"
    }
   ],
   "source": [
    "plt.imshow(torch.einsum('chw -> hwc', X[0]))"
   ]
  },
  {
   "cell_type": "markdown",
   "id": "5b755597-fbbf-489c-8278-85a6254df6d9",
   "metadata": {},
   "source": [
    "#### A. 직접설계"
   ]
  },
  {
   "cell_type": "code",
   "execution_count": 6,
   "id": "726c0332-ffb3-4df0-a27e-d7f6fa72a6df",
   "metadata": {},
   "outputs": [],
   "source": [
    "net = torch.nn.Sequential(\n",
    "    torch.nn.Conv2d(3,32,kernel_size=5),\n",
    "    torch.nn.ReLU(),\n",
    "    torch.nn.MaxPool2d(kernel_size=2),\n",
    "    torch.nn.Conv2d(32,32,kernel_size=3),\n",
    "    torch.nn.ReLU(),\n",
    "    torch.nn.Flatten(),\n",
    "    #---#\n",
    "    torch.nn.Linear(4608,10)\n",
    ")\n",
    "loss_fn = torch.nn.CrossEntropyLoss()\n",
    "optimizr = torch.optim.Adam(net.parameters())\n",
    "#---#\n",
    "net.to(\"cuda:0\")\n",
    "X = X.to(\"cuda:0\")\n",
    "y = y.to(\"cuda:0\")\n",
    "XX = XX.to(\"cuda:0\")\n",
    "yy = yy.to(\"cuda:0\")\n",
    "#---#\n",
    "for epoc in range(500):\n",
    "    #1\n",
    "    netout = net(X)\n",
    "    #2\n",
    "    loss = loss_fn(netout,y)\n",
    "    #3\n",
    "    loss.backward()\n",
    "    #4 \n",
    "    optimizr.step()\n",
    "    optimizr.zero_grad()"
   ]
  },
  {
   "cell_type": "code",
   "execution_count": 7,
   "id": "544db0d6-9ce3-4625-bb9a-25b0c8ea6443",
   "metadata": {},
   "outputs": [
    {
     "data": {
      "text/plain": [
       "tensor(0.6984, device='cuda:0')"
      ]
     },
     "execution_count": 7,
     "metadata": {},
     "output_type": "execute_result"
    }
   ],
   "source": [
    "(net(X).argmax(axis=1) == y).float().mean()"
   ]
  },
  {
   "cell_type": "code",
   "execution_count": 8,
   "id": "f69d571c-e00c-4c53-8222-291a52c5e052",
   "metadata": {},
   "outputs": [
    {
     "data": {
      "text/plain": [
       "tensor(0.5910, device='cuda:0')"
      ]
     },
     "execution_count": 8,
     "metadata": {},
     "output_type": "execute_result"
    }
   ],
   "source": [
    "(net(XX).argmax(axis=1) == yy).float().mean()"
   ]
  },
  {
   "cell_type": "markdown",
   "id": "7d7040e8-7f0b-4d8a-ab8d-4f0a98c81ed5",
   "metadata": {},
   "source": [
    "`-` 표현력 자체에 문제가 있어보임(언더피팅)"
   ]
  },
  {
   "cell_type": "code",
   "execution_count": 18,
   "id": "68f1964b-f8f1-4920-9b56-4336128a7dff",
   "metadata": {},
   "outputs": [],
   "source": [
    "torch.cuda.empty_cache()"
   ]
  },
  {
   "cell_type": "markdown",
   "id": "62aad532-0180-4156-8ae0-bfff94289977",
   "metadata": {},
   "source": [
    "#### B. 알렉스넷"
   ]
  },
  {
   "cell_type": "markdown",
   "id": "0706e10c-5d85-48ff-b41b-f2993bb4f817",
   "metadata": {},
   "source": [
    "![](https://upload.wikimedia.org/wikipedia/commons/thumb/c/cc/Comparison_image_neural_networks.svg/960px-Comparison_image_neural_networks.svg.png)"
   ]
  },
  {
   "cell_type": "code",
   "execution_count": 19,
   "id": "43447269-f9be-4c66-b845-7e9b25139029",
   "metadata": {},
   "outputs": [
    {
     "data": {
      "text/plain": [
       "torch.Size([1, 3, 224, 224])"
      ]
     },
     "execution_count": 19,
     "metadata": {},
     "output_type": "execute_result"
    }
   ],
   "source": [
    "img = torch.zeros(1,3*224*224).reshape(1,3,224,224)\n",
    "img.shape"
   ]
  },
  {
   "cell_type": "code",
   "execution_count": 20,
   "id": "69f7551c-02d1-49cb-99c3-7f3773d1ff36",
   "metadata": {},
   "outputs": [],
   "source": [
    "net = torch.nn.Sequential(\n",
    "    torch.nn.Conv2d(3,96,kernel_size=(11,11),stride=4),\n",
    "    torch.nn.ReLU(),    \n",
    "    torch.nn.MaxPool2d((3,3),stride=2), # default stride는 3\n",
    "    torch.nn.Conv2d(96,256,kernel_size=(5,5),padding=2),\n",
    "    torch.nn.ReLU(),\n",
    "    torch.nn.MaxPool2d((3,3),stride=2), # default stride는 3\n",
    "    torch.nn.Conv2d(256,384,kernel_size=(3,3),padding=1),\n",
    "    torch.nn.ReLU(),\n",
    "    torch.nn.Conv2d(384,384,kernel_size=(3,3),padding=1),\n",
    "    torch.nn.ReLU(),    \n",
    "    torch.nn.Conv2d(384,256,kernel_size=(3,3),padding=1),\n",
    "    torch.nn.ReLU(),    \n",
    "    torch.nn.MaxPool2d((3,3),stride=2),\n",
    "    torch.nn.Flatten(),\n",
    "    torch.nn.Linear(6400,4096),\n",
    "    torch.nn.ReLU(),\n",
    "    torch.nn.Dropout(0.5),\n",
    "    torch.nn.Linear(4096,4096),        \n",
    "    torch.nn.ReLU(),\n",
    "    torch.nn.Dropout(0.5),    \n",
    "    torch.nn.Linear(4096,1000),\n",
    ")"
   ]
  },
  {
   "cell_type": "markdown",
   "id": "36021381-fd89-4b5c-bdc2-dc09eae8df58",
   "metadata": {},
   "source": [
    "#### C. 알렉스넷으로 ImageNet 적합"
   ]
  },
  {
   "cell_type": "code",
   "execution_count": 21,
   "id": "0e8a417c-cdfd-4507-90b3-da3b5f0b86f7",
   "metadata": {},
   "outputs": [],
   "source": [
    "net[-1] = torch.nn.Linear(4096,10)"
   ]
  },
  {
   "cell_type": "code",
   "execution_count": 22,
   "id": "1aed1b03-885f-4d55-8f43-1177402ba4e0",
   "metadata": {},
   "outputs": [],
   "source": [
    "img = torch.randn(1,3,32,32)"
   ]
  },
  {
   "cell_type": "markdown",
   "id": "a112ecc4-ac23-4f6f-a83e-5449fb64e7dc",
   "metadata": {},
   "source": [
    "`-` 실패... 이미지 사이즈가 맞지 않음\n",
    "\n",
    "`-` 224, 224에서만 쓸 수 있음.."
   ]
  },
  {
   "cell_type": "code",
   "execution_count": 27,
   "id": "56299423-c233-4d1b-bfc7-5bc08eb05f42",
   "metadata": {},
   "outputs": [],
   "source": [
    "#net(img)"
   ]
  },
  {
   "cell_type": "code",
   "execution_count": 24,
   "id": "4f052d81-e486-4b18-be83-8295c5d5e187",
   "metadata": {},
   "outputs": [
    {
     "data": {
      "text/plain": [
       "torch.Size([1, 256, 2, 2])"
      ]
     },
     "execution_count": 24,
     "metadata": {},
     "output_type": "execute_result"
    }
   ],
   "source": [
    "net[:5](img).shape"
   ]
  },
  {
   "cell_type": "code",
   "execution_count": 25,
   "id": "ad44c7f0-0aee-4735-8bd9-dbe205dff900",
   "metadata": {},
   "outputs": [
    {
     "data": {
      "text/plain": [
       "MaxPool2d(kernel_size=(3, 3), stride=2, padding=0, dilation=1, ceil_mode=False)"
      ]
     },
     "execution_count": 25,
     "metadata": {},
     "output_type": "execute_result"
    }
   ],
   "source": [
    "net[5]"
   ]
  },
  {
   "cell_type": "markdown",
   "id": "7b4f43ab-ef16-4f81-a615-da86dce82ed2",
   "metadata": {},
   "source": [
    "#### D. renset18"
   ]
  },
  {
   "cell_type": "code",
   "execution_count": 31,
   "id": "7566db61-be26-4228-a2fa-14bcdf69126a",
   "metadata": {},
   "outputs": [],
   "source": [
    "net = torchvision.models.resnet18()\n",
    "#net "
   ]
  },
  {
   "cell_type": "code",
   "execution_count": 32,
   "id": "73901dba-1b1f-4d2d-aa96-798dacf6bc45",
   "metadata": {},
   "outputs": [],
   "source": [
    "net.fc = torch.nn.Linear(512,10)"
   ]
  },
  {
   "cell_type": "code",
   "execution_count": 33,
   "id": "7a5b321d-f701-4221-b87e-506456c42660",
   "metadata": {},
   "outputs": [],
   "source": [
    "loss_fn = torch.nn.CrossEntropyLoss()\n",
    "optimizr = torch.optim.Adam(net.parameters())\n",
    "#---#\n",
    "net.to(\"cuda:0\")\n",
    "X = X.to(\"cuda:0\")\n",
    "y = y.to(\"cuda:0\")\n",
    "XX = XX.to(\"cuda:0\")\n",
    "yy = yy.to(\"cuda:0\")\n",
    "#---#\n",
    "for epoc in range(500):\n",
    "    #1\n",
    "    netout = net(X)\n",
    "    #2\n",
    "    loss = loss_fn(netout,y)\n",
    "    #3\n",
    "    loss.backward()\n",
    "    #4 \n",
    "    optimizr.step()\n",
    "    optimizr.zero_grad()"
   ]
  },
  {
   "cell_type": "code",
   "execution_count": 34,
   "id": "08c1aa92-829a-41cd-8cc3-8cc6973161de",
   "metadata": {},
   "outputs": [
    {
     "name": "stdout",
     "output_type": "stream",
     "text": [
      "tensor(1., device='cuda:0')\n",
      "tensor(0.6100, device='cuda:0')\n"
     ]
    }
   ],
   "source": [
    "net.eval()\n",
    "print((net(X).argmax(axis=1) == y).float().mean())\n",
    "print((net(XX).argmax(axis=1) == yy).float().mean())"
   ]
  },
  {
   "cell_type": "markdown",
   "id": "36e93e99-7405-4f19-a0f7-2515c77d78cf",
   "metadata": {},
   "source": [
    "`-` 오버피팅이 있어보이긴 하지만 표현력 자체는 올라감"
   ]
  },
  {
   "cell_type": "code",
   "execution_count": 35,
   "id": "a0a2a518-e631-4648-8df9-dd1e2ad87a80",
   "metadata": {},
   "outputs": [],
   "source": [
    "torch.cuda.empty_cache()"
   ]
  },
  {
   "cell_type": "markdown",
   "id": "ae59fe63-f265-4ca6-9070-b3a127ee0031",
   "metadata": {},
   "source": [
    "#### E. resnet18, pretrained = True"
   ]
  },
  {
   "cell_type": "markdown",
   "id": "7f81cf01-02d5-48a6-beab-928f619c3db2",
   "metadata": {},
   "source": [
    "`-` 아이디어 : 하나를 잘하는 모델은 다른 것도 잘하지 않을까? -> transger learning\n",
    "\n",
    "`-` 가중치까지 가져옴"
   ]
  },
  {
   "cell_type": "code",
   "execution_count": 37,
   "id": "41506f40-8991-49cd-ac12-91291870c0bb",
   "metadata": {},
   "outputs": [
    {
     "name": "stderr",
     "output_type": "stream",
     "text": [
      "/root/anaconda3/envs/pypy/lib/python3.10/site-packages/torchvision/models/_utils.py:208: UserWarning: The parameter 'pretrained' is deprecated since 0.13 and may be removed in the future, please use 'weights' instead.\n",
      "  warnings.warn(\n",
      "/root/anaconda3/envs/pypy/lib/python3.10/site-packages/torchvision/models/_utils.py:223: UserWarning: Arguments other than a weight enum or `None` for 'weights' are deprecated since 0.13 and may be removed in the future. The current behavior is equivalent to passing `weights=ResNet18_Weights.IMAGENET1K_V1`. You can also use `weights=ResNet18_Weights.DEFAULT` to get the most up-to-date weights.\n",
      "  warnings.warn(msg)\n",
      "Downloading: \"https://download.pytorch.org/models/resnet18-f37072fd.pth\" to /root/.cache/torch/hub/checkpoints/resnet18-f37072fd.pth\n",
      "100%|███████████████████████████████████████████████████████████████████████████████| 44.7M/44.7M [00:00<00:00, 109MB/s]\n"
     ]
    }
   ],
   "source": [
    "net = torchvision.models.resnet18(pretrained=True) # 아키텍처 + 학습된 가중치까지 \n",
    "net.fc = torch.nn.Linear(512,10)"
   ]
  },
  {
   "cell_type": "code",
   "execution_count": 38,
   "id": "0d98191c-7b65-4411-8076-3c7524706083",
   "metadata": {},
   "outputs": [],
   "source": [
    "loss_fn = torch.nn.CrossEntropyLoss()\n",
    "optimizr = torch.optim.Adam(net.parameters())\n",
    "#---#\n",
    "net.to(\"cuda:0\")\n",
    "X = X.to(\"cuda:0\")\n",
    "y = y.to(\"cuda:0\")\n",
    "XX = XX.to(\"cuda:0\")\n",
    "yy = yy.to(\"cuda:0\")\n",
    "#---#\n",
    "for epoc in range(500):\n",
    "    #1\n",
    "    netout = net(X)\n",
    "    #2\n",
    "    loss = loss_fn(netout,y)\n",
    "    #3\n",
    "    loss.backward()\n",
    "    #4 \n",
    "    optimizr.step()\n",
    "    optimizr.zero_grad()"
   ]
  },
  {
   "cell_type": "code",
   "execution_count": 39,
   "id": "1eea9001-e718-484c-a415-7cf723f85efb",
   "metadata": {},
   "outputs": [
    {
     "name": "stdout",
     "output_type": "stream",
     "text": [
      "tensor(1., device='cuda:0')\n",
      "tensor(0.7945, device='cuda:0')\n"
     ]
    }
   ],
   "source": [
    "net.eval()\n",
    "print((net(X).argmax(axis=1) == y).float().mean())\n",
    "print((net(XX).argmax(axis=1) == yy).float().mean())"
   ]
  },
  {
   "cell_type": "markdown",
   "id": "5920e01a-cffd-4bcc-808c-b493709e5a84",
   "metadata": {},
   "source": [
    "`-` 잘함 (오버피팅은 여전히 있음)"
   ]
  },
  {
   "cell_type": "code",
   "execution_count": 40,
   "id": "01184f5d-b463-468d-a8d4-053ee7110eef",
   "metadata": {},
   "outputs": [],
   "source": [
    "torch.cuda.empty_cache()"
   ]
  },
  {
   "cell_type": "markdown",
   "id": "9e1a9133-53fb-43e5-9771-327ca1e43e76",
   "metadata": {},
   "source": [
    "### 4. XAI란?"
   ]
  },
  {
   "cell_type": "markdown",
   "id": "a601bc84-4a97-4fb4-a86f-e4d47a2d3403",
   "metadata": {},
   "source": [
    "<https://brunch.co.kr/@hvnpoet/140>"
   ]
  }
 ],
 "metadata": {
  "kernelspec": {
   "display_name": "Python 3 (ipykernel)",
   "language": "python",
   "name": "python3"
  },
  "language_info": {
   "codemirror_mode": {
    "name": "ipython",
    "version": 3
   },
   "file_extension": ".py",
   "mimetype": "text/x-python",
   "name": "python",
   "nbconvert_exporter": "python",
   "pygments_lexer": "ipython3",
   "version": "3.12.8"
  }
 },
 "nbformat": 4,
 "nbformat_minor": 5
}
