{
 "cells": [
  {
   "cell_type": "raw",
   "id": "a4faefa2-c87b-43c3-b3d9-4c43412474f2",
   "metadata": {},
   "source": [
    "---\n",
    "title: \"4-3. 신경망(예측, 시벤코정리의 이면, 드랍아웃)\"\n",
    "author: \"이상민\"\n",
    "date: \"04/27/2025\"\n",
    "---"
   ]
  },
  {
   "cell_type": "markdown",
   "id": "448c9adc-ab45-49aa-b3fe-ff21b0693c3b",
   "metadata": {},
   "source": [
    "### 1. imports"
   ]
  },
  {
   "cell_type": "code",
   "execution_count": null,
   "id": "7b62d589-dfd9-4e25-8eed-5d5f7267462f",
   "metadata": {},
   "outputs": [],
   "source": []
  }
 ],
 "metadata": {
  "kernelspec": {
   "display_name": "Python 3 (ipykernel)",
   "language": "python",
   "name": "python3"
  },
  "language_info": {
   "codemirror_mode": {
    "name": "ipython",
    "version": 3
   },
   "file_extension": ".py",
   "mimetype": "text/x-python",
   "name": "python",
   "nbconvert_exporter": "python",
   "pygments_lexer": "ipython3",
   "version": "3.10.12"
  }
 },
 "nbformat": 4,
 "nbformat_minor": 5
}
