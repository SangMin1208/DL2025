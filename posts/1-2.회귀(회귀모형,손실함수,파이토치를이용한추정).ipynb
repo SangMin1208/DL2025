{
 "cells": [
  {
   "cell_type": "raw",
   "id": "50fc6f5b-a4de-4e76-ad76-767184def87d",
   "metadata": {},
   "source": [
    "---\n",
    "title: \"1-2, 2-1. 회귀(회귀모형, 손실함수, 파이토치를 이용한 추정)\"\n",
    "author: \"이상민\"\n",
    "date: \"04/02/2025\"\n",
    "---"
   ]
  },
  {
   "cell_type": "markdown",
   "id": "f53c7656-596c-4ee7-975c-f1a5716e4f8b",
   "metadata": {},
   "source": [
    "### 1. imports"
   ]
  },
  {
   "cell_type": "code",
   "execution_count": 1,
   "id": "d8182233-17e4-464d-ace2-368c6666b3a1",
   "metadata": {},
   "outputs": [],
   "source": [
    "import torch\n",
    "import matplotlib.pyplot as plt "
   ]
  },
  {
   "cell_type": "code",
   "execution_count": 2,
   "id": "3e0592bb-f7b7-4636-9f54-63827ce94cba",
   "metadata": {},
   "outputs": [],
   "source": [
    "plt.rcParams['figure.figsize'] = (4.5, 3.0)"
   ]
  },
  {
   "cell_type": "markdown",
   "id": "caaa6906-0c8b-42b2-b9a6-6bec250691de",
   "metadata": {},
   "source": [
    "### 2. 회귀모형"
   ]
  },
  {
   "cell_type": "markdown",
   "id": "38958f0f-ba34-4e0c-870c-2eabd198996d",
   "metadata": {},
   "source": [
    "#### A. 아이스 아메리카노 (가짜자료)\n",
    "`-` 카페주인 이상민씨는 온도와 아이스 아메리카노 판매량이 관계가 있다는 것을 확인하기 위해 하래의 100개의 데이터를 모았다."
   ]
  },
  {
   "cell_type": "code",
   "execution_count": 3,
   "id": "572f473c-99bb-4db8-a80c-ebe3c40e19d4",
   "metadata": {},
   "outputs": [],
   "source": [
    "temp = [-2.4821, -2.3621, -1.9973, -1.6239, -1.4792, -1.4635, -1.4509, -1.4435,\n",
    "        -1.3722, -1.3079, -1.1904, -1.1092, -1.1054, -1.0875, -0.9469, -0.9319,\n",
    "        -0.8643, -0.7858, -0.7549, -0.7421, -0.6948, -0.6103, -0.5830, -0.5621,\n",
    "        -0.5506, -0.5058, -0.4806, -0.4738, -0.4710, -0.4676, -0.3874, -0.3719,\n",
    "        -0.3688, -0.3159, -0.2775, -0.2772, -0.2734, -0.2721, -0.2668, -0.2155,\n",
    "        -0.2000, -0.1816, -0.1708, -0.1565, -0.1448, -0.1361, -0.1057, -0.0603,\n",
    "        -0.0559, -0.0214,  0.0655,  0.0684,  0.1195,  0.1420,  0.1521,  0.1568,\n",
    "         0.2646,  0.2656,  0.3157,  0.3220,  0.3461,  0.3984,  0.4190,  0.5443,\n",
    "         0.5579,  0.5913,  0.6148,  0.6469,  0.6469,  0.6523,  0.6674,  0.7059,\n",
    "         0.7141,  0.7822,  0.8154,  0.8668,  0.9291,  0.9804,  0.9853,  0.9941,\n",
    "         1.0376,  1.0393,  1.0697,  1.1024,  1.1126,  1.1532,  1.2289,  1.3403,\n",
    "         1.3494,  1.4279,  1.4994,  1.5031,  1.5437,  1.6789,  2.0832,  2.2444,\n",
    "         2.3935,  2.6056,  2.6057,  2.6632]"
   ]
  },
  {
   "cell_type": "code",
   "execution_count": 4,
   "id": "d87bc7d0-a7c8-4b73-b867-08eaed7c43dd",
   "metadata": {},
   "outputs": [],
   "source": [
    "sales= [-8.5420, -6.5767, -5.9496, -4.4794, -4.2516, -3.1326, -4.0239, -4.1862,\n",
    "        -3.3403, -2.2027, -2.0262, -2.5619, -1.3353, -2.0466, -0.4664, -1.3513,\n",
    "        -1.6472, -0.1089, -0.3071, -0.6299, -0.0438,  0.4163,  0.4166, -0.0943,\n",
    "         0.2662,  0.4591,  0.8905,  0.8998,  0.6314,  1.3845,  0.8085,  1.2594,\n",
    "         1.1211,  1.9232,  1.0619,  1.3552,  2.1161,  1.1437,  1.6245,  1.7639,\n",
    "         1.6022,  1.7465,  0.9830,  1.7824,  2.1116,  2.8621,  2.1165,  1.5226,\n",
    "         2.5572,  2.8361,  3.3956,  2.0679,  2.8140,  3.4852,  3.6059,  2.5966,\n",
    "         2.8854,  3.9173,  3.6527,  4.1029,  4.3125,  3.4026,  3.2180,  4.5686,\n",
    "         4.3772,  4.3075,  4.4895,  4.4827,  5.3170,  5.4987,  5.4632,  6.0328,\n",
    "         5.2842,  5.0539,  5.4538,  6.0337,  5.7250,  5.7587,  6.2020,  6.5992,\n",
    "         6.4621,  6.5140,  6.6846,  7.3497,  8.0909,  7.0794,  6.8667,  7.4229,\n",
    "         7.2544,  7.1967,  9.5006,  9.0339,  7.4887,  9.0759, 11.0946, 10.3260,\n",
    "        12.2665, 13.0983, 12.5468, 13.8340]"
   ]
  },
  {
   "cell_type": "markdown",
   "id": "a921e255-bca5-4215-a8f8-c49e88047279",
   "metadata": {},
   "source": [
    "`-` temp는 평균기온, sales는 아이스 아메리카노 판매량\n",
    "\n",
    "`-` 그래프를 그려보자"
   ]
  },
  {
   "cell_type": "code",
   "execution_count": 5,
   "id": "7e28c673-0f08-41b3-b4ea-b84c0aefd52a",
   "metadata": {},
   "outputs": [
    {
     "data": {
      "text/plain": [
       "[<matplotlib.lines.Line2D at 0x7f15c1c78d90>]"
      ]
     },
     "execution_count": 5,
     "metadata": {},
     "output_type": "execute_result"
    },
    {
     "data": {
      "image/png": "[encoded data removed]",
      "text/plain": [
       "<Figure size 450x300 with 1 Axes>"
      ]
     },
     "metadata": {},
     "output_type": "display_data"
    }
   ],
   "source": [
    "plt.plot(temp,sales,'o')"
   ]
  },
  {
   "cell_type": "markdown",
   "id": "e5e9f512-0957-4633-b54d-858b0e749370",
   "metadata": {},
   "source": [
    "`-` 오늘 평균 기온이 0.5도이면 아이스 아메리카노가 얼마나 팔릴까?"
   ]
  },
  {
   "cell_type": "markdown",
   "id": "5f5c3296-86c8-4c8a-ab1e-bd95380e3b3b",
   "metadata": {},
   "source": [
    "#### B. 자료를 만든 방법"
   ]
  },
  {
   "cell_type": "markdown",
   "id": "fda432ca-0649-4dcd-b290-69ee88cee9e8",
   "metadata": {},
   "source": [
    "`-` 방법1 : $y_i= w_0+w_1 x_i +\\epsilon_i = 2.5 + 4x_i +\\epsilon_i, \\quad i=1,2,\\dots,n$"
   ]
  },
  {
   "cell_type": "code",
   "execution_count": 36,
   "id": "1387d665-221b-430d-bd37-5957f98193ea",
   "metadata": {},
   "outputs": [],
   "source": [
    "torch.manual_seed(43052)\n",
    "x,_ = torch.randn(100).sort()\n",
    "eps = torch.randn(100)*0.5\n",
    "y = x * 4 + 2.5 + eps"
   ]
  },
  {
   "cell_type": "markdown",
   "id": "64d5dd80-4064-47fc-805c-c50ff44bf4f5",
   "metadata": {},
   "source": [
    "`-` sort()를 하면 인덱스 항이 생겨서 필요없으므로 `_`에 저장"
   ]
  },
  {
   "cell_type": "code",
   "execution_count": 37,
   "id": "11b6dacf-34ce-4060-906c-a81e7ba8f0c2",
   "metadata": {},
   "outputs": [
    {
     "data": {
      "text/plain": [
       "(tensor([-2.4821, -2.3621, -1.9973, -1.6239, -1.4792]),\n",
       " tensor([-8.5420, -6.5767, -5.9496, -4.4794, -4.2516]))"
      ]
     },
     "execution_count": 37,
     "metadata": {},
     "output_type": "execute_result"
    }
   ],
   "source": [
    "x[:5], y[:5]"
   ]
  },
  {
   "cell_type": "markdown",
   "id": "6e9f73aa-a6d5-4fe9-9f06-0e3bf6e91edd",
   "metadata": {},
   "source": [
    "`-` 방법2: ${\\bf y}={\\bf X}{\\bf W} +\\boldsymbol{\\epsilon}$\n",
    "\n",
    "-   ${\\bf y}=\\begin{bmatrix} y_1 \\\\ y_2 \\\\ \\dots \\\\ y_n\\end{bmatrix}, \\quad {\\bf X}=\\begin{bmatrix} 1 & x_1 \\\\ 1 & x_2 \\\\ \\dots \\\\ 1 & x_n\\end{bmatrix}, \\quad {\\bf W}=\\begin{bmatrix} 2.5 \\\\ 4 \\end{bmatrix}, \\quad \\boldsymbol{\\epsilon}= \\begin{bmatrix} \\epsilon_1 \\\\ \\dots \\\\ \\epsilon_n\\end{bmatrix}$"
   ]
  },
  {
   "cell_type": "code",
   "execution_count": 38,
   "id": "57c2e9c6-1257-4390-8310-9be6ea6a374a",
   "metadata": {},
   "outputs": [],
   "source": [
    "X = torch.stack([torch.ones(100),x],axis=1)\n",
    "W = torch.tensor([[2.5],[4.0]])\n",
    "y = X@W + eps.reshape(100,1)\n",
    "x = X[:,[1]]"
   ]
  },
  {
   "cell_type": "code",
   "execution_count": 39,
   "id": "7b998bee-3d7d-47f0-b441-261eb5a587a6",
   "metadata": {},
   "outputs": [
    {
     "data": {
      "text/plain": [
       "(tensor([[ 1.0000, -2.4821],\n",
       "         [ 1.0000, -2.3621],\n",
       "         [ 1.0000, -1.9973],\n",
       "         [ 1.0000, -1.6239],\n",
       "         [ 1.0000, -1.4792]]),\n",
       " tensor([[-8.5420],\n",
       "         [-6.5767],\n",
       "         [-5.9496],\n",
       "         [-4.4794],\n",
       "         [-4.2516]]))"
      ]
     },
     "execution_count": 39,
     "metadata": {},
     "output_type": "execute_result"
    }
   ],
   "source": [
    "X[:5,:], y[:5,:]"
   ]
  },
  {
   "cell_type": "markdown",
   "id": "e932ac03-67c5-4769-b7c0-6633d5d99b5f",
   "metadata": {},
   "source": [
    "`-` true 와 관측값(observed data) 동시에 시각화"
   ]
  },
  {
   "cell_type": "code",
   "execution_count": 40,
   "id": "89bfbe58-505e-438e-aeca-67cded0d0f7d",
   "metadata": {},
   "outputs": [
    {
     "data": {
      "text/plain": [
       "<matplotlib.legend.Legend at 0x7f15c17d09d0>"
      ]
     },
     "execution_count": 40,
     "metadata": {},
     "output_type": "execute_result"
    },
    {
     "data": {
      "image/png": "[encoded data removed]",
      "text/plain": [
       "<Figure size 450x300 with 1 Axes>"
      ]
     },
     "metadata": {},
     "output_type": "display_data"
    }
   ],
   "source": [
    "plt.plot(x,y,'o',label=r\"observed data: $(x_i,y_i)$\")\n",
    "plt.plot(x,2.5+4*x,'--',label=r\"true: $(x_i, 4x_i+2.5)$ // $y=4x+2.5$ \")\n",
    "plt.legend()"
   ]
  },
  {
   "cell_type": "markdown",
   "id": "42c74223-b3b7-4df1-aea8-fa5ce75805cf",
   "metadata": {},
   "source": [
    "#### C. 회귀분석\n",
    "\n",
    "`-` 관측한 자료 $(x_i,y_i)$ 이 선형성을 가지고 있을 때 이를 파악하여 새로운 $x$가 주어졌을 때 $\\hat{y}$(예측값)을 구할 수 있는 **적당한** 추세선을 찾는 것\n",
    "\n",
    "`-` 좀 더 정확하게 말하면 $(x_1,y_1) \\dots (x_n,y_n)$ 으로\n",
    "\n",
    "$\\begin{bmatrix} \\hat{w}_0 \\\\ \\hat{w}_1 \\end{bmatrix}$ 를 최대한\n",
    "$\\begin{bmatrix} 2.5 \\\\ 4 \\end{bmatrix}$와 비슷하게 찾는 것.\n",
    "\n",
    "-   given data : $\\big\\{(x_i,y_i) \\big\\}_{i=1}^{n}$\n",
    "\n",
    "-   parameter: ${\\bf W}=\\begin{bmatrix} w_0 \\\\ w_1 \\end{bmatrix}$\n",
    "\n",
    "-   estimated parameter:\n",
    "    ${\\bf \\hat{W}}=\\begin{bmatrix} \\hat{w}_0 \\\\ \\hat{w}_1 \\end{bmatrix}$"
   ]
  },
  {
   "cell_type": "markdown",
   "id": "6f196b86-aedd-4fe1-b3ef-ab6b02cdbc44",
   "metadata": {},
   "source": [
    "`-` 추세선을 그리는 행위 = $(w_0,w_1)$을 선택하는일\n",
    "\n",
    "### 4. 손실함수\n",
    "\n",
    "`-` $(\\hat{w}_0,\\hat{w}_1)=(-5,10)$을 선택하여 선을 그려보고\n",
    "적당한지 판단해보자"
   ]
  },
  {
   "cell_type": "code",
   "execution_count": 41,
   "id": "b829f62a-54e8-4ad0-b459-93b416108623",
   "metadata": {},
   "outputs": [
    {
     "data": {
      "text/plain": [
       "<matplotlib.legend.Legend at 0x7f15c17e95a0>"
      ]
     },
     "execution_count": 41,
     "metadata": {},
     "output_type": "execute_result"
    },
    {
     "data": {
      "image/png": "[encoded data removed]",
      "text/plain": [
       "<Figure size 450x300 with 1 Axes>"
      ]
     },
     "metadata": {},
     "output_type": "display_data"
    }
   ],
   "source": [
    "plt.plot(x,y,'o',label=r\"observed data: $(x_i,y_i)$\") \n",
    "What = torch.tensor([[-5.0],[10.0]])\n",
    "plt.plot(x,X@What,'--',label=r\"estimated line: $(x_i,\\hat{y}_i)$\")\n",
    "plt.legend()"
   ]
  },
  {
   "cell_type": "markdown",
   "id": "94942cb0-45f5-4698-ab54-702d23188168",
   "metadata": {},
   "source": [
    "`-` 기울기와 절편 모두 너무 다르다"
   ]
  },
  {
   "cell_type": "markdown",
   "id": "8f58c0dc-8c76-4638-aefb-096b1a50696b",
   "metadata": {},
   "source": [
    "`-` $(\\hat{w}_0,\\hat{w}_1)=(2.5,3.5)$을 선택하여 선을 그려보고\n",
    "적당한지 판단해보자"
   ]
  },
  {
   "cell_type": "code",
   "execution_count": 42,
   "id": "52902260-e117-4176-82a0-7f6aa93a9fa1",
   "metadata": {},
   "outputs": [
    {
     "data": {
      "text/plain": [
       "<matplotlib.legend.Legend at 0x7f15a1b22380>"
      ]
     },
     "execution_count": 42,
     "metadata": {},
     "output_type": "execute_result"
    },
    {
     "data": {
      "image/png": "[encoded data removed]",
      "text/plain": [
       "<Figure size 450x300 with 1 Axes>"
      ]
     },
     "metadata": {},
     "output_type": "display_data"
    }
   ],
   "source": [
    "plt.plot(x,y,'o',label=r\"observed data: $(x_i,y_i)$\") \n",
    "What = torch.tensor([[2.5],[3.5]])\n",
    "plt.plot(x,X@What,'--',label=r\"estimated line: $(x_i,\\hat{y}_i)$\")\n",
    "plt.legend()"
   ]
  },
  {
   "cell_type": "markdown",
   "id": "daf1ce10-a6df-4bd5-845e-95de71b6594d",
   "metadata": {},
   "source": [
    "`-` 기울기가 살짝 다른 듯 하다"
   ]
  },
  {
   "cell_type": "markdown",
   "id": "9ab6c778-c84e-4198-b72c-de3ff03e5b65",
   "metadata": {},
   "source": [
    "`-` $(\\hat{w}_0,\\hat{w}_1)=(2.3,3.5)$을 선택하여 선을 그려보고\n",
    "적당한지 판단해보자"
   ]
  },
  {
   "cell_type": "code",
   "execution_count": 43,
   "id": "36572b66-3165-4b31-a5d8-cd8f672d3266",
   "metadata": {},
   "outputs": [
    {
     "data": {
      "text/plain": [
       "<matplotlib.legend.Legend at 0x7f15a1bb0550>"
      ]
     },
     "execution_count": 43,
     "metadata": {},
     "output_type": "execute_result"
    },
    {
     "data": {
      "image/png": "[encoded data removed]",
      "text/plain": [
       "<Figure size 450x300 with 1 Axes>"
      ]
     },
     "metadata": {},
     "output_type": "display_data"
    }
   ],
   "source": [
    "plt.plot(x,y,'o',label=r\"observed data: $(x_i,y_i)$\") \n",
    "What = torch.tensor([[2.3],[3.5]])\n",
    "plt.plot(x,X@What,'--',label=r\"estimated: $(x_i,\\hat{y}_i)$\")\n",
    "plt.legend()"
   ]
  },
  {
   "cell_type": "markdown",
   "id": "a83478b0-c6f4-4ae9-b24a-35894a8841c5",
   "metadata": {},
   "source": [
    "`-` $(\\hat{w}_0,\\hat{w}_1)=(2.5,3.5)$를 했을 때와 $(2.3,3,5)$ 로 했을 때 중 어떤 것이 더 적당한가?"
   ]
  },
  {
   "cell_type": "markdown",
   "id": "83ac80a0-b6b1-4ad0-a26c-54dc2a26ef19",
   "metadata": {},
   "source": [
    "#### A. loss 개념\n",
    "`-` (2.5,3.5) 가 더 적당해야할 것 같긴 한데 육안으로 판단 어려움\n",
    "\n",
    "`-` 이를 수식화하기 위해서 : loss의 개념 사용\n",
    "\n",
    "* $loss = \\sum_{i=1}^{n}(y_i- \\hat{y}_i)^2 = \\sum_{i=1}^{n}\\big(y_i - (\\hat{w}_0+\\hat{w}_1x_i)\\big)^2$\n",
    "\n",
    "$=({\\bf y}-\\hat{\\bf y})^\\top({\\bf y}-\\hat{\\bf y})=({\\bf y}-{\\bf X}\\hat{\\bf W})^\\top({\\bf y}-{\\bf X}\\hat{\\bf W})$\n"
   ]
  },
  {
   "cell_type": "markdown",
   "id": "03d5d9df-067c-4eea-95fc-041cb0e56b25",
   "metadata": {},
   "source": [
    "#### B. loss의 특징\n",
    "* $y_i \\approx \\hat{y}_i$ 일수록 loss 값이 작음\n",
    "* $y_i \\approx \\hat{y}_i$ 이 되도록 $(\\hat{w}_0, \\hat{w}_1)$을 잘\n",
    "    찍으면 loss 값이 작음\n",
    "* 주황색 점선이 “적당할수록” loss 값이 작음"
   ]
  },
  {
   "cell_type": "markdown",
   "id": "b1cb0406-0eb5-4cda-9518-87eddcb9d121",
   "metadata": {},
   "source": [
    "#### C. loss 사용"
   ]
  },
  {
   "cell_type": "markdown",
   "id": "1386ac86-b4a3-49c8-94f7-8a2c569d5dda",
   "metadata": {},
   "source": [
    "`-` 방법1 : $\\sum_{i=1}^{n}(y_i- \\hat{y}_i)^2$"
   ]
  },
  {
   "cell_type": "code",
   "execution_count": 45,
   "id": "5a273a0e-af5e-4dc8-8951-793c49437c2d",
   "metadata": {},
   "outputs": [
    {
     "name": "stdout",
     "output_type": "stream",
     "text": [
      "loss: 55.074012756347656\n",
      "loss: 59.3805046081543\n"
     ]
    }
   ],
   "source": [
    "What = torch.tensor([[2.5],[3.5]])\n",
    "print(f\"loss: {torch.sum((y - X@What)**2)}\")\n",
    "\n",
    "What = torch.tensor([[2.3],[3.5]])\n",
    "print(f\"loss: {torch.sum((y - X@What)**2)}\")"
   ]
  },
  {
   "cell_type": "markdown",
   "id": "c088fbb3-bfcd-4a59-ac61-75a8b399f7c3",
   "metadata": {},
   "source": [
    "`-` 방법2 : $({\\bf y}-\\hat{\\bf y})^\\top({\\bf y}-\\hat{\\bf y})$"
   ]
  },
  {
   "cell_type": "code",
   "execution_count": 47,
   "id": "be3c5ff1-3838-4a68-89e9-dda685cf352a",
   "metadata": {},
   "outputs": [
    {
     "name": "stdout",
     "output_type": "stream",
     "text": [
      "loss: tensor([[55.0740]])\n",
      "loss: tensor([[59.3805]])\n"
     ]
    }
   ],
   "source": [
    "What = torch.tensor([[2.5],[3.5]])\n",
    "print(f\"loss: {(y - X@What).T @ (y - X@What)}\")\n",
    "\n",
    "What = torch.tensor([[2.3],[3.5]])\n",
    "print(f\"loss: {(y - X@What).T @ (y - X@What)}\")"
   ]
  },
  {
   "cell_type": "markdown",
   "id": "1b4f9d77-d371-48b0-a96d-c40ca8e65d6b",
   "metadata": {},
   "source": [
    "### 5. 파이토치를 이용한 반복추정"
   ]
  },
  {
   "cell_type": "markdown",
   "id": "a2b761c7-1a71-46f1-aeda-60786e6c151c",
   "metadata": {},
   "source": [
    "`-` 추정 전략 : 손실함수 + 경사하강법\n",
    "* 1단계 : 아무 점선 긋기\n",
    "* 2단계 : 1단계의 점선보다 loss값이 작은 하나의 직선으로 변경\n",
    "* 3단계 : 1,2단계 반복"
   ]
  },
  {
   "cell_type": "markdown",
   "id": "2c52e400-7810-4309-97ba-b1ad6180d2f2",
   "metadata": {},
   "source": [
    "#### A. 1단계 - 최초 점선"
   ]
  },
  {
   "cell_type": "markdown",
   "id": "1af2ea7b-2ef4-433d-9045-334be7d4a708",
   "metadata": {},
   "source": [
    "`-` What 아무렇게나 설정"
   ]
  },
  {
   "cell_type": "code",
   "execution_count": 49,
   "id": "5d611483-292a-407f-8bd3-cf1ad534ff0f",
   "metadata": {},
   "outputs": [
    {
     "data": {
      "text/plain": [
       "tensor([[-5.],\n",
       "        [10.]])"
      ]
     },
     "execution_count": 49,
     "metadata": {},
     "output_type": "execute_result"
    }
   ],
   "source": [
    "What = torch.tensor([[-5.0],[10.0]])\n",
    "What"
   ]
  },
  {
   "cell_type": "code",
   "execution_count": 50,
   "id": "d36c63cd-752b-47d9-8a91-98a6e913f9b0",
   "metadata": {},
   "outputs": [],
   "source": [
    "yhat = X@What"
   ]
  },
  {
   "cell_type": "code",
   "execution_count": 55,
   "id": "fa7ecb41-f6b0-4fb5-a1f1-b57384f38b3c",
   "metadata": {},
   "outputs": [
    {
     "data": {
      "text/plain": [
       "[<matplotlib.lines.Line2D at 0x7f15a1954a90>]"
      ]
     },
     "execution_count": 55,
     "metadata": {},
     "output_type": "execute_result"
    },
    {
     "data": {
      "image/png": "[encoded data removed]",
      "text/plain": [
       "<Figure size 450x300 with 1 Axes>"
      ]
     },
     "metadata": {},
     "output_type": "display_data"
    }
   ],
   "source": [
    "plt.plot(x,y,'o')\n",
    "plt.plot(x,yhat.data,'--')"
   ]
  },
  {
   "cell_type": "markdown",
   "id": "0ef8b974-1aac-46b6-b5b9-d1beee5383b5",
   "metadata": {},
   "source": [
    "#### B. 2단계 - update\n",
    "\n",
    "`-` '적당한 정도' : loss 값이 작을수록 적당함"
   ]
  },
  {
   "cell_type": "code",
   "execution_count": 56,
   "id": "f1776a89-68cf-47a7-b5c2-f43df344de48",
   "metadata": {},
   "outputs": [
    {
     "data": {
      "text/plain": [
       "[<matplotlib.lines.Line2D at 0x7f15a17c9ab0>]"
      ]
     },
     "execution_count": 56,
     "metadata": {},
     "output_type": "execute_result"
    },
    {
     "data": {
      "image/png": "[encoded data removed]",
      "text/plain": [
       "<Figure size 450x300 with 1 Axes>"
      ]
     },
     "metadata": {},
     "output_type": "display_data"
    }
   ],
   "source": [
    "plt.plot(x,y,'o')\n",
    "plt.plot(x,yhat)"
   ]
  },
  {
   "cell_type": "code",
   "execution_count": 57,
   "id": "aad6d366-6675-4099-a1d4-51ea56097d68",
   "metadata": {},
   "outputs": [
    {
     "data": {
      "text/plain": [
       "tensor(8587.6875)"
      ]
     },
     "execution_count": 57,
     "metadata": {},
     "output_type": "execute_result"
    }
   ],
   "source": [
    "loss = torch.sum((y-yhat)**2)\n",
    "loss"
   ]
  },
  {
   "cell_type": "markdown",
   "id": "7d2b2b94-ab77-45d5-9043-4527ae1aa100",
   "metadata": {},
   "source": [
    "`-` 현재 loss(=8587.6875)를 줄여야함\n",
    "\n",
    "* 최종적으로loss를 최소로 하는  $(\\hat{w}_0,\\hat{w}_1)$을 구해야함\n",
    "* 함수의 최대값, 최소값을 컴퓨터로 찾는것 : '최적화'\n",
    "* 최적화의 방법 : **경사하강법**"
   ]
  },
  {
   "cell_type": "markdown",
   "id": "bd918691-8c46-4eb7-bee8-1df433259bbb",
   "metadata": {},
   "source": [
    "`-` 경사하강법 (1차원)\n",
    "\n",
    "1.  임의의 점을 찍음\n",
    "2.  그 점에서 순간기울기를 구함 (접선) \\<– 미분\n",
    "3.  순간기울기(=미분계수)의 부호와 반대방향으로 점을 이동\n",
    "\n",
    "* 기울기의 절대값 크기와 비례하여 보폭(=움직이는 정도)을 조절\n",
    " $\\to$ $\\alpha$를 도입\n",
    "* 최종수식 :$\\hat{w} \\leftarrow \\hat{w} - \\alpha \\times \\frac{\\partial}{\\partial w}loss(w)$\n",
    "\n",
    "`-` 경사하강법 (2차원)\n",
    "\n",
    "![](https://guebin.github.io/DL2024/posts/02wk-1_files/figure-html/cell-37-output-1.png)\n",
    "\n",
    "1.  임의의 점을 찍음\n",
    "2.  그 점에서 순간기울기를 구함 (접평면) \\<– 편미분\n",
    "3.  순간기울기(=미분계수)의 부호와 반대방향으로 ***각각*** 점을 이동\n",
    "\n",
    "* 기울기의 절대값 크기와 비례하여 보폭(=움직이는 정도)을 ***각각*** 조절\n",
    " $\\to$ $\\alpha$를 도입"
   ]
  },
  {
   "cell_type": "markdown",
   "id": "77dd7675-32af-48d9-9762-1fc92796f4ff",
   "metadata": {},
   "source": [
    "`-` 경사하강법 : loss를 줄이도록 $\\hat{W}$를 개선하는 방법\n",
    "\n",
    "* 수정값 = 원래값 - $\\alpha$ $\\times$ 기울어진 크기(=미분계수)\n",
    "    * 미분계수와 반대방향으로 이동해야하기 때문에 마이너스 부호 사용\n",
    "* $\\alpha$는 전체적인 보폭 크기 결정, 클수록 한번에 update에서 움직임이 큼"
   ]
  }
 ],
 "metadata": {
  "kernelspec": {
   "display_name": "Python 3 (ipykernel)",
   "language": "python",
   "name": "python3"
  },
  "language_info": {
   "codemirror_mode": {
    "name": "ipython",
    "version": 3
   },
   "file_extension": ".py",
   "mimetype": "text/x-python",
   "name": "python",
   "nbconvert_exporter": "python",
   "pygments_lexer": "ipython3",
   "version": "3.10.12"
  }
 },
 "nbformat": 4,
 "nbformat_minor": 5
}
