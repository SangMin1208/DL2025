{
 "cells": [
  {
   "cell_type": "raw",
   "id": "f081b55c-c656-44e7-b64b-8aa9cf9725b3",
   "metadata": {},
   "source": [
    "---\n",
    "title: \"6-2. 신경망(다항분류, Fashion MNIST)\"\n",
    "author: \"이상민\"\n",
    "date: \"04/30/2025\"\n",
    "---"
   ]
  },
  {
   "cell_type": "markdown",
   "id": "05d538c4-f07f-4e60-9d26-6532f3c6c119",
   "metadata": {},
   "source": [
    "### 1. imports"
   ]
  },
  {
   "cell_type": "code",
   "execution_count": 1,
   "id": "dca2cec6-1bf0-4a9f-98fd-1793910a257c",
   "metadata": {},
   "outputs": [],
   "source": [
    "import torch\n",
    "import torchvision\n",
    "import matplotlib.pyplot as plt"
   ]
  },
  {
   "cell_type": "code",
   "execution_count": 2,
   "id": "760f8887-8a2a-4e9c-b374-951e3af0e44e",
   "metadata": {},
   "outputs": [],
   "source": [
    "plt.rcParams['figure.figsize'] = (4.5, 3.0)"
   ]
  },
  {
   "cell_type": "markdown",
   "id": "954e9330-745c-4783-afad-8b209ba15337",
   "metadata": {},
   "source": [
    "### 2. 다항분류 \n",
    "\n",
    "#### A. 이항분류와 `BCEWithLogitsLoss`\n",
    "\n",
    "`-` 데이터"
   ]
  },
  {
   "cell_type": "code",
   "execution_count": 4,
   "id": "cb43e2ac-3f44-446b-971a-11c67ff3c48f",
   "metadata": {},
   "outputs": [],
   "source": [
    "#train_dataset = torchvision.datasets.MNIST(root='./data', train=True, download=True)\n",
    "to_tensor = torchvision.transforms.ToTensor()\n",
    "X0_train = torch.stack([to_tensor(Xi) for Xi, yi in train_dataset if yi==0])\n",
    "X1_train = torch.stack([to_tensor(Xi) for Xi, yi in train_dataset if yi==1])\n",
    "X = torch.concat([X0_train,X1_train],axis=0).reshape(-1,784)\n",
    "y = torch.tensor([0.0]*len(X0_train) + [1.0]*len(X1_train)).reshape(-1,1)"
   ]
  },
  {
   "cell_type": "markdown",
   "id": "5eecd2a8-258f-4153-9dfe-4cc9b4d31400",
   "metadata": {},
   "source": [
    "`-` 예전에 적합했던 코드에서 sig를 분리한것"
   ]
  },
  {
   "cell_type": "code",
   "execution_count": 5,
   "id": "fd78b8fb-0d72-459c-b574-a033c7b8f6b4",
   "metadata": {},
   "outputs": [],
   "source": [
    "torch.manual_seed(43052)\n",
    "net = torch.nn.Sequential(\n",
    "    torch.nn.Linear(784,32),\n",
    "    torch.nn.ReLU(),\n",
    "    torch.nn.Linear(32,1),\n",
    ")\n",
    "sig = torch.nn.Sigmoid()\n",
    "loss_fn = torch.nn.BCELoss()\n",
    "optimizr = torch.optim.Adam(net.parameters())\n",
    "#---#\n",
    "for epoc in range(1,31):\n",
    "    #1\n",
    "    netout = net(X)\n",
    "    yhat = sig(netout)\n",
    "    #2\n",
    "    loss = loss_fn(yhat,y)\n",
    "    #3\n",
    "    loss.backward()\n",
    "    #4 \n",
    "    optimizr.step()\n",
    "    optimizr.zero_grad()"
   ]
  },
  {
   "cell_type": "markdown",
   "id": "e6ad4d26-4860-4601-80d7-0721eb1caaf4",
   "metadata": {},
   "source": [
    "`-` netout(=logits) 의 특징\n",
    "\n",
    "-   $netout >0 \\Leftrightarrow sig(netout) > 0.5$\n",
    "-   $netout <0 \\Leftrightarrow sig(netout) < 0.5$"
   ]
  },
  {
   "cell_type": "code",
   "execution_count": 6,
   "id": "9fbd33cb-a31c-4216-a23f-dd2067d48a49",
   "metadata": {},
   "outputs": [
    {
     "data": {
      "text/plain": [
       "tensor(0.9956)"
      ]
     },
     "execution_count": 6,
     "metadata": {},
     "output_type": "execute_result"
    }
   ],
   "source": [
    "((net(X)>0) ==y).float().mean()"
   ]
  },
  {
   "cell_type": "markdown",
   "id": "8fc1eafc-9403-46bd-8ccc-e41cd8976dc1",
   "metadata": {},
   "source": [
    "`-` 아래의 코드는 위의 코드와 같은 코드임\n",
    "\n",
    "* 이렇게 하면 약간의 계산상의 이득"
   ]
  },
  {
   "cell_type": "code",
   "execution_count": 7,
   "id": "af7cf46e-ce74-4b9b-84b2-cb07a2254cf7",
   "metadata": {},
   "outputs": [],
   "source": [
    "torch.manual_seed(43052)\n",
    "net = torch.nn.Sequential(\n",
    "    torch.nn.Linear(784,32),\n",
    "    torch.nn.ReLU(),\n",
    "    torch.nn.Linear(32,1),\n",
    ")\n",
    "loss_fn = torch.nn.BCEWithLogitsLoss()\n",
    "optimizr = torch.optim.Adam(net.parameters())\n",
    "#---#\n",
    "for epoc in range(1,31):\n",
    "    #1\n",
    "    netout = net(X) \n",
    "    #2\n",
    "    loss = loss_fn(netout,y)\n",
    "    #3\n",
    "    loss.backward()\n",
    "    #4 \n",
    "    optimizr.step()\n",
    "    optimizr.zero_grad()"
   ]
  },
  {
   "cell_type": "markdown",
   "id": "a692c7b4-6a50-4f01-8c03-55ce43ac7c63",
   "metadata": {},
   "source": [
    "#### B. 범주형 자료의 변환\n",
    "\n",
    "`-` 범주형자료를 숫자로 어떻게 바꿀까?\n",
    "\n",
    "-   실패 / 성공 $\\to$ 0 / 1\n",
    "-   숫자0그림 / 숫자1그림 $\\to$ 0 / 1\n",
    "-   강아지그림 / 고양이그림 $\\to$ 0 / 1\n",
    "-   강아지그림 / 고양이그림 / 토끼그림 $\\to$ 0 / 1 / 2 ?????\n",
    "\n",
    "`-` 주입식교육: 강아지그림/고양이그림/토끼그림일 경우 숫자화시키는 방법\n",
    "\n",
    "-   잘못된방식: 강아지그림 = 0, 고양이그림 = 1, 토끼그림 = 2\n",
    "-   올바른방식: 강아지그림 = \\[1,0,0\\], 고양이그림 = \\[0,1,0\\], 토끼그림\n",
    "    = \\[0,0,1\\] \\### \\<– 이런방식을 `원핫인코딩`이라함\n",
    "\n",
    "`-` 왜?\n",
    "\n",
    "-   설명1: 강아지그림, 고양이그림, 토끼그림은 서열측도가 아니라\n",
    "    명목척도임. 그래서 범주를 0,1,2 로 숫자화하면 평균등의 의미가 없음\n",
    "    (사회조사분석사 2급 스타일)\n",
    "-   설명2: 범주형은 원핫인코딩으로 해야함 (“30일만에 끝내는\n",
    "    실전머신러닝” 이런 책에 나오는 스타일)\n",
    "-   설명3: 동전을 한번 던져서 나오는 결과는 $n=1$인 이항분포를 따름.\n",
    "    주사위 한번 던져서 나오는 눈금의 숫자는 $n=1$인 다항분포를 따름.\n",
    "    $n=1$인 이항분포의 실현값은 0,1 이고, $n=1$인 다항분포의 실현값은\n",
    "    \\[1,0,0\\], \\[0,1,0\\], \\[0,0,1\\] 이므로 당연히 $y_i$ 는 \\[1,0,0\\],\n",
    "    \\[0,1,0\\], \\[0,0,1\\] 중 하나의 형태를 가진다고 가정하는게 바람직함\n",
    "    (이 설명이 이 중에서 가장 정확한 설명임)\n",
    "\n",
    "## C. 실습: 3개의 클래스를 구분\n",
    "\n",
    "`-` 데이터준비"
   ]
  },
  {
   "cell_type": "code",
   "execution_count": 8,
   "id": "a1bdc2ae-dbc4-4200-81d8-1c50e235aa61",
   "metadata": {},
   "outputs": [],
   "source": [
    "#train_dataset = torchvision.datasets.MNIST(root='./data', train=True, download=True)\n",
    "to_tensor = torchvision.transforms.ToTensor()\n",
    "X0 = torch.stack([to_tensor(Xi) for Xi, yi in train_dataset if yi==0])\n",
    "X1 = torch.stack([to_tensor(Xi) for Xi, yi in train_dataset if yi==1])\n",
    "X2 = torch.stack([to_tensor(Xi) for Xi, yi in train_dataset if yi==2])\n",
    "X = torch.concat([X0,X1,X2]).reshape(-1,1*28*28)\n",
    "y = torch.tensor([0]*len(X0) + [1]*len(X1)+ [2]*len(X2)).reshape(-1,1).float()"
   ]
  },
  {
   "cell_type": "code",
   "execution_count": 9,
   "id": "21b7e4da-835e-4144-9adc-1a5a1e3ddc91",
   "metadata": {},
   "outputs": [
    {
     "data": {
      "text/plain": [
       "tensor([[1., 0., 0.],\n",
       "        [1., 0., 0.],\n",
       "        [1., 0., 0.],\n",
       "        ...,\n",
       "        [0., 0., 1.],\n",
       "        [0., 0., 1.],\n",
       "        [0., 0., 1.]])"
      ]
     },
     "execution_count": 9,
     "metadata": {},
     "output_type": "execute_result"
    }
   ],
   "source": [
    "y = torch.nn.functional.one_hot(y.reshape(-1).long()).float()\n",
    "y"
   ]
  },
  {
   "cell_type": "markdown",
   "id": "d2443ec4-90e0-4d82-a229-987729ec5b59",
   "metadata": {},
   "source": [
    "`-` 적합"
   ]
  },
  {
   "cell_type": "code",
   "execution_count": 10,
   "id": "aae9547d-7a72-4c38-86cf-d4ad8b2218c1",
   "metadata": {},
   "outputs": [],
   "source": [
    "net = torch.nn.Sequential(\n",
    "    torch.nn.Linear(784,32),\n",
    "    torch.nn.ReLU(),\n",
    "    torch.nn.Linear(32,3),\n",
    ")\n",
    "loss_fn = torch.nn.CrossEntropyLoss() # 의미상 CEWithLogitsLoss\n",
    "optimizr = torch.optim.Adam(net.parameters())\n",
    "for epoc in range(1,31):\n",
    "    #1\n",
    "    netout = net(X) # netout: (n,3) \n",
    "    #2\n",
    "    loss = loss_fn(netout,y) \n",
    "    #3\n",
    "    loss.backward()\n",
    "    #4 \n",
    "    optimizr.step()\n",
    "    optimizr.zero_grad()"
   ]
  },
  {
   "cell_type": "code",
   "execution_count": 11,
   "id": "9c8ab864-d825-45c3-8308-7f5dc6312264",
   "metadata": {
    "scrolled": true
   },
   "outputs": [
    {
     "data": {
      "text/plain": [
       "tensor(0.9685)"
      ]
     },
     "execution_count": 11,
     "metadata": {},
     "output_type": "execute_result"
    }
   ],
   "source": [
    "(netout.argmax(axis=1) == y.argmax(axis=1)).float().mean()"
   ]
  },
  {
   "cell_type": "code",
   "execution_count": 13,
   "id": "88a8db7e-6bae-4aaa-ad99-5a66e3838e40",
   "metadata": {},
   "outputs": [
    {
     "data": {
      "text/plain": [
       "tensor([[35.0634,  0.2371,  0.1590],\n",
       "        [35.9059,  0.2793,  0.1412],\n",
       "        [ 4.8449,  0.4623,  0.4364],\n",
       "        ...,\n",
       "        [ 1.1820,  0.2359,  3.2423],\n",
       "        [ 0.3119,  0.1862, 15.4971],\n",
       "        [ 0.4304,  0.4113,  5.2896]], grad_fn=<ExpBackward0>)"
      ]
     },
     "execution_count": 13,
     "metadata": {},
     "output_type": "execute_result"
    }
   ],
   "source": [
    "torch.exp(netout)"
   ]
  },
  {
   "cell_type": "markdown",
   "id": "bddac2fc-d39b-4299-b476-22b43e13f590",
   "metadata": {},
   "source": [
    "#### D. 결론\n",
    "\n",
    "`-` 파이토치버전 // 코딩용\n",
    "\n",
    "|   분류   | netout의 의미 |      손실함수       |\n",
    "|:--------:|:-------------:|:-------------------:|\n",
    "| 이항분류 |     prob      |      `BCELoss`      |\n",
    "| 이항분류 |     logit     | `BCEWithLogitsLoss` |\n",
    "| 다항분류 |     probs     |         NA          |\n",
    "| 다항분류 |    logits     | `CrossEntropyLoss`  |\n",
    "\n",
    "> `CrossEntropyLoss` 이거 이름이 완전 마음에 안들어요..\n",
    "> `CEWithLogitsLoss` 라고 하는게 더 좋을 것 같습니다.\n",
    "\n",
    "`-` 일반적개념 // 이론용\n",
    "\n",
    "|   분류   | 오차항의가정 | 마지막활성화함수 |       손실함수       |\n",
    "|:--------:|:------------:|:----------------:|:--------------------:|\n",
    "| 이항분류 |   이항분포   |    sigmoid[1]    | Binary Cross Entropy |\n",
    "| 다항분류 |   다항분포   |    softmax[2]    |    Cross Entropy     |\n",
    "\n",
    "`-` 참고 (sigmoid, softmax 계산과정비교)\n",
    "\n",
    "-   $prob = \\text{sig}(logit) =\\frac{\\exp(logit)}{1+\\exp(logit)}$\n",
    "-   $probs= \\text{softmax}\\left(\\begin{bmatrix} logit_1 \\\\ logit_2 \\\\ logit_3\\end{bmatrix}\\right) =\\begin{bmatrix} \\frac{\\exp(logit_1)}{\\exp(logit_1)+\\exp(logit_2)+\\exp(logit_3)} \\\\\n",
    "    \\frac{\\exp(logit_2)}{\\exp(logit_1)+\\exp(logit_2)+\\exp(logit_3)} \\\\\n",
    "    \\frac{\\exp(logit_3)}{\\exp(logit_1)+\\exp(logit_2)+\\exp(logit_3)} \\end{bmatrix}$\n",
    "\n",
    "### 3. FashionMNIST\n",
    "\n",
    "#### A. 데이터\n",
    "\n",
    "<https://arxiv.org/abs/1708.07747> (Xiao, Rasul, and Vollgraf 2017)\n",
    "\n",
    "[1] prob=sig(logit)\n",
    "\n",
    "[2] probs=soft(logits)"
   ]
  },
  {
   "cell_type": "code",
   "execution_count": 15,
   "id": "9cbe77d1-9568-4944-aa1b-037ba9615807",
   "metadata": {},
   "outputs": [],
   "source": [
    "#train_dataset = torchvision.datasets.FashionMNIST(root='./data', train=True, download=True)\n",
    "#test_dataset = torchvision.datasets.FashionMNIST(root='./data', train=False, download=True)\n",
    "to_tensor = torchvision.transforms.ToTensor()\n",
    "X = torch.stack([to_tensor(img) for img, lbl in train_dataset])\n",
    "y = torch.tensor([lbl for img, lbl in train_dataset])\n",
    "y = torch.nn.functional.one_hot(y).float()\n",
    "XX = torch.stack([to_tensor(img) for img, lbl in test_dataset])\n",
    "yy = torch.tensor([lbl for img, lbl in test_dataset])\n",
    "yy = torch.nn.functional.one_hot(yy).float()"
   ]
  },
  {
   "cell_type": "code",
   "execution_count": 19,
   "id": "89f113fe-f3d1-4a7d-b822-41d2cfda354f",
   "metadata": {},
   "outputs": [
    {
     "data": {
      "text/plain": [
       "['T-shirt/top',\n",
       " 'Trouser',\n",
       " 'Pullover',\n",
       " 'Dress',\n",
       " 'Coat',\n",
       " 'Sandal',\n",
       " 'Shirt',\n",
       " 'Sneaker',\n",
       " 'Bag',\n",
       " 'Ankle boot']"
      ]
     },
     "execution_count": 19,
     "metadata": {},
     "output_type": "execute_result"
    }
   ],
   "source": [
    "torchvision.datasets.FashionMNIST.classes"
   ]
  },
  {
   "cell_type": "code",
   "execution_count": 18,
   "id": "9e4a3348-83bc-492e-9da2-49c6ced98453",
   "metadata": {},
   "outputs": [
    {
     "data": {
      "image/png": "[encoded data removed]",
      "text/plain": [
       "<Figure size 450x300 with 1 Axes>"
      ]
     },
     "metadata": {},
     "output_type": "display_data"
    }
   ],
   "source": [
    "obs_idx = 301\n",
    "plt.imshow(X[obs_idx,0,:,:],cmap=\"gray\")\n",
    "plt.title(torchvision.datasets.FashionMNIST.classes[y[obs_idx,:].argmax().item()]);"
   ]
  },
  {
   "cell_type": "markdown",
   "id": "68663ec3-6d5e-4c67-8ddf-b473b80da33f",
   "metadata": {},
   "source": [
    "#### B. 간단한 신경망"
   ]
  },
  {
   "cell_type": "code",
   "execution_count": 20,
   "id": "c7c75b8f-30ac-47ec-a576-0fadb5e2e137",
   "metadata": {},
   "outputs": [],
   "source": [
    "ds_train = torch.utils.data.TensorDataset(X,y)\n",
    "dl_train = torch.utils.data.DataLoader(ds_train,batch_size=256,shuffle=True)\n",
    "ds_test = torch.utils.data.TensorDataset(XX,yy)\n",
    "dl_test = torch.utils.data.DataLoader(ds_test,batch_size=256)"
   ]
  },
  {
   "cell_type": "markdown",
   "id": "f94846fb-950b-45c8-a871-83e123a7966f",
   "metadata": {},
   "source": [
    "`-` Step2: 학습에 필요한 준비 (모델링)"
   ]
  },
  {
   "cell_type": "markdown",
   "id": "daed4a6e-6c36-4bb3-b845-829b590f5d1c",
   "metadata": {},
   "source": [
    "`-` 직접 만들기"
   ]
  },
  {
   "cell_type": "code",
   "execution_count": 30,
   "id": "08f5d7a7-ee55-4b96-bdd6-8bd8e1c206fc",
   "metadata": {},
   "outputs": [],
   "source": [
    "class Flatten(torch.nn.Module):\n",
    "    def __init__(self):\n",
    "        super().__init__()\n",
    "    def forward(self, inp):\n",
    "        out = inp.reshape(-1,784)\n",
    "        return out"
   ]
  },
  {
   "cell_type": "code",
   "execution_count": 31,
   "id": "3fc74b6b-282b-487b-98e4-051f991d3f91",
   "metadata": {},
   "outputs": [],
   "source": [
    "torch.manual_seed(43052)\n",
    "net = torch.nn.Sequential(\n",
    "    Flatten(),#torch.nn.Flatten(),\n",
    "    torch.nn.Linear(784,32),\n",
    "    torch.nn.ReLU(),\n",
    "    torch.nn.Linear(32,10)\n",
    ").to(\"cuda:0\")\n",
    "loss_fn = torch.nn.CrossEntropyLoss()\n",
    "optimizr = torch.optim.Adam(net.parameters())\n",
    "#---#"
   ]
  },
  {
   "cell_type": "markdown",
   "id": "d4126034-1009-4339-b20d-b25f555229d3",
   "metadata": {},
   "source": [
    "`-` torch 기능 사용"
   ]
  },
  {
   "cell_type": "code",
   "execution_count": null,
   "id": "d82452b2-56c2-4b6b-97aa-8acf2c47992e",
   "metadata": {},
   "outputs": [],
   "source": [
    "torch.manual_seed(43052)\n",
    "net = torch.nn.Sequential(\n",
    "    torch.nn.Flatten(),\n",
    "    torch.nn.Linear(784,32),\n",
    "    torch.nn.ReLU(),\n",
    "    torch.nn.Linear(32,10)\n",
    ").to(\"cuda:0\")\n",
    "loss_fn = torch.nn.CrossEntropyLoss()\n",
    "optimizr = torch.optim.Adam(net.parameters())\n",
    "#---#"
   ]
  },
  {
   "cell_type": "markdown",
   "id": "6eb5254b-c982-4054-83d2-6c709f61f0b7",
   "metadata": {},
   "source": [
    "`-` Step3: 적합"
   ]
  },
  {
   "cell_type": "code",
   "execution_count": 32,
   "id": "98ed736a-bf45-4d47-b769-494cc900313d",
   "metadata": {},
   "outputs": [
    {
     "name": "stdout",
     "output_type": "stream",
     "text": [
      "# of epochs = 5,train_acc = 0.8588\n",
      "# of epochs = 10,train_acc = 0.8659\n",
      "# of epochs = 15,train_acc = 0.8779\n",
      "# of epochs = 20,train_acc = 0.8831\n",
      "# of epochs = 25,train_acc = 0.8856\n",
      "# of epochs = 30,train_acc = 0.8876\n"
     ]
    }
   ],
   "source": [
    "for epoc in range(1,31):\n",
    "    net.train()\n",
    "    #---에폭시작---#\n",
    "    for Xm,ym in dl_train:        \n",
    "        Xm = Xm.to(\"cuda:0\")\n",
    "        ym = ym.to(\"cuda:0\")\n",
    "        # 1\n",
    "        netout = net(Xm)\n",
    "        # 2 \n",
    "        loss = loss_fn(netout,ym)\n",
    "        # 3 \n",
    "        loss.backward()\n",
    "        # 4 \n",
    "        optimizr.step()\n",
    "        optimizr.zero_grad()\n",
    "    #---에폭끝---#\n",
    "    if epoc % 5 == 0:\n",
    "        net.eval()\n",
    "        s =0\n",
    "        for Xm,ym in dl_train:        \n",
    "            Xm = Xm.to(\"cuda:0\")\n",
    "            ym = ym.to(\"cuda:0\")        \n",
    "            logits = net(Xm).data \n",
    "            s = s+ (logits.argmax(axis=1) == ym.argmax(axis=1)).float().sum()\n",
    "        acc = s / len(X)\n",
    "        print(f\"# of epochs = {epoc},train_acc = {acc:.4f}\") "
   ]
  },
  {
   "cell_type": "markdown",
   "id": "f65426e0-08eb-461e-a0d7-f25a712208b7",
   "metadata": {},
   "source": [
    "`-` Step4: 적합결과 시각화 및 분석"
   ]
  },
  {
   "cell_type": "code",
   "execution_count": 33,
   "id": "86020a5f-1997-4188-bbed-764388d7ad2a",
   "metadata": {},
   "outputs": [
    {
     "name": "stdout",
     "output_type": "stream",
     "text": [
      "test_acc = 0.8638\n"
     ]
    }
   ],
   "source": [
    "net.eval()\n",
    "s =0\n",
    "for Xm,ym in dl_test:        \n",
    "    Xm = Xm.to(\"cuda:0\")\n",
    "    ym = ym.to(\"cuda:0\")        \n",
    "    logits = net(Xm).data \n",
    "    s = s+ (logits.argmax(axis=1) == ym.argmax(axis=1)).float().sum()\n",
    "acc = s / len(XX)\n",
    "print(f\"test_acc = {acc:.4f}\") "
   ]
  },
  {
   "cell_type": "markdown",
   "id": "1fd2e044-93b6-4502-9c90-1cb9f38f7ba3",
   "metadata": {},
   "source": [
    "#### C. 약간 더 복잡한 신경망"
   ]
  },
  {
   "cell_type": "code",
   "execution_count": 34,
   "id": "1052081f-707d-4b33-92df-837ea35f38e7",
   "metadata": {},
   "outputs": [],
   "source": [
    "torch.manual_seed(43052)\n",
    "net = torch.nn.Sequential(\n",
    "    torch.nn.Flatten(),\n",
    "    torch.nn.Linear(784,256),\n",
    "    torch.nn.ReLU(),\n",
    "    torch.nn.Linear(256,10)\n",
    ").to(\"cuda:0\")\n",
    "loss_fn = torch.nn.CrossEntropyLoss()\n",
    "optimizr = torch.optim.Adam(net.parameters())\n",
    "#---#"
   ]
  },
  {
   "cell_type": "code",
   "execution_count": 35,
   "id": "2a1bed9f-9e39-4b60-9f71-9beb706b5296",
   "metadata": {},
   "outputs": [
    {
     "name": "stdout",
     "output_type": "stream",
     "text": [
      "# of epochs = 5,train_acc = 0.8843\n",
      "# of epochs = 10,train_acc = 0.9020\n",
      "# of epochs = 15,train_acc = 0.9176\n",
      "# of epochs = 20,train_acc = 0.9265\n",
      "# of epochs = 25,train_acc = 0.9345\n",
      "# of epochs = 30,train_acc = 0.9388\n"
     ]
    }
   ],
   "source": [
    "for epoc in range(1,31):\n",
    "    net.train()\n",
    "    #---에폭시작---#\n",
    "    for Xm,ym in dl_train:        \n",
    "        Xm = Xm.to(\"cuda:0\")\n",
    "        ym = ym.to(\"cuda:0\")\n",
    "        # 1\n",
    "        netout = net(Xm)\n",
    "        # 2 \n",
    "        loss = loss_fn(netout,ym)\n",
    "        # 3 \n",
    "        loss.backward()\n",
    "        # 4 \n",
    "        optimizr.step()\n",
    "        optimizr.zero_grad()\n",
    "    #---에폭끝---#\n",
    "    if epoc % 5 == 0:\n",
    "        net.eval()\n",
    "        s =0\n",
    "        for Xm,ym in dl_train:        \n",
    "            Xm = Xm.to(\"cuda:0\")\n",
    "            ym = ym.to(\"cuda:0\")        \n",
    "            logits = net(Xm).data \n",
    "            s = s+ (logits.argmax(axis=1) == ym.argmax(axis=1)).float().sum()\n",
    "        acc = s / len(X)\n",
    "        print(f\"# of epochs = {epoc},train_acc = {acc:.4f}\") "
   ]
  },
  {
   "cell_type": "code",
   "execution_count": 36,
   "id": "399cd60b-788c-44cf-83fe-8b2fc6d22858",
   "metadata": {},
   "outputs": [
    {
     "name": "stdout",
     "output_type": "stream",
     "text": [
      "test_acc = 0.8892\n"
     ]
    }
   ],
   "source": [
    "net.eval()\n",
    "s =0\n",
    "for Xm,ym in dl_test:        \n",
    "    Xm = Xm.to(\"cuda:0\")\n",
    "    ym = ym.to(\"cuda:0\")        \n",
    "    logits = net(Xm).data \n",
    "    s = s+ (logits.argmax(axis=1) == ym.argmax(axis=1)).float().sum()\n",
    "acc = s / len(XX)\n",
    "print(f\"test_acc = {acc:.4f}\") "
   ]
  },
  {
   "cell_type": "markdown",
   "id": "29378c60-e58e-4488-9eb3-bc3a23d77e4a",
   "metadata": {},
   "source": [
    "#### D. 발악..?"
   ]
  },
  {
   "cell_type": "markdown",
   "id": "7e04761f-635e-4e83-84af-f8a2a2c17128",
   "metadata": {},
   "source": [
    "`-` 노드를 엄청 많이..."
   ]
  },
  {
   "cell_type": "code",
   "execution_count": 37,
   "id": "792831ce-14f5-4a40-8de1-121c22c46534",
   "metadata": {},
   "outputs": [],
   "source": [
    "torch.manual_seed(43052)\n",
    "net = torch.nn.Sequential(\n",
    "    torch.nn.Flatten(),\n",
    "    torch.nn.Linear(784,4096),\n",
    "    torch.nn.Dropout(0.5),\n",
    "    torch.nn.ReLU(),\n",
    "    torch.nn.Linear(4096,10)\n",
    ").to(\"cuda:0\")\n",
    "loss_fn = torch.nn.CrossEntropyLoss()\n",
    "optimizr = torch.optim.Adam(net.parameters())\n",
    "#---#"
   ]
  },
  {
   "cell_type": "code",
   "execution_count": 38,
   "id": "e9619eff-b0b7-4e3e-824e-b094ba04cce5",
   "metadata": {},
   "outputs": [
    {
     "name": "stdout",
     "output_type": "stream",
     "text": [
      "# of epochs = 5,train_acc = 0.8870\n",
      "# of epochs = 10,train_acc = 0.9024\n",
      "# of epochs = 15,train_acc = 0.9116\n",
      "# of epochs = 20,train_acc = 0.9214\n",
      "# of epochs = 25,train_acc = 0.9302\n",
      "# of epochs = 30,train_acc = 0.9307\n"
     ]
    }
   ],
   "source": [
    "for epoc in range(1,31):\n",
    "    net.train()\n",
    "    #---에폭시작---#\n",
    "    for Xm,ym in dl_train:        \n",
    "        Xm = Xm.to(\"cuda:0\")\n",
    "        ym = ym.to(\"cuda:0\")\n",
    "        # 1\n",
    "        netout = net(Xm)\n",
    "        # 2 \n",
    "        loss = loss_fn(netout,ym)\n",
    "        # 3 \n",
    "        loss.backward()\n",
    "        # 4 \n",
    "        optimizr.step()\n",
    "        optimizr.zero_grad()\n",
    "    #---에폭끝---#\n",
    "    if epoc % 5 == 0:\n",
    "        net.eval()\n",
    "        s =0\n",
    "        for Xm,ym in dl_train:        \n",
    "            Xm = Xm.to(\"cuda:0\")\n",
    "            ym = ym.to(\"cuda:0\")        \n",
    "            logits = net(Xm).data \n",
    "            s = s+ (logits.argmax(axis=1) == ym.argmax(axis=1)).float().sum()\n",
    "        acc = s / len(X)\n",
    "        print(f\"# of epochs = {epoc},train_acc = {acc:.4f}\") "
   ]
  },
  {
   "cell_type": "code",
   "execution_count": 39,
   "id": "1d1623af-e03b-435b-bb96-1eca9c197a07",
   "metadata": {},
   "outputs": [
    {
     "name": "stdout",
     "output_type": "stream",
     "text": [
      "test_acc = 0.8913\n"
     ]
    }
   ],
   "source": [
    "net.eval()\n",
    "s =0\n",
    "for Xm,ym in dl_test:        \n",
    "    Xm = Xm.to(\"cuda:0\")\n",
    "    ym = ym.to(\"cuda:0\")        \n",
    "    logits = net(Xm).data \n",
    "    s = s+ (logits.argmax(axis=1) == ym.argmax(axis=1)).float().sum()\n",
    "acc = s / len(XX)\n",
    "print(f\"test_acc = {acc:.4f}\") "
   ]
  },
  {
   "cell_type": "markdown",
   "id": "47cb2b8d-c3ee-45ed-a9f5-f86cdac401f4",
   "metadata": {},
   "source": [
    "`-` 레이어를 많이.."
   ]
  },
  {
   "cell_type": "code",
   "execution_count": 40,
   "id": "c8ceaa78-413f-4da3-80fc-d49f8d015ea4",
   "metadata": {},
   "outputs": [],
   "source": [
    "torch.manual_seed(43052)\n",
    "net = torch.nn.Sequential(\n",
    "    torch.nn.Flatten(),\n",
    "    torch.nn.Linear(784,256),\n",
    "    torch.nn.ReLU(),\n",
    "    torch.nn.Linear(256,256),\n",
    "    torch.nn.ReLU(),\n",
    "    torch.nn.Linear(256,256),\n",
    "    torch.nn.ReLU(), \n",
    "    torch.nn.Linear(256,256),\n",
    "    torch.nn.ReLU(),    \n",
    "    torch.nn.Linear(256,10)\n",
    ").to(\"cuda:0\")\n",
    "loss_fn = torch.nn.CrossEntropyLoss()\n",
    "optimizr = torch.optim.Adam(net.parameters())\n",
    "#---#"
   ]
  },
  {
   "cell_type": "code",
   "execution_count": 41,
   "id": "d8c4cfc4-4145-46d0-ac24-a96cc3d4c6ee",
   "metadata": {},
   "outputs": [
    {
     "name": "stdout",
     "output_type": "stream",
     "text": [
      "# of epochs = 5,train_acc = 0.8881\n",
      "# of epochs = 10,train_acc = 0.9154\n",
      "# of epochs = 15,train_acc = 0.9240\n",
      "# of epochs = 20,train_acc = 0.9303\n",
      "# of epochs = 25,train_acc = 0.9511\n",
      "# of epochs = 30,train_acc = 0.9547\n"
     ]
    }
   ],
   "source": [
    "for epoc in range(1,31):\n",
    "    net.train()\n",
    "    #---에폭시작---#\n",
    "    for Xm,ym in dl_train:        \n",
    "        Xm = Xm.to(\"cuda:0\")\n",
    "        ym = ym.to(\"cuda:0\")\n",
    "        # 1\n",
    "        netout = net(Xm)\n",
    "        # 2 \n",
    "        loss = loss_fn(netout,ym)\n",
    "        # 3 \n",
    "        loss.backward()\n",
    "        # 4 \n",
    "        optimizr.step()\n",
    "        optimizr.zero_grad()\n",
    "    #---에폭끝---#\n",
    "    if epoc % 5 == 0:\n",
    "        net.eval()\n",
    "        s =0\n",
    "        for Xm,ym in dl_train:        \n",
    "            Xm = Xm.to(\"cuda:0\")\n",
    "            ym = ym.to(\"cuda:0\")        \n",
    "            logits = net(Xm).data \n",
    "            s = s+ (logits.argmax(axis=1) == ym.argmax(axis=1)).float().sum()\n",
    "        acc = s / len(X)\n",
    "        print(f\"# of epochs = {epoc},train_acc = {acc:.4f}\") "
   ]
  },
  {
   "cell_type": "code",
   "execution_count": 42,
   "id": "2ece560d-e6b7-46ff-a64b-46f219c78454",
   "metadata": {},
   "outputs": [
    {
     "name": "stdout",
     "output_type": "stream",
     "text": [
      "test_acc = 0.8907\n"
     ]
    }
   ],
   "source": [
    "net.eval()\n",
    "s =0\n",
    "for Xm,ym in dl_test:        \n",
    "    Xm = Xm.to(\"cuda:0\")\n",
    "    ym = ym.to(\"cuda:0\")        \n",
    "    logits = net(Xm).data \n",
    "    s = s+ (logits.argmax(axis=1) == ym.argmax(axis=1)).float().sum()\n",
    "acc = s / len(XX)\n",
    "print(f\"test_acc = {acc:.4f}\") "
   ]
  },
  {
   "cell_type": "markdown",
   "id": "6b789a27-d327-4eba-b477-aae92e91ccbb",
   "metadata": {},
   "source": [
    "`-` test_acc 를 90% 넘기는게 힘들다.."
   ]
  },
  {
   "cell_type": "markdown",
   "id": "9bc70589-d3f0-4570-b594-564d069be7a6",
   "metadata": {},
   "source": [
    "#### F. 합성곱신경망"
   ]
  },
  {
   "cell_type": "code",
   "execution_count": 43,
   "id": "0e3e6297-c7b2-4750-a549-1e56393ec8f0",
   "metadata": {},
   "outputs": [],
   "source": [
    "torch.manual_seed(43052)\n",
    "net = torch.nn.Sequential(\n",
    "    torch.nn.Conv2d(in_channels=1 ,out_channels=64,kernel_size=5),\n",
    "    torch.nn.ReLU(),\n",
    "    torch.nn.MaxPool2d(kernel_size=2),\n",
    "    torch.nn.Conv2d(in_channels=64 ,out_channels=64,kernel_size=5),\n",
    "    torch.nn.ReLU(),\n",
    "    torch.nn.MaxPool2d(kernel_size=2),    \n",
    "    torch.nn.Flatten(),\n",
    "    torch.nn.Linear(1024,10)\n",
    ").to(\"cuda:0\")\n",
    "loss_fn = torch.nn.CrossEntropyLoss()\n",
    "optimizr = torch.optim.Adam(net.parameters())\n",
    "#---#"
   ]
  },
  {
   "cell_type": "code",
   "execution_count": 44,
   "id": "799849cb-ccec-4541-9bc8-db4d13b30109",
   "metadata": {},
   "outputs": [
    {
     "name": "stdout",
     "output_type": "stream",
     "text": [
      "# of epochs = 5,train_acc = 0.9067\n",
      "# of epochs = 10,train_acc = 0.9322\n",
      "# of epochs = 15,train_acc = 0.9420\n",
      "# of epochs = 20,train_acc = 0.9579\n",
      "# of epochs = 25,train_acc = 0.9653\n",
      "# of epochs = 30,train_acc = 0.9772\n"
     ]
    }
   ],
   "source": [
    "for epoc in range(1,31):\n",
    "    net.train()\n",
    "    #---에폭시작---#\n",
    "    for Xm,ym in dl_train:        \n",
    "        Xm = Xm.to(\"cuda:0\")\n",
    "        ym = ym.to(\"cuda:0\")\n",
    "        # 1\n",
    "        netout = net(Xm)\n",
    "        # 2 \n",
    "        loss = loss_fn(netout,ym)\n",
    "        # 3 \n",
    "        loss.backward()\n",
    "        # 4 \n",
    "        optimizr.step()\n",
    "        optimizr.zero_grad()\n",
    "    #---에폭끝---#\n",
    "    if epoc % 5 == 0:\n",
    "        net.eval()\n",
    "        s =0\n",
    "        for Xm,ym in dl_train:        \n",
    "            Xm = Xm.to(\"cuda:0\")\n",
    "            ym = ym.to(\"cuda:0\")        \n",
    "            logits = net(Xm).data \n",
    "            s = s+ (logits.argmax(axis=1) == ym.argmax(axis=1)).float().sum()\n",
    "        acc = s / len(X)\n",
    "        print(f\"# of epochs = {epoc},train_acc = {acc:.4f}\") "
   ]
  },
  {
   "cell_type": "code",
   "execution_count": 45,
   "id": "0719d7d4-6f44-41b4-8934-7434f4da69c6",
   "metadata": {},
   "outputs": [
    {
     "name": "stdout",
     "output_type": "stream",
     "text": [
      "test_acc = 0.9166\n"
     ]
    }
   ],
   "source": [
    "net.eval()\n",
    "s =0\n",
    "for Xm,ym in dl_test:        \n",
    "    Xm = Xm.to(\"cuda:0\")\n",
    "    ym = ym.to(\"cuda:0\")        \n",
    "    logits = net(Xm).data \n",
    "    s = s+ (logits.argmax(axis=1) == ym.argmax(axis=1)).float().sum()\n",
    "acc = s / len(XX)\n",
    "print(f\"test_acc = {acc:.4f}\") "
   ]
  }
 ],
 "metadata": {
  "kernelspec": {
   "display_name": "Python 3 (ipykernel)",
   "language": "python",
   "name": "python3"
  },
  "language_info": {
   "codemirror_mode": {
    "name": "ipython",
    "version": 3
   },
   "file_extension": ".py",
   "mimetype": "text/x-python",
   "name": "python",
   "nbconvert_exporter": "python",
   "pygments_lexer": "ipython3",
   "version": "3.10.12"
  }
 },
 "nbformat": 4,
 "nbformat_minor": 5
}
